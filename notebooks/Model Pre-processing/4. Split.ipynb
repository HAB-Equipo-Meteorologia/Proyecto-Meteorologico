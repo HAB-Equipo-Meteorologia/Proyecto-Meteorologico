{
 "cells": [
  {
   "cell_type": "code",
   "execution_count": 5,
   "id": "41cadf90-d5ac-4178-a42a-477835b94261",
   "metadata": {},
   "outputs": [],
   "source": [
    "import pandas as pd"
   ]
  },
  {
   "cell_type": "code",
   "execution_count": 6,
   "id": "98022343-0252-4522-9995-4c79013b044a",
   "metadata": {},
   "outputs": [],
   "source": [
    "df = pd.read_csv('../../data/ml/historical_full.csv', parse_dates=['fecha'])"
   ]
  },
  {
   "cell_type": "code",
   "execution_count": 15,
   "id": "38add35c-2e49-4617-abec-4a892ecaf9c9",
   "metadata": {},
   "outputs": [
    {
     "data": {
      "text/plain": [
       "array([1997, 1998, 1999, 2000, 2001, 2002, 2003, 2004, 2005, 2006, 2007,\n",
       "       2008, 2009, 2010, 2011, 2012, 2013, 2014, 2015, 2016, 2017, 2018,\n",
       "       2019, 2020, 2021, 2022, 2023, 2024], dtype=int32)"
      ]
     },
     "execution_count": 15,
     "metadata": {},
     "output_type": "execute_result"
    }
   ],
   "source": [
    "(df['fecha'].dt.year).unique()"
   ]
  },
  {
   "cell_type": "code",
   "execution_count": 44,
   "id": "ef4b39c7-5e1f-4399-b8c4-a9dec11543fe",
   "metadata": {},
   "outputs": [
    {
     "name": "stdout",
     "output_type": "stream",
     "text": [
      "<class 'pandas.core.frame.DataFrame'>\n",
      "RangeIndex: 6026325 entries, 0 to 6026324\n",
      "Data columns (total 17 columns):\n",
      " #   Column     Non-Null Count    Dtype         \n",
      "---  ------     --------------    -----         \n",
      " 0   fecha      6026325 non-null  datetime64[ns]\n",
      " 1   idema      6026325 non-null  object        \n",
      " 2   tmed       6026325 non-null  float64       \n",
      " 3   prec       6026325 non-null  float64       \n",
      " 4   tmin       6026325 non-null  float64       \n",
      " 5   tmax       6026325 non-null  float64       \n",
      " 6   hr_media   6026325 non-null  float64       \n",
      " 7   velmedia   6026325 non-null  float64       \n",
      " 8   racha      6026325 non-null  float64       \n",
      " 9   year       6026325 non-null  float64       \n",
      " 10  fecha_sin  6026325 non-null  float64       \n",
      " 11  fecha_cos  6026325 non-null  float64       \n",
      " 12  dir_sin    6026325 non-null  float64       \n",
      " 13  dir_cos    6026325 non-null  float64       \n",
      " 14  latitud    6026325 non-null  float64       \n",
      " 15  longitud   6026325 non-null  float64       \n",
      " 16  altitud    6026325 non-null  int64         \n",
      "dtypes: datetime64[ns](1), float64(14), int64(1), object(1)\n",
      "memory usage: 781.6+ MB\n"
     ]
    }
   ],
   "source": [
    "df.info(show_counts=True)"
   ]
  },
  {
   "cell_type": "code",
   "execution_count": 23,
   "id": "7d1fb06c-18dc-4c66-b070-7e0200133d3c",
   "metadata": {},
   "outputs": [],
   "source": [
    "train = df[df['fecha'].dt.year < 2021]\n",
    "test = df[df['fecha'].dt.year >= 2021]"
   ]
  },
  {
   "cell_type": "code",
   "execution_count": 40,
   "id": "779f96d3-a87a-4cb0-9f00-dc7dfd0dce89",
   "metadata": {},
   "outputs": [
    {
     "data": {
      "text/html": [
       "<div>\n",
       "<style scoped>\n",
       "    .dataframe tbody tr th:only-of-type {\n",
       "        vertical-align: middle;\n",
       "    }\n",
       "\n",
       "    .dataframe tbody tr th {\n",
       "        vertical-align: top;\n",
       "    }\n",
       "\n",
       "    .dataframe thead th {\n",
       "        text-align: right;\n",
       "    }\n",
       "</style>\n",
       "<table border=\"1\" class=\"dataframe\">\n",
       "  <thead>\n",
       "    <tr style=\"text-align: right;\">\n",
       "      <th></th>\n",
       "      <th>fecha</th>\n",
       "      <th>idema</th>\n",
       "      <th>tmed</th>\n",
       "      <th>prec</th>\n",
       "      <th>tmin</th>\n",
       "      <th>tmax</th>\n",
       "      <th>hr_media</th>\n",
       "      <th>velmedia</th>\n",
       "      <th>racha</th>\n",
       "      <th>year</th>\n",
       "      <th>fecha_sin</th>\n",
       "      <th>fecha_cos</th>\n",
       "      <th>dir_sin</th>\n",
       "      <th>dir_cos</th>\n",
       "      <th>latitud</th>\n",
       "      <th>longitud</th>\n",
       "      <th>altitud</th>\n",
       "    </tr>\n",
       "  </thead>\n",
       "  <tbody>\n",
       "    <tr>\n",
       "      <th>0</th>\n",
       "      <td>1997-01-01</td>\n",
       "      <td>3110C</td>\n",
       "      <td>0.6</td>\n",
       "      <td>0.0</td>\n",
       "      <td>-0.5</td>\n",
       "      <td>1.7</td>\n",
       "      <td>93.0</td>\n",
       "      <td>0.3</td>\n",
       "      <td>3.9</td>\n",
       "      <td>0.47</td>\n",
       "      <td>0.0172</td>\n",
       "      <td>0.9999</td>\n",
       "      <td>0.7346</td>\n",
       "      <td>0.6785</td>\n",
       "      <td>41.0000</td>\n",
       "      <td>-3.6000</td>\n",
       "      <td>1030</td>\n",
       "    </tr>\n",
       "    <tr>\n",
       "      <th>1</th>\n",
       "      <td>1997-01-01</td>\n",
       "      <td>1495</td>\n",
       "      <td>1.8</td>\n",
       "      <td>4.1</td>\n",
       "      <td>0.4</td>\n",
       "      <td>3.2</td>\n",
       "      <td>100.0</td>\n",
       "      <td>1.9</td>\n",
       "      <td>6.1</td>\n",
       "      <td>0.47</td>\n",
       "      <td>0.0172</td>\n",
       "      <td>0.9999</td>\n",
       "      <td>0.9096</td>\n",
       "      <td>0.4154</td>\n",
       "      <td>42.2333</td>\n",
       "      <td>-8.6167</td>\n",
       "      <td>255</td>\n",
       "    </tr>\n",
       "    <tr>\n",
       "      <th>2</th>\n",
       "      <td>1997-01-01</td>\n",
       "      <td>B691</td>\n",
       "      <td>10.0</td>\n",
       "      <td>6.0</td>\n",
       "      <td>4.0</td>\n",
       "      <td>16.0</td>\n",
       "      <td>84.0</td>\n",
       "      <td>0.8</td>\n",
       "      <td>6.1</td>\n",
       "      <td>0.47</td>\n",
       "      <td>0.0172</td>\n",
       "      <td>0.9999</td>\n",
       "      <td>0.2511</td>\n",
       "      <td>0.9679</td>\n",
       "      <td>39.7333</td>\n",
       "      <td>3.0000</td>\n",
       "      <td>40</td>\n",
       "    </tr>\n",
       "  </tbody>\n",
       "</table>\n",
       "</div>"
      ],
      "text/plain": [
       "       fecha  idema  tmed  prec  tmin  tmax  hr_media  velmedia  racha  year  \\\n",
       "0 1997-01-01  3110C   0.6   0.0  -0.5   1.7      93.0       0.3    3.9  0.47   \n",
       "1 1997-01-01   1495   1.8   4.1   0.4   3.2     100.0       1.9    6.1  0.47   \n",
       "2 1997-01-01   B691  10.0   6.0   4.0  16.0      84.0       0.8    6.1  0.47   \n",
       "\n",
       "   fecha_sin  fecha_cos  dir_sin  dir_cos  latitud  longitud  altitud  \n",
       "0     0.0172     0.9999   0.7346   0.6785  41.0000   -3.6000     1030  \n",
       "1     0.0172     0.9999   0.9096   0.4154  42.2333   -8.6167      255  \n",
       "2     0.0172     0.9999   0.2511   0.9679  39.7333    3.0000       40  "
      ]
     },
     "execution_count": 40,
     "metadata": {},
     "output_type": "execute_result"
    }
   ],
   "source": [
    "train.head(3)"
   ]
  },
  {
   "cell_type": "code",
   "execution_count": 41,
   "id": "e8ae03d6-ab80-4e76-b68b-289c7c4c52fd",
   "metadata": {},
   "outputs": [
    {
     "data": {
      "text/html": [
       "<div>\n",
       "<style scoped>\n",
       "    .dataframe tbody tr th:only-of-type {\n",
       "        vertical-align: middle;\n",
       "    }\n",
       "\n",
       "    .dataframe tbody tr th {\n",
       "        vertical-align: top;\n",
       "    }\n",
       "\n",
       "    .dataframe thead th {\n",
       "        text-align: right;\n",
       "    }\n",
       "</style>\n",
       "<table border=\"1\" class=\"dataframe\">\n",
       "  <thead>\n",
       "    <tr style=\"text-align: right;\">\n",
       "      <th></th>\n",
       "      <th>fecha</th>\n",
       "      <th>idema</th>\n",
       "      <th>tmed</th>\n",
       "      <th>prec</th>\n",
       "      <th>tmin</th>\n",
       "      <th>tmax</th>\n",
       "      <th>hr_media</th>\n",
       "      <th>velmedia</th>\n",
       "      <th>racha</th>\n",
       "      <th>year</th>\n",
       "      <th>fecha_sin</th>\n",
       "      <th>fecha_cos</th>\n",
       "      <th>dir_sin</th>\n",
       "      <th>dir_cos</th>\n",
       "      <th>latitud</th>\n",
       "      <th>longitud</th>\n",
       "      <th>altitud</th>\n",
       "    </tr>\n",
       "  </thead>\n",
       "  <tbody>\n",
       "    <tr>\n",
       "      <th>4748475</th>\n",
       "      <td>2021-01-01</td>\n",
       "      <td>4520X</td>\n",
       "      <td>4.2</td>\n",
       "      <td>0.0</td>\n",
       "      <td>0.6</td>\n",
       "      <td>7.9</td>\n",
       "      <td>86.0</td>\n",
       "      <td>3.900000</td>\n",
       "      <td>12.2</td>\n",
       "      <td>0.71</td>\n",
       "      <td>0.0172</td>\n",
       "      <td>0.9999</td>\n",
       "      <td>0.922400</td>\n",
       "      <td>-0.386300</td>\n",
       "      <td>38.1667</td>\n",
       "      <td>-6.6500</td>\n",
       "      <td>586</td>\n",
       "    </tr>\n",
       "    <tr>\n",
       "      <th>4748476</th>\n",
       "      <td>2021-01-01</td>\n",
       "      <td>C453I</td>\n",
       "      <td>4.6</td>\n",
       "      <td>0.0</td>\n",
       "      <td>1.8</td>\n",
       "      <td>7.5</td>\n",
       "      <td>72.0</td>\n",
       "      <td>3.533333</td>\n",
       "      <td>10.1</td>\n",
       "      <td>0.71</td>\n",
       "      <td>0.0172</td>\n",
       "      <td>0.9999</td>\n",
       "      <td>0.639767</td>\n",
       "      <td>0.178167</td>\n",
       "      <td>28.3833</td>\n",
       "      <td>-16.4333</td>\n",
       "      <td>1744</td>\n",
       "    </tr>\n",
       "    <tr>\n",
       "      <th>4748477</th>\n",
       "      <td>2021-01-01</td>\n",
       "      <td>7250C</td>\n",
       "      <td>7.6</td>\n",
       "      <td>0.0</td>\n",
       "      <td>2.4</td>\n",
       "      <td>12.7</td>\n",
       "      <td>58.0</td>\n",
       "      <td>3.533333</td>\n",
       "      <td>10.1</td>\n",
       "      <td>0.71</td>\n",
       "      <td>0.0172</td>\n",
       "      <td>0.9999</td>\n",
       "      <td>0.639767</td>\n",
       "      <td>0.178167</td>\n",
       "      <td>38.1833</td>\n",
       "      <td>-1.0333</td>\n",
       "      <td>174</td>\n",
       "    </tr>\n",
       "  </tbody>\n",
       "</table>\n",
       "</div>"
      ],
      "text/plain": [
       "             fecha  idema  tmed  prec  tmin  tmax  hr_media  velmedia  racha  \\\n",
       "4748475 2021-01-01  4520X   4.2   0.0   0.6   7.9      86.0  3.900000   12.2   \n",
       "4748476 2021-01-01  C453I   4.6   0.0   1.8   7.5      72.0  3.533333   10.1   \n",
       "4748477 2021-01-01  7250C   7.6   0.0   2.4  12.7      58.0  3.533333   10.1   \n",
       "\n",
       "         year  fecha_sin  fecha_cos   dir_sin   dir_cos  latitud  longitud  \\\n",
       "4748475  0.71     0.0172     0.9999  0.922400 -0.386300  38.1667   -6.6500   \n",
       "4748476  0.71     0.0172     0.9999  0.639767  0.178167  28.3833  -16.4333   \n",
       "4748477  0.71     0.0172     0.9999  0.639767  0.178167  38.1833   -1.0333   \n",
       "\n",
       "         altitud  \n",
       "4748475      586  \n",
       "4748476     1744  \n",
       "4748477      174  "
      ]
     },
     "execution_count": 41,
     "metadata": {},
     "output_type": "execute_result"
    }
   ],
   "source": [
    "test.head(3)"
   ]
  },
  {
   "cell_type": "code",
   "execution_count": 52,
   "id": "79d1580d-b292-436e-992d-74fe56193d56",
   "metadata": {},
   "outputs": [
    {
     "data": {
      "text/plain": [
       "(4748475, 1277850)"
      ]
     },
     "execution_count": 52,
     "metadata": {},
     "output_type": "execute_result"
    }
   ],
   "source": [
    "len(train), len(test)"
   ]
  },
  {
   "cell_type": "code",
   "execution_count": 53,
   "id": "07b9b7f1-f27c-4664-9555-a56e90116845",
   "metadata": {},
   "outputs": [
    {
     "data": {
      "text/plain": [
       "0.21204465408022302"
      ]
     },
     "execution_count": 53,
     "metadata": {},
     "output_type": "execute_result"
    }
   ],
   "source": [
    "len(test) / (len(train) + len(test))"
   ]
  },
  {
   "cell_type": "markdown",
   "id": "4e396139-1a9f-4dae-a0e7-86adae60456e",
   "metadata": {},
   "source": [
    "test makes up around 20%"
   ]
  },
  {
   "cell_type": "code",
   "execution_count": 54,
   "id": "162b9175-7932-4693-80ac-56577f1f25d1",
   "metadata": {},
   "outputs": [],
   "source": [
    "train = train.drop(columns=['idema'])\n",
    "test = test.drop(columns=['idema'])"
   ]
  },
  {
   "cell_type": "code",
   "execution_count": 57,
   "id": "24006d54-0650-4d36-9a07-730e0cbc8d7f",
   "metadata": {},
   "outputs": [],
   "source": [
    "train = train.round(4)\n",
    "test = test.round(4)"
   ]
  },
  {
   "cell_type": "code",
   "execution_count": 58,
   "id": "e1620153-5bb2-4991-b56d-c3ee2ab084b1",
   "metadata": {},
   "outputs": [
    {
     "data": {
      "text/html": [
       "<div>\n",
       "<style scoped>\n",
       "    .dataframe tbody tr th:only-of-type {\n",
       "        vertical-align: middle;\n",
       "    }\n",
       "\n",
       "    .dataframe tbody tr th {\n",
       "        vertical-align: top;\n",
       "    }\n",
       "\n",
       "    .dataframe thead th {\n",
       "        text-align: right;\n",
       "    }\n",
       "</style>\n",
       "<table border=\"1\" class=\"dataframe\">\n",
       "  <thead>\n",
       "    <tr style=\"text-align: right;\">\n",
       "      <th></th>\n",
       "      <th>fecha</th>\n",
       "      <th>tmed</th>\n",
       "      <th>prec</th>\n",
       "      <th>tmin</th>\n",
       "      <th>tmax</th>\n",
       "      <th>hr_media</th>\n",
       "      <th>velmedia</th>\n",
       "      <th>racha</th>\n",
       "      <th>year</th>\n",
       "      <th>fecha_sin</th>\n",
       "      <th>fecha_cos</th>\n",
       "      <th>dir_sin</th>\n",
       "      <th>dir_cos</th>\n",
       "      <th>latitud</th>\n",
       "      <th>longitud</th>\n",
       "      <th>altitud</th>\n",
       "    </tr>\n",
       "  </thead>\n",
       "  <tbody>\n",
       "    <tr>\n",
       "      <th>0</th>\n",
       "      <td>1997-01-01</td>\n",
       "      <td>0.6</td>\n",
       "      <td>0.0</td>\n",
       "      <td>-0.5</td>\n",
       "      <td>1.7</td>\n",
       "      <td>93.0</td>\n",
       "      <td>0.3</td>\n",
       "      <td>3.9</td>\n",
       "      <td>0.47</td>\n",
       "      <td>0.0172</td>\n",
       "      <td>0.9999</td>\n",
       "      <td>0.7346</td>\n",
       "      <td>0.6785</td>\n",
       "      <td>41.0000</td>\n",
       "      <td>-3.6000</td>\n",
       "      <td>1030</td>\n",
       "    </tr>\n",
       "    <tr>\n",
       "      <th>1</th>\n",
       "      <td>1997-01-01</td>\n",
       "      <td>1.8</td>\n",
       "      <td>4.1</td>\n",
       "      <td>0.4</td>\n",
       "      <td>3.2</td>\n",
       "      <td>100.0</td>\n",
       "      <td>1.9</td>\n",
       "      <td>6.1</td>\n",
       "      <td>0.47</td>\n",
       "      <td>0.0172</td>\n",
       "      <td>0.9999</td>\n",
       "      <td>0.9096</td>\n",
       "      <td>0.4154</td>\n",
       "      <td>42.2333</td>\n",
       "      <td>-8.6167</td>\n",
       "      <td>255</td>\n",
       "    </tr>\n",
       "    <tr>\n",
       "      <th>2</th>\n",
       "      <td>1997-01-01</td>\n",
       "      <td>10.0</td>\n",
       "      <td>6.0</td>\n",
       "      <td>4.0</td>\n",
       "      <td>16.0</td>\n",
       "      <td>84.0</td>\n",
       "      <td>0.8</td>\n",
       "      <td>6.1</td>\n",
       "      <td>0.47</td>\n",
       "      <td>0.0172</td>\n",
       "      <td>0.9999</td>\n",
       "      <td>0.2511</td>\n",
       "      <td>0.9679</td>\n",
       "      <td>39.7333</td>\n",
       "      <td>3.0000</td>\n",
       "      <td>40</td>\n",
       "    </tr>\n",
       "  </tbody>\n",
       "</table>\n",
       "</div>"
      ],
      "text/plain": [
       "       fecha  tmed  prec  tmin  tmax  hr_media  velmedia  racha  year  \\\n",
       "0 1997-01-01   0.6   0.0  -0.5   1.7      93.0       0.3    3.9  0.47   \n",
       "1 1997-01-01   1.8   4.1   0.4   3.2     100.0       1.9    6.1  0.47   \n",
       "2 1997-01-01  10.0   6.0   4.0  16.0      84.0       0.8    6.1  0.47   \n",
       "\n",
       "   fecha_sin  fecha_cos  dir_sin  dir_cos  latitud  longitud  altitud  \n",
       "0     0.0172     0.9999   0.7346   0.6785  41.0000   -3.6000     1030  \n",
       "1     0.0172     0.9999   0.9096   0.4154  42.2333   -8.6167      255  \n",
       "2     0.0172     0.9999   0.2511   0.9679  39.7333    3.0000       40  "
      ]
     },
     "execution_count": 58,
     "metadata": {},
     "output_type": "execute_result"
    }
   ],
   "source": [
    "train.head(3)"
   ]
  },
  {
   "cell_type": "code",
   "execution_count": 59,
   "id": "f825309c-731a-4221-9339-ab75e8eda826",
   "metadata": {},
   "outputs": [
    {
     "data": {
      "text/html": [
       "<div>\n",
       "<style scoped>\n",
       "    .dataframe tbody tr th:only-of-type {\n",
       "        vertical-align: middle;\n",
       "    }\n",
       "\n",
       "    .dataframe tbody tr th {\n",
       "        vertical-align: top;\n",
       "    }\n",
       "\n",
       "    .dataframe thead th {\n",
       "        text-align: right;\n",
       "    }\n",
       "</style>\n",
       "<table border=\"1\" class=\"dataframe\">\n",
       "  <thead>\n",
       "    <tr style=\"text-align: right;\">\n",
       "      <th></th>\n",
       "      <th>fecha</th>\n",
       "      <th>tmed</th>\n",
       "      <th>prec</th>\n",
       "      <th>tmin</th>\n",
       "      <th>tmax</th>\n",
       "      <th>hr_media</th>\n",
       "      <th>velmedia</th>\n",
       "      <th>racha</th>\n",
       "      <th>year</th>\n",
       "      <th>fecha_sin</th>\n",
       "      <th>fecha_cos</th>\n",
       "      <th>dir_sin</th>\n",
       "      <th>dir_cos</th>\n",
       "      <th>latitud</th>\n",
       "      <th>longitud</th>\n",
       "      <th>altitud</th>\n",
       "    </tr>\n",
       "  </thead>\n",
       "  <tbody>\n",
       "    <tr>\n",
       "      <th>4748475</th>\n",
       "      <td>2021-01-01</td>\n",
       "      <td>4.2</td>\n",
       "      <td>0.0</td>\n",
       "      <td>0.6</td>\n",
       "      <td>7.9</td>\n",
       "      <td>86.0</td>\n",
       "      <td>3.9000</td>\n",
       "      <td>12.2</td>\n",
       "      <td>0.71</td>\n",
       "      <td>0.0172</td>\n",
       "      <td>0.9999</td>\n",
       "      <td>0.9224</td>\n",
       "      <td>-0.3863</td>\n",
       "      <td>38.1667</td>\n",
       "      <td>-6.6500</td>\n",
       "      <td>586</td>\n",
       "    </tr>\n",
       "    <tr>\n",
       "      <th>4748476</th>\n",
       "      <td>2021-01-01</td>\n",
       "      <td>4.6</td>\n",
       "      <td>0.0</td>\n",
       "      <td>1.8</td>\n",
       "      <td>7.5</td>\n",
       "      <td>72.0</td>\n",
       "      <td>3.5333</td>\n",
       "      <td>10.1</td>\n",
       "      <td>0.71</td>\n",
       "      <td>0.0172</td>\n",
       "      <td>0.9999</td>\n",
       "      <td>0.6398</td>\n",
       "      <td>0.1782</td>\n",
       "      <td>28.3833</td>\n",
       "      <td>-16.4333</td>\n",
       "      <td>1744</td>\n",
       "    </tr>\n",
       "    <tr>\n",
       "      <th>4748477</th>\n",
       "      <td>2021-01-01</td>\n",
       "      <td>7.6</td>\n",
       "      <td>0.0</td>\n",
       "      <td>2.4</td>\n",
       "      <td>12.7</td>\n",
       "      <td>58.0</td>\n",
       "      <td>3.5333</td>\n",
       "      <td>10.1</td>\n",
       "      <td>0.71</td>\n",
       "      <td>0.0172</td>\n",
       "      <td>0.9999</td>\n",
       "      <td>0.6398</td>\n",
       "      <td>0.1782</td>\n",
       "      <td>38.1833</td>\n",
       "      <td>-1.0333</td>\n",
       "      <td>174</td>\n",
       "    </tr>\n",
       "  </tbody>\n",
       "</table>\n",
       "</div>"
      ],
      "text/plain": [
       "             fecha  tmed  prec  tmin  tmax  hr_media  velmedia  racha  year  \\\n",
       "4748475 2021-01-01   4.2   0.0   0.6   7.9      86.0    3.9000   12.2  0.71   \n",
       "4748476 2021-01-01   4.6   0.0   1.8   7.5      72.0    3.5333   10.1  0.71   \n",
       "4748477 2021-01-01   7.6   0.0   2.4  12.7      58.0    3.5333   10.1  0.71   \n",
       "\n",
       "         fecha_sin  fecha_cos  dir_sin  dir_cos  latitud  longitud  altitud  \n",
       "4748475     0.0172     0.9999   0.9224  -0.3863  38.1667   -6.6500      586  \n",
       "4748476     0.0172     0.9999   0.6398   0.1782  28.3833  -16.4333     1744  \n",
       "4748477     0.0172     0.9999   0.6398   0.1782  38.1833   -1.0333      174  "
      ]
     },
     "execution_count": 59,
     "metadata": {},
     "output_type": "execute_result"
    }
   ],
   "source": [
    "test.head(3)"
   ]
  },
  {
   "cell_type": "code",
   "execution_count": 55,
   "id": "4503bd3b-dc28-4bb8-8c3d-17a548fff388",
   "metadata": {},
   "outputs": [],
   "source": [
    "train.to_csv('../../data/ml/train.csv', index=False)"
   ]
  },
  {
   "cell_type": "code",
   "execution_count": 56,
   "id": "261ac357-6b23-4e4e-a2ad-e1d9ad5e2b57",
   "metadata": {},
   "outputs": [],
   "source": [
    "test.to_csv('../../data/ml/test.csv', index=False)"
   ]
  }
 ],
 "metadata": {
  "kernelspec": {
   "display_name": "Python 3 (ipykernel)",
   "language": "python",
   "name": "python3"
  },
  "language_info": {
   "codemirror_mode": {
    "name": "ipython",
    "version": 3
   },
   "file_extension": ".py",
   "mimetype": "text/x-python",
   "name": "python",
   "nbconvert_exporter": "python",
   "pygments_lexer": "ipython3",
   "version": "3.13.2"
  }
 },
 "nbformat": 4,
 "nbformat_minor": 5
}

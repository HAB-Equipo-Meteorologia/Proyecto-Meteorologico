{
 "cells": [
  {
   "cell_type": "code",
   "execution_count": 1,
   "id": "72bf555e-9988-4416-83fa-a7556b8fe467",
   "metadata": {},
   "outputs": [],
   "source": [
    "import pandas as pd"
   ]
  },
  {
   "cell_type": "code",
   "execution_count": 36,
   "id": "c7a3825e-934d-4c17-bb3f-22cc26554c52",
   "metadata": {},
   "outputs": [],
   "source": [
    "df = pd.read_csv('../../data/ml/full.csv', parse_dates=['fecha'])"
   ]
  },
  {
   "cell_type": "code",
   "execution_count": 50,
   "id": "73078162-e04e-46a6-a9e5-7dd3780c9fc0",
   "metadata": {},
   "outputs": [
    {
     "name": "stdout",
     "output_type": "stream",
     "text": [
      "<class 'pandas.core.frame.DataFrame'>\n",
      "RangeIndex: 4582780 entries, 0 to 4582779\n",
      "Data columns (total 12 columns):\n",
      " #   Column     Non-Null Count    Dtype         \n",
      "---  ------     --------------    -----         \n",
      " 0   fecha      4582780 non-null  datetime64[ns]\n",
      " 1   idema      4582780 non-null  object        \n",
      " 2   tmed       4582780 non-null  float64       \n",
      " 3   prec       4582780 non-null  float64       \n",
      " 4   tmin       4582780 non-null  float64       \n",
      " 5   tmax       4582780 non-null  float64       \n",
      " 6   hr_max     4582780 non-null  float64       \n",
      " 7   hr_media   4582780 non-null  float64       \n",
      " 8   latitud    4582780 non-null  float64       \n",
      " 9   altitud    4582780 non-null  int64         \n",
      " 10  fecha_sin  4582780 non-null  float64       \n",
      " 11  fecha_cos  4582780 non-null  float64       \n",
      "dtypes: datetime64[ns](1), float64(9), int64(1), object(1)\n",
      "memory usage: 419.6+ MB\n"
     ]
    }
   ],
   "source": [
    "df.info(show_counts=True)"
   ]
  },
  {
   "cell_type": "code",
   "execution_count": 37,
   "id": "100d3a68-f585-423c-ac50-7878eb2a6cb0",
   "metadata": {},
   "outputs": [],
   "source": [
    "train_df = df[df['fecha'].dt.year <= 2020]\n",
    "validation_df = df[(df['fecha'].dt.year >= 2021) & (df['fecha'].dt.year <= 2022)]\n",
    "test_df = df[df['fecha'].dt.year >= 2023]"
   ]
  },
  {
   "cell_type": "code",
   "execution_count": 38,
   "id": "454e028a-d123-4c88-9f37-7582a87b5b4a",
   "metadata": {},
   "outputs": [
    {
     "data": {
      "text/plain": [
       "(3249868, 633758, 699154)"
      ]
     },
     "execution_count": 38,
     "metadata": {},
     "output_type": "execute_result"
    }
   ],
   "source": [
    "len(train_df), len(validation_df), len(test_df)"
   ]
  },
  {
   "cell_type": "code",
   "execution_count": 39,
   "id": "880c9b97-c3ef-4ac6-b8fc-2f112886fd57",
   "metadata": {},
   "outputs": [
    {
     "data": {
      "text/plain": [
       "(70.91, 13.83, 15.26)"
      ]
     },
     "execution_count": 39,
     "metadata": {},
     "output_type": "execute_result"
    }
   ],
   "source": [
    "round(len(train_df) / len(df) * 100, 2), round(len(validation_df) / len(df) * 100, 2), round(len(test_df) / len(df) * 100, 2)"
   ]
  },
  {
   "cell_type": "code",
   "execution_count": 46,
   "id": "b2ec57dc-ed9e-4462-bc90-a15e9b2a364a",
   "metadata": {},
   "outputs": [
    {
     "data": {
      "text/html": [
       "<div>\n",
       "<style scoped>\n",
       "    .dataframe tbody tr th:only-of-type {\n",
       "        vertical-align: middle;\n",
       "    }\n",
       "\n",
       "    .dataframe tbody tr th {\n",
       "        vertical-align: top;\n",
       "    }\n",
       "\n",
       "    .dataframe thead th {\n",
       "        text-align: right;\n",
       "    }\n",
       "</style>\n",
       "<table border=\"1\" class=\"dataframe\">\n",
       "  <thead>\n",
       "    <tr style=\"text-align: right;\">\n",
       "      <th></th>\n",
       "      <th>fecha</th>\n",
       "      <th>idema</th>\n",
       "      <th>tmed</th>\n",
       "      <th>prec</th>\n",
       "      <th>tmin</th>\n",
       "      <th>tmax</th>\n",
       "      <th>hr_max</th>\n",
       "      <th>hr_media</th>\n",
       "      <th>latitud</th>\n",
       "      <th>altitud</th>\n",
       "      <th>fecha_sin</th>\n",
       "      <th>fecha_cos</th>\n",
       "    </tr>\n",
       "  </thead>\n",
       "  <tbody>\n",
       "    <tr>\n",
       "      <th>0</th>\n",
       "      <td>2010-01-01</td>\n",
       "      <td>2331</td>\n",
       "      <td>2.7</td>\n",
       "      <td>3.5</td>\n",
       "      <td>0.8</td>\n",
       "      <td>4.6</td>\n",
       "      <td>97.0</td>\n",
       "      <td>94.0</td>\n",
       "      <td>42.35</td>\n",
       "      <td>891</td>\n",
       "      <td>0.5086</td>\n",
       "      <td>0.9999</td>\n",
       "    </tr>\n",
       "  </tbody>\n",
       "</table>\n",
       "</div>"
      ],
      "text/plain": [
       "       fecha idema  tmed  prec  tmin  tmax  hr_max  hr_media  latitud  \\\n",
       "0 2010-01-01  2331   2.7   3.5   0.8   4.6    97.0      94.0    42.35   \n",
       "\n",
       "   altitud  fecha_sin  fecha_cos  \n",
       "0      891     0.5086     0.9999  "
      ]
     },
     "execution_count": 46,
     "metadata": {},
     "output_type": "execute_result"
    }
   ],
   "source": [
    "train_df.head(1)"
   ]
  },
  {
   "cell_type": "code",
   "execution_count": 47,
   "id": "ab0abcf0-1c8e-47d9-89c9-d0b63763f913",
   "metadata": {},
   "outputs": [
    {
     "data": {
      "text/html": [
       "<div>\n",
       "<style scoped>\n",
       "    .dataframe tbody tr th:only-of-type {\n",
       "        vertical-align: middle;\n",
       "    }\n",
       "\n",
       "    .dataframe tbody tr th {\n",
       "        vertical-align: top;\n",
       "    }\n",
       "\n",
       "    .dataframe thead th {\n",
       "        text-align: right;\n",
       "    }\n",
       "</style>\n",
       "<table border=\"1\" class=\"dataframe\">\n",
       "  <thead>\n",
       "    <tr style=\"text-align: right;\">\n",
       "      <th></th>\n",
       "      <th>fecha</th>\n",
       "      <th>idema</th>\n",
       "      <th>tmed</th>\n",
       "      <th>prec</th>\n",
       "      <th>tmin</th>\n",
       "      <th>tmax</th>\n",
       "      <th>hr_max</th>\n",
       "      <th>hr_media</th>\n",
       "      <th>latitud</th>\n",
       "      <th>altitud</th>\n",
       "      <th>fecha_sin</th>\n",
       "      <th>fecha_cos</th>\n",
       "    </tr>\n",
       "  </thead>\n",
       "  <tbody>\n",
       "    <tr>\n",
       "      <th>3249868</th>\n",
       "      <td>2021-01-01</td>\n",
       "      <td>B346X</td>\n",
       "      <td>9.0</td>\n",
       "      <td>19.5</td>\n",
       "      <td>5.7</td>\n",
       "      <td>12.3</td>\n",
       "      <td>98.0</td>\n",
       "      <td>90.0</td>\n",
       "      <td>39.5167</td>\n",
       "      <td>120</td>\n",
       "      <td>0.5086</td>\n",
       "      <td>0.9999</td>\n",
       "    </tr>\n",
       "  </tbody>\n",
       "</table>\n",
       "</div>"
      ],
      "text/plain": [
       "             fecha  idema  tmed  prec  tmin  tmax  hr_max  hr_media  latitud  \\\n",
       "3249868 2021-01-01  B346X   9.0  19.5   5.7  12.3    98.0      90.0  39.5167   \n",
       "\n",
       "         altitud  fecha_sin  fecha_cos  \n",
       "3249868      120     0.5086     0.9999  "
      ]
     },
     "execution_count": 47,
     "metadata": {},
     "output_type": "execute_result"
    }
   ],
   "source": [
    "validation_df.head(1)"
   ]
  },
  {
   "cell_type": "code",
   "execution_count": 48,
   "id": "a61ffb53-e844-4202-8a3f-d3fecad7609c",
   "metadata": {},
   "outputs": [
    {
     "data": {
      "text/html": [
       "<div>\n",
       "<style scoped>\n",
       "    .dataframe tbody tr th:only-of-type {\n",
       "        vertical-align: middle;\n",
       "    }\n",
       "\n",
       "    .dataframe tbody tr th {\n",
       "        vertical-align: top;\n",
       "    }\n",
       "\n",
       "    .dataframe thead th {\n",
       "        text-align: right;\n",
       "    }\n",
       "</style>\n",
       "<table border=\"1\" class=\"dataframe\">\n",
       "  <thead>\n",
       "    <tr style=\"text-align: right;\">\n",
       "      <th></th>\n",
       "      <th>fecha</th>\n",
       "      <th>idema</th>\n",
       "      <th>tmed</th>\n",
       "      <th>prec</th>\n",
       "      <th>tmin</th>\n",
       "      <th>tmax</th>\n",
       "      <th>hr_max</th>\n",
       "      <th>hr_media</th>\n",
       "      <th>latitud</th>\n",
       "      <th>altitud</th>\n",
       "      <th>fecha_sin</th>\n",
       "      <th>fecha_cos</th>\n",
       "    </tr>\n",
       "  </thead>\n",
       "  <tbody>\n",
       "    <tr>\n",
       "      <th>3883626</th>\n",
       "      <td>2023-01-01</td>\n",
       "      <td>8293X</td>\n",
       "      <td>11.5</td>\n",
       "      <td>0.0</td>\n",
       "      <td>4.4</td>\n",
       "      <td>18.6</td>\n",
       "      <td>80.0</td>\n",
       "      <td>65.0</td>\n",
       "      <td>39.0</td>\n",
       "      <td>88</td>\n",
       "      <td>0.5086</td>\n",
       "      <td>0.9999</td>\n",
       "    </tr>\n",
       "  </tbody>\n",
       "</table>\n",
       "</div>"
      ],
      "text/plain": [
       "             fecha  idema  tmed  prec  tmin  tmax  hr_max  hr_media  latitud  \\\n",
       "3883626 2023-01-01  8293X  11.5   0.0   4.4  18.6    80.0      65.0     39.0   \n",
       "\n",
       "         altitud  fecha_sin  fecha_cos  \n",
       "3883626       88     0.5086     0.9999  "
      ]
     },
     "execution_count": 48,
     "metadata": {},
     "output_type": "execute_result"
    }
   ],
   "source": [
    "test_df.head(1)"
   ]
  },
  {
   "cell_type": "code",
   "execution_count": 49,
   "id": "f0e86ae2-407f-4216-8b12-e47d8e17d427",
   "metadata": {},
   "outputs": [],
   "source": [
    "train_df.to_csv('../../data/ml/train.csv', index=False)\n",
    "validation_df.to_csv('../../data/ml/validation.csv', index=False)\n",
    "test_df.to_csv('../../data/ml/test.csv', index=False)"
   ]
  }
 ],
 "metadata": {
  "kernelspec": {
   "display_name": "Python 3 (ipykernel)",
   "language": "python",
   "name": "python3"
  },
  "language_info": {
   "codemirror_mode": {
    "name": "ipython",
    "version": 3
   },
   "file_extension": ".py",
   "mimetype": "text/x-python",
   "name": "python",
   "nbconvert_exporter": "python",
   "pygments_lexer": "ipython3",
   "version": "3.13.2"
  }
 },
 "nbformat": 4,
 "nbformat_minor": 5
}

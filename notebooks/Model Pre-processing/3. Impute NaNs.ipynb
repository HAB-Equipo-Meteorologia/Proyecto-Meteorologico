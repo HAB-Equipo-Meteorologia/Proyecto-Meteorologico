{
 "cells": [
  {
   "cell_type": "code",
   "execution_count": 28,
   "id": "3f837787-5420-4385-aad2-68f61eccbf2a",
   "metadata": {},
   "outputs": [],
   "source": [
    "import pandas as pd\n",
    "import numpy as np\n",
    "import time"
   ]
  },
  {
   "cell_type": "code",
   "execution_count": 2,
   "id": "fff83fc3-eb7a-43bc-b354-eb18cf5a8f82",
   "metadata": {},
   "outputs": [],
   "source": [
    "pd.set_option('display.max_columns', None)"
   ]
  },
  {
   "cell_type": "code",
   "execution_count": 3,
   "id": "9d06936d-549b-4883-8732-95b7579dc067",
   "metadata": {},
   "outputs": [
    {
     "data": {
      "text/html": [
       "<div>\n",
       "<style scoped>\n",
       "    .dataframe tbody tr th:only-of-type {\n",
       "        vertical-align: middle;\n",
       "    }\n",
       "\n",
       "    .dataframe tbody tr th {\n",
       "        vertical-align: top;\n",
       "    }\n",
       "\n",
       "    .dataframe thead th {\n",
       "        text-align: right;\n",
       "    }\n",
       "</style>\n",
       "<table border=\"1\" class=\"dataframe\">\n",
       "  <thead>\n",
       "    <tr style=\"text-align: right;\">\n",
       "      <th></th>\n",
       "      <th>fecha</th>\n",
       "      <th>idema</th>\n",
       "      <th>tmed</th>\n",
       "      <th>prec</th>\n",
       "      <th>tmin</th>\n",
       "      <th>tmax</th>\n",
       "      <th>hr_max</th>\n",
       "      <th>hr_min</th>\n",
       "      <th>hr_media</th>\n",
       "      <th>velmedia</th>\n",
       "      <th>racha</th>\n",
       "      <th>pres_max</th>\n",
       "      <th>pres_min</th>\n",
       "      <th>sol</th>\n",
       "      <th>year</th>\n",
       "      <th>fecha_sin</th>\n",
       "      <th>fecha_cos</th>\n",
       "      <th>dir_sin</th>\n",
       "      <th>dir_cos</th>\n",
       "      <th>latitud</th>\n",
       "      <th>longitud</th>\n",
       "      <th>altitud</th>\n",
       "    </tr>\n",
       "  </thead>\n",
       "  <tbody>\n",
       "    <tr>\n",
       "      <th>0</th>\n",
       "      <td>1997-01-01</td>\n",
       "      <td>3110C</td>\n",
       "      <td>0.6</td>\n",
       "      <td>0.0</td>\n",
       "      <td>-0.5</td>\n",
       "      <td>1.7</td>\n",
       "      <td>99.0</td>\n",
       "      <td>84.0</td>\n",
       "      <td>93.0</td>\n",
       "      <td>0.3</td>\n",
       "      <td>3.9</td>\n",
       "      <td>891.3</td>\n",
       "      <td>885.6</td>\n",
       "      <td>NaN</td>\n",
       "      <td>0.47</td>\n",
       "      <td>0.0172</td>\n",
       "      <td>0.9999</td>\n",
       "      <td>0.7346</td>\n",
       "      <td>0.6785</td>\n",
       "      <td>41.0000</td>\n",
       "      <td>-3.6000</td>\n",
       "      <td>1030</td>\n",
       "    </tr>\n",
       "    <tr>\n",
       "      <th>1</th>\n",
       "      <td>1997-01-01</td>\n",
       "      <td>1495</td>\n",
       "      <td>1.8</td>\n",
       "      <td>4.1</td>\n",
       "      <td>0.4</td>\n",
       "      <td>3.2</td>\n",
       "      <td>NaN</td>\n",
       "      <td>NaN</td>\n",
       "      <td>100.0</td>\n",
       "      <td>1.9</td>\n",
       "      <td>6.1</td>\n",
       "      <td>977.4</td>\n",
       "      <td>975.2</td>\n",
       "      <td>0.5</td>\n",
       "      <td>0.47</td>\n",
       "      <td>0.0172</td>\n",
       "      <td>0.9999</td>\n",
       "      <td>0.9096</td>\n",
       "      <td>0.4154</td>\n",
       "      <td>42.2333</td>\n",
       "      <td>-8.6167</td>\n",
       "      <td>255</td>\n",
       "    </tr>\n",
       "    <tr>\n",
       "      <th>2</th>\n",
       "      <td>1997-01-01</td>\n",
       "      <td>B691</td>\n",
       "      <td>10.0</td>\n",
       "      <td>6.0</td>\n",
       "      <td>4.0</td>\n",
       "      <td>16.0</td>\n",
       "      <td>NaN</td>\n",
       "      <td>NaN</td>\n",
       "      <td>84.0</td>\n",
       "      <td>0.8</td>\n",
       "      <td>6.1</td>\n",
       "      <td>NaN</td>\n",
       "      <td>NaN</td>\n",
       "      <td>2.3</td>\n",
       "      <td>0.47</td>\n",
       "      <td>0.0172</td>\n",
       "      <td>0.9999</td>\n",
       "      <td>0.2511</td>\n",
       "      <td>0.9679</td>\n",
       "      <td>39.7333</td>\n",
       "      <td>3.0000</td>\n",
       "      <td>40</td>\n",
       "    </tr>\n",
       "    <tr>\n",
       "      <th>3</th>\n",
       "      <td>1997-01-01</td>\n",
       "      <td>0076</td>\n",
       "      <td>7.8</td>\n",
       "      <td>6.2</td>\n",
       "      <td>4.0</td>\n",
       "      <td>11.6</td>\n",
       "      <td>NaN</td>\n",
       "      <td>NaN</td>\n",
       "      <td>81.0</td>\n",
       "      <td>4.4</td>\n",
       "      <td>11.1</td>\n",
       "      <td>1012.0</td>\n",
       "      <td>1005.8</td>\n",
       "      <td>6.7</td>\n",
       "      <td>0.47</td>\n",
       "      <td>0.0172</td>\n",
       "      <td>0.9999</td>\n",
       "      <td>0.4862</td>\n",
       "      <td>0.8738</td>\n",
       "      <td>41.2833</td>\n",
       "      <td>2.0667</td>\n",
       "      <td>4</td>\n",
       "    </tr>\n",
       "    <tr>\n",
       "      <th>4</th>\n",
       "      <td>1997-01-01</td>\n",
       "      <td>1024E</td>\n",
       "      <td>2.7</td>\n",
       "      <td>0.0</td>\n",
       "      <td>0.4</td>\n",
       "      <td>5.0</td>\n",
       "      <td>NaN</td>\n",
       "      <td>NaN</td>\n",
       "      <td>85.0</td>\n",
       "      <td>1.9</td>\n",
       "      <td>5.8</td>\n",
       "      <td>981.6</td>\n",
       "      <td>975.0</td>\n",
       "      <td>6.5</td>\n",
       "      <td>0.47</td>\n",
       "      <td>0.0172</td>\n",
       "      <td>0.9999</td>\n",
       "      <td>0.3717</td>\n",
       "      <td>0.9284</td>\n",
       "      <td>43.3000</td>\n",
       "      <td>-2.0333</td>\n",
       "      <td>250</td>\n",
       "    </tr>\n",
       "  </tbody>\n",
       "</table>\n",
       "</div>"
      ],
      "text/plain": [
       "        fecha  idema  tmed  prec  tmin  tmax  hr_max  hr_min  hr_media  \\\n",
       "0  1997-01-01  3110C   0.6   0.0  -0.5   1.7    99.0    84.0      93.0   \n",
       "1  1997-01-01   1495   1.8   4.1   0.4   3.2     NaN     NaN     100.0   \n",
       "2  1997-01-01   B691  10.0   6.0   4.0  16.0     NaN     NaN      84.0   \n",
       "3  1997-01-01   0076   7.8   6.2   4.0  11.6     NaN     NaN      81.0   \n",
       "4  1997-01-01  1024E   2.7   0.0   0.4   5.0     NaN     NaN      85.0   \n",
       "\n",
       "   velmedia  racha  pres_max  pres_min  sol  year  fecha_sin  fecha_cos  \\\n",
       "0       0.3    3.9     891.3     885.6  NaN  0.47     0.0172     0.9999   \n",
       "1       1.9    6.1     977.4     975.2  0.5  0.47     0.0172     0.9999   \n",
       "2       0.8    6.1       NaN       NaN  2.3  0.47     0.0172     0.9999   \n",
       "3       4.4   11.1    1012.0    1005.8  6.7  0.47     0.0172     0.9999   \n",
       "4       1.9    5.8     981.6     975.0  6.5  0.47     0.0172     0.9999   \n",
       "\n",
       "   dir_sin  dir_cos  latitud  longitud  altitud  \n",
       "0   0.7346   0.6785  41.0000   -3.6000     1030  \n",
       "1   0.9096   0.4154  42.2333   -8.6167      255  \n",
       "2   0.2511   0.9679  39.7333    3.0000       40  \n",
       "3   0.4862   0.8738  41.2833    2.0667        4  \n",
       "4   0.3717   0.9284  43.3000   -2.0333      250  "
      ]
     },
     "execution_count": 3,
     "metadata": {},
     "output_type": "execute_result"
    }
   ],
   "source": [
    "df = pd.read_csv('../../data/ml/historical_full_nan.csv')\n",
    "df = df.round(4)\n",
    "df.head()"
   ]
  },
  {
   "cell_type": "code",
   "execution_count": 4,
   "id": "a849f7a1-fba2-4bf6-acb8-5e00b4a3173b",
   "metadata": {},
   "outputs": [
    {
     "data": {
      "text/plain": [
       "sol         79.80%\n",
       "pres_max    71.02%\n",
       "pres_min    70.93%\n",
       "hr_min      29.46%\n",
       "racha       23.64%\n",
       "hr_max      23.13%\n",
       "dir_sin     23.01%\n",
       "dir_cos     23.01%\n",
       "velmedia    22.11%\n",
       "hr_media    20.08%\n",
       "tmin         5.80%\n",
       "tmax         5.78%\n",
       "prec         4.36%\n",
       "tmed         3.83%\n",
       "dtype: object"
      ]
     },
     "execution_count": 4,
     "metadata": {},
     "output_type": "execute_result"
    }
   ],
   "source": [
    "nan_percentage = df.isna().mean() * 100\n",
    "nan_percentage = nan_percentage[nan_percentage > 0].sort_values(ascending=False)\n",
    "nan_percentage.apply(lambda x: f\"{x:.2f}%\")"
   ]
  },
  {
   "cell_type": "code",
   "execution_count": 5,
   "id": "b88fe8ea-0fcd-40df-ae90-2be73284d1cb",
   "metadata": {},
   "outputs": [],
   "source": [
    "df = df.drop(columns=['sol', 'pres_max', 'pres_min', 'hr_max', 'hr_min'])"
   ]
  },
  {
   "cell_type": "code",
   "execution_count": 6,
   "id": "f8ddad92-342c-4ecc-a9fb-ef1a4f678309",
   "metadata": {},
   "outputs": [],
   "source": [
    "li_cols = ['tmed', 'tmin', 'tmax', 'prec', 'hr_media']\n",
    "knn_cols = ['velmedia', 'racha', 'dir_sin', 'dir_cos']"
   ]
  },
  {
   "cell_type": "code",
   "execution_count": 7,
   "id": "3e9b5913-7789-4a1e-a21b-ee3f05b85ae7",
   "metadata": {},
   "outputs": [],
   "source": [
    "df[li_cols] = df[li_cols].interpolate(method='linear', axis=0)"
   ]
  },
  {
   "cell_type": "code",
   "execution_count": 8,
   "id": "4e919985-fe61-4c2c-9bbb-327a1c251511",
   "metadata": {},
   "outputs": [],
   "source": [
    "lookup = pd.read_csv('../../data/locations/estacion_distance_lookup.csv')"
   ]
  },
  {
   "cell_type": "code",
   "execution_count": 43,
   "id": "b3e4b8c4-5853-4245-a266-4326b92f893d",
   "metadata": {},
   "outputs": [],
   "source": [
    "def impute_knn(df, k=4):\n",
    "    imputed_df = df.copy()\n",
    "\n",
    "    for fecha in imputed_df['fecha'].unique():\n",
    "        fecha_data = imputed_df[imputed_df['fecha'] == fecha]\n",
    "\n",
    "        for col in knn_cols:\n",
    "            nan_mask = fecha_data[col].isna()\n",
    "\n",
    "            for index, row in fecha_data[nan_mask].iterrows():\n",
    "                nearest_idemas = lookup[row['idema']]\n",
    "                nearest_values = fecha_data[fecha_data['idema'].isin(nearest_idemas)][col][:k]\n",
    "\n",
    "                if not nearest_values.empty:\n",
    "                    imputed_value = nearest_values.mean()\n",
    "                    imputed_df.loc[index, col] = imputed_value\n",
    "\n",
    "    return imputed_df"
   ]
  },
  {
   "cell_type": "code",
   "execution_count": 44,
   "id": "1aaf1dc5-2ad5-4b6e-8841-80ce01e13740",
   "metadata": {},
   "outputs": [
    {
     "data": {
      "text/plain": [
       "4237.813260793686"
      ]
     },
     "execution_count": 44,
     "metadata": {},
     "output_type": "execute_result"
    }
   ],
   "source": [
    "start = time.time()\n",
    "imputed_df = impute_knn(df)\n",
    "time.time() - start"
   ]
  },
  {
   "cell_type": "code",
   "execution_count": 46,
   "id": "934ec1d4-9dc6-4111-aa6b-f7558d6e6c0e",
   "metadata": {},
   "outputs": [
    {
     "name": "stdout",
     "output_type": "stream",
     "text": [
      "<class 'pandas.core.frame.DataFrame'>\n",
      "RangeIndex: 6026325 entries, 0 to 6026324\n",
      "Data columns (total 17 columns):\n",
      " #   Column     Non-Null Count    Dtype  \n",
      "---  ------     --------------    -----  \n",
      " 0   fecha      6026325 non-null  object \n",
      " 1   idema      6026325 non-null  object \n",
      " 2   tmed       6026325 non-null  float64\n",
      " 3   prec       6026325 non-null  float64\n",
      " 4   tmin       6026325 non-null  float64\n",
      " 5   tmax       6026325 non-null  float64\n",
      " 6   hr_media   6026325 non-null  float64\n",
      " 7   velmedia   6024154 non-null  float64\n",
      " 8   racha      5982651 non-null  float64\n",
      " 9   year       6026325 non-null  float64\n",
      " 10  fecha_sin  6026325 non-null  float64\n",
      " 11  fecha_cos  6026325 non-null  float64\n",
      " 12  dir_sin    6023178 non-null  float64\n",
      " 13  dir_cos    6023178 non-null  float64\n",
      " 14  latitud    6026325 non-null  float64\n",
      " 15  longitud   6026325 non-null  float64\n",
      " 16  altitud    6026325 non-null  int64  \n",
      "dtypes: float64(14), int64(1), object(2)\n",
      "memory usage: 781.6+ MB\n"
     ]
    }
   ],
   "source": [
    "imputed_df.info(show_counts=True)"
   ]
  },
  {
   "cell_type": "code",
   "execution_count": 47,
   "id": "edca6d5d-89ef-4d59-aa37-79bd74d5ce9c",
   "metadata": {},
   "outputs": [
    {
     "data": {
      "text/plain": [
       "racha       0.72%\n",
       "dir_sin     0.05%\n",
       "dir_cos     0.05%\n",
       "velmedia    0.04%\n",
       "dtype: object"
      ]
     },
     "execution_count": 47,
     "metadata": {},
     "output_type": "execute_result"
    }
   ],
   "source": [
    "nan_percentage = imputed_df.isna().mean() * 100\n",
    "nan_percentage = nan_percentage[nan_percentage > 0].sort_values(ascending=False)\n",
    "nan_percentage.apply(lambda x: f\"{x:.2f}%\")"
   ]
  },
  {
   "cell_type": "markdown",
   "id": "c0033bd9-69b1-428e-8655-ebf89ee5ca8c",
   "metadata": {},
   "source": [
    "apply a final impute"
   ]
  },
  {
   "cell_type": "code",
   "execution_count": 50,
   "id": "5581fcb7-8ae4-4f8b-b54d-6571f6fd6202",
   "metadata": {},
   "outputs": [
    {
     "name": "stderr",
     "output_type": "stream",
     "text": [
      "/tmp/ipykernel_67409/4050742879.py:1: FutureWarning: DataFrame.interpolate with object dtype is deprecated and will raise in a future version. Call obj.infer_objects(copy=False) before interpolating instead.\n",
      "  reimputed_df = imputed_df.interpolate(method='linear', axis=0)\n"
     ]
    }
   ],
   "source": [
    "reimputed_df = imputed_df.interpolate(method='linear', axis=0)"
   ]
  },
  {
   "cell_type": "code",
   "execution_count": 51,
   "id": "f758b709-3f96-4c28-b6d4-aa96c2667e88",
   "metadata": {},
   "outputs": [
    {
     "data": {
      "text/plain": [
       "Series([], dtype: float64)"
      ]
     },
     "execution_count": 51,
     "metadata": {},
     "output_type": "execute_result"
    }
   ],
   "source": [
    "nan_percentage = reimputed_df.isna().mean() * 100\n",
    "nan_percentage = nan_percentage[nan_percentage > 0].sort_values(ascending=False)\n",
    "nan_percentage.apply(lambda x: f\"{x:.2f}%\")"
   ]
  },
  {
   "cell_type": "code",
   "execution_count": 53,
   "id": "547de4b9-a563-4a50-83e4-2beb41a4f50b",
   "metadata": {},
   "outputs": [],
   "source": [
    "reimputed_df.to_csv('../../data/ml/historical_full.csv', index=False)"
   ]
  }
 ],
 "metadata": {
  "kernelspec": {
   "display_name": "Python 3 (ipykernel)",
   "language": "python",
   "name": "python3"
  },
  "language_info": {
   "codemirror_mode": {
    "name": "ipython",
    "version": 3
   },
   "file_extension": ".py",
   "mimetype": "text/x-python",
   "name": "python",
   "nbconvert_exporter": "python",
   "pygments_lexer": "ipython3",
   "version": "3.13.2"
  }
 },
 "nbformat": 4,
 "nbformat_minor": 5
}

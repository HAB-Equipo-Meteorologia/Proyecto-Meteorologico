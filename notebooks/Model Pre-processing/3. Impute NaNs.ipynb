{
 "cells": [
  {
   "cell_type": "code",
   "execution_count": 1,
   "id": "3f837787-5420-4385-aad2-68f61eccbf2a",
   "metadata": {},
   "outputs": [],
   "source": [
    "import pandas as pd\n",
    "import numpy as np\n",
    "import time"
   ]
  },
  {
   "cell_type": "code",
   "execution_count": 2,
   "id": "fff83fc3-eb7a-43bc-b354-eb18cf5a8f82",
   "metadata": {},
   "outputs": [],
   "source": [
    "pd.set_option('display.max_columns', None)"
   ]
  },
  {
   "cell_type": "code",
   "execution_count": 178,
   "id": "9d06936d-549b-4883-8732-95b7579dc067",
   "metadata": {},
   "outputs": [],
   "source": [
    "df = pd.read_csv('../../data/ml/historical_clean_nan.csv')"
   ]
  },
  {
   "cell_type": "code",
   "execution_count": 4,
   "id": "857822c2-a52b-42ba-8d70-499ad6ac75ad",
   "metadata": {},
   "outputs": [],
   "source": [
    "lookup = pd.read_csv('../../data/ml/estacion_distance_lookup.csv')"
   ]
  },
  {
   "cell_type": "code",
   "execution_count": 5,
   "id": "ed658e31-e58c-465a-9a4b-a368f3915aa6",
   "metadata": {},
   "outputs": [],
   "source": [
    "df = df.round(4)"
   ]
  },
  {
   "cell_type": "code",
   "execution_count": 6,
   "id": "6c3192f2-0d5d-48d7-92de-11926119d354",
   "metadata": {},
   "outputs": [
    {
     "data": {
      "text/html": [
       "<div>\n",
       "<style scoped>\n",
       "    .dataframe tbody tr th:only-of-type {\n",
       "        vertical-align: middle;\n",
       "    }\n",
       "\n",
       "    .dataframe tbody tr th {\n",
       "        vertical-align: top;\n",
       "    }\n",
       "\n",
       "    .dataframe thead th {\n",
       "        text-align: right;\n",
       "    }\n",
       "</style>\n",
       "<table border=\"1\" class=\"dataframe\">\n",
       "  <thead>\n",
       "    <tr style=\"text-align: right;\">\n",
       "      <th></th>\n",
       "      <th>fecha</th>\n",
       "      <th>idema</th>\n",
       "      <th>tmed</th>\n",
       "      <th>prec</th>\n",
       "      <th>tmin</th>\n",
       "      <th>tmax</th>\n",
       "      <th>hr_max</th>\n",
       "      <th>hr_min</th>\n",
       "      <th>hr_media</th>\n",
       "      <th>velmedia</th>\n",
       "      <th>racha</th>\n",
       "      <th>pres_max</th>\n",
       "      <th>pres_min</th>\n",
       "      <th>sol</th>\n",
       "      <th>year</th>\n",
       "      <th>fecha_sin</th>\n",
       "      <th>fecha_cos</th>\n",
       "      <th>dir_sin</th>\n",
       "      <th>dir_cos</th>\n",
       "      <th>latitud</th>\n",
       "      <th>longitud</th>\n",
       "      <th>altitud</th>\n",
       "    </tr>\n",
       "  </thead>\n",
       "  <tbody>\n",
       "    <tr>\n",
       "      <th>0</th>\n",
       "      <td>1997-01-01</td>\n",
       "      <td>3110C</td>\n",
       "      <td>0.6</td>\n",
       "      <td>0.0</td>\n",
       "      <td>-0.5</td>\n",
       "      <td>1.7</td>\n",
       "      <td>99.0</td>\n",
       "      <td>84.0</td>\n",
       "      <td>93.0</td>\n",
       "      <td>0.3</td>\n",
       "      <td>3.9</td>\n",
       "      <td>891.3</td>\n",
       "      <td>885.6</td>\n",
       "      <td>NaN</td>\n",
       "      <td>0.47</td>\n",
       "      <td>0.0172</td>\n",
       "      <td>0.9999</td>\n",
       "      <td>0.7346</td>\n",
       "      <td>0.6785</td>\n",
       "      <td>41.0000</td>\n",
       "      <td>-3.6000</td>\n",
       "      <td>1030</td>\n",
       "    </tr>\n",
       "    <tr>\n",
       "      <th>1</th>\n",
       "      <td>1997-01-01</td>\n",
       "      <td>1495</td>\n",
       "      <td>1.8</td>\n",
       "      <td>4.1</td>\n",
       "      <td>0.4</td>\n",
       "      <td>3.2</td>\n",
       "      <td>NaN</td>\n",
       "      <td>NaN</td>\n",
       "      <td>100.0</td>\n",
       "      <td>1.9</td>\n",
       "      <td>6.1</td>\n",
       "      <td>977.4</td>\n",
       "      <td>975.2</td>\n",
       "      <td>0.5</td>\n",
       "      <td>0.47</td>\n",
       "      <td>0.0172</td>\n",
       "      <td>0.9999</td>\n",
       "      <td>0.9096</td>\n",
       "      <td>0.4154</td>\n",
       "      <td>42.2333</td>\n",
       "      <td>-8.6167</td>\n",
       "      <td>255</td>\n",
       "    </tr>\n",
       "    <tr>\n",
       "      <th>2</th>\n",
       "      <td>1997-01-01</td>\n",
       "      <td>B691</td>\n",
       "      <td>10.0</td>\n",
       "      <td>6.0</td>\n",
       "      <td>4.0</td>\n",
       "      <td>16.0</td>\n",
       "      <td>NaN</td>\n",
       "      <td>NaN</td>\n",
       "      <td>84.0</td>\n",
       "      <td>0.8</td>\n",
       "      <td>6.1</td>\n",
       "      <td>NaN</td>\n",
       "      <td>NaN</td>\n",
       "      <td>2.3</td>\n",
       "      <td>0.47</td>\n",
       "      <td>0.0172</td>\n",
       "      <td>0.9999</td>\n",
       "      <td>0.2511</td>\n",
       "      <td>0.9679</td>\n",
       "      <td>39.7333</td>\n",
       "      <td>3.0000</td>\n",
       "      <td>40</td>\n",
       "    </tr>\n",
       "    <tr>\n",
       "      <th>3</th>\n",
       "      <td>1997-01-01</td>\n",
       "      <td>0076</td>\n",
       "      <td>7.8</td>\n",
       "      <td>6.2</td>\n",
       "      <td>4.0</td>\n",
       "      <td>11.6</td>\n",
       "      <td>NaN</td>\n",
       "      <td>NaN</td>\n",
       "      <td>81.0</td>\n",
       "      <td>4.4</td>\n",
       "      <td>11.1</td>\n",
       "      <td>1012.0</td>\n",
       "      <td>1005.8</td>\n",
       "      <td>6.7</td>\n",
       "      <td>0.47</td>\n",
       "      <td>0.0172</td>\n",
       "      <td>0.9999</td>\n",
       "      <td>0.4862</td>\n",
       "      <td>0.8738</td>\n",
       "      <td>41.2833</td>\n",
       "      <td>2.0667</td>\n",
       "      <td>4</td>\n",
       "    </tr>\n",
       "    <tr>\n",
       "      <th>4</th>\n",
       "      <td>1997-01-01</td>\n",
       "      <td>1024E</td>\n",
       "      <td>2.7</td>\n",
       "      <td>0.0</td>\n",
       "      <td>0.4</td>\n",
       "      <td>5.0</td>\n",
       "      <td>NaN</td>\n",
       "      <td>NaN</td>\n",
       "      <td>85.0</td>\n",
       "      <td>1.9</td>\n",
       "      <td>5.8</td>\n",
       "      <td>981.6</td>\n",
       "      <td>975.0</td>\n",
       "      <td>6.5</td>\n",
       "      <td>0.47</td>\n",
       "      <td>0.0172</td>\n",
       "      <td>0.9999</td>\n",
       "      <td>0.3717</td>\n",
       "      <td>0.9284</td>\n",
       "      <td>43.3000</td>\n",
       "      <td>-2.0333</td>\n",
       "      <td>250</td>\n",
       "    </tr>\n",
       "  </tbody>\n",
       "</table>\n",
       "</div>"
      ],
      "text/plain": [
       "        fecha  idema  tmed  prec  tmin  tmax  hr_max  hr_min  hr_media  \\\n",
       "0  1997-01-01  3110C   0.6   0.0  -0.5   1.7    99.0    84.0      93.0   \n",
       "1  1997-01-01   1495   1.8   4.1   0.4   3.2     NaN     NaN     100.0   \n",
       "2  1997-01-01   B691  10.0   6.0   4.0  16.0     NaN     NaN      84.0   \n",
       "3  1997-01-01   0076   7.8   6.2   4.0  11.6     NaN     NaN      81.0   \n",
       "4  1997-01-01  1024E   2.7   0.0   0.4   5.0     NaN     NaN      85.0   \n",
       "\n",
       "   velmedia  racha  pres_max  pres_min  sol  year  fecha_sin  fecha_cos  \\\n",
       "0       0.3    3.9     891.3     885.6  NaN  0.47     0.0172     0.9999   \n",
       "1       1.9    6.1     977.4     975.2  0.5  0.47     0.0172     0.9999   \n",
       "2       0.8    6.1       NaN       NaN  2.3  0.47     0.0172     0.9999   \n",
       "3       4.4   11.1    1012.0    1005.8  6.7  0.47     0.0172     0.9999   \n",
       "4       1.9    5.8     981.6     975.0  6.5  0.47     0.0172     0.9999   \n",
       "\n",
       "   dir_sin  dir_cos  latitud  longitud  altitud  \n",
       "0   0.7346   0.6785  41.0000   -3.6000     1030  \n",
       "1   0.9096   0.4154  42.2333   -8.6167      255  \n",
       "2   0.2511   0.9679  39.7333    3.0000       40  \n",
       "3   0.4862   0.8738  41.2833    2.0667        4  \n",
       "4   0.3717   0.9284  43.3000   -2.0333      250  "
      ]
     },
     "execution_count": 6,
     "metadata": {},
     "output_type": "execute_result"
    }
   ],
   "source": [
    "df.head()"
   ]
  },
  {
   "cell_type": "code",
   "execution_count": 7,
   "id": "a849f7a1-fba2-4bf6-acb8-5e00b4a3173b",
   "metadata": {},
   "outputs": [
    {
     "data": {
      "text/plain": [
       "fecha         0.000000\n",
       "idema         0.000000\n",
       "tmed          3.833099\n",
       "prec          4.363937\n",
       "tmin          5.803471\n",
       "tmax          5.783674\n",
       "hr_max       23.126798\n",
       "hr_min       29.459082\n",
       "hr_media     20.078273\n",
       "velmedia     22.110905\n",
       "racha        23.642751\n",
       "pres_max     71.024546\n",
       "pres_min     70.925431\n",
       "sol          79.804806\n",
       "year          0.000000\n",
       "fecha_sin     0.000000\n",
       "fecha_cos     0.000000\n",
       "dir_sin      23.009064\n",
       "dir_cos      23.009064\n",
       "latitud       0.000000\n",
       "longitud      0.000000\n",
       "altitud       0.000000\n",
       "dtype: float64"
      ]
     },
     "execution_count": 7,
     "metadata": {},
     "output_type": "execute_result"
    }
   ],
   "source": [
    "df.isna().mean() * 100"
   ]
  },
  {
   "cell_type": "code",
   "execution_count": 179,
   "id": "b88fe8ea-0fcd-40df-ae90-2be73284d1cb",
   "metadata": {},
   "outputs": [],
   "source": [
    "df = df.drop(columns=['sol'])"
   ]
  },
  {
   "cell_type": "code",
   "execution_count": 187,
   "id": "f8ddad92-342c-4ecc-a9fb-ef1a4f678309",
   "metadata": {},
   "outputs": [],
   "source": [
    "linear_impute_cols = ['tmed', 'tmin', 'tmax', 'prec', 'pres_min', 'pres_max', 'hr_media', 'hr_min', 'hr_max']\n",
    "knn_impute_cols = ['velmedia', 'racha', 'dir_sin', 'dir_cos']"
   ]
  },
  {
   "cell_type": "code",
   "execution_count": 188,
   "id": "3e9b5913-7789-4a1e-a21b-ee3f05b85ae7",
   "metadata": {},
   "outputs": [],
   "source": [
    "df[linear_impute_cols] = df[linear_impute_cols].interpolate(method='linear', axis=0)"
   ]
  },
  {
   "cell_type": "code",
   "execution_count": 189,
   "id": "32ce5b38-5c8f-428b-8231-95527d465fde",
   "metadata": {},
   "outputs": [],
   "source": [
    "k_neighbors=5"
   ]
  },
  {
   "cell_type": "code",
   "execution_count": 235,
   "id": "1d51f578-d23a-4992-8f63-78ae4e27fe9e",
   "metadata": {},
   "outputs": [],
   "source": [
    "imputed_df = df.copy()[:10000]"
   ]
  },
  {
   "cell_type": "code",
   "execution_count": 239,
   "id": "460bbad5-c017-40f3-8dac-85c5ea010d0e",
   "metadata": {},
   "outputs": [
    {
     "name": "stdout",
     "output_type": "stream",
     "text": [
      "<class 'pandas.core.frame.DataFrame'>\n",
      "RangeIndex: 10000 entries, 0 to 9999\n",
      "Data columns (total 21 columns):\n",
      " #   Column     Non-Null Count  Dtype  \n",
      "---  ------     --------------  -----  \n",
      " 0   fecha      10000 non-null  object \n",
      " 1   idema      10000 non-null  object \n",
      " 2   tmed       10000 non-null  float64\n",
      " 3   prec       10000 non-null  float64\n",
      " 4   tmin       10000 non-null  float64\n",
      " 5   tmax       10000 non-null  float64\n",
      " 6   hr_max     10000 non-null  float64\n",
      " 7   hr_min     10000 non-null  float64\n",
      " 8   hr_media   10000 non-null  float64\n",
      " 9   velmedia   7765 non-null   float64\n",
      " 10  racha      7511 non-null   float64\n",
      " 11  pres_max   10000 non-null  float64\n",
      " 12  pres_min   10000 non-null  float64\n",
      " 13  year       10000 non-null  float64\n",
      " 14  fecha_sin  10000 non-null  float64\n",
      " 15  fecha_cos  10000 non-null  float64\n",
      " 16  dir_sin    7511 non-null   float64\n",
      " 17  dir_cos    7511 non-null   float64\n",
      " 18  latitud    10000 non-null  float64\n",
      " 19  longitud   10000 non-null  float64\n",
      " 20  altitud    10000 non-null  int64  \n",
      "dtypes: float64(18), int64(1), object(2)\n",
      "memory usage: 1.6+ MB\n"
     ]
    }
   ],
   "source": [
    "imputed_df.info()"
   ]
  },
  {
   "cell_type": "code",
   "execution_count": 245,
   "id": "133d3037-b025-4c4b-abbb-4a953a1251a2",
   "metadata": {},
   "outputs": [],
   "source": [
    "nan_idemas = imputed_df[imputed_df[knn_impute_cols].isna().any(axis=1)]"
   ]
  },
  {
   "cell_type": "code",
   "execution_count": 247,
   "id": "a0b4d347-8dee-424c-8c5d-0deaae24e524",
   "metadata": {},
   "outputs": [],
   "source": [
    "nan_idema_neighbors = [lookup[idema] for idema in nan_idemas['idema']]"
   ]
  },
  {
   "cell_type": "code",
   "execution_count": 250,
   "id": "3e4e8640-472e-4fa2-baa8-7486bdb0f506",
   "metadata": {},
   "outputs": [
    {
     "data": {
      "text/plain": [
       "0    C426E\n",
       "1    C614H\n",
       "2    C455M\n",
       "3    C415A\n",
       "4    C635B\n",
       "Name: C623I, dtype: object"
      ]
     },
     "execution_count": 250,
     "metadata": {},
     "output_type": "execute_result"
    }
   ],
   "source": [
    "nan_idema_neighbors[0][:5]"
   ]
  },
  {
   "cell_type": "code",
   "execution_count": 252,
   "id": "27d60da4-979d-425f-a907-39708c47da3a",
   "metadata": {},
   "outputs": [],
   "source": [
    "non_nan_idemas = {}\n",
    "for col in knn_impute_cols:\n",
    "    non_nan_idemas[col] = imputed_df[imputed_df[col].notna()]"
   ]
  },
  {
   "cell_type": "code",
   "execution_count": 270,
   "id": "a66226dc-475e-4405-8c21-d1db70fd6f69",
   "metadata": {},
   "outputs": [
    {
     "name": "stdout",
     "output_type": "stream",
     "text": [
      "Nº stations that have no NaNs in velmedia: 7765\n",
      "Nº stations that have no NaNs in racha: 7511\n",
      "Nº stations that have no NaNs in dir_sin: 7511\n",
      "Nº stations that have no NaNs in dir_cos: 7511\n"
     ]
    }
   ],
   "source": [
    "for k, v in non_nan_idemas.items():\n",
    "    print(f\"Nº stations that have no NaNs in {k}: {len(v)}\")"
   ]
  },
  {
   "cell_type": "markdown",
   "id": "a1ad7dab-00a5-4a2d-a4ad-844afea3cacc",
   "metadata": {},
   "source": [
    "As they are almost the same, except velmedia which has less NaNs, we can use any one of racha or dir to impute"
   ]
  },
  {
   "cell_type": "code",
   "execution_count": 260,
   "id": "854e9db2-2c2a-42ec-8bc5-81cf4e06acf9",
   "metadata": {},
   "outputs": [],
   "source": [
    "impute_idemas = non_nan_idemas['racha']  # The rows to use for imputation"
   ]
  },
  {
   "cell_type": "code",
   "execution_count": 268,
   "id": "c82af181-6d94-4c43-ad81-a97f3441fdfb",
   "metadata": {},
   "outputs": [
    {
     "data": {
      "text/html": [
       "<div>\n",
       "<style scoped>\n",
       "    .dataframe tbody tr th:only-of-type {\n",
       "        vertical-align: middle;\n",
       "    }\n",
       "\n",
       "    .dataframe tbody tr th {\n",
       "        vertical-align: top;\n",
       "    }\n",
       "\n",
       "    .dataframe thead th {\n",
       "        text-align: right;\n",
       "    }\n",
       "</style>\n",
       "<table border=\"1\" class=\"dataframe\">\n",
       "  <thead>\n",
       "    <tr style=\"text-align: right;\">\n",
       "      <th></th>\n",
       "      <th>velmedia</th>\n",
       "      <th>racha</th>\n",
       "      <th>dir_sin</th>\n",
       "      <th>dir_cos</th>\n",
       "      <th>fecha</th>\n",
       "      <th>idema</th>\n",
       "    </tr>\n",
       "  </thead>\n",
       "  <tbody>\n",
       "    <tr>\n",
       "      <th>12</th>\n",
       "      <td>NaN</td>\n",
       "      <td>NaN</td>\n",
       "      <td>NaN</td>\n",
       "      <td>NaN</td>\n",
       "      <td>1997-01-01</td>\n",
       "      <td>C623I</td>\n",
       "    </tr>\n",
       "    <tr>\n",
       "      <th>16</th>\n",
       "      <td>NaN</td>\n",
       "      <td>NaN</td>\n",
       "      <td>NaN</td>\n",
       "      <td>NaN</td>\n",
       "      <td>1997-01-01</td>\n",
       "      <td>C406G</td>\n",
       "    </tr>\n",
       "    <tr>\n",
       "      <th>19</th>\n",
       "      <td>NaN</td>\n",
       "      <td>NaN</td>\n",
       "      <td>NaN</td>\n",
       "      <td>NaN</td>\n",
       "      <td>1997-01-01</td>\n",
       "      <td>3266A</td>\n",
       "    </tr>\n",
       "    <tr>\n",
       "      <th>21</th>\n",
       "      <td>NaN</td>\n",
       "      <td>NaN</td>\n",
       "      <td>NaN</td>\n",
       "      <td>NaN</td>\n",
       "      <td>1997-01-01</td>\n",
       "      <td>1658</td>\n",
       "    </tr>\n",
       "    <tr>\n",
       "      <th>22</th>\n",
       "      <td>NaN</td>\n",
       "      <td>NaN</td>\n",
       "      <td>NaN</td>\n",
       "      <td>NaN</td>\n",
       "      <td>1997-01-01</td>\n",
       "      <td>8178D</td>\n",
       "    </tr>\n",
       "  </tbody>\n",
       "</table>\n",
       "</div>"
      ],
      "text/plain": [
       "    velmedia  racha  dir_sin  dir_cos       fecha  idema\n",
       "12       NaN    NaN      NaN      NaN  1997-01-01  C623I\n",
       "16       NaN    NaN      NaN      NaN  1997-01-01  C406G\n",
       "19       NaN    NaN      NaN      NaN  1997-01-01  3266A\n",
       "21       NaN    NaN      NaN      NaN  1997-01-01   1658\n",
       "22       NaN    NaN      NaN      NaN  1997-01-01  8178D"
      ]
     },
     "execution_count": 268,
     "metadata": {},
     "output_type": "execute_result"
    }
   ],
   "source": [
    "nan_idemas[knn_impute_cols + ['fecha', 'idema']].head()"
   ]
  },
  {
   "cell_type": "markdown",
   "id": "238f5a84-2db3-4ff9-8543-e65652ad43ba",
   "metadata": {},
   "source": [
    "The rows we'll be imputing"
   ]
  },
  {
   "cell_type": "code",
   "execution_count": 269,
   "id": "e7c00622-a74e-4e8d-92d9-21f9a2ff2c8d",
   "metadata": {},
   "outputs": [
    {
     "data": {
      "text/html": [
       "<div>\n",
       "<style scoped>\n",
       "    .dataframe tbody tr th:only-of-type {\n",
       "        vertical-align: middle;\n",
       "    }\n",
       "\n",
       "    .dataframe tbody tr th {\n",
       "        vertical-align: top;\n",
       "    }\n",
       "\n",
       "    .dataframe thead th {\n",
       "        text-align: right;\n",
       "    }\n",
       "</style>\n",
       "<table border=\"1\" class=\"dataframe\">\n",
       "  <thead>\n",
       "    <tr style=\"text-align: right;\">\n",
       "      <th></th>\n",
       "      <th>velmedia</th>\n",
       "      <th>racha</th>\n",
       "      <th>dir_sin</th>\n",
       "      <th>dir_cos</th>\n",
       "      <th>fecha</th>\n",
       "      <th>idema</th>\n",
       "    </tr>\n",
       "  </thead>\n",
       "  <tbody>\n",
       "    <tr>\n",
       "      <th>0</th>\n",
       "      <td>0.3</td>\n",
       "      <td>3.9</td>\n",
       "      <td>0.7346</td>\n",
       "      <td>0.6785</td>\n",
       "      <td>1997-01-01</td>\n",
       "      <td>3110C</td>\n",
       "    </tr>\n",
       "    <tr>\n",
       "      <th>1</th>\n",
       "      <td>1.9</td>\n",
       "      <td>6.1</td>\n",
       "      <td>0.9096</td>\n",
       "      <td>0.4154</td>\n",
       "      <td>1997-01-01</td>\n",
       "      <td>1495</td>\n",
       "    </tr>\n",
       "    <tr>\n",
       "      <th>2</th>\n",
       "      <td>0.8</td>\n",
       "      <td>6.1</td>\n",
       "      <td>0.2511</td>\n",
       "      <td>0.9679</td>\n",
       "      <td>1997-01-01</td>\n",
       "      <td>B691</td>\n",
       "    </tr>\n",
       "    <tr>\n",
       "      <th>3</th>\n",
       "      <td>4.4</td>\n",
       "      <td>11.1</td>\n",
       "      <td>0.4862</td>\n",
       "      <td>0.8738</td>\n",
       "      <td>1997-01-01</td>\n",
       "      <td>0076</td>\n",
       "    </tr>\n",
       "    <tr>\n",
       "      <th>4</th>\n",
       "      <td>1.9</td>\n",
       "      <td>5.8</td>\n",
       "      <td>0.3717</td>\n",
       "      <td>0.9284</td>\n",
       "      <td>1997-01-01</td>\n",
       "      <td>1024E</td>\n",
       "    </tr>\n",
       "  </tbody>\n",
       "</table>\n",
       "</div>"
      ],
      "text/plain": [
       "   velmedia  racha  dir_sin  dir_cos       fecha  idema\n",
       "0       0.3    3.9   0.7346   0.6785  1997-01-01  3110C\n",
       "1       1.9    6.1   0.9096   0.4154  1997-01-01   1495\n",
       "2       0.8    6.1   0.2511   0.9679  1997-01-01   B691\n",
       "3       4.4   11.1   0.4862   0.8738  1997-01-01   0076\n",
       "4       1.9    5.8   0.3717   0.9284  1997-01-01  1024E"
      ]
     },
     "execution_count": 269,
     "metadata": {},
     "output_type": "execute_result"
    }
   ],
   "source": [
    "impute_idemas[knn_impute_cols + ['fecha', 'idema']].head()"
   ]
  },
  {
   "cell_type": "markdown",
   "id": "4ac3cbc6-7cbb-486e-b32e-e854cd859b22",
   "metadata": {},
   "source": [
    "The rows we'll be using to impute"
   ]
  },
  {
   "cell_type": "markdown",
   "id": "6e395dc7-73c7-4383-adf9-decc9e6c4e70",
   "metadata": {},
   "source": [
    "Now we need to attach the nearest neighbor on each idema in nan_idemas"
   ]
  }
 ],
 "metadata": {
  "kernelspec": {
   "display_name": "Python 3 (ipykernel)",
   "language": "python",
   "name": "python3"
  },
  "language_info": {
   "codemirror_mode": {
    "name": "ipython",
    "version": 3
   },
   "file_extension": ".py",
   "mimetype": "text/x-python",
   "name": "python",
   "nbconvert_exporter": "python",
   "pygments_lexer": "ipython3",
   "version": "3.13.2"
  }
 },
 "nbformat": 4,
 "nbformat_minor": 5
}

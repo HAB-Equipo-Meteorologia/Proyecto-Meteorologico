{
 "cells": [
  {
   "cell_type": "code",
   "execution_count": 1,
   "id": "b15116ca-1e5e-4483-b8e3-899f4229b36b",
   "metadata": {},
   "outputs": [],
   "source": [
    "import pandas as pd\n",
    "import numpy as np\n",
    "import glob\n",
    "import sys\n",
    "sys.path.append('../..')\n",
    "from helpers import lookups"
   ]
  },
  {
   "cell_type": "code",
   "execution_count": 3,
   "id": "36a2d4b5-7dd6-4704-83cb-06a2f5a8f984",
   "metadata": {},
   "outputs": [],
   "source": [
    "pd.set_option('display.max_columns', None)"
   ]
  },
  {
   "cell_type": "code",
   "execution_count": 4,
   "id": "a4af6b81-467d-46e2-9947-e87ab059d237",
   "metadata": {},
   "outputs": [],
   "source": [
    "dfs = [pd.read_csv(file, parse_dates=['fecha']) for file in glob.glob('../../data/historical/historico/*.csv')]"
   ]
  },
  {
   "cell_type": "code",
   "execution_count": 5,
   "id": "a3bc86ce-3a06-4029-8f6f-12e99c5f919b",
   "metadata": {},
   "outputs": [],
   "source": [
    "df = pd.concat(dfs, ignore_index=True)\n",
    "df = df.sort_values(by='fecha').reset_index(drop=True)"
   ]
  },
  {
   "cell_type": "code",
   "execution_count": 6,
   "id": "d3de31a0-b4b9-420f-b90f-80cee4110f14",
   "metadata": {},
   "outputs": [
    {
     "data": {
      "text/plain": [
       "sol            82.91%\n",
       "pres_max       75.85%\n",
       "pres_min       75.61%\n",
       "hora_hr_max    39.38%\n",
       "hora_racha     25.58%\n",
       "dir            20.79%\n",
       "racha          20.79%\n",
       "velmedia       20.14%\n",
       "hora_hr_min    16.05%\n",
       "hora_tmin      10.38%\n",
       "hr_max          5.90%\n",
       "hr_min          5.90%\n",
       "hora_tmax       5.82%\n",
       "hr_media        5.60%\n",
       "prec            3.64%\n",
       "tmed            2.27%\n",
       "tmin            2.24%\n",
       "tmax            2.23%\n",
       "dtype: object"
      ]
     },
     "execution_count": 6,
     "metadata": {},
     "output_type": "execute_result"
    }
   ],
   "source": [
    "nan_percentage = df.isna().mean() * 100\n",
    "nan_percentage = nan_percentage[nan_percentage > 0].sort_values(ascending=False)\n",
    "nan_percentage.apply(lambda x: f\"{x:.2f}%\")"
   ]
  },
  {
   "cell_type": "code",
   "execution_count": null,
   "id": "e22f19af-2110-4f92-b3a6-874daa3b6287",
   "metadata": {},
   "outputs": [],
   "source": [
    "import sys\n",
    "sys.path.append('..')\n",
    "from helpers import lookups\n",
    "\n",
    "\n",
    "def clean_df(df: pd.DataFrame) -> pd.DataFrame:\n",
    "    df_clean = df.copy()\n",
    "    \n",
    "    df_clean = df_clean.drop(columns=lookups.time_cols)\n",
    "    \n",
    "    df_clean = df_clean.merge(lookups.locations_df[['idema', 'latitud', 'longitud', 'altitud']], on='idema', how='left')\n",
    "    df_clean['fecha_day'] = df_clean['fecha'].dt.dayofyear\n",
    "    \n",
    "    df_clean['fecha_sin'] = df_clean.apply(\n",
    "        lambda row: (np.sin(2 * np.pi * row['fecha_day'] / 366) + 1) / 2 if row['year'] % 4 == 0 \n",
    "        else (np.sin(2 * np.pi * row['fecha_day'] / 365) + 1) / 2, axis=1)\n",
    "    \n",
    "    df_clean['fecha_cos'] = df_clean.apply(\n",
    "        lambda row: (np.cos(2 * np.pi * row['fecha_day'] / 366) + 1) / 2 if row['year'] % 4 == 0 \n",
    "        else (np.cos(2 * np.pi * row['fecha_day'] / 365) + 1) / 2, axis=1)\n",
    "\n",
    "    numeric_cols = df_clean.drop(columns=['fecha', 'idema']).columns\n",
    "    df_clean[numeric_cols] = df_clean[numeric_cols].apply(pd.to_numeric, errors='coerce')\n",
    "\n",
    "    "
   ]
  },
  {
   "cell_type": "code",
   "execution_count": 7,
   "id": "7335164c-0ad2-4d76-ae7f-2b451b7972f3",
   "metadata": {},
   "outputs": [],
   "source": [
    "df_clean = df.copy()"
   ]
  },
  {
   "cell_type": "code",
   "execution_count": 8,
   "id": "9fc3cbb8-a112-43dc-89db-e3f81d6cd2e5",
   "metadata": {},
   "outputs": [],
   "source": [
    "df_clean = df_clean.drop(columns=lookups.time_cols)"
   ]
  },
  {
   "cell_type": "code",
   "execution_count": 9,
   "id": "0abff325-22a0-491c-b5d9-1669ce623bc3",
   "metadata": {},
   "outputs": [],
   "source": [
    "df_clean = df_clean.merge(lookups.locations_df[['idema', 'latitud', 'longitud', 'altitud']], on='idema', how='left')"
   ]
  },
  {
   "cell_type": "code",
   "execution_count": 10,
   "id": "c8d1e8cc-5812-4b4d-9ec3-dd0d6099f7ac",
   "metadata": {},
   "outputs": [],
   "source": [
    "df_clean['year'] = df_clean['fecha'].dt.year\n",
    "df_clean['year'] = (df_clean['year'] - 1950) / 100"
   ]
  },
  {
   "cell_type": "code",
   "execution_count": 11,
   "id": "96b93055-0b72-444d-b2a4-201dd07c9195",
   "metadata": {},
   "outputs": [],
   "source": [
    "df_clean['fecha_day'] = df_clean['fecha'].dt.dayofyear"
   ]
  },
  {
   "cell_type": "code",
   "execution_count": 12,
   "id": "06663981-3467-49a6-b7b1-b75624ef8558",
   "metadata": {},
   "outputs": [],
   "source": [
    "df_clean['fecha_sin'] = df_clean.apply(\n",
    "    lambda row: (np.sin(2 * np.pi * row['fecha_day'] / 366) + 1) / 2 if row['year'] % 4 == 0 \n",
    "    else (np.sin(2 * np.pi * row['fecha_day'] / 365) + 1) / 2, axis=1)"
   ]
  },
  {
   "cell_type": "code",
   "execution_count": 13,
   "id": "1bf43c28-ccb7-471d-a5f9-545c2c75b68c",
   "metadata": {},
   "outputs": [],
   "source": [
    "df_clean['fecha_cos'] = df_clean.apply(\n",
    "    lambda row: (np.cos(2 * np.pi * row['fecha_day'] / 366) + 1) / 2 if row['year'] % 4 == 0 \n",
    "    else (np.cos(2 * np.pi * row['fecha_day'] / 365) + 1) / 2, axis=1)"
   ]
  },
  {
   "cell_type": "code",
   "execution_count": 14,
   "id": "338bb750-2e25-4c76-ad53-67c72f89d3bf",
   "metadata": {},
   "outputs": [],
   "source": [
    "numeric_cols = df_clean.drop(columns=['fecha', 'idema']).columns\n",
    "df_clean[numeric_cols] = df_clean[numeric_cols].apply(pd.to_numeric, errors='coerce')"
   ]
  },
  {
   "cell_type": "code",
   "execution_count": 15,
   "id": "fe86a89b-7343-46cd-b6ca-91807b23029d",
   "metadata": {},
   "outputs": [],
   "source": [
    "df_clean['dir_sin'] = df_clean.apply(lambda row: np.sin(2 * np.pi * row['dir'] / 99), axis=1)\n",
    "df_clean['dir_cos'] = df_clean.apply(lambda row: np.cos(2 * np.pi * row['dir'] / 99), axis=1)"
   ]
  },
  {
   "cell_type": "code",
   "execution_count": 16,
   "id": "3dc837d4-e4c6-47a3-8cd9-458229624404",
   "metadata": {},
   "outputs": [],
   "source": [
    "df_clean = df_clean.drop(columns=['dir', 'fecha_day'])"
   ]
  },
  {
   "cell_type": "code",
   "execution_count": 17,
   "id": "d32c628f-5ecf-4ffa-b596-a0421a52f12a",
   "metadata": {},
   "outputs": [],
   "source": [
    "df_clean = df_clean.round(4)"
   ]
  },
  {
   "cell_type": "code",
   "execution_count": 18,
   "id": "6a56eadb-02e7-469c-a346-ab14314156a0",
   "metadata": {},
   "outputs": [
    {
     "data": {
      "text/html": [
       "<div>\n",
       "<style scoped>\n",
       "    .dataframe tbody tr th:only-of-type {\n",
       "        vertical-align: middle;\n",
       "    }\n",
       "\n",
       "    .dataframe tbody tr th {\n",
       "        vertical-align: top;\n",
       "    }\n",
       "\n",
       "    .dataframe thead th {\n",
       "        text-align: right;\n",
       "    }\n",
       "</style>\n",
       "<table border=\"1\" class=\"dataframe\">\n",
       "  <thead>\n",
       "    <tr style=\"text-align: right;\">\n",
       "      <th></th>\n",
       "      <th>fecha</th>\n",
       "      <th>idema</th>\n",
       "      <th>tmed</th>\n",
       "      <th>prec</th>\n",
       "      <th>tmin</th>\n",
       "      <th>tmax</th>\n",
       "      <th>hr_max</th>\n",
       "      <th>hr_min</th>\n",
       "      <th>hr_media</th>\n",
       "      <th>velmedia</th>\n",
       "      <th>racha</th>\n",
       "      <th>pres_max</th>\n",
       "      <th>pres_min</th>\n",
       "      <th>sol</th>\n",
       "      <th>latitud</th>\n",
       "      <th>longitud</th>\n",
       "      <th>altitud</th>\n",
       "      <th>year</th>\n",
       "      <th>fecha_sin</th>\n",
       "      <th>fecha_cos</th>\n",
       "      <th>dir_sin</th>\n",
       "      <th>dir_cos</th>\n",
       "    </tr>\n",
       "  </thead>\n",
       "  <tbody>\n",
       "    <tr>\n",
       "      <th>0</th>\n",
       "      <td>2010-01-01</td>\n",
       "      <td>2331</td>\n",
       "      <td>2.7</td>\n",
       "      <td>3.5</td>\n",
       "      <td>0.8</td>\n",
       "      <td>4.6</td>\n",
       "      <td>97.0</td>\n",
       "      <td>80.0</td>\n",
       "      <td>94.0</td>\n",
       "      <td>3.1</td>\n",
       "      <td>15.0</td>\n",
       "      <td>911.6</td>\n",
       "      <td>899.4</td>\n",
       "      <td>0.3</td>\n",
       "      <td>42.3500</td>\n",
       "      <td>-3.6167</td>\n",
       "      <td>891</td>\n",
       "      <td>0.6</td>\n",
       "      <td>0.5086</td>\n",
       "      <td>0.9999</td>\n",
       "      <td>0.9938</td>\n",
       "      <td>0.1108</td>\n",
       "    </tr>\n",
       "    <tr>\n",
       "      <th>1</th>\n",
       "      <td>2010-01-01</td>\n",
       "      <td>0320I</td>\n",
       "      <td>3.4</td>\n",
       "      <td>0.0</td>\n",
       "      <td>0.5</td>\n",
       "      <td>6.4</td>\n",
       "      <td>95.0</td>\n",
       "      <td>41.0</td>\n",
       "      <td>57.0</td>\n",
       "      <td>6.1</td>\n",
       "      <td>18.1</td>\n",
       "      <td>NaN</td>\n",
       "      <td>NaN</td>\n",
       "      <td>NaN</td>\n",
       "      <td>42.3167</td>\n",
       "      <td>2.1000</td>\n",
       "      <td>1151</td>\n",
       "      <td>0.6</td>\n",
       "      <td>0.5086</td>\n",
       "      <td>0.9999</td>\n",
       "      <td>0.9938</td>\n",
       "      <td>0.1108</td>\n",
       "    </tr>\n",
       "    <tr>\n",
       "      <th>2</th>\n",
       "      <td>2010-01-01</td>\n",
       "      <td>C428T</td>\n",
       "      <td>16.2</td>\n",
       "      <td>0.0</td>\n",
       "      <td>13.7</td>\n",
       "      <td>18.8</td>\n",
       "      <td>77.0</td>\n",
       "      <td>58.0</td>\n",
       "      <td>69.0</td>\n",
       "      <td>2.5</td>\n",
       "      <td>6.7</td>\n",
       "      <td>NaN</td>\n",
       "      <td>NaN</td>\n",
       "      <td>NaN</td>\n",
       "      <td>28.1667</td>\n",
       "      <td>-16.4667</td>\n",
       "      <td>418</td>\n",
       "      <td>0.6</td>\n",
       "      <td>0.5086</td>\n",
       "      <td>0.9999</td>\n",
       "      <td>0.4298</td>\n",
       "      <td>0.9029</td>\n",
       "    </tr>\n",
       "    <tr>\n",
       "      <th>3</th>\n",
       "      <td>2010-01-01</td>\n",
       "      <td>C239N</td>\n",
       "      <td>17.1</td>\n",
       "      <td>0.0</td>\n",
       "      <td>12.0</td>\n",
       "      <td>22.2</td>\n",
       "      <td>86.0</td>\n",
       "      <td>58.0</td>\n",
       "      <td>69.0</td>\n",
       "      <td>4.4</td>\n",
       "      <td>10.0</td>\n",
       "      <td>NaN</td>\n",
       "      <td>NaN</td>\n",
       "      <td>NaN</td>\n",
       "      <td>28.2000</td>\n",
       "      <td>-14.0167</td>\n",
       "      <td>1</td>\n",
       "      <td>0.6</td>\n",
       "      <td>0.5086</td>\n",
       "      <td>0.9999</td>\n",
       "      <td>0.6428</td>\n",
       "      <td>0.7660</td>\n",
       "    </tr>\n",
       "    <tr>\n",
       "      <th>4</th>\n",
       "      <td>2010-01-01</td>\n",
       "      <td>B158X</td>\n",
       "      <td>13.0</td>\n",
       "      <td>0.0</td>\n",
       "      <td>11.2</td>\n",
       "      <td>14.8</td>\n",
       "      <td>70.0</td>\n",
       "      <td>53.0</td>\n",
       "      <td>59.0</td>\n",
       "      <td>7.2</td>\n",
       "      <td>23.9</td>\n",
       "      <td>NaN</td>\n",
       "      <td>NaN</td>\n",
       "      <td>NaN</td>\n",
       "      <td>39.5500</td>\n",
       "      <td>2.4500</td>\n",
       "      <td>50</td>\n",
       "      <td>0.6</td>\n",
       "      <td>0.5086</td>\n",
       "      <td>0.9999</td>\n",
       "      <td>0.9999</td>\n",
       "      <td>-0.0159</td>\n",
       "    </tr>\n",
       "  </tbody>\n",
       "</table>\n",
       "</div>"
      ],
      "text/plain": [
       "       fecha  idema  tmed  prec  tmin  tmax  hr_max  hr_min  hr_media  \\\n",
       "0 2010-01-01   2331   2.7   3.5   0.8   4.6    97.0    80.0      94.0   \n",
       "1 2010-01-01  0320I   3.4   0.0   0.5   6.4    95.0    41.0      57.0   \n",
       "2 2010-01-01  C428T  16.2   0.0  13.7  18.8    77.0    58.0      69.0   \n",
       "3 2010-01-01  C239N  17.1   0.0  12.0  22.2    86.0    58.0      69.0   \n",
       "4 2010-01-01  B158X  13.0   0.0  11.2  14.8    70.0    53.0      59.0   \n",
       "\n",
       "   velmedia  racha  pres_max  pres_min  sol  latitud  longitud  altitud  year  \\\n",
       "0       3.1   15.0     911.6     899.4  0.3  42.3500   -3.6167      891   0.6   \n",
       "1       6.1   18.1       NaN       NaN  NaN  42.3167    2.1000     1151   0.6   \n",
       "2       2.5    6.7       NaN       NaN  NaN  28.1667  -16.4667      418   0.6   \n",
       "3       4.4   10.0       NaN       NaN  NaN  28.2000  -14.0167        1   0.6   \n",
       "4       7.2   23.9       NaN       NaN  NaN  39.5500    2.4500       50   0.6   \n",
       "\n",
       "   fecha_sin  fecha_cos  dir_sin  dir_cos  \n",
       "0     0.5086     0.9999   0.9938   0.1108  \n",
       "1     0.5086     0.9999   0.9938   0.1108  \n",
       "2     0.5086     0.9999   0.4298   0.9029  \n",
       "3     0.5086     0.9999   0.6428   0.7660  \n",
       "4     0.5086     0.9999   0.9999  -0.0159  "
      ]
     },
     "execution_count": 18,
     "metadata": {},
     "output_type": "execute_result"
    }
   ],
   "source": [
    "df_clean.head()"
   ]
  },
  {
   "cell_type": "code",
   "execution_count": 19,
   "id": "f9d196d5-6c1f-47bf-945d-ed14458a1b80",
   "metadata": {},
   "outputs": [],
   "source": [
    "df_clean.to_csv('../../data/ml/clean.csv', index=False)"
   ]
  }
 ],
 "metadata": {
  "kernelspec": {
   "display_name": "proyecto_meteorologico",
   "language": "python",
   "name": "proyecto_meteorologico"
  },
  "language_info": {
   "codemirror_mode": {
    "name": "ipython",
    "version": 3
   },
   "file_extension": ".py",
   "mimetype": "text/x-python",
   "name": "python",
   "nbconvert_exporter": "python",
   "pygments_lexer": "ipython3",
   "version": "3.11.11"
  }
 },
 "nbformat": 4,
 "nbformat_minor": 5
}

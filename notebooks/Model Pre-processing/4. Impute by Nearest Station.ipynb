{
 "cells": [
  {
   "cell_type": "code",
   "execution_count": 1,
   "id": "8075aab3-8835-471d-a46f-9fc5e24e6bd1",
   "metadata": {},
   "outputs": [],
   "source": [
    "import pandas as pd\n",
    "import time"
   ]
  },
  {
   "cell_type": "code",
   "execution_count": 2,
   "id": "682395b0-1f3d-49fa-aaba-aa748d9c71d1",
   "metadata": {},
   "outputs": [],
   "source": [
    "df = pd.read_csv('../../data/ml/filtered.csv', parse_dates=['fecha'], low_memory=False)"
   ]
  },
  {
   "cell_type": "code",
   "execution_count": 3,
   "id": "7b67f6b6-d2af-4fd3-805c-dde5e446eb22",
   "metadata": {},
   "outputs": [
    {
     "data": {
      "text/html": [
       "<div>\n",
       "<style scoped>\n",
       "    .dataframe tbody tr th:only-of-type {\n",
       "        vertical-align: middle;\n",
       "    }\n",
       "\n",
       "    .dataframe tbody tr th {\n",
       "        vertical-align: top;\n",
       "    }\n",
       "\n",
       "    .dataframe thead th {\n",
       "        text-align: right;\n",
       "    }\n",
       "</style>\n",
       "<table border=\"1\" class=\"dataframe\">\n",
       "  <thead>\n",
       "    <tr style=\"text-align: right;\">\n",
       "      <th></th>\n",
       "      <th>fecha</th>\n",
       "      <th>idema</th>\n",
       "      <th>tmed</th>\n",
       "      <th>prec</th>\n",
       "      <th>tmin</th>\n",
       "      <th>tmax</th>\n",
       "      <th>hr_max</th>\n",
       "      <th>hr_media</th>\n",
       "      <th>latitud</th>\n",
       "      <th>altitud</th>\n",
       "      <th>fecha_sin</th>\n",
       "      <th>fecha_cos</th>\n",
       "    </tr>\n",
       "  </thead>\n",
       "  <tbody>\n",
       "    <tr>\n",
       "      <th>0</th>\n",
       "      <td>2010-01-01</td>\n",
       "      <td>2331</td>\n",
       "      <td>2.7</td>\n",
       "      <td>3.5</td>\n",
       "      <td>0.8</td>\n",
       "      <td>4.6</td>\n",
       "      <td>97.0</td>\n",
       "      <td>94.0</td>\n",
       "      <td>42.3500</td>\n",
       "      <td>891</td>\n",
       "      <td>0.5086</td>\n",
       "      <td>0.9999</td>\n",
       "    </tr>\n",
       "    <tr>\n",
       "      <th>1</th>\n",
       "      <td>2010-01-01</td>\n",
       "      <td>0320I</td>\n",
       "      <td>3.4</td>\n",
       "      <td>0.0</td>\n",
       "      <td>0.5</td>\n",
       "      <td>6.4</td>\n",
       "      <td>95.0</td>\n",
       "      <td>57.0</td>\n",
       "      <td>42.3167</td>\n",
       "      <td>1151</td>\n",
       "      <td>0.5086</td>\n",
       "      <td>0.9999</td>\n",
       "    </tr>\n",
       "    <tr>\n",
       "      <th>2</th>\n",
       "      <td>2010-01-01</td>\n",
       "      <td>C428T</td>\n",
       "      <td>16.2</td>\n",
       "      <td>0.0</td>\n",
       "      <td>13.7</td>\n",
       "      <td>18.8</td>\n",
       "      <td>77.0</td>\n",
       "      <td>69.0</td>\n",
       "      <td>28.1667</td>\n",
       "      <td>418</td>\n",
       "      <td>0.5086</td>\n",
       "      <td>0.9999</td>\n",
       "    </tr>\n",
       "    <tr>\n",
       "      <th>3</th>\n",
       "      <td>2010-01-01</td>\n",
       "      <td>C239N</td>\n",
       "      <td>17.1</td>\n",
       "      <td>0.0</td>\n",
       "      <td>12.0</td>\n",
       "      <td>22.2</td>\n",
       "      <td>86.0</td>\n",
       "      <td>69.0</td>\n",
       "      <td>28.2000</td>\n",
       "      <td>1</td>\n",
       "      <td>0.5086</td>\n",
       "      <td>0.9999</td>\n",
       "    </tr>\n",
       "    <tr>\n",
       "      <th>4</th>\n",
       "      <td>2010-01-01</td>\n",
       "      <td>B158X</td>\n",
       "      <td>13.0</td>\n",
       "      <td>0.0</td>\n",
       "      <td>11.2</td>\n",
       "      <td>14.8</td>\n",
       "      <td>70.0</td>\n",
       "      <td>59.0</td>\n",
       "      <td>39.5500</td>\n",
       "      <td>50</td>\n",
       "      <td>0.5086</td>\n",
       "      <td>0.9999</td>\n",
       "    </tr>\n",
       "  </tbody>\n",
       "</table>\n",
       "</div>"
      ],
      "text/plain": [
       "       fecha  idema  tmed  prec  tmin  tmax  hr_max  hr_media  latitud  \\\n",
       "0 2010-01-01   2331   2.7   3.5   0.8   4.6    97.0      94.0  42.3500   \n",
       "1 2010-01-01  0320I   3.4   0.0   0.5   6.4    95.0      57.0  42.3167   \n",
       "2 2010-01-01  C428T  16.2   0.0  13.7  18.8    77.0      69.0  28.1667   \n",
       "3 2010-01-01  C239N  17.1   0.0  12.0  22.2    86.0      69.0  28.2000   \n",
       "4 2010-01-01  B158X  13.0   0.0  11.2  14.8    70.0      59.0  39.5500   \n",
       "\n",
       "   altitud  fecha_sin  fecha_cos  \n",
       "0      891     0.5086     0.9999  \n",
       "1     1151     0.5086     0.9999  \n",
       "2      418     0.5086     0.9999  \n",
       "3        1     0.5086     0.9999  \n",
       "4       50     0.5086     0.9999  "
      ]
     },
     "execution_count": 3,
     "metadata": {},
     "output_type": "execute_result"
    }
   ],
   "source": [
    "df.head()"
   ]
  },
  {
   "cell_type": "code",
   "execution_count": 4,
   "id": "5db171f6-726a-4f48-af10-74bc621a085a",
   "metadata": {},
   "outputs": [
    {
     "data": {
      "text/plain": [
       "hr_max      5.90%\n",
       "hr_media    5.60%\n",
       "prec        3.64%\n",
       "tmed        2.27%\n",
       "tmin        2.24%\n",
       "tmax        2.23%\n",
       "dtype: object"
      ]
     },
     "execution_count": 4,
     "metadata": {},
     "output_type": "execute_result"
    }
   ],
   "source": [
    "nan_percentage = df.isna().mean() * 100\n",
    "nan_percentage = nan_percentage[nan_percentage > 0].sort_values(ascending=False)\n",
    "nan_percentage.apply(lambda x: f\"{x:.2f}%\")"
   ]
  },
  {
   "cell_type": "code",
   "execution_count": 5,
   "id": "1270dc7e-4cc4-4af8-aa04-c19ecb424397",
   "metadata": {},
   "outputs": [],
   "source": [
    "lookup = pd.read_csv('../../data/locations/estacion_distance_lookup.csv')"
   ]
  },
  {
   "cell_type": "code",
   "execution_count": 6,
   "id": "12045ec0-262e-468b-b5f0-b9732fa419b5",
   "metadata": {},
   "outputs": [],
   "source": [
    "df_imputed = df.copy()"
   ]
  },
  {
   "cell_type": "code",
   "execution_count": 7,
   "id": "1912b69e-5977-4324-a515-af16a18b1c16",
   "metadata": {},
   "outputs": [],
   "source": [
    "def impute_knn(col, k=3):\n",
    "\n",
    "    # Iterate through each day\n",
    "    for fecha in df_imputed['fecha'].unique():\n",
    "        current_row = df_imputed[df_imputed['fecha'] == fecha]\n",
    "\n",
    "        # Filter NaN and non NaN rows\n",
    "        nan_rows = current_row[current_row[col].isna()]\n",
    "        non_nan_rows = current_row[current_row[col].notna()]\n",
    "\n",
    "        for index, row in nan_rows.iterrows():\n",
    "            \n",
    "            # Use the nearest k stations to take the average\n",
    "            nearest_idemas = lookup[row['idema']]\n",
    "            nearest_values = non_nan_rows[non_nan_rows['idema'].isin(nearest_idemas)][col][:k]\n",
    "\n",
    "            if not nearest_values.empty:\n",
    "                imputed_value = nearest_values.mean()\n",
    "                df_imputed.loc[index, col] = imputed_value"
   ]
  },
  {
   "cell_type": "markdown",
   "id": "8754c89e-be16-4052-b544-aaceff73a619",
   "metadata": {},
   "source": [
    "Since the datasets will be split by year, this does not introduce any data leakage as it goes day by day"
   ]
  },
  {
   "cell_type": "code",
   "execution_count": 8,
   "id": "d12e58be-7a31-4c1b-acde-256a6a989e48",
   "metadata": {},
   "outputs": [
    {
     "name": "stdout",
     "output_type": "stream",
     "text": [
      "Imputed tmed in 73.81400847434998s\n",
      "Imputed tmax in 72.14162540435791s\n",
      "Imputed tmin in 72.4633777141571s\n",
      "Imputed prec in 92.14604640007019s\n",
      "Imputed hr_media in 120.82074546813965s\n",
      "Imputed hr_max in 126.15736556053162s\n",
      "Imputed all columns in 557.5436522960663s\n"
     ]
    }
   ],
   "source": [
    "start = time.time()\n",
    "for col in ['tmed', 'tmax', 'tmin', 'prec', 'hr_media', 'hr_max']:\n",
    "    col_start = time.time()\n",
    "    impute_knn(col)\n",
    "    elapsed = time.time() - col_start\n",
    "    print(f\"Imputed {col} in {elapsed}s\")\n",
    "print(f\"Imputed all columns in {time.time() - start}s\")"
   ]
  },
  {
   "cell_type": "code",
   "execution_count": 9,
   "id": "82cb6766-a87c-4533-83d7-48544206ac32",
   "metadata": {},
   "outputs": [
    {
     "data": {
      "text/html": [
       "<div>\n",
       "<style scoped>\n",
       "    .dataframe tbody tr th:only-of-type {\n",
       "        vertical-align: middle;\n",
       "    }\n",
       "\n",
       "    .dataframe tbody tr th {\n",
       "        vertical-align: top;\n",
       "    }\n",
       "\n",
       "    .dataframe thead th {\n",
       "        text-align: right;\n",
       "    }\n",
       "</style>\n",
       "<table border=\"1\" class=\"dataframe\">\n",
       "  <thead>\n",
       "    <tr style=\"text-align: right;\">\n",
       "      <th></th>\n",
       "      <th>fecha</th>\n",
       "      <th>idema</th>\n",
       "      <th>tmed</th>\n",
       "      <th>prec</th>\n",
       "      <th>tmin</th>\n",
       "      <th>tmax</th>\n",
       "      <th>hr_max</th>\n",
       "      <th>hr_media</th>\n",
       "      <th>latitud</th>\n",
       "      <th>altitud</th>\n",
       "      <th>fecha_sin</th>\n",
       "      <th>fecha_cos</th>\n",
       "    </tr>\n",
       "  </thead>\n",
       "  <tbody>\n",
       "    <tr>\n",
       "      <th>0</th>\n",
       "      <td>2010-01-01</td>\n",
       "      <td>2331</td>\n",
       "      <td>2.7</td>\n",
       "      <td>3.5</td>\n",
       "      <td>0.8</td>\n",
       "      <td>4.6</td>\n",
       "      <td>97.0</td>\n",
       "      <td>94.0</td>\n",
       "      <td>42.3500</td>\n",
       "      <td>891</td>\n",
       "      <td>0.5086</td>\n",
       "      <td>0.9999</td>\n",
       "    </tr>\n",
       "    <tr>\n",
       "      <th>1</th>\n",
       "      <td>2010-01-01</td>\n",
       "      <td>0320I</td>\n",
       "      <td>3.4</td>\n",
       "      <td>0.0</td>\n",
       "      <td>0.5</td>\n",
       "      <td>6.4</td>\n",
       "      <td>95.0</td>\n",
       "      <td>57.0</td>\n",
       "      <td>42.3167</td>\n",
       "      <td>1151</td>\n",
       "      <td>0.5086</td>\n",
       "      <td>0.9999</td>\n",
       "    </tr>\n",
       "    <tr>\n",
       "      <th>2</th>\n",
       "      <td>2010-01-01</td>\n",
       "      <td>C428T</td>\n",
       "      <td>16.2</td>\n",
       "      <td>0.0</td>\n",
       "      <td>13.7</td>\n",
       "      <td>18.8</td>\n",
       "      <td>77.0</td>\n",
       "      <td>69.0</td>\n",
       "      <td>28.1667</td>\n",
       "      <td>418</td>\n",
       "      <td>0.5086</td>\n",
       "      <td>0.9999</td>\n",
       "    </tr>\n",
       "    <tr>\n",
       "      <th>3</th>\n",
       "      <td>2010-01-01</td>\n",
       "      <td>C239N</td>\n",
       "      <td>17.1</td>\n",
       "      <td>0.0</td>\n",
       "      <td>12.0</td>\n",
       "      <td>22.2</td>\n",
       "      <td>86.0</td>\n",
       "      <td>69.0</td>\n",
       "      <td>28.2000</td>\n",
       "      <td>1</td>\n",
       "      <td>0.5086</td>\n",
       "      <td>0.9999</td>\n",
       "    </tr>\n",
       "    <tr>\n",
       "      <th>4</th>\n",
       "      <td>2010-01-01</td>\n",
       "      <td>B158X</td>\n",
       "      <td>13.0</td>\n",
       "      <td>0.0</td>\n",
       "      <td>11.2</td>\n",
       "      <td>14.8</td>\n",
       "      <td>70.0</td>\n",
       "      <td>59.0</td>\n",
       "      <td>39.5500</td>\n",
       "      <td>50</td>\n",
       "      <td>0.5086</td>\n",
       "      <td>0.9999</td>\n",
       "    </tr>\n",
       "  </tbody>\n",
       "</table>\n",
       "</div>"
      ],
      "text/plain": [
       "       fecha  idema  tmed  prec  tmin  tmax  hr_max  hr_media  latitud  \\\n",
       "0 2010-01-01   2331   2.7   3.5   0.8   4.6    97.0      94.0  42.3500   \n",
       "1 2010-01-01  0320I   3.4   0.0   0.5   6.4    95.0      57.0  42.3167   \n",
       "2 2010-01-01  C428T  16.2   0.0  13.7  18.8    77.0      69.0  28.1667   \n",
       "3 2010-01-01  C239N  17.1   0.0  12.0  22.2    86.0      69.0  28.2000   \n",
       "4 2010-01-01  B158X  13.0   0.0  11.2  14.8    70.0      59.0  39.5500   \n",
       "\n",
       "   altitud  fecha_sin  fecha_cos  \n",
       "0      891     0.5086     0.9999  \n",
       "1     1151     0.5086     0.9999  \n",
       "2      418     0.5086     0.9999  \n",
       "3        1     0.5086     0.9999  \n",
       "4       50     0.5086     0.9999  "
      ]
     },
     "execution_count": 9,
     "metadata": {},
     "output_type": "execute_result"
    }
   ],
   "source": [
    "df_imputed.head()"
   ]
  },
  {
   "cell_type": "code",
   "execution_count": 13,
   "id": "8b72f700-74e7-4be9-aafe-407ae30c8f32",
   "metadata": {},
   "outputs": [
    {
     "name": "stdout",
     "output_type": "stream",
     "text": [
      "<class 'pandas.core.frame.DataFrame'>\n",
      "RangeIndex: 4582780 entries, 0 to 4582779\n",
      "Data columns (total 12 columns):\n",
      " #   Column     Non-Null Count    Dtype         \n",
      "---  ------     --------------    -----         \n",
      " 0   fecha      4582780 non-null  datetime64[ns]\n",
      " 1   idema      4582780 non-null  object        \n",
      " 2   tmed       4582780 non-null  float64       \n",
      " 3   prec       4582780 non-null  float64       \n",
      " 4   tmin       4582780 non-null  float64       \n",
      " 5   tmax       4582780 non-null  float64       \n",
      " 6   hr_max     4582780 non-null  float64       \n",
      " 7   hr_media   4582780 non-null  float64       \n",
      " 8   latitud    4582780 non-null  float64       \n",
      " 9   altitud    4582780 non-null  int64         \n",
      " 10  fecha_sin  4582780 non-null  float64       \n",
      " 11  fecha_cos  4582780 non-null  float64       \n",
      "dtypes: datetime64[ns](1), float64(9), int64(1), object(1)\n",
      "memory usage: 419.6+ MB\n"
     ]
    }
   ],
   "source": [
    "df_imputed.info(show_counts=True)"
   ]
  },
  {
   "cell_type": "code",
   "execution_count": 14,
   "id": "c9ef54c5-bcfb-4f87-b39f-aa3748cffb76",
   "metadata": {},
   "outputs": [],
   "source": [
    "df_imputed.to_csv('../../data/ml/full.csv', index=False)"
   ]
  }
 ],
 "metadata": {
  "kernelspec": {
   "display_name": "Python 3 (ipykernel)",
   "language": "python",
   "name": "python3"
  },
  "language_info": {
   "codemirror_mode": {
    "name": "ipython",
    "version": 3
   },
   "file_extension": ".py",
   "mimetype": "text/x-python",
   "name": "python",
   "nbconvert_exporter": "python",
   "pygments_lexer": "ipython3",
   "version": "3.13.2"
  }
 },
 "nbformat": 4,
 "nbformat_minor": 5
}

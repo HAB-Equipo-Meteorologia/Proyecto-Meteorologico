{
 "cells": [
  {
   "cell_type": "code",
   "execution_count": 1,
   "id": "be39286b-113b-4586-a9e3-18a017d460a4",
   "metadata": {},
   "outputs": [],
   "source": [
    "import pandas as pd\n",
    "import joblib\n",
    "from sklearn.preprocessing import MinMaxScaler"
   ]
  },
  {
   "cell_type": "code",
   "execution_count": 2,
   "id": "1e9120e0-6c99-4766-8096-71e6c9a165a8",
   "metadata": {},
   "outputs": [],
   "source": [
    "train_df = pd.read_csv('../../data/ml/train.csv', parse_dates=['fecha'])\n",
    "test_df = pd.read_csv('../../data/ml/test.csv', parse_dates=['fecha'])"
   ]
  },
  {
   "cell_type": "code",
   "execution_count": 4,
   "id": "8ff1c4d3-73a5-48bf-9084-a11437cd72c4",
   "metadata": {},
   "outputs": [],
   "source": [
    "train_df = train_df.set_index('fecha')\n",
    "test_df = test_df.set_index('fecha')"
   ]
  },
  {
   "cell_type": "code",
   "execution_count": 5,
   "id": "4def2e94-c797-48bd-8f17-4952da4630d0",
   "metadata": {},
   "outputs": [],
   "source": [
    "ignore_cols = ['year']"
   ]
  },
  {
   "cell_type": "code",
   "execution_count": 6,
   "id": "187a8121-e08c-43d1-b101-b0bec4b95d68",
   "metadata": {},
   "outputs": [],
   "source": [
    "minmax_scaler = MinMaxScaler(feature_range=(0, 1))"
   ]
  },
  {
   "cell_type": "code",
   "execution_count": 7,
   "id": "21e01e98-bb46-4585-bb09-c7e678d977ec",
   "metadata": {},
   "outputs": [
    {
     "data": {
      "text/plain": [
       "['../../data/ml/minmax_scaler.joblib']"
      ]
     },
     "execution_count": 7,
     "metadata": {},
     "output_type": "execute_result"
    }
   ],
   "source": [
    "train_scaled = minmax_scaler.fit_transform(train_df.drop(columns=ignore_cols))\n",
    "joblib.dump(minmax_scaler, '../../data/ml/minmax_scaler.joblib')"
   ]
  },
  {
   "cell_type": "code",
   "execution_count": 8,
   "id": "ffd0b0e9-4bc8-4f63-abe7-80bacb8ef2ee",
   "metadata": {},
   "outputs": [],
   "source": [
    "test_scaled = minmax_scaler.transform(test_df.drop(columns=ignore_cols))"
   ]
  },
  {
   "cell_type": "code",
   "execution_count": 9,
   "id": "0b0761ac-06cb-44bb-95df-9df2d89f9f79",
   "metadata": {},
   "outputs": [],
   "source": [
    "train_scaled_df = pd.DataFrame(train_scaled, columns=train_df.drop(columns=ignore_cols).columns)\n",
    "test_scaled_df = pd.DataFrame(test_scaled, columns=test_df.drop(columns=ignore_cols).columns)"
   ]
  },
  {
   "cell_type": "code",
   "execution_count": 10,
   "id": "8c7d0698-7759-48d2-92aa-6071c8cc7629",
   "metadata": {},
   "outputs": [],
   "source": [
    "train_scaled_df['year'] = train_df['year'].values\n",
    "test_scaled_df['year'] = test_df['year'].values"
   ]
  },
  {
   "cell_type": "code",
   "execution_count": 11,
   "id": "dd40d8fa-2595-467d-9321-d2a67c67a229",
   "metadata": {},
   "outputs": [],
   "source": [
    "train_scaled_df = train_scaled_df.round(4)\n",
    "test_scaled_df = test_scaled_df.round(4)"
   ]
  },
  {
   "cell_type": "code",
   "execution_count": 14,
   "id": "f825f75b-822b-4446-b658-4f8bc7fdbaa8",
   "metadata": {},
   "outputs": [],
   "source": [
    "train_scaled_df.set_index(train_df.index, inplace=True)\n",
    "test_scaled_df.set_index(test_df.index, inplace=True)"
   ]
  },
  {
   "cell_type": "code",
   "execution_count": 15,
   "id": "a7826b1f-fc23-4b7d-83be-5a4dc6584b57",
   "metadata": {},
   "outputs": [
    {
     "data": {
      "text/html": [
       "<div>\n",
       "<style scoped>\n",
       "    .dataframe tbody tr th:only-of-type {\n",
       "        vertical-align: middle;\n",
       "    }\n",
       "\n",
       "    .dataframe tbody tr th {\n",
       "        vertical-align: top;\n",
       "    }\n",
       "\n",
       "    .dataframe thead th {\n",
       "        text-align: right;\n",
       "    }\n",
       "</style>\n",
       "<table border=\"1\" class=\"dataframe\">\n",
       "  <thead>\n",
       "    <tr style=\"text-align: right;\">\n",
       "      <th></th>\n",
       "      <th>tmed</th>\n",
       "      <th>prec</th>\n",
       "      <th>tmin</th>\n",
       "      <th>tmax</th>\n",
       "      <th>hr_media</th>\n",
       "      <th>velmedia</th>\n",
       "      <th>racha</th>\n",
       "      <th>fecha_sin</th>\n",
       "      <th>fecha_cos</th>\n",
       "      <th>dir_sin</th>\n",
       "      <th>dir_cos</th>\n",
       "      <th>latitud</th>\n",
       "      <th>longitud</th>\n",
       "      <th>altitud</th>\n",
       "      <th>year</th>\n",
       "    </tr>\n",
       "    <tr>\n",
       "      <th>fecha</th>\n",
       "      <th></th>\n",
       "      <th></th>\n",
       "      <th></th>\n",
       "      <th></th>\n",
       "      <th></th>\n",
       "      <th></th>\n",
       "      <th></th>\n",
       "      <th></th>\n",
       "      <th></th>\n",
       "      <th></th>\n",
       "      <th></th>\n",
       "      <th></th>\n",
       "      <th></th>\n",
       "      <th></th>\n",
       "      <th></th>\n",
       "    </tr>\n",
       "  </thead>\n",
       "  <tbody>\n",
       "    <tr>\n",
       "      <th>1997-01-01</th>\n",
       "      <td>0.0708</td>\n",
       "      <td>0.0125</td>\n",
       "      <td>0.1911</td>\n",
       "      <td>0.2533</td>\n",
       "      <td>0.9293</td>\n",
       "      <td>0.2044</td>\n",
       "      <td>0.0566</td>\n",
       "      <td>0.5086</td>\n",
       "      <td>1.0</td>\n",
       "      <td>0.8673</td>\n",
       "      <td>0.8392</td>\n",
       "      <td>0.8275</td>\n",
       "      <td>0.6468</td>\n",
       "      <td>0.3604</td>\n",
       "      <td>0.47</td>\n",
       "    </tr>\n",
       "    <tr>\n",
       "      <th>1997-01-01</th>\n",
       "      <td>0.0759</td>\n",
       "      <td>0.0241</td>\n",
       "      <td>0.1984</td>\n",
       "      <td>0.2781</td>\n",
       "      <td>1.0000</td>\n",
       "      <td>0.2400</td>\n",
       "      <td>0.0885</td>\n",
       "      <td>0.5086</td>\n",
       "      <td>1.0</td>\n",
       "      <td>0.9548</td>\n",
       "      <td>0.7077</td>\n",
       "      <td>0.9039</td>\n",
       "      <td>0.4230</td>\n",
       "      <td>0.0890</td>\n",
       "      <td>0.47</td>\n",
       "    </tr>\n",
       "    <tr>\n",
       "      <th>1997-01-01</th>\n",
       "      <td>0.1106</td>\n",
       "      <td>0.0295</td>\n",
       "      <td>0.2276</td>\n",
       "      <td>0.4901</td>\n",
       "      <td>0.8384</td>\n",
       "      <td>0.2156</td>\n",
       "      <td>0.0885</td>\n",
       "      <td>0.5086</td>\n",
       "      <td>1.0</td>\n",
       "      <td>0.6255</td>\n",
       "      <td>0.9840</td>\n",
       "      <td>0.7490</td>\n",
       "      <td>0.9413</td>\n",
       "      <td>0.0137</td>\n",
       "      <td>0.47</td>\n",
       "    </tr>\n",
       "  </tbody>\n",
       "</table>\n",
       "</div>"
      ],
      "text/plain": [
       "              tmed    prec    tmin    tmax  hr_media  velmedia   racha  \\\n",
       "fecha                                                                    \n",
       "1997-01-01  0.0708  0.0125  0.1911  0.2533    0.9293    0.2044  0.0566   \n",
       "1997-01-01  0.0759  0.0241  0.1984  0.2781    1.0000    0.2400  0.0885   \n",
       "1997-01-01  0.1106  0.0295  0.2276  0.4901    0.8384    0.2156  0.0885   \n",
       "\n",
       "            fecha_sin  fecha_cos  dir_sin  dir_cos  latitud  longitud  \\\n",
       "fecha                                                                   \n",
       "1997-01-01     0.5086        1.0   0.8673   0.8392   0.8275    0.6468   \n",
       "1997-01-01     0.5086        1.0   0.9548   0.7077   0.9039    0.4230   \n",
       "1997-01-01     0.5086        1.0   0.6255   0.9840   0.7490    0.9413   \n",
       "\n",
       "            altitud  year  \n",
       "fecha                      \n",
       "1997-01-01   0.3604  0.47  \n",
       "1997-01-01   0.0890  0.47  \n",
       "1997-01-01   0.0137  0.47  "
      ]
     },
     "execution_count": 15,
     "metadata": {},
     "output_type": "execute_result"
    }
   ],
   "source": [
    "train_scaled_df.head(3)"
   ]
  },
  {
   "cell_type": "code",
   "execution_count": 16,
   "id": "1d7ccdc6-cbea-4aad-aab6-f8358ddec272",
   "metadata": {},
   "outputs": [
    {
     "data": {
      "text/html": [
       "<div>\n",
       "<style scoped>\n",
       "    .dataframe tbody tr th:only-of-type {\n",
       "        vertical-align: middle;\n",
       "    }\n",
       "\n",
       "    .dataframe tbody tr th {\n",
       "        vertical-align: top;\n",
       "    }\n",
       "\n",
       "    .dataframe thead th {\n",
       "        text-align: right;\n",
       "    }\n",
       "</style>\n",
       "<table border=\"1\" class=\"dataframe\">\n",
       "  <thead>\n",
       "    <tr style=\"text-align: right;\">\n",
       "      <th></th>\n",
       "      <th>tmed</th>\n",
       "      <th>prec</th>\n",
       "      <th>tmin</th>\n",
       "      <th>tmax</th>\n",
       "      <th>hr_media</th>\n",
       "      <th>velmedia</th>\n",
       "      <th>racha</th>\n",
       "      <th>fecha_sin</th>\n",
       "      <th>fecha_cos</th>\n",
       "      <th>dir_sin</th>\n",
       "      <th>dir_cos</th>\n",
       "      <th>latitud</th>\n",
       "      <th>longitud</th>\n",
       "      <th>altitud</th>\n",
       "      <th>year</th>\n",
       "    </tr>\n",
       "    <tr>\n",
       "      <th>fecha</th>\n",
       "      <th></th>\n",
       "      <th></th>\n",
       "      <th></th>\n",
       "      <th></th>\n",
       "      <th></th>\n",
       "      <th></th>\n",
       "      <th></th>\n",
       "      <th></th>\n",
       "      <th></th>\n",
       "      <th></th>\n",
       "      <th></th>\n",
       "      <th></th>\n",
       "      <th></th>\n",
       "      <th></th>\n",
       "      <th></th>\n",
       "    </tr>\n",
       "  </thead>\n",
       "  <tbody>\n",
       "    <tr>\n",
       "      <th>2021-01-01</th>\n",
       "      <td>0.0861</td>\n",
       "      <td>0.0125</td>\n",
       "      <td>0.2000</td>\n",
       "      <td>0.3560</td>\n",
       "      <td>0.8586</td>\n",
       "      <td>0.2844</td>\n",
       "      <td>0.1771</td>\n",
       "      <td>0.5086</td>\n",
       "      <td>1.0</td>\n",
       "      <td>0.9612</td>\n",
       "      <td>0.3068</td>\n",
       "      <td>0.6519</td>\n",
       "      <td>0.5108</td>\n",
       "      <td>0.2049</td>\n",
       "      <td>0.71</td>\n",
       "    </tr>\n",
       "    <tr>\n",
       "      <th>2021-01-01</th>\n",
       "      <td>0.0877</td>\n",
       "      <td>0.0125</td>\n",
       "      <td>0.2098</td>\n",
       "      <td>0.3493</td>\n",
       "      <td>0.7172</td>\n",
       "      <td>0.2763</td>\n",
       "      <td>0.1466</td>\n",
       "      <td>0.5086</td>\n",
       "      <td>1.0</td>\n",
       "      <td>0.8199</td>\n",
       "      <td>0.5891</td>\n",
       "      <td>0.0455</td>\n",
       "      <td>0.0744</td>\n",
       "      <td>0.6105</td>\n",
       "      <td>0.71</td>\n",
       "    </tr>\n",
       "    <tr>\n",
       "      <th>2021-01-01</th>\n",
       "      <td>0.1005</td>\n",
       "      <td>0.0125</td>\n",
       "      <td>0.2146</td>\n",
       "      <td>0.4354</td>\n",
       "      <td>0.5758</td>\n",
       "      <td>0.2763</td>\n",
       "      <td>0.1466</td>\n",
       "      <td>0.5086</td>\n",
       "      <td>1.0</td>\n",
       "      <td>0.8199</td>\n",
       "      <td>0.5891</td>\n",
       "      <td>0.6529</td>\n",
       "      <td>0.7613</td>\n",
       "      <td>0.0606</td>\n",
       "      <td>0.71</td>\n",
       "    </tr>\n",
       "  </tbody>\n",
       "</table>\n",
       "</div>"
      ],
      "text/plain": [
       "              tmed    prec    tmin    tmax  hr_media  velmedia   racha  \\\n",
       "fecha                                                                    \n",
       "2021-01-01  0.0861  0.0125  0.2000  0.3560    0.8586    0.2844  0.1771   \n",
       "2021-01-01  0.0877  0.0125  0.2098  0.3493    0.7172    0.2763  0.1466   \n",
       "2021-01-01  0.1005  0.0125  0.2146  0.4354    0.5758    0.2763  0.1466   \n",
       "\n",
       "            fecha_sin  fecha_cos  dir_sin  dir_cos  latitud  longitud  \\\n",
       "fecha                                                                   \n",
       "2021-01-01     0.5086        1.0   0.9612   0.3068   0.6519    0.5108   \n",
       "2021-01-01     0.5086        1.0   0.8199   0.5891   0.0455    0.0744   \n",
       "2021-01-01     0.5086        1.0   0.8199   0.5891   0.6529    0.7613   \n",
       "\n",
       "            altitud  year  \n",
       "fecha                      \n",
       "2021-01-01   0.2049  0.71  \n",
       "2021-01-01   0.6105  0.71  \n",
       "2021-01-01   0.0606  0.71  "
      ]
     },
     "execution_count": 16,
     "metadata": {},
     "output_type": "execute_result"
    }
   ],
   "source": [
    "test_scaled_df.head(3)"
   ]
  },
  {
   "cell_type": "code",
   "execution_count": 17,
   "id": "351b3059-8b33-44fd-94bd-61810b44f559",
   "metadata": {},
   "outputs": [],
   "source": [
    "train_scaled_df.to_csv('../../data/ml/train_scaled.csv', index=True)"
   ]
  },
  {
   "cell_type": "code",
   "execution_count": 18,
   "id": "7419a9af-04df-4a74-8bb8-715812e31bac",
   "metadata": {},
   "outputs": [],
   "source": [
    "test_scaled_df.to_csv('../../data/ml/test_scaled.csv', index=True)"
   ]
  }
 ],
 "metadata": {
  "kernelspec": {
   "display_name": "Python 3 (ipykernel)",
   "language": "python",
   "name": "python3"
  },
  "language_info": {
   "codemirror_mode": {
    "name": "ipython",
    "version": 3
   },
   "file_extension": ".py",
   "mimetype": "text/x-python",
   "name": "python",
   "nbconvert_exporter": "python",
   "pygments_lexer": "ipython3",
   "version": "3.13.2"
  }
 },
 "nbformat": 4,
 "nbformat_minor": 5
}

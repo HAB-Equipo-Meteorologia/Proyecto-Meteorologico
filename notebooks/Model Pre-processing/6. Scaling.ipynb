{
 "cells": [
  {
   "cell_type": "code",
   "execution_count": 18,
   "id": "1f92ad7b-5517-4fd4-962d-e5a7dc00a63d",
   "metadata": {},
   "outputs": [],
   "source": [
    "import pandas as pd\n",
    "import joblib\n",
    "from sklearn.preprocessing import MinMaxScaler"
   ]
  },
  {
   "cell_type": "code",
   "execution_count": 19,
   "id": "c4e8c7e0-8a27-4805-b699-5d96f41b187b",
   "metadata": {},
   "outputs": [],
   "source": [
    "full_df = pd.read_csv('../../data/ml/full.csv', parse_dates=['fecha'])\n",
    "train_df = pd.read_csv('../../data/ml/train.csv', parse_dates=['fecha'])\n",
    "validation_df = pd.read_csv('../../data/ml/validation.csv', parse_dates=['fecha'])\n",
    "test_df = pd.read_csv('../../data/ml/test.csv', parse_dates=['fecha'])"
   ]
  },
  {
   "cell_type": "code",
   "execution_count": 47,
   "id": "9a0893f1-4ce4-455c-9c6d-e60651d4feb5",
   "metadata": {},
   "outputs": [
    {
     "data": {
      "text/plain": [
       "0     9.0\n",
       "1    10.2\n",
       "2     4.6\n",
       "3     7.6\n",
       "4     5.1\n",
       "Name: tmed, dtype: float64"
      ]
     },
     "execution_count": 47,
     "metadata": {},
     "output_type": "execute_result"
    }
   ],
   "source": [
    "validation_df['tmed'].head()"
   ]
  },
  {
   "cell_type": "code",
   "execution_count": 20,
   "id": "8d15e480-4631-4c95-aa9e-79d454f97785",
   "metadata": {},
   "outputs": [],
   "source": [
    "scaler_X_full = MinMaxScaler(feature_range=(0, 1))\n",
    "scaler_X_train = MinMaxScaler(feature_range=(0, 1))\n",
    "scaler_y_full = MinMaxScaler(feature_range=(0, 1))\n",
    "scaler_y_train = MinMaxScaler(feature_range=(0, 1))"
   ]
  },
  {
   "cell_type": "code",
   "execution_count": 36,
   "id": "8a8a53fb-0a1b-4590-92c8-268cf494fedb",
   "metadata": {},
   "outputs": [],
   "source": [
    "def scale_df(df: pd.DataFrame, scaler_X, scaler_y, fit: bool = False) -> pd.DataFrame:\n",
    "\n",
    "    df_unscaled = df.copy()\n",
    "    \n",
    "    target = 'tmed'\n",
    "    ignore_cols = ['fecha', 'idema', 'fecha_sin', 'fecha_cos']\n",
    "    \n",
    "    X_scale_cols = list(df_unscaled.drop(columns=ignore_cols + [target]).columns)\n",
    "    print(X_scale_cols)\n",
    "    y_scale_cols = [target]\n",
    "\n",
    "    if fit:\n",
    "        X_scaled = scaler_X.fit_transform(df_unscaled[X_scale_cols].values)\n",
    "        y_scaled = scaler_y.fit_transform(df_unscaled[y_scale_cols].values)\n",
    "    else:\n",
    "        X_scaled = scaler_X.transform(df_unscaled[X_scale_cols].values)\n",
    "        y_scaled = scaler_y.transform(df_unscaled[y_scale_cols].values)\n",
    "    \n",
    "    df_scaled = pd.DataFrame(X_scaled, columns=df_unscaled[X_scale_cols].columns)\n",
    "    df_scaled[target] = y_scaled\n",
    "\n",
    "    df_scaled[ignore_cols] = df_unscaled[ignore_cols].values\n",
    "    df_scaled = df_scaled[df_unscaled.columns]\n",
    "\n",
    "    numeric_cols = ['fecha_sin', 'fecha_cos']\n",
    "    df_scaled[numeric_cols] = df_scaled[numeric_cols].apply(pd.to_numeric, errors='coerce')\n",
    "\n",
    "    return df_scaled.round(4)"
   ]
  },
  {
   "cell_type": "code",
   "execution_count": 37,
   "id": "6faec089-2657-4ba9-a3f6-2fa28c76fd05",
   "metadata": {},
   "outputs": [
    {
     "name": "stdout",
     "output_type": "stream",
     "text": [
      "['prec', 'tmin', 'tmax', 'hr_max', 'hr_media', 'latitud', 'altitud']\n",
      "['prec', 'tmin', 'tmax', 'hr_max', 'hr_media', 'latitud', 'altitud']\n"
     ]
    }
   ],
   "source": [
    "full_df_scaled = scale_df(full_df, scaler_X_full, scaler_y_full, fit=True)\n",
    "train_df_scaled = scale_df(train_df, scaler_X_train, scaler_y_train, fit=True)"
   ]
  },
  {
   "cell_type": "code",
   "execution_count": 38,
   "id": "b72c17b1-c236-446c-9017-b142ce1ab73b",
   "metadata": {},
   "outputs": [
    {
     "data": {
      "text/plain": [
       "['../../ml/scalers/scaler_y_train.joblib']"
      ]
     },
     "execution_count": 38,
     "metadata": {},
     "output_type": "execute_result"
    }
   ],
   "source": [
    "joblib.dump(scaler_X_full, '../../ml/scalers/scaler_X_full.joblib')\n",
    "joblib.dump(scaler_y_full, '../../ml/scalers/scaler_y_full.joblib')\n",
    "joblib.dump(scaler_X_train, '../../ml/scalers/scaler_X_train.joblib')\n",
    "joblib.dump(scaler_y_train, '../../ml/scalers/scaler_y_train.joblib')"
   ]
  },
  {
   "cell_type": "code",
   "execution_count": 39,
   "id": "09b1ebcc-4387-47b6-82d6-4db35def8274",
   "metadata": {},
   "outputs": [
    {
     "name": "stdout",
     "output_type": "stream",
     "text": [
      "['prec', 'tmin', 'tmax', 'hr_max', 'hr_media', 'latitud', 'altitud']\n",
      "['prec', 'tmin', 'tmax', 'hr_max', 'hr_media', 'latitud', 'altitud']\n"
     ]
    }
   ],
   "source": [
    "validation_df_scaled = scale_df(validation_df, scaler_X_train, scaler_y_train, fit=False)\n",
    "test_df_scaled = scale_df(test_df, scaler_X_train, scaler_y_train, fit=False)"
   ]
  },
  {
   "cell_type": "code",
   "execution_count": 40,
   "id": "b0dea471-65eb-4f6b-ac18-6969f6e3da10",
   "metadata": {},
   "outputs": [
    {
     "data": {
      "text/html": [
       "<div>\n",
       "<style scoped>\n",
       "    .dataframe tbody tr th:only-of-type {\n",
       "        vertical-align: middle;\n",
       "    }\n",
       "\n",
       "    .dataframe tbody tr th {\n",
       "        vertical-align: top;\n",
       "    }\n",
       "\n",
       "    .dataframe thead th {\n",
       "        text-align: right;\n",
       "    }\n",
       "</style>\n",
       "<table border=\"1\" class=\"dataframe\">\n",
       "  <thead>\n",
       "    <tr style=\"text-align: right;\">\n",
       "      <th></th>\n",
       "      <th>fecha</th>\n",
       "      <th>idema</th>\n",
       "      <th>tmed</th>\n",
       "      <th>prec</th>\n",
       "      <th>tmin</th>\n",
       "      <th>tmax</th>\n",
       "      <th>hr_max</th>\n",
       "      <th>hr_media</th>\n",
       "      <th>latitud</th>\n",
       "      <th>altitud</th>\n",
       "      <th>fecha_sin</th>\n",
       "      <th>fecha_cos</th>\n",
       "    </tr>\n",
       "  </thead>\n",
       "  <tbody>\n",
       "    <tr>\n",
       "      <th>0</th>\n",
       "      <td>2010-01-01</td>\n",
       "      <td>2331</td>\n",
       "      <td>0.3339</td>\n",
       "      <td>0.0049</td>\n",
       "      <td>0.3475</td>\n",
       "      <td>0.5594</td>\n",
       "      <td>0.8727</td>\n",
       "      <td>0.9394</td>\n",
       "      <td>0.9112</td>\n",
       "      <td>0.2879</td>\n",
       "      <td>0.5086</td>\n",
       "      <td>0.9999</td>\n",
       "    </tr>\n",
       "    <tr>\n",
       "      <th>1</th>\n",
       "      <td>2010-01-01</td>\n",
       "      <td>0320I</td>\n",
       "      <td>0.3463</td>\n",
       "      <td>0.0000</td>\n",
       "      <td>0.3435</td>\n",
       "      <td>0.5779</td>\n",
       "      <td>0.8545</td>\n",
       "      <td>0.5657</td>\n",
       "      <td>0.9091</td>\n",
       "      <td>0.3720</td>\n",
       "      <td>0.5086</td>\n",
       "      <td>0.9999</td>\n",
       "    </tr>\n",
       "    <tr>\n",
       "      <th>2</th>\n",
       "      <td>2010-01-01</td>\n",
       "      <td>C428T</td>\n",
       "      <td>0.5724</td>\n",
       "      <td>0.0000</td>\n",
       "      <td>0.5186</td>\n",
       "      <td>0.7049</td>\n",
       "      <td>0.6909</td>\n",
       "      <td>0.6869</td>\n",
       "      <td>0.0320</td>\n",
       "      <td>0.1349</td>\n",
       "      <td>0.5086</td>\n",
       "      <td>0.9999</td>\n",
       "    </tr>\n",
       "  </tbody>\n",
       "</table>\n",
       "</div>"
      ],
      "text/plain": [
       "       fecha  idema    tmed    prec    tmin    tmax  hr_max  hr_media  \\\n",
       "0 2010-01-01   2331  0.3339  0.0049  0.3475  0.5594  0.8727    0.9394   \n",
       "1 2010-01-01  0320I  0.3463  0.0000  0.3435  0.5779  0.8545    0.5657   \n",
       "2 2010-01-01  C428T  0.5724  0.0000  0.5186  0.7049  0.6909    0.6869   \n",
       "\n",
       "   latitud  altitud  fecha_sin  fecha_cos  \n",
       "0   0.9112   0.2879     0.5086     0.9999  \n",
       "1   0.9091   0.3720     0.5086     0.9999  \n",
       "2   0.0320   0.1349     0.5086     0.9999  "
      ]
     },
     "execution_count": 40,
     "metadata": {},
     "output_type": "execute_result"
    }
   ],
   "source": [
    "full_df_scaled.head(3)"
   ]
  },
  {
   "cell_type": "code",
   "execution_count": 41,
   "id": "c197907d-c75c-4990-9849-2e1019de1729",
   "metadata": {},
   "outputs": [
    {
     "data": {
      "text/html": [
       "<div>\n",
       "<style scoped>\n",
       "    .dataframe tbody tr th:only-of-type {\n",
       "        vertical-align: middle;\n",
       "    }\n",
       "\n",
       "    .dataframe tbody tr th {\n",
       "        vertical-align: top;\n",
       "    }\n",
       "\n",
       "    .dataframe thead th {\n",
       "        text-align: right;\n",
       "    }\n",
       "</style>\n",
       "<table border=\"1\" class=\"dataframe\">\n",
       "  <thead>\n",
       "    <tr style=\"text-align: right;\">\n",
       "      <th></th>\n",
       "      <th>fecha</th>\n",
       "      <th>idema</th>\n",
       "      <th>tmed</th>\n",
       "      <th>prec</th>\n",
       "      <th>tmin</th>\n",
       "      <th>tmax</th>\n",
       "      <th>hr_max</th>\n",
       "      <th>hr_media</th>\n",
       "      <th>latitud</th>\n",
       "      <th>altitud</th>\n",
       "      <th>fecha_sin</th>\n",
       "      <th>fecha_cos</th>\n",
       "    </tr>\n",
       "  </thead>\n",
       "  <tbody>\n",
       "    <tr>\n",
       "      <th>0</th>\n",
       "      <td>2010-01-01</td>\n",
       "      <td>2331</td>\n",
       "      <td>0.3285</td>\n",
       "      <td>0.0104</td>\n",
       "      <td>0.3673</td>\n",
       "      <td>0.2989</td>\n",
       "      <td>0.8972</td>\n",
       "      <td>0.9394</td>\n",
       "      <td>0.9112</td>\n",
       "      <td>0.3117</td>\n",
       "      <td>0.5086</td>\n",
       "      <td>0.9999</td>\n",
       "    </tr>\n",
       "    <tr>\n",
       "      <th>1</th>\n",
       "      <td>2010-01-01</td>\n",
       "      <td>0320I</td>\n",
       "      <td>0.3411</td>\n",
       "      <td>0.0000</td>\n",
       "      <td>0.3620</td>\n",
       "      <td>0.3284</td>\n",
       "      <td>0.8785</td>\n",
       "      <td>0.5657</td>\n",
       "      <td>0.9091</td>\n",
       "      <td>0.4028</td>\n",
       "      <td>0.5086</td>\n",
       "      <td>0.9999</td>\n",
       "    </tr>\n",
       "    <tr>\n",
       "      <th>2</th>\n",
       "      <td>2010-01-01</td>\n",
       "      <td>C428T</td>\n",
       "      <td>0.5709</td>\n",
       "      <td>0.0000</td>\n",
       "      <td>0.5940</td>\n",
       "      <td>0.5320</td>\n",
       "      <td>0.7103</td>\n",
       "      <td>0.6869</td>\n",
       "      <td>0.0320</td>\n",
       "      <td>0.1461</td>\n",
       "      <td>0.5086</td>\n",
       "      <td>0.9999</td>\n",
       "    </tr>\n",
       "  </tbody>\n",
       "</table>\n",
       "</div>"
      ],
      "text/plain": [
       "       fecha  idema    tmed    prec    tmin    tmax  hr_max  hr_media  \\\n",
       "0 2010-01-01   2331  0.3285  0.0104  0.3673  0.2989  0.8972    0.9394   \n",
       "1 2010-01-01  0320I  0.3411  0.0000  0.3620  0.3284  0.8785    0.5657   \n",
       "2 2010-01-01  C428T  0.5709  0.0000  0.5940  0.5320  0.7103    0.6869   \n",
       "\n",
       "   latitud  altitud  fecha_sin  fecha_cos  \n",
       "0   0.9112   0.3117     0.5086     0.9999  \n",
       "1   0.9091   0.4028     0.5086     0.9999  \n",
       "2   0.0320   0.1461     0.5086     0.9999  "
      ]
     },
     "execution_count": 41,
     "metadata": {},
     "output_type": "execute_result"
    }
   ],
   "source": [
    "train_df_scaled.head(3)"
   ]
  },
  {
   "cell_type": "code",
   "execution_count": 42,
   "id": "47083aeb-4fbb-4c3d-8353-276e5eeb026b",
   "metadata": {},
   "outputs": [
    {
     "data": {
      "text/html": [
       "<div>\n",
       "<style scoped>\n",
       "    .dataframe tbody tr th:only-of-type {\n",
       "        vertical-align: middle;\n",
       "    }\n",
       "\n",
       "    .dataframe tbody tr th {\n",
       "        vertical-align: top;\n",
       "    }\n",
       "\n",
       "    .dataframe thead th {\n",
       "        text-align: right;\n",
       "    }\n",
       "</style>\n",
       "<table border=\"1\" class=\"dataframe\">\n",
       "  <thead>\n",
       "    <tr style=\"text-align: right;\">\n",
       "      <th></th>\n",
       "      <th>fecha</th>\n",
       "      <th>idema</th>\n",
       "      <th>tmed</th>\n",
       "      <th>prec</th>\n",
       "      <th>tmin</th>\n",
       "      <th>tmax</th>\n",
       "      <th>hr_max</th>\n",
       "      <th>hr_media</th>\n",
       "      <th>latitud</th>\n",
       "      <th>altitud</th>\n",
       "      <th>fecha_sin</th>\n",
       "      <th>fecha_cos</th>\n",
       "    </tr>\n",
       "  </thead>\n",
       "  <tbody>\n",
       "    <tr>\n",
       "      <th>0</th>\n",
       "      <td>2021-01-01</td>\n",
       "      <td>B346X</td>\n",
       "      <td>0.4417</td>\n",
       "      <td>0.0581</td>\n",
       "      <td>0.4534</td>\n",
       "      <td>0.4253</td>\n",
       "      <td>0.9065</td>\n",
       "      <td>0.8990</td>\n",
       "      <td>0.7355</td>\n",
       "      <td>0.0417</td>\n",
       "      <td>0.5086</td>\n",
       "      <td>0.9999</td>\n",
       "    </tr>\n",
       "    <tr>\n",
       "      <th>1</th>\n",
       "      <td>2021-01-01</td>\n",
       "      <td>6293X</td>\n",
       "      <td>0.4632</td>\n",
       "      <td>0.0194</td>\n",
       "      <td>0.4394</td>\n",
       "      <td>0.4778</td>\n",
       "      <td>0.6729</td>\n",
       "      <td>0.5051</td>\n",
       "      <td>0.5599</td>\n",
       "      <td>0.0007</td>\n",
       "      <td>0.5086</td>\n",
       "      <td>0.9999</td>\n",
       "    </tr>\n",
       "    <tr>\n",
       "      <th>2</th>\n",
       "      <td>2021-01-01</td>\n",
       "      <td>C453I</td>\n",
       "      <td>0.3627</td>\n",
       "      <td>0.0000</td>\n",
       "      <td>0.3849</td>\n",
       "      <td>0.3465</td>\n",
       "      <td>0.9252</td>\n",
       "      <td>0.6599</td>\n",
       "      <td>0.0455</td>\n",
       "      <td>0.6105</td>\n",
       "      <td>0.5086</td>\n",
       "      <td>0.9999</td>\n",
       "    </tr>\n",
       "  </tbody>\n",
       "</table>\n",
       "</div>"
      ],
      "text/plain": [
       "       fecha  idema    tmed    prec    tmin    tmax  hr_max  hr_media  \\\n",
       "0 2021-01-01  B346X  0.4417  0.0581  0.4534  0.4253  0.9065    0.8990   \n",
       "1 2021-01-01  6293X  0.4632  0.0194  0.4394  0.4778  0.6729    0.5051   \n",
       "2 2021-01-01  C453I  0.3627  0.0000  0.3849  0.3465  0.9252    0.6599   \n",
       "\n",
       "   latitud  altitud  fecha_sin  fecha_cos  \n",
       "0   0.7355   0.0417     0.5086     0.9999  \n",
       "1   0.5599   0.0007     0.5086     0.9999  \n",
       "2   0.0455   0.6105     0.5086     0.9999  "
      ]
     },
     "execution_count": 42,
     "metadata": {},
     "output_type": "execute_result"
    }
   ],
   "source": [
    "validation_df_scaled.head(3)"
   ]
  },
  {
   "cell_type": "code",
   "execution_count": 43,
   "id": "8c7ff26f-2059-47fe-9966-81a9e5be9738",
   "metadata": {},
   "outputs": [
    {
     "data": {
      "text/html": [
       "<div>\n",
       "<style scoped>\n",
       "    .dataframe tbody tr th:only-of-type {\n",
       "        vertical-align: middle;\n",
       "    }\n",
       "\n",
       "    .dataframe tbody tr th {\n",
       "        vertical-align: top;\n",
       "    }\n",
       "\n",
       "    .dataframe thead th {\n",
       "        text-align: right;\n",
       "    }\n",
       "</style>\n",
       "<table border=\"1\" class=\"dataframe\">\n",
       "  <thead>\n",
       "    <tr style=\"text-align: right;\">\n",
       "      <th></th>\n",
       "      <th>fecha</th>\n",
       "      <th>idema</th>\n",
       "      <th>tmed</th>\n",
       "      <th>prec</th>\n",
       "      <th>tmin</th>\n",
       "      <th>tmax</th>\n",
       "      <th>hr_max</th>\n",
       "      <th>hr_media</th>\n",
       "      <th>latitud</th>\n",
       "      <th>altitud</th>\n",
       "      <th>fecha_sin</th>\n",
       "      <th>fecha_cos</th>\n",
       "    </tr>\n",
       "  </thead>\n",
       "  <tbody>\n",
       "    <tr>\n",
       "      <th>0</th>\n",
       "      <td>2023-01-01</td>\n",
       "      <td>8293X</td>\n",
       "      <td>0.4865</td>\n",
       "      <td>0.0000</td>\n",
       "      <td>0.4306</td>\n",
       "      <td>0.5287</td>\n",
       "      <td>0.7383</td>\n",
       "      <td>0.6465</td>\n",
       "      <td>0.7035</td>\n",
       "      <td>0.0305</td>\n",
       "      <td>0.5086</td>\n",
       "      <td>0.9999</td>\n",
       "    </tr>\n",
       "    <tr>\n",
       "      <th>1</th>\n",
       "      <td>2023-01-01</td>\n",
       "      <td>2918Y</td>\n",
       "      <td>0.4506</td>\n",
       "      <td>0.0852</td>\n",
       "      <td>0.4745</td>\n",
       "      <td>0.4220</td>\n",
       "      <td>0.8785</td>\n",
       "      <td>0.6263</td>\n",
       "      <td>0.8006</td>\n",
       "      <td>0.3594</td>\n",
       "      <td>0.5086</td>\n",
       "      <td>0.9999</td>\n",
       "    </tr>\n",
       "    <tr>\n",
       "      <th>2</th>\n",
       "      <td>2023-01-01</td>\n",
       "      <td>4520X</td>\n",
       "      <td>0.5278</td>\n",
       "      <td>0.0328</td>\n",
       "      <td>0.5185</td>\n",
       "      <td>0.5205</td>\n",
       "      <td>0.8972</td>\n",
       "      <td>0.4949</td>\n",
       "      <td>0.6519</td>\n",
       "      <td>0.2049</td>\n",
       "      <td>0.5086</td>\n",
       "      <td>0.9999</td>\n",
       "    </tr>\n",
       "  </tbody>\n",
       "</table>\n",
       "</div>"
      ],
      "text/plain": [
       "       fecha  idema    tmed    prec    tmin    tmax  hr_max  hr_media  \\\n",
       "0 2023-01-01  8293X  0.4865  0.0000  0.4306  0.5287  0.7383    0.6465   \n",
       "1 2023-01-01  2918Y  0.4506  0.0852  0.4745  0.4220  0.8785    0.6263   \n",
       "2 2023-01-01  4520X  0.5278  0.0328  0.5185  0.5205  0.8972    0.4949   \n",
       "\n",
       "   latitud  altitud  fecha_sin  fecha_cos  \n",
       "0   0.7035   0.0305     0.5086     0.9999  \n",
       "1   0.8006   0.3594     0.5086     0.9999  \n",
       "2   0.6519   0.2049     0.5086     0.9999  "
      ]
     },
     "execution_count": 43,
     "metadata": {},
     "output_type": "execute_result"
    }
   ],
   "source": [
    "test_df_scaled.head(3)"
   ]
  },
  {
   "cell_type": "code",
   "execution_count": 44,
   "id": "7fae1030-bd7e-4c3a-b9ed-00acdc699b43",
   "metadata": {},
   "outputs": [
    {
     "data": {
      "text/plain": [
       "tmed         1.0\n",
       "prec         1.0\n",
       "tmin         1.0\n",
       "tmax         1.0\n",
       "hr_max       1.0\n",
       "hr_media     1.0\n",
       "latitud      1.0\n",
       "altitud      1.0\n",
       "fecha_sin    1.0\n",
       "fecha_cos    1.0\n",
       "dtype: float64"
      ]
     },
     "execution_count": 44,
     "metadata": {},
     "output_type": "execute_result"
    }
   ],
   "source": [
    "numeric_cols = full_df_scaled.select_dtypes(include='number')\n",
    "numeric_cols.max() - numeric_cols.min()"
   ]
  },
  {
   "cell_type": "code",
   "execution_count": 45,
   "id": "4ae04453-877d-42f9-80ac-37bad4135187",
   "metadata": {},
   "outputs": [],
   "source": [
    "full_df_scaled.to_csv('../../data/ml/full_scaled.csv', index=False)\n",
    "train_df_scaled.to_csv('../../data/ml/train_scaled.csv', index=False)\n",
    "validation_df_scaled.to_csv('../../data/ml/validation_scaled.csv', index=False)\n",
    "test_df_scaled.to_csv('../../data/ml/test_scaled.csv', index=False)"
   ]
  }
 ],
 "metadata": {
  "kernelspec": {
   "display_name": "Python 3 (ipykernel)",
   "language": "python",
   "name": "python3"
  },
  "language_info": {
   "codemirror_mode": {
    "name": "ipython",
    "version": 3
   },
   "file_extension": ".py",
   "mimetype": "text/x-python",
   "name": "python",
   "nbconvert_exporter": "python",
   "pygments_lexer": "ipython3",
   "version": "3.13.2"
  }
 },
 "nbformat": 4,
 "nbformat_minor": 5
}

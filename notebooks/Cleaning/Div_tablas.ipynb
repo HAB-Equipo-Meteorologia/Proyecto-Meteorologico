{
 "cells": [
  {
   "cell_type": "code",
   "execution_count": 23,
   "metadata": {},
   "outputs": [],
   "source": [
    "import pandas as pd\n",
    "import numpy as np\n",
    "from datetime import datetime\n",
    "\n",
    "\n",
    "df_historico = pd.read_csv('/Users/paoguti/Proyecto-Meteorologico/notebooks/datasets/climatologia_historica_2yrs.csv')"
   ]
  },
  {
   "cell_type": "code",
   "execution_count": 24,
   "metadata": {},
   "outputs": [],
   "source": [
    "fecha_extraccion_datetime = datetime.fromisoformat('2025-02-13T03:30:00')\n",
    "df_historico['timestamp'] = fecha_extraccion_datetime"
   ]
  },
  {
   "cell_type": "code",
   "execution_count": 25,
   "metadata": {},
   "outputs": [],
   "source": [
    "df_historico['fecha'] = pd.to_datetime(df_historico['fecha'], errors='coerce')\n",
    "df_historico['altitud'] = df_historico['altitud'].astype(int)\n",
    "df_historico['tmed'] = df_historico['tmed'].astype('str')\n",
    "df_historico['tmed'] = df_historico['tmed'].str.replace(',', '.', regex=False).astype('float')\n",
    "df_historico['prec'] = df_historico['prec'].str.replace(',', '.', regex=False)\n",
    "df_historico['prec'] = pd.to_numeric(df_historico['prec'], errors='coerce')\n",
    "df_historico['tmin'] = df_historico['tmin'].str.replace(',', '.', regex=False).astype('float')\n",
    "df_historico['horatmin'] = pd.to_datetime(df_historico['horatmin'], format='%H:%M', errors='coerce').dt.time\n",
    "df_historico['tmax'] = df_historico['tmax'].str.replace(',', '.', regex=False).astype('float')\n",
    "df_historico['horatmax'] = pd.to_datetime(df_historico['horatmax'], format='%H:%M', errors='coerce').dt.time\n"
   ]
  },
  {
   "cell_type": "code",
   "execution_count": 26,
   "metadata": {},
   "outputs": [],
   "source": [
    "df_historico['hrMax'] = df_historico['hrMax'].fillna(0)\n",
    "df_historico['hrMax'] = df_historico['hrMax'].astype(int)\n",
    "df_historico['horaHrMax'] = pd.to_datetime(df_historico['horaHrMax'], format='%H:%M', errors='coerce').dt.time\n",
    "df_historico['horaHrMin'] = pd.to_datetime(df_historico['horaHrMin'], format='%H:%M', errors='coerce').dt.time\n",
    "df_historico['hrMin'] = df_historico['hrMin'].fillna(0)\n",
    "df_historico['hrMin'] = df_historico['hrMin'].astype(int)\n",
    "df_historico['hrMedia'] = df_historico['hrMedia'].fillna(0)\n",
    "df_historico['hrMedia'] = df_historico['hrMedia'].astype(int)\n"
   ]
  },
  {
   "cell_type": "code",
   "execution_count": 27,
   "metadata": {},
   "outputs": [],
   "source": [
    "df_historico['dir'] = df_historico['dir'].fillna(0)\n",
    "df_historico['dir'] = df_historico['dir'].astype(int)\n",
    "df_historico['velmedia'] = df_historico['velmedia'].str.replace(',', '.', regex=False).astype('float')\n",
    "df_historico['racha'] = df_historico['racha'].str.replace(',', '.', regex=False).astype('float')\n",
    "df_historico['horaracha'] = pd.to_datetime(df_historico['horaracha'], format='%H:%M', errors='coerce').dt.time\n"
   ]
  },
  {
   "cell_type": "code",
   "execution_count": 28,
   "metadata": {},
   "outputs": [],
   "source": [
    "df_historico['presMax'] = df_historico['presMax'].fillna(0)\n",
    "df_historico['presMax'] = df_historico['presMax'].str.replace(',', '.', regex=False).astype('float')\n",
    "df_historico['horaPresMax'] = pd.to_numeric(df_historico['horaPresMax'], errors='coerce')\n",
    "df_historico['presMin'] = df_historico['presMin'].fillna(0)\n",
    "df_historico['presMin'] = df_historico['presMin'].str.replace(',', '.', regex=False).astype('float')\n",
    "df_historico['horaPresMin'] = pd.to_numeric(df_historico['horaPresMin'], errors='coerce')\n",
    "df_historico['sol'] = df_historico['sol'].fillna(0)\n",
    "df_historico['sol'] = df_historico['sol'].str.replace(',', '.', regex=False).astype('float')\n"
   ]
  },
  {
   "cell_type": "code",
   "execution_count": 29,
   "metadata": {},
   "outputs": [
    {
     "name": "stdout",
     "output_type": "stream",
     "text": [
      "<class 'pandas.core.frame.DataFrame'>\n",
      "RangeIndex: 640503 entries, 0 to 640502\n",
      "Data columns (total 26 columns):\n",
      " #   Column       Non-Null Count   Dtype         \n",
      "---  ------       --------------   -----         \n",
      " 0   fecha        640503 non-null  datetime64[ns]\n",
      " 1   indicativo   640503 non-null  object        \n",
      " 2   nombre       640503 non-null  object        \n",
      " 3   provincia    640503 non-null  object        \n",
      " 4   altitud      640503 non-null  int64         \n",
      " 5   tmed         626288 non-null  float64       \n",
      " 6   prec         616894 non-null  float64       \n",
      " 7   tmin         626437 non-null  float64       \n",
      " 8   horatmin     578868 non-null  object        \n",
      " 9   tmax         626600 non-null  float64       \n",
      " 10  horatmax     607565 non-null  object        \n",
      " 11  hrMax        640503 non-null  int64         \n",
      " 12  horaHrMax    403514 non-null  object        \n",
      " 13  hrMin        640503 non-null  int64         \n",
      " 14  horaHrMin    547893 non-null  object        \n",
      " 15  hrMedia      640503 non-null  int64         \n",
      " 16  dir          640503 non-null  int64         \n",
      " 17  velmedia     515291 non-null  float64       \n",
      " 18  racha        513919 non-null  float64       \n",
      " 19  horaracha    482550 non-null  object        \n",
      " 20  presMax      158091 non-null  float64       \n",
      " 21  horaPresMax  124878 non-null  float64       \n",
      " 22  presMin      158079 non-null  float64       \n",
      " 23  horaPresMin  138590 non-null  float64       \n",
      " 24  sol          103470 non-null  float64       \n",
      " 25  timestamp    640503 non-null  datetime64[us]\n",
      "dtypes: datetime64[ns](1), datetime64[us](1), float64(11), int64(5), object(8)\n",
      "memory usage: 127.1+ MB\n",
      "None\n",
      "       fecha indicativo                nombre              provincia  altitud  \\\n",
      "0 2023-02-14      C453I   CITFAGRO_88_GAITERO  STA. CRUZ DE TENERIFE     1744   \n",
      "1 2023-02-14      7250C              ABANILLA                 MURCIA      174   \n",
      "2 2023-02-14      5612B  LA RODA DE ANDALUCÍA                SEVILLA      410   \n",
      "\n",
      "   tmed  prec  tmin  horatmin  tmax  ... dir  velmedia racha  horaracha  \\\n",
      "0   5.2   8.7   3.5  19:00:00   6.8  ...   0       NaN   NaN        NaT   \n",
      "1  11.0   0.0   8.2  05:55:00  13.8  ...   0       NaN   NaN        NaT   \n",
      "2  11.8   0.0   7.0  04:40:00  16.7  ...  18       4.2  14.2   16:10:00   \n",
      "\n",
      "  presMax  horaPresMax  presMin  horaPresMin  sol           timestamp  \n",
      "0     NaN          NaN      NaN          NaN  NaN 2025-02-13 03:30:00  \n",
      "1     NaN          NaN      NaN          NaN  NaN 2025-02-13 03:30:00  \n",
      "2   978.6          0.0    974.7         24.0  NaN 2025-02-13 03:30:00  \n",
      "\n",
      "[3 rows x 26 columns]\n",
      "fecha           0.000000\n",
      "indicativo      0.000000\n",
      "nombre          0.000000\n",
      "provincia       0.000000\n",
      "altitud         0.000000\n",
      "tmed            2.219349\n",
      "prec            3.686009\n",
      "tmin            2.196087\n",
      "horatmin        9.622906\n",
      "tmax            2.170638\n",
      "horatmax        5.142521\n",
      "hrMax           0.000000\n",
      "horaHrMax      37.000451\n",
      "hrMin           0.000000\n",
      "horaHrMin      14.458949\n",
      "hrMedia         0.000000\n",
      "dir             0.000000\n",
      "velmedia       19.549011\n",
      "racha          19.763217\n",
      "horaracha      24.660774\n",
      "presMax        75.317680\n",
      "horaPresMax    80.503136\n",
      "presMin        75.319554\n",
      "horaPresMin    78.362318\n",
      "sol            83.845509\n",
      "timestamp       0.000000\n",
      "dtype: float64\n"
     ]
    }
   ],
   "source": [
    "print(df_historico.info())\n",
    "print(df_historico.head(3))\n",
    "\n",
    "nan_columnas = df_historico.isna().sum()\n",
    "nan_percentaje = (nan_columnas / len(df_historico)) * 100\n",
    "\n",
    "print(nan_percentaje)\n",
    "\n"
   ]
  },
  {
   "cell_type": "code",
   "execution_count": 32,
   "metadata": {},
   "outputs": [],
   "source": [
    "df_temperatura = df_historico[['fecha', 'provincia', 'indicativo', 'tmed', 'tmin', 'horatmin', 'tmax', 'horatmax', 'timestamp']]\n",
    "df_humedad = df_historico[['fecha', 'provincia', 'indicativo', 'hrMax', 'horaHrMax', 'hrMin', 'horaHrMin', 'hrMedia', 'timestamp']]\n",
    "df_viento = df_historico[['fecha', 'provincia', 'indicativo', 'dir', 'velmedia', 'racha', 'horaracha', 'timestamp']]\n",
    "df_lluvias = df_historico[['fecha', 'provincia', 'indicativo', 'prec', 'timestamp']]\n",
    "\n",
    "df_temperatura.to_csv('/Users/paoguti/Proyecto-Meteorologico/notebooks/datasets/temperatura.csv', index=False)\n",
    "df_humedad.to_csv('/Users/paoguti/Proyecto-Meteorologico/notebooks/datasets/humedad.csv', index=False)\n",
    "df_viento.to_csv('/Users/paoguti/Proyecto-Meteorologico/notebooks/datasets/viento.csv', index=False)\n",
    "df_lluvias.to_csv('/Users/paoguti/Proyecto-Meteorologico/notebooks/datasets/lluvias.csv', index=False) "
   ]
  }
 ],
 "metadata": {
  "kernelspec": {
   "display_name": "Python 3",
   "language": "python",
   "name": "python3"
  },
  "language_info": {
   "codemirror_mode": {
    "name": "ipython",
    "version": 3
   },
   "file_extension": ".py",
   "mimetype": "text/x-python",
   "name": "python",
   "nbconvert_exporter": "python",
   "pygments_lexer": "ipython3",
   "version": "3.9.6"
  }
 },
 "nbformat": 4,
 "nbformat_minor": 2
}

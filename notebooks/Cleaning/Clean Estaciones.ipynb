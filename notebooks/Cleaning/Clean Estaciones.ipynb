{
 "cells": [
  {
   "cell_type": "code",
   "execution_count": 1,
   "id": "80670da1-196f-473d-9514-e25b4e3d837e",
   "metadata": {},
   "outputs": [],
   "source": [
    "import pandas as pd\n",
    "from ipynb_helpers import convert_latitude, convert_longitude\n",
    "from unidecode import unidecode"
   ]
  },
  {
   "cell_type": "code",
   "execution_count": 2,
   "id": "d25bc39e-807b-4f1e-8c15-a1b476fbd24a",
   "metadata": {},
   "outputs": [],
   "source": [
    "df = pd.read_csv('datasets/estaciones_data.csv')"
   ]
  },
  {
   "cell_type": "code",
   "execution_count": 3,
   "id": "7637cd28-1aa1-415d-a992-36a5b56daa69",
   "metadata": {},
   "outputs": [],
   "source": [
    "df['latitud'] = df['latitud'].apply(convert_latitude)\n",
    "df['longitud'] = df['longitud'].apply(convert_longitude)"
   ]
  },
  {
   "cell_type": "code",
   "execution_count": 4,
   "id": "29dff6f0-0cc4-49a7-8bbc-eb9213b4c6a7",
   "metadata": {},
   "outputs": [],
   "source": [
    "prov = pd.read_csv('datasets/param_codes/provincia_codes.csv', dtype={'Código': str})"
   ]
  },
  {
   "cell_type": "code",
   "execution_count": 5,
   "id": "a5289719-1ee1-4a2c-a27b-3889e969ad7f",
   "metadata": {},
   "outputs": [],
   "source": [
    "df['provincia'] = df['provincia'].str.lower()\n",
    "prov['Provincia'] = prov['Provincia'].str.lower()"
   ]
  },
  {
   "cell_type": "code",
   "execution_count": 6,
   "id": "cf89fae4-0f73-420e-b275-ea5378e0cfe0",
   "metadata": {},
   "outputs": [],
   "source": [
    "prov = prov[prov['Código'].apply(lambda x: len(str(x)) != 3)]"
   ]
  },
  {
   "cell_type": "code",
   "execution_count": 7,
   "id": "08fac331-7aac-41db-bc79-97fa68b66f1a",
   "metadata": {},
   "outputs": [],
   "source": [
    "df['provincia'] = df['provincia'].str.replace('sta. cruz', 'santa cruz')\n",
    "df['provincia'] = df['provincia'].str.replace('/alava', '')\n",
    "df['provincia'] = df['provincia'].str.replace('illes balears', 'balears')\n",
    "df['provincia'] = df['provincia'].str.replace('balears', 'illes balears')\n",
    "df['provincia'] = df['provincia'].str.replace('baleares', 'illes balears')"
   ]
  },
  {
   "cell_type": "code",
   "execution_count": 8,
   "id": "aae94a14-b7e5-4e9c-9e96-8d85ee95d71e",
   "metadata": {},
   "outputs": [],
   "source": [
    "prov['Provincia'] = prov['Provincia'].apply(lambda x: unidecode(x))\n",
    "df['provincia'] = df['provincia'].apply(lambda x: unidecode(x))"
   ]
  },
  {
   "cell_type": "code",
   "execution_count": 14,
   "id": "895a4fa7-2a58-4895-b5b2-1002865350d4",
   "metadata": {},
   "outputs": [],
   "source": [
    "prov = prov.rename(columns={'Provincia': 'provincia'})"
   ]
  },
  {
   "cell_type": "code",
   "execution_count": 16,
   "id": "3064f97f-f9cc-4cd6-b3aa-84d036b60bef",
   "metadata": {},
   "outputs": [],
   "source": [
    "df = pd.merge(df, prov[['provincia', 'Código']], on='provincia', how='left')"
   ]
  },
  {
   "cell_type": "code",
   "execution_count": 18,
   "id": "12ef0996-fe2e-447f-b54a-b159ef418654",
   "metadata": {},
   "outputs": [],
   "source": [
    "df = df.rename(columns={'Código': 'provincia_id'})"
   ]
  },
  {
   "cell_type": "code",
   "execution_count": 21,
   "id": "4299daf6-cf1d-4487-986e-de7ab0f3ebaa",
   "metadata": {},
   "outputs": [],
   "source": [
    "df = df.rename(columns={'indicativo': 'idema'})"
   ]
  },
  {
   "cell_type": "code",
   "execution_count": 22,
   "id": "cfc3fb47-57d2-4a45-8ba6-105a1c96752d",
   "metadata": {},
   "outputs": [
    {
     "data": {
      "text/plain": [
       "Index(['latitud', 'provincia', 'altitud', 'idema', 'nombre', 'indsinop',\n",
       "       'longitud', 'provincia_id'],\n",
       "      dtype='object')"
      ]
     },
     "execution_count": 22,
     "metadata": {},
     "output_type": "execute_result"
    }
   ],
   "source": [
    "df.columns"
   ]
  },
  {
   "cell_type": "code",
   "execution_count": 23,
   "id": "27548621-8e5e-46fc-bc9a-9c904869f306",
   "metadata": {},
   "outputs": [],
   "source": [
    "df = df[['idema', 'nombre', 'provincia', 'provincia_id', 'latitud', 'longitud', 'altitud', 'indsinop']]"
   ]
  },
  {
   "cell_type": "code",
   "execution_count": 4,
   "id": "89fd0c6d-39e1-4e06-90fa-84fb8e89d0e0",
   "metadata": {},
   "outputs": [],
   "source": [
    "df['latitud'] = df['latitud'].round(4)\n",
    "df['longitud'] = df['longitud'].round(4)"
   ]
  },
  {
   "cell_type": "code",
   "execution_count": 8,
   "id": "5fff081a-666a-4426-a4d7-2c520e6b51ed",
   "metadata": {},
   "outputs": [],
   "source": [
    "df['indsinop'] = df['indsinop'].astype('Int64')"
   ]
  },
  {
   "cell_type": "code",
   "execution_count": 9,
   "id": "11c2628c-e520-4aa6-9593-e56025d93b50",
   "metadata": {},
   "outputs": [
    {
     "data": {
      "text/html": [
       "<div>\n",
       "<style scoped>\n",
       "    .dataframe tbody tr th:only-of-type {\n",
       "        vertical-align: middle;\n",
       "    }\n",
       "\n",
       "    .dataframe tbody tr th {\n",
       "        vertical-align: top;\n",
       "    }\n",
       "\n",
       "    .dataframe thead th {\n",
       "        text-align: right;\n",
       "    }\n",
       "</style>\n",
       "<table border=\"1\" class=\"dataframe\">\n",
       "  <thead>\n",
       "    <tr style=\"text-align: right;\">\n",
       "      <th></th>\n",
       "      <th>idema</th>\n",
       "      <th>nombre</th>\n",
       "      <th>provincia</th>\n",
       "      <th>provincia_id</th>\n",
       "      <th>latitud</th>\n",
       "      <th>longitud</th>\n",
       "      <th>altitud</th>\n",
       "      <th>indsinop</th>\n",
       "    </tr>\n",
       "  </thead>\n",
       "  <tbody>\n",
       "    <tr>\n",
       "      <th>942</th>\n",
       "      <td>9988B</td>\n",
       "      <td>CAP DE VAQUÈIRA</td>\n",
       "      <td>lleida</td>\n",
       "      <td>25</td>\n",
       "      <td>42.6833</td>\n",
       "      <td>0.9667</td>\n",
       "      <td>2467</td>\n",
       "      <td>8936</td>\n",
       "    </tr>\n",
       "    <tr>\n",
       "      <th>943</th>\n",
       "      <td>9990X</td>\n",
       "      <td>NAUT ARAN, ARTIES</td>\n",
       "      <td>lleida</td>\n",
       "      <td>25</td>\n",
       "      <td>42.7000</td>\n",
       "      <td>0.8667</td>\n",
       "      <td>1161</td>\n",
       "      <td>8107</td>\n",
       "    </tr>\n",
       "    <tr>\n",
       "      <th>944</th>\n",
       "      <td>9994X</td>\n",
       "      <td>BOSSÒST</td>\n",
       "      <td>lleida</td>\n",
       "      <td>25</td>\n",
       "      <td>42.7667</td>\n",
       "      <td>0.6833</td>\n",
       "      <td>722</td>\n",
       "      <td>&lt;NA&gt;</td>\n",
       "    </tr>\n",
       "    <tr>\n",
       "      <th>945</th>\n",
       "      <td>9995Y</td>\n",
       "      <td>VALCARLOS/LUZAIDE</td>\n",
       "      <td>navarra</td>\n",
       "      <td>31</td>\n",
       "      <td>43.0833</td>\n",
       "      <td>-1.3000</td>\n",
       "      <td>334</td>\n",
       "      <td>&lt;NA&gt;</td>\n",
       "    </tr>\n",
       "    <tr>\n",
       "      <th>946</th>\n",
       "      <td>9998X</td>\n",
       "      <td>BELLO</td>\n",
       "      <td>teruel</td>\n",
       "      <td>44</td>\n",
       "      <td>40.9167</td>\n",
       "      <td>-1.4833</td>\n",
       "      <td>1006</td>\n",
       "      <td>&lt;NA&gt;</td>\n",
       "    </tr>\n",
       "  </tbody>\n",
       "</table>\n",
       "</div>"
      ],
      "text/plain": [
       "     idema              nombre provincia  provincia_id  latitud  longitud  \\\n",
       "942  9988B     CAP DE VAQUÈIRA    lleida            25  42.6833    0.9667   \n",
       "943  9990X  NAUT ARAN, ARTIES     lleida            25  42.7000    0.8667   \n",
       "944  9994X             BOSSÒST    lleida            25  42.7667    0.6833   \n",
       "945  9995Y   VALCARLOS/LUZAIDE   navarra            31  43.0833   -1.3000   \n",
       "946  9998X               BELLO    teruel            44  40.9167   -1.4833   \n",
       "\n",
       "     altitud  indsinop  \n",
       "942     2467      8936  \n",
       "943     1161      8107  \n",
       "944      722      <NA>  \n",
       "945      334      <NA>  \n",
       "946     1006      <NA>  "
      ]
     },
     "execution_count": 9,
     "metadata": {},
     "output_type": "execute_result"
    }
   ],
   "source": [
    "df.tail()"
   ]
  },
  {
   "cell_type": "code",
   "execution_count": 10,
   "id": "3db34ba7-c1b1-4394-bc9a-5d65e7af7452",
   "metadata": {},
   "outputs": [],
   "source": [
    "df.to_csv('../datasets/estaciones_data_clean.csv', index=False)"
   ]
  }
 ],
 "metadata": {
  "kernelspec": {
   "display_name": "Python 3 (ipykernel)",
   "language": "python",
   "name": "python3"
  },
  "language_info": {
   "codemirror_mode": {
    "name": "ipython",
    "version": 3
   },
   "file_extension": ".py",
   "mimetype": "text/x-python",
   "name": "python",
   "nbconvert_exporter": "python",
   "pygments_lexer": "ipython3",
   "version": "3.13.1"
  }
 },
 "nbformat": 4,
 "nbformat_minor": 5
}

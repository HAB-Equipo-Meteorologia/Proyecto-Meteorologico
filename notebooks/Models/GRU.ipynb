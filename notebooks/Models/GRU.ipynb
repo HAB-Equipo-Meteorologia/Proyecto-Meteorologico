{
 "cells": [
  {
   "cell_type": "code",
   "execution_count": null,
   "id": "1590b3a9-2c51-47df-9548-8614ad55353e",
   "metadata": {},
   "outputs": [],
   "source": [
    "import numpy as np\n",
    "import pandas as pd\n",
    "from tensorflow.keras.models import Sequential\n",
    "from tensorflow.keras.layers import GRU, Dense, Input\n",
    "from tensorflow.keras.optimizers import Adam"
   ]
  },
  {
   "cell_type": "code",
   "execution_count": 2,
   "id": "a4c9a17e-fe56-4cc5-970e-f729588bad16",
   "metadata": {},
   "outputs": [],
   "source": [
    "target = 'tmed'\n",
    "seed = 42\n",
    "n_days = 7"
   ]
  },
  {
   "cell_type": "code",
   "execution_count": 3,
   "id": "d573c0f9-688f-4907-8ccc-42cc5244caec",
   "metadata": {},
   "outputs": [],
   "source": [
    "train = pd.read_csv('../../data/ml/train_scaled.csv', parse_dates=['fecha'])\n",
    "test = pd.read_csv('../../data/ml/test_scaled.csv', parse_dates=['fecha'])"
   ]
  },
  {
   "cell_type": "code",
   "execution_count": 4,
   "id": "3e654e5d-7808-4407-9d79-b7bb26099fec",
   "metadata": {},
   "outputs": [],
   "source": [
    "train = train[train['fecha'].dt.year >= 2006]"
   ]
  },
  {
   "cell_type": "code",
   "execution_count": 5,
   "id": "845e74e1-c54d-498a-8029-e33b746ae1c9",
   "metadata": {},
   "outputs": [],
   "source": [
    "test = test[test['fecha'].dt.year >= 2023]"
   ]
  },
  {
   "cell_type": "code",
   "execution_count": 6,
   "id": "4de78a5e-d5ea-4d21-b26d-50c8b06760e7",
   "metadata": {},
   "outputs": [],
   "source": [
    "train.set_index('fecha', inplace=True)\n",
    "test.set_index('fecha', inplace=True)"
   ]
  },
  {
   "cell_type": "code",
   "execution_count": 7,
   "id": "b162980d-0cd0-4f23-8d2d-abde7ebe5294",
   "metadata": {},
   "outputs": [],
   "source": [
    "X_train = train.drop(columns=[target])\n",
    "y_train = train[target]\n",
    "X_test = test.drop(columns=[target])\n",
    "y_test = test[target]"
   ]
  },
  {
   "cell_type": "code",
   "execution_count": 8,
   "id": "89a887d1-6fd9-491b-b3d0-aeeab2499404",
   "metadata": {},
   "outputs": [
    {
     "data": {
      "text/plain": [
       "((3907377, 14), (3907377,), (644092, 14), (644092,))"
      ]
     },
     "execution_count": 8,
     "metadata": {},
     "output_type": "execute_result"
    }
   ],
   "source": [
    "X_train.shape, y_train.shape, X_test.shape, y_test.shape"
   ]
  },
  {
   "cell_type": "code",
   "execution_count": 9,
   "id": "5f5a5c8f-6530-4bb2-a16e-da4725f8ac82",
   "metadata": {},
   "outputs": [
    {
     "data": {
      "text/plain": [
       "0.14151299283813643"
      ]
     },
     "execution_count": 9,
     "metadata": {},
     "output_type": "execute_result"
    }
   ],
   "source": [
    "len(test) / (len(train) + len(test))"
   ]
  },
  {
   "cell_type": "code",
   "execution_count": 10,
   "id": "df924092-0a87-4fba-9c23-f508a5800b26",
   "metadata": {},
   "outputs": [],
   "source": [
    "def create_sequences(X, y, n_days):\n",
    "    X_seq, y_seq = [], []\n",
    "    \n",
    "    for i in range(n_days, len(X)):\n",
    "        X_seq.append(X.iloc[i-n_days:i].values)\n",
    "        y_seq.append(y.iloc[i])\n",
    "    \n",
    "    X_seq = np.array(X_seq)\n",
    "    y_seq = np.array(y_seq)\n",
    "    \n",
    "    return X_seq, y_seq"
   ]
  },
  {
   "cell_type": "code",
   "execution_count": 11,
   "id": "f4f8a6db-c4b0-4fcb-90e7-789def64cbd1",
   "metadata": {},
   "outputs": [],
   "source": [
    "X_train_seq, y_train_seq = create_sequences(X_train, y_train, n_days)\n",
    "X_test_seq, y_test_seq = create_sequences(X_test, y_test, n_days)"
   ]
  },
  {
   "cell_type": "code",
   "execution_count": 12,
   "id": "0eeeecf0-cee5-4fad-8b7e-a25724323016",
   "metadata": {},
   "outputs": [
    {
     "data": {
      "text/plain": [
       "((3907370, 7, 14), (3907370,), (644085, 7, 14), (644085,))"
      ]
     },
     "execution_count": 12,
     "metadata": {},
     "output_type": "execute_result"
    }
   ],
   "source": [
    "X_train_seq.shape, y_train_seq.shape, X_test_seq.shape, y_test_seq.shape"
   ]
  },
  {
   "cell_type": "code",
   "execution_count": 13,
   "id": "e0b6b3c6-056c-4c64-9e39-55d7a91d42fa",
   "metadata": {},
   "outputs": [],
   "source": [
    "def create_gru(shape):\n",
    "    \n",
    "    model = Sequential()\n",
    "    \n",
    "    model.add(Input(shape=shape))\n",
    "    \n",
    "    model.add(GRU(units=50, return_sequences=True))\n",
    "    model.add(GRU(units=50))\n",
    "    \n",
    "    model.add(Dense(units=1))\n",
    "    \n",
    "    return model"
   ]
  },
  {
   "cell_type": "code",
   "execution_count": 14,
   "id": "3dba1254-0e9c-47f4-966f-bb577b097af4",
   "metadata": {},
   "outputs": [
    {
     "name": "stderr",
     "output_type": "stream",
     "text": [
      "I0000 00:00:1741236019.469607   85942 gpu_device.cc:2022] Created device /job:localhost/replica:0/task:0/device:GPU:0 with 1192 MB memory:  -> device: 0, name: NVIDIA GeForce RTX 4060 Laptop GPU, pci bus id: 0000:01:00.0, compute capability: 8.9\n"
     ]
    }
   ],
   "source": [
    "shape = (n_days, X_train_seq.shape[2])\n",
    "model = create_gru(shape)"
   ]
  },
  {
   "cell_type": "code",
   "execution_count": 15,
   "id": "d28ef550-d9b7-4d6e-b149-f9acbff87285",
   "metadata": {},
   "outputs": [],
   "source": [
    "model.compile(optimizer=Adam(learning_rate=0.001), loss='mean_squared_error')"
   ]
  },
  {
   "cell_type": "code",
   "execution_count": null,
   "id": "6b10923b-3d1a-40ca-b353-8b189ea818ca",
   "metadata": {},
   "outputs": [],
   "source": [
    "model.fit(X_train_seq, y_train_seq, epochs=10, batch_size=128, validation_data=(X_test_seq, y_test_seq))"
   ]
  },
  {
   "cell_type": "code",
   "execution_count": null,
   "id": "88e9de6b-1fa5-4264-8bbf-49926541bb17",
   "metadata": {},
   "outputs": [],
   "source": [
    "model.evaluate(X_test_seq, y_test_seq)"
   ]
  }
 ],
 "metadata": {
  "kernelspec": {
   "display_name": "proyecto_meteorologico",
   "language": "python",
   "name": "proyecto_meteorologico"
  },
  "language_info": {
   "codemirror_mode": {
    "name": "ipython",
    "version": 3
   },
   "file_extension": ".py",
   "mimetype": "text/x-python",
   "name": "python",
   "nbconvert_exporter": "python",
   "pygments_lexer": "ipython3",
   "version": "3.11.11"
  }
 },
 "nbformat": 4,
 "nbformat_minor": 5
}

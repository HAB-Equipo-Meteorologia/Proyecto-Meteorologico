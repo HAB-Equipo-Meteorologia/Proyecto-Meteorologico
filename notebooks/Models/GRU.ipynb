{
 "cells": [
  {
   "cell_type": "code",
   "execution_count": 2,
   "id": "1590b3a9-2c51-47df-9548-8614ad55353e",
   "metadata": {},
   "outputs": [],
   "source": [
    "import numpy as np\n",
    "import pandas as pd\n",
    "import tensorflow as tf\n",
    "from sklearn.preprocessing import MinMaxScaler\n",
    "from tensorflow.keras.models import Sequential\n",
    "from tensorflow.keras.layers import GRU, Dense, Input\n",
    "from tensorflow.keras.optimizers import Adam\n",
    "import sys\n",
    "sys.path.append('../..')\n",
    "from helpers import lookups"
   ]
  },
  {
   "cell_type": "code",
   "execution_count": 3,
   "id": "a4c9a17e-fe56-4cc5-970e-f729588bad16",
   "metadata": {},
   "outputs": [],
   "source": [
    "target = 'tmed'\n",
    "seed = 42"
   ]
  },
  {
   "cell_type": "code",
   "execution_count": 9,
   "id": "d573c0f9-688f-4907-8ccc-42cc5244caec",
   "metadata": {},
   "outputs": [
    {
     "data": {
      "text/html": [
       "<div>\n",
       "<style scoped>\n",
       "    .dataframe tbody tr th:only-of-type {\n",
       "        vertical-align: middle;\n",
       "    }\n",
       "\n",
       "    .dataframe tbody tr th {\n",
       "        vertical-align: top;\n",
       "    }\n",
       "\n",
       "    .dataframe thead th {\n",
       "        text-align: right;\n",
       "    }\n",
       "</style>\n",
       "<table border=\"1\" class=\"dataframe\">\n",
       "  <thead>\n",
       "    <tr style=\"text-align: right;\">\n",
       "      <th></th>\n",
       "      <th>tmed</th>\n",
       "      <th>prec</th>\n",
       "      <th>tmin</th>\n",
       "      <th>tmax</th>\n",
       "      <th>hr_max</th>\n",
       "      <th>hr_min</th>\n",
       "      <th>hr_media</th>\n",
       "      <th>velmedia</th>\n",
       "      <th>racha</th>\n",
       "      <th>pres_max</th>\n",
       "      <th>pres_min</th>\n",
       "      <th>sol</th>\n",
       "      <th>year</th>\n",
       "      <th>fecha_sin</th>\n",
       "      <th>fecha_cos</th>\n",
       "      <th>dir_sin</th>\n",
       "      <th>dir_cos</th>\n",
       "    </tr>\n",
       "    <tr>\n",
       "      <th>fecha</th>\n",
       "      <th></th>\n",
       "      <th></th>\n",
       "      <th></th>\n",
       "      <th></th>\n",
       "      <th></th>\n",
       "      <th></th>\n",
       "      <th></th>\n",
       "      <th></th>\n",
       "      <th></th>\n",
       "      <th></th>\n",
       "      <th></th>\n",
       "      <th></th>\n",
       "      <th></th>\n",
       "      <th></th>\n",
       "      <th></th>\n",
       "      <th></th>\n",
       "      <th></th>\n",
       "    </tr>\n",
       "  </thead>\n",
       "  <tbody>\n",
       "    <tr>\n",
       "      <th>2024-01-01</th>\n",
       "      <td>0.4564</td>\n",
       "      <td>0.0</td>\n",
       "      <td>0.4712</td>\n",
       "      <td>0.4309</td>\n",
       "      <td>0.5794</td>\n",
       "      <td>0.1313</td>\n",
       "      <td>0.5510</td>\n",
       "      <td>0.1450</td>\n",
       "      <td>0.2027</td>\n",
       "      <td>0.6297</td>\n",
       "      <td>0.6292</td>\n",
       "      <td>0.3986</td>\n",
       "      <td>0.0</td>\n",
       "      <td>0.5086</td>\n",
       "      <td>1.0</td>\n",
       "      <td>0.9528</td>\n",
       "      <td>0.1623</td>\n",
       "    </tr>\n",
       "    <tr>\n",
       "      <th>2024-01-01</th>\n",
       "      <td>0.6349</td>\n",
       "      <td>0.0</td>\n",
       "      <td>0.6482</td>\n",
       "      <td>0.5957</td>\n",
       "      <td>0.7850</td>\n",
       "      <td>0.4646</td>\n",
       "      <td>0.6531</td>\n",
       "      <td>0.0706</td>\n",
       "      <td>0.0808</td>\n",
       "      <td>0.8065</td>\n",
       "      <td>0.8065</td>\n",
       "      <td>0.3392</td>\n",
       "      <td>0.0</td>\n",
       "      <td>0.5086</td>\n",
       "      <td>1.0</td>\n",
       "      <td>0.8872</td>\n",
       "      <td>0.7463</td>\n",
       "    </tr>\n",
       "    <tr>\n",
       "      <th>2024-01-01</th>\n",
       "      <td>0.4481</td>\n",
       "      <td>0.0</td>\n",
       "      <td>0.4093</td>\n",
       "      <td>0.4681</td>\n",
       "      <td>0.8692</td>\n",
       "      <td>0.6364</td>\n",
       "      <td>0.7857</td>\n",
       "      <td>0.0409</td>\n",
       "      <td>0.0808</td>\n",
       "      <td>0.9287</td>\n",
       "      <td>0.9277</td>\n",
       "      <td>0.3892</td>\n",
       "      <td>0.0</td>\n",
       "      <td>0.5086</td>\n",
       "      <td>1.0</td>\n",
       "      <td>0.9185</td>\n",
       "      <td>0.0936</td>\n",
       "    </tr>\n",
       "    <tr>\n",
       "      <th>2024-01-01</th>\n",
       "      <td>0.6079</td>\n",
       "      <td>0.0</td>\n",
       "      <td>0.6018</td>\n",
       "      <td>0.5851</td>\n",
       "      <td>0.7383</td>\n",
       "      <td>0.5253</td>\n",
       "      <td>0.7347</td>\n",
       "      <td>0.0818</td>\n",
       "      <td>0.1098</td>\n",
       "      <td>0.9463</td>\n",
       "      <td>0.9460</td>\n",
       "      <td>0.4892</td>\n",
       "      <td>0.0</td>\n",
       "      <td>0.5086</td>\n",
       "      <td>1.0</td>\n",
       "      <td>0.7522</td>\n",
       "      <td>0.8823</td>\n",
       "    </tr>\n",
       "    <tr>\n",
       "      <th>2024-01-01</th>\n",
       "      <td>0.3776</td>\n",
       "      <td>0.0</td>\n",
       "      <td>0.3252</td>\n",
       "      <td>0.4113</td>\n",
       "      <td>0.8692</td>\n",
       "      <td>0.5758</td>\n",
       "      <td>0.7959</td>\n",
       "      <td>0.0632</td>\n",
       "      <td>0.0808</td>\n",
       "      <td>0.7926</td>\n",
       "      <td>0.7948</td>\n",
       "      <td>0.3108</td>\n",
       "      <td>0.0</td>\n",
       "      <td>0.5086</td>\n",
       "      <td>1.0</td>\n",
       "      <td>0.9726</td>\n",
       "      <td>0.5751</td>\n",
       "    </tr>\n",
       "  </tbody>\n",
       "</table>\n",
       "</div>"
      ],
      "text/plain": [
       "              tmed  prec    tmin    tmax  hr_max  hr_min  hr_media  velmedia  \\\n",
       "fecha                                                                          \n",
       "2024-01-01  0.4564   0.0  0.4712  0.4309  0.5794  0.1313    0.5510    0.1450   \n",
       "2024-01-01  0.6349   0.0  0.6482  0.5957  0.7850  0.4646    0.6531    0.0706   \n",
       "2024-01-01  0.4481   0.0  0.4093  0.4681  0.8692  0.6364    0.7857    0.0409   \n",
       "2024-01-01  0.6079   0.0  0.6018  0.5851  0.7383  0.5253    0.7347    0.0818   \n",
       "2024-01-01  0.3776   0.0  0.3252  0.4113  0.8692  0.5758    0.7959    0.0632   \n",
       "\n",
       "             racha  pres_max  pres_min     sol  year  fecha_sin  fecha_cos  \\\n",
       "fecha                                                                        \n",
       "2024-01-01  0.2027    0.6297    0.6292  0.3986   0.0     0.5086        1.0   \n",
       "2024-01-01  0.0808    0.8065    0.8065  0.3392   0.0     0.5086        1.0   \n",
       "2024-01-01  0.0808    0.9287    0.9277  0.3892   0.0     0.5086        1.0   \n",
       "2024-01-01  0.1098    0.9463    0.9460  0.4892   0.0     0.5086        1.0   \n",
       "2024-01-01  0.0808    0.7926    0.7948  0.3108   0.0     0.5086        1.0   \n",
       "\n",
       "            dir_sin  dir_cos  \n",
       "fecha                         \n",
       "2024-01-01   0.9528   0.1623  \n",
       "2024-01-01   0.8872   0.7463  \n",
       "2024-01-01   0.9185   0.0936  \n",
       "2024-01-01   0.7522   0.8823  \n",
       "2024-01-01   0.9726   0.5751  "
      ]
     },
     "execution_count": 9,
     "metadata": {},
     "output_type": "execute_result"
    }
   ],
   "source": [
    "df = pd.read_csv('../../data/historical/2024_clean_scaled.csv', parse_dates=['fecha'])\n",
    "df = df.set_index('fecha')\n",
    "df.head()"
   ]
  },
  {
   "cell_type": "code",
   "execution_count": 10,
   "id": "2dd17bdb-8e5d-4d34-898d-9670309dfa9e",
   "metadata": {},
   "outputs": [],
   "source": [
    "def create_dataset(data, target_idx, time_step=1):\n",
    "    X, y = [], []\n",
    "    for i in range(len(data) - time_step - 1):\n",
    "        X.append(data[i:(i + time_step), target_idx]) \n",
    "        y.append(data[i + time_step, target_idx]) \n",
    "    return np.array(X), np.array(y)"
   ]
  },
  {
   "cell_type": "code",
   "execution_count": 11,
   "id": "623dfe73-56d8-4247-8599-c3318d9f305b",
   "metadata": {},
   "outputs": [
    {
     "data": {
      "text/plain": [
       "0"
      ]
     },
     "execution_count": 11,
     "metadata": {},
     "output_type": "execute_result"
    }
   ],
   "source": [
    "target_idx = df.columns.get_loc(target)\n",
    "target_idx"
   ]
  },
  {
   "cell_type": "code",
   "execution_count": 13,
   "id": "07280bef-4e69-44d3-9e7a-6584d210c3b4",
   "metadata": {},
   "outputs": [],
   "source": [
    "time_step = 100 \n",
    "X, y = create_dataset(df.values, target_idx, time_step)\n",
    "X = X.reshape(X.shape[0], X.shape[1], 1)"
   ]
  },
  {
   "cell_type": "code",
   "execution_count": 14,
   "id": "1baeb92a-42b6-45ab-a159-d944cf5c0351",
   "metadata": {},
   "outputs": [
    {
     "data": {
      "text/plain": [
       "((323443, 100, 1), (323443,))"
      ]
     },
     "execution_count": 14,
     "metadata": {},
     "output_type": "execute_result"
    }
   ],
   "source": [
    "X.shape, y.shape"
   ]
  },
  {
   "cell_type": "code",
   "execution_count": 15,
   "id": "e0b6b3c6-056c-4c64-9e39-55d7a91d42fa",
   "metadata": {},
   "outputs": [],
   "source": [
    "def create_gru():\n",
    "    model = Sequential()\n",
    "    model.add(Input(shape=(X.shape[1], X.shape[2])))\n",
    "    model.add(GRU(units=50, return_sequences=True))\n",
    "    model.add(GRU(units=50))\n",
    "    model.add(Dense(units=1))\n",
    "    \n",
    "    return model"
   ]
  },
  {
   "cell_type": "code",
   "execution_count": 17,
   "id": "3dba1254-0e9c-47f4-966f-bb577b097af4",
   "metadata": {},
   "outputs": [],
   "source": [
    "model = create_gru()\n",
    "model.compile(optimizer=Adam(learning_rate=0.001), loss='mean_squared_error')"
   ]
  },
  {
   "cell_type": "code",
   "execution_count": 19,
   "id": "6b10923b-3d1a-40ca-b353-8b189ea818ca",
   "metadata": {},
   "outputs": [
    {
     "name": "stdout",
     "output_type": "stream",
     "text": [
      "\u001b[1m315/315\u001b[0m \u001b[32m━━━━━━━━━━━━━━━━━━━━\u001b[0m\u001b[37m\u001b[0m \u001b[1m7s\u001b[0m 21ms/step - loss: 0.0076\n"
     ]
    },
    {
     "data": {
      "text/plain": [
       "<keras.src.callbacks.history.History at 0x7faa7d21e890>"
      ]
     },
     "execution_count": 19,
     "metadata": {},
     "output_type": "execute_result"
    }
   ],
   "source": [
    "model.fit(X, y, epochs=1, batch_size=1028)"
   ]
  }
 ],
 "metadata": {
  "kernelspec": {
   "display_name": "proyecto_meteorologico",
   "language": "python",
   "name": "proyecto_meteorologico"
  },
  "language_info": {
   "codemirror_mode": {
    "name": "ipython",
    "version": 3
   },
   "file_extension": ".py",
   "mimetype": "text/x-python",
   "name": "python",
   "nbconvert_exporter": "python",
   "pygments_lexer": "ipython3",
   "version": "3.11.11"
  }
 },
 "nbformat": 4,
 "nbformat_minor": 5
}

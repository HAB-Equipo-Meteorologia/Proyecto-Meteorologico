{
 "cells": [
  {
   "cell_type": "markdown",
   "id": "96a2baa0-047d-4dd2-942a-0e280cd37ddf",
   "metadata": {},
   "source": [
    "# Setup"
   ]
  },
  {
   "cell_type": "code",
   "execution_count": 3,
   "id": "1590b3a9-2c51-47df-9548-8614ad55353e",
   "metadata": {},
   "outputs": [],
   "source": [
    "import numpy as np\n",
    "import pandas as pd\n",
    "import joblib\n",
    "import matplotlib.pyplot as plt\n",
    "import helpers\n",
    "from sklearn.preprocessing import MinMaxScaler\n",
    "import tensorflow as tf\n",
    "from tensorflow.keras import backend as K\n",
    "from tensorflow.keras import mixed_precision\n",
    "from tensorflow.keras.losses import MeanSquaredError, MeanAbsoluteError\n",
    "from tensorflow.keras.models import Sequential\n",
    "from tensorflow.keras.layers import GRU, SimpleRNN, LSTM, Dense, Input, BatchNormalization, Dropout, LeakyReLU\n",
    "from tensorflow.keras.optimizers import Nadam"
   ]
  },
  {
   "cell_type": "code",
   "execution_count": 4,
   "id": "a2b49fb0-da81-4213-9c49-0175eb404707",
   "metadata": {},
   "outputs": [],
   "source": [
    "policy = mixed_precision.Policy('mixed_float16')\n",
    "mixed_precision.set_global_policy(policy)"
   ]
  },
  {
   "cell_type": "code",
   "execution_count": 5,
   "id": "a4c9a17e-fe56-4cc5-970e-f729588bad16",
   "metadata": {},
   "outputs": [],
   "source": [
    "target = 'tmed'\n",
    "np.random.seed(42)"
   ]
  },
  {
   "cell_type": "code",
   "execution_count": 6,
   "id": "a2dd37e7-6264-42f4-9954-160f87783e3b",
   "metadata": {},
   "outputs": [],
   "source": [
    "n_days = 7\n",
    "batch_size = 1024\n",
    "metrics = ['mean_absolute_error', 'root_mean_squared_error', 'r2_score']"
   ]
  },
  {
   "cell_type": "code",
   "execution_count": 6,
   "id": "94d077ce-6d75-4a78-a40b-40213a981bad",
   "metadata": {},
   "outputs": [],
   "source": [
    "scaler_y_train = joblib.load('../../backend/data/ml/scalers/scaler_y_train.joblib')"
   ]
  },
  {
   "cell_type": "code",
   "execution_count": 7,
   "id": "3ba41681-7c04-400e-ba6a-afab9255dbdd",
   "metadata": {},
   "outputs": [],
   "source": [
    "train, validation, test, full = helpers.load_datasets()"
   ]
  },
  {
   "cell_type": "code",
   "execution_count": 8,
   "id": "b162980d-0cd0-4f23-8d2d-abde7ebe5294",
   "metadata": {},
   "outputs": [],
   "source": [
    "train_dates = train.index\n",
    "val_dates = validation.index\n",
    "test_dates = test.index\n",
    "full_dates = full.index"
   ]
  },
  {
   "cell_type": "code",
   "execution_count": 9,
   "id": "6f6a111e-c97b-4f56-99b6-d03e199165da",
   "metadata": {},
   "outputs": [],
   "source": [
    "X_train = train.drop(columns=[target])\n",
    "y_train = train[target]\n",
    "\n",
    "X_val = validation.drop(columns=[target])\n",
    "y_val = validation[target]\n",
    "\n",
    "X_test = test.drop(columns=[target])\n",
    "y_test = test[target]\n",
    "\n",
    "X_full = full.drop(columns=[target])\n",
    "y_full = full[target]"
   ]
  },
  {
   "cell_type": "code",
   "execution_count": null,
   "id": "f4f8a6db-c4b0-4fcb-90e7-789def64cbd1",
   "metadata": {},
   "outputs": [],
   "source": [
    "X_train_seq, y_train_seq, train_dates_seq = helpers.create_sequences(X_train, y_train, train_dates, n_days)"
   ]
  },
  {
   "cell_type": "code",
   "execution_count": 10,
   "id": "4a6b5ba8-8ad6-4c38-9b8d-e3cbb376fae0",
   "metadata": {},
   "outputs": [],
   "source": [
    "X_val_seq, y_val_seq, val_dates_seq = helpers.create_sequences(X_val, y_val, val_dates, n_days)"
   ]
  },
  {
   "cell_type": "code",
   "execution_count": 11,
   "id": "45c3657b-363f-4221-aa5b-419790d274c6",
   "metadata": {},
   "outputs": [],
   "source": [
    "X_test_seq, y_test_seq, test_dates_seq = helpers.create_sequences(X_test, y_test, test_dates, n_days)"
   ]
  },
  {
   "cell_type": "code",
   "execution_count": 10,
   "id": "3e82ecaf-69cd-4a32-a37d-a4756fad8f67",
   "metadata": {},
   "outputs": [],
   "source": [
    "X_full_seq, y_full_seq, full_dates_seq = helpers.create_sequences(X_full, y_full, full_dates, n_days)"
   ]
  },
  {
   "cell_type": "code",
   "execution_count": 11,
   "id": "78a88420-53fb-45d8-9680-7ea0adfec3e4",
   "metadata": {},
   "outputs": [],
   "source": [
    "shape = (n_days, X_full_seq.shape[2])"
   ]
  },
  {
   "cell_type": "code",
   "execution_count": 14,
   "id": "12740aa2-d0c2-454b-a0a4-17696fe3199e",
   "metadata": {},
   "outputs": [],
   "source": [
    "val_data = (X_val_seq, y_val_seq)"
   ]
  },
  {
   "cell_type": "code",
   "execution_count": 199,
   "id": "0f1e0dec-b5aa-4d27-9318-16587882e6b5",
   "metadata": {},
   "outputs": [],
   "source": [
    "scaler = MinMaxScaler(feature_range=(0, 1))"
   ]
  },
  {
   "cell_type": "markdown",
   "id": "769c4cd5-f5d2-4d8d-9050-a7f63acd83a9",
   "metadata": {},
   "source": [
    "# GRU"
   ]
  },
  {
   "cell_type": "code",
   "execution_count": null,
   "id": "74e49cc0-b105-4a59-902f-41e46f518a5f",
   "metadata": {},
   "outputs": [],
   "source": [
    "# Yo habría probado usar capas densas en conjunto con las recurrentes\n",
    "# Luego de eso, si se ve overfit, añadir alguna capa para regularizar no estaría mal (ej Dropout)\n",
    "\n",
    "def create_gru(shape):\n",
    "\n",
    "    model = Sequential()\n",
    "\n",
    "    model.add(Input(shape=shape))\n",
    "\n",
    "    model.add(GRU(units=64))\n",
    "    model.add(Dense(units=64, activation=\"relu\"))\n",
    "    model.add(Dense(units=32, activation=\"relu\"))\n",
    "\n",
    "    model.add(Dense(units=1))\n",
    "\n",
    "    return model\n",
    "\n",
    "# def create_gru(shape):\n",
    "\n",
    "#     model = Sequential()\n",
    "\n",
    "#     model.add(Input(shape=shape))\n",
    "\n",
    "#     model.add(GRU(units=50, return_sequences=True))\n",
    "#     model.add(GRU(units=50))\n",
    "\n",
    "#     model.add(Dense(units=1))\n",
    "\n",
    "#     return model"
   ]
  },
  {
   "cell_type": "code",
   "execution_count": 137,
   "id": "7d5d161f-0aca-4c38-81b9-7b55b983cd56",
   "metadata": {},
   "outputs": [],
   "source": [
    "train_model_gru = create_gru(shape)\n",
    "train_model_gru.compile(optimizer=Nadam(learning_rate=0.006), loss='mean_squared_error', metrics=metrics)"
   ]
  },
  {
   "cell_type": "code",
   "execution_count": 138,
   "id": "6b10923b-3d1a-40ca-b353-8b189ea818ca",
   "metadata": {
    "collapsed": true,
    "jupyter": {
     "outputs_hidden": true
    }
   },
   "outputs": [
    {
     "name": "stdout",
     "output_type": "stream",
     "text": [
      "Epoch 1/10\n",
      "\u001b[1m3174/3174\u001b[0m \u001b[32m━━━━━━━━━━━━━━━━━━━━\u001b[0m\u001b[37m\u001b[0m \u001b[1m17s\u001b[0m 5ms/step - loss: 0.0069 - mean_absolute_error: 0.0590 - r2_score: 0.5600 - root_mean_squared_error: 0.0790 - val_loss: 0.0050 - val_mean_absolute_error: 0.0558 - val_r2_score: 0.6884 - val_root_mean_squared_error: 0.0705\n",
      "Epoch 2/10\n",
      "\u001b[1m3174/3174\u001b[0m \u001b[32m━━━━━━━━━━━━━━━━━━━━\u001b[0m\u001b[37m\u001b[0m \u001b[1m15s\u001b[0m 5ms/step - loss: 0.0047 - mean_absolute_error: 0.0544 - r2_score: 0.7003 - root_mean_squared_error: 0.0685 - val_loss: 0.0047 - val_mean_absolute_error: 0.0539 - val_r2_score: 0.7047 - val_root_mean_squared_error: 0.0686\n",
      "Epoch 3/10\n",
      "\u001b[1m3174/3174\u001b[0m \u001b[32m━━━━━━━━━━━━━━━━━━━━\u001b[0m\u001b[37m\u001b[0m \u001b[1m17s\u001b[0m 5ms/step - loss: 0.0042 - mean_absolute_error: 0.0507 - r2_score: 0.7327 - root_mean_squared_error: 0.0646 - val_loss: 0.0045 - val_mean_absolute_error: 0.0521 - val_r2_score: 0.7176 - val_root_mean_squared_error: 0.0671\n",
      "Epoch 4/10\n",
      "\u001b[1m3174/3174\u001b[0m \u001b[32m━━━━━━━━━━━━━━━━━━━━\u001b[0m\u001b[37m\u001b[0m \u001b[1m16s\u001b[0m 5ms/step - loss: 0.0038 - mean_absolute_error: 0.0476 - r2_score: 0.7580 - root_mean_squared_error: 0.0615 - val_loss: 0.0045 - val_mean_absolute_error: 0.0519 - val_r2_score: 0.7177 - val_root_mean_squared_error: 0.0671\n",
      "Epoch 5/10\n",
      "\u001b[1m3174/3174\u001b[0m \u001b[32m━━━━━━━━━━━━━━━━━━━━\u001b[0m\u001b[37m\u001b[0m \u001b[1m17s\u001b[0m 5ms/step - loss: 0.0036 - mean_absolute_error: 0.0463 - r2_score: 0.7687 - root_mean_squared_error: 0.0602 - val_loss: 0.0043 - val_mean_absolute_error: 0.0505 - val_r2_score: 0.7287 - val_root_mean_squared_error: 0.0658\n",
      "Epoch 6/10\n",
      "\u001b[1m3174/3174\u001b[0m \u001b[32m━━━━━━━━━━━━━━━━━━━━\u001b[0m\u001b[37m\u001b[0m \u001b[1m16s\u001b[0m 5ms/step - loss: 0.0035 - mean_absolute_error: 0.0455 - r2_score: 0.7751 - root_mean_squared_error: 0.0593 - val_loss: 0.0043 - val_mean_absolute_error: 0.0503 - val_r2_score: 0.7297 - val_root_mean_squared_error: 0.0657\n",
      "Epoch 7/10\n",
      "\u001b[1m3174/3174\u001b[0m \u001b[32m━━━━━━━━━━━━━━━━━━━━\u001b[0m\u001b[37m\u001b[0m \u001b[1m15s\u001b[0m 5ms/step - loss: 0.0035 - mean_absolute_error: 0.0450 - r2_score: 0.7794 - root_mean_squared_error: 0.0587 - val_loss: 0.0043 - val_mean_absolute_error: 0.0500 - val_r2_score: 0.7329 - val_root_mean_squared_error: 0.0653\n",
      "Epoch 8/10\n",
      "\u001b[1m3174/3174\u001b[0m \u001b[32m━━━━━━━━━━━━━━━━━━━━\u001b[0m\u001b[37m\u001b[0m \u001b[1m16s\u001b[0m 5ms/step - loss: 0.0034 - mean_absolute_error: 0.0446 - r2_score: 0.7823 - root_mean_squared_error: 0.0584 - val_loss: 0.0043 - val_mean_absolute_error: 0.0504 - val_r2_score: 0.7302 - val_root_mean_squared_error: 0.0656\n",
      "Epoch 9/10\n",
      "\u001b[1m3174/3174\u001b[0m \u001b[32m━━━━━━━━━━━━━━━━━━━━\u001b[0m\u001b[37m\u001b[0m \u001b[1m15s\u001b[0m 5ms/step - loss: 0.0034 - mean_absolute_error: 0.0443 - r2_score: 0.7849 - root_mean_squared_error: 0.0580 - val_loss: 0.0043 - val_mean_absolute_error: 0.0502 - val_r2_score: 0.7311 - val_root_mean_squared_error: 0.0655\n",
      "Epoch 10/10\n",
      "\u001b[1m3174/3174\u001b[0m \u001b[32m━━━━━━━━━━━━━━━━━━━━\u001b[0m\u001b[37m\u001b[0m \u001b[1m15s\u001b[0m 5ms/step - loss: 0.0033 - mean_absolute_error: 0.0440 - r2_score: 0.7870 - root_mean_squared_error: 0.0577 - val_loss: 0.0042 - val_mean_absolute_error: 0.0498 - val_r2_score: 0.7352 - val_root_mean_squared_error: 0.0650\n"
     ]
    }
   ],
   "source": [
    "K.clear_session()\n",
    "tf.compat.v1.reset_default_graph()\n",
    "gru_history = train_model_gru.fit(X_train_seq, y_train_seq, epochs=10, batch_size=batch_size, validation_data=val_data)"
   ]
  },
  {
   "cell_type": "code",
   "execution_count": 239,
   "id": "45826658-0dc7-4d64-9ab4-4a8bc0514693",
   "metadata": {},
   "outputs": [
    {
     "data": {
      "text/html": [
       "<div>\n",
       "<style scoped>\n",
       "    .dataframe tbody tr th:only-of-type {\n",
       "        vertical-align: middle;\n",
       "    }\n",
       "\n",
       "    .dataframe tbody tr th {\n",
       "        vertical-align: top;\n",
       "    }\n",
       "\n",
       "    .dataframe thead th {\n",
       "        text-align: right;\n",
       "    }\n",
       "</style>\n",
       "<table border=\"1\" class=\"dataframe\">\n",
       "  <thead>\n",
       "    <tr style=\"text-align: right;\">\n",
       "      <th></th>\n",
       "      <th>loss</th>\n",
       "      <th>mean_absolute_error</th>\n",
       "      <th>r2_score</th>\n",
       "      <th>root_mean_squared_error</th>\n",
       "      <th>val_loss</th>\n",
       "      <th>val_mean_absolute_error</th>\n",
       "      <th>val_r2_score</th>\n",
       "      <th>val_root_mean_squared_error</th>\n",
       "    </tr>\n",
       "  </thead>\n",
       "  <tbody>\n",
       "    <tr>\n",
       "      <th>0</th>\n",
       "      <td>0.005113</td>\n",
       "      <td>0.055953</td>\n",
       "      <td>0.673245</td>\n",
       "      <td>0.071505</td>\n",
       "      <td>0.004972</td>\n",
       "      <td>0.055819</td>\n",
       "      <td>0.688355</td>\n",
       "      <td>0.070515</td>\n",
       "    </tr>\n",
       "    <tr>\n",
       "      <th>1</th>\n",
       "      <td>0.004577</td>\n",
       "      <td>0.053588</td>\n",
       "      <td>0.707534</td>\n",
       "      <td>0.067651</td>\n",
       "      <td>0.004712</td>\n",
       "      <td>0.053904</td>\n",
       "      <td>0.704669</td>\n",
       "      <td>0.068644</td>\n",
       "    </tr>\n",
       "    <tr>\n",
       "      <th>2</th>\n",
       "      <td>0.004056</td>\n",
       "      <td>0.049735</td>\n",
       "      <td>0.740784</td>\n",
       "      <td>0.063688</td>\n",
       "      <td>0.004505</td>\n",
       "      <td>0.052066</td>\n",
       "      <td>0.717637</td>\n",
       "      <td>0.067120</td>\n",
       "    </tr>\n",
       "    <tr>\n",
       "      <th>3</th>\n",
       "      <td>0.003738</td>\n",
       "      <td>0.047243</td>\n",
       "      <td>0.761122</td>\n",
       "      <td>0.061140</td>\n",
       "      <td>0.004503</td>\n",
       "      <td>0.051872</td>\n",
       "      <td>0.717747</td>\n",
       "      <td>0.067107</td>\n",
       "    </tr>\n",
       "    <tr>\n",
       "      <th>4</th>\n",
       "      <td>0.003596</td>\n",
       "      <td>0.046108</td>\n",
       "      <td>0.770207</td>\n",
       "      <td>0.059965</td>\n",
       "      <td>0.004328</td>\n",
       "      <td>0.050491</td>\n",
       "      <td>0.728715</td>\n",
       "      <td>0.065790</td>\n",
       "    </tr>\n",
       "    <tr>\n",
       "      <th>5</th>\n",
       "      <td>0.003507</td>\n",
       "      <td>0.045399</td>\n",
       "      <td>0.775885</td>\n",
       "      <td>0.059221</td>\n",
       "      <td>0.004312</td>\n",
       "      <td>0.050323</td>\n",
       "      <td>0.729741</td>\n",
       "      <td>0.065666</td>\n",
       "    </tr>\n",
       "    <tr>\n",
       "      <th>6</th>\n",
       "      <td>0.003447</td>\n",
       "      <td>0.044921</td>\n",
       "      <td>0.779756</td>\n",
       "      <td>0.058707</td>\n",
       "      <td>0.004262</td>\n",
       "      <td>0.050029</td>\n",
       "      <td>0.732851</td>\n",
       "      <td>0.065287</td>\n",
       "    </tr>\n",
       "    <tr>\n",
       "      <th>7</th>\n",
       "      <td>0.003402</td>\n",
       "      <td>0.044559</td>\n",
       "      <td>0.782626</td>\n",
       "      <td>0.058323</td>\n",
       "      <td>0.004305</td>\n",
       "      <td>0.050426</td>\n",
       "      <td>0.730181</td>\n",
       "      <td>0.065612</td>\n",
       "    </tr>\n",
       "    <tr>\n",
       "      <th>8</th>\n",
       "      <td>0.003365</td>\n",
       "      <td>0.044269</td>\n",
       "      <td>0.784980</td>\n",
       "      <td>0.058005</td>\n",
       "      <td>0.004291</td>\n",
       "      <td>0.050191</td>\n",
       "      <td>0.731088</td>\n",
       "      <td>0.065502</td>\n",
       "    </tr>\n",
       "    <tr>\n",
       "      <th>9</th>\n",
       "      <td>0.003336</td>\n",
       "      <td>0.044049</td>\n",
       "      <td>0.786817</td>\n",
       "      <td>0.057758</td>\n",
       "      <td>0.004225</td>\n",
       "      <td>0.049815</td>\n",
       "      <td>0.735198</td>\n",
       "      <td>0.065000</td>\n",
       "    </tr>\n",
       "  </tbody>\n",
       "</table>\n",
       "</div>"
      ],
      "text/plain": [
       "       loss  mean_absolute_error  r2_score  root_mean_squared_error  val_loss  \\\n",
       "0  0.005113             0.055953  0.673245                 0.071505  0.004972   \n",
       "1  0.004577             0.053588  0.707534                 0.067651  0.004712   \n",
       "2  0.004056             0.049735  0.740784                 0.063688  0.004505   \n",
       "3  0.003738             0.047243  0.761122                 0.061140  0.004503   \n",
       "4  0.003596             0.046108  0.770207                 0.059965  0.004328   \n",
       "5  0.003507             0.045399  0.775885                 0.059221  0.004312   \n",
       "6  0.003447             0.044921  0.779756                 0.058707  0.004262   \n",
       "7  0.003402             0.044559  0.782626                 0.058323  0.004305   \n",
       "8  0.003365             0.044269  0.784980                 0.058005  0.004291   \n",
       "9  0.003336             0.044049  0.786817                 0.057758  0.004225   \n",
       "\n",
       "   val_mean_absolute_error  val_r2_score  val_root_mean_squared_error  \n",
       "0                 0.055819      0.688355                     0.070515  \n",
       "1                 0.053904      0.704669                     0.068644  \n",
       "2                 0.052066      0.717637                     0.067120  \n",
       "3                 0.051872      0.717747                     0.067107  \n",
       "4                 0.050491      0.728715                     0.065790  \n",
       "5                 0.050323      0.729741                     0.065666  \n",
       "6                 0.050029      0.732851                     0.065287  \n",
       "7                 0.050426      0.730181                     0.065612  \n",
       "8                 0.050191      0.731088                     0.065502  \n",
       "9                 0.049815      0.735198                     0.065000  "
      ]
     },
     "execution_count": 239,
     "metadata": {},
     "output_type": "execute_result"
    }
   ],
   "source": [
    "gru_history_df = pd.DataFrame(gru_history.history)\n",
    "gru_history_df.to_csv('../../frontend/resources/models/history/csv/gru.csv', index=False)\n",
    "gru_history_df"
   ]
  },
  {
   "cell_type": "code",
   "execution_count": 218,
   "id": "b16a1583-bf17-41da-b53c-e4911dff876a",
   "metadata": {},
   "outputs": [
    {
     "data": {
      "text/html": [
       "<div>\n",
       "<style scoped>\n",
       "    .dataframe tbody tr th:only-of-type {\n",
       "        vertical-align: middle;\n",
       "    }\n",
       "\n",
       "    .dataframe tbody tr th {\n",
       "        vertical-align: top;\n",
       "    }\n",
       "\n",
       "    .dataframe thead th {\n",
       "        text-align: right;\n",
       "    }\n",
       "</style>\n",
       "<table border=\"1\" class=\"dataframe\">\n",
       "  <thead>\n",
       "    <tr style=\"text-align: right;\">\n",
       "      <th></th>\n",
       "      <th>loss</th>\n",
       "      <th>mean_absolute_error</th>\n",
       "      <th>r2_score</th>\n",
       "      <th>root_mean_squared_error</th>\n",
       "      <th>val_loss</th>\n",
       "      <th>val_mean_absolute_error</th>\n",
       "      <th>val_r2_score</th>\n",
       "      <th>val_root_mean_squared_error</th>\n",
       "    </tr>\n",
       "  </thead>\n",
       "  <tbody>\n",
       "    <tr>\n",
       "      <th>0</th>\n",
       "      <td>1.000000</td>\n",
       "      <td>1.000000</td>\n",
       "      <td>0.000000</td>\n",
       "      <td>1.000000</td>\n",
       "      <td>1.000000</td>\n",
       "      <td>1.000000</td>\n",
       "      <td>0.000000</td>\n",
       "      <td>1.000000</td>\n",
       "    </tr>\n",
       "    <tr>\n",
       "      <th>1</th>\n",
       "      <td>0.698136</td>\n",
       "      <td>0.801346</td>\n",
       "      <td>0.301919</td>\n",
       "      <td>0.719595</td>\n",
       "      <td>0.651735</td>\n",
       "      <td>0.680934</td>\n",
       "      <td>0.348266</td>\n",
       "      <td>0.660856</td>\n",
       "    </tr>\n",
       "    <tr>\n",
       "      <th>2</th>\n",
       "      <td>0.405251</td>\n",
       "      <td>0.477672</td>\n",
       "      <td>0.594684</td>\n",
       "      <td>0.431337</td>\n",
       "      <td>0.374905</td>\n",
       "      <td>0.374865</td>\n",
       "      <td>0.625096</td>\n",
       "      <td>0.384537</td>\n",
       "    </tr>\n",
       "    <tr>\n",
       "      <th>3</th>\n",
       "      <td>0.226261</td>\n",
       "      <td>0.268345</td>\n",
       "      <td>0.773751</td>\n",
       "      <td>0.245987</td>\n",
       "      <td>0.372543</td>\n",
       "      <td>0.342578</td>\n",
       "      <td>0.627459</td>\n",
       "      <td>0.382153</td>\n",
       "    </tr>\n",
       "    <tr>\n",
       "      <th>4</th>\n",
       "      <td>0.146200</td>\n",
       "      <td>0.173005</td>\n",
       "      <td>0.853753</td>\n",
       "      <td>0.160532</td>\n",
       "      <td>0.138407</td>\n",
       "      <td>0.112509</td>\n",
       "      <td>0.861593</td>\n",
       "      <td>0.143407</td>\n",
       "    </tr>\n",
       "    <tr>\n",
       "      <th>5</th>\n",
       "      <td>0.096265</td>\n",
       "      <td>0.113439</td>\n",
       "      <td>0.903745</td>\n",
       "      <td>0.106375</td>\n",
       "      <td>0.116500</td>\n",
       "      <td>0.084620</td>\n",
       "      <td>0.883499</td>\n",
       "      <td>0.120825</td>\n",
       "    </tr>\n",
       "    <tr>\n",
       "      <th>6</th>\n",
       "      <td>0.062191</td>\n",
       "      <td>0.073272</td>\n",
       "      <td>0.937831</td>\n",
       "      <td>0.069025</td>\n",
       "      <td>0.050113</td>\n",
       "      <td>0.035528</td>\n",
       "      <td>0.949887</td>\n",
       "      <td>0.052124</td>\n",
       "    </tr>\n",
       "    <tr>\n",
       "      <th>7</th>\n",
       "      <td>0.036854</td>\n",
       "      <td>0.042823</td>\n",
       "      <td>0.963102</td>\n",
       "      <td>0.041039</td>\n",
       "      <td>0.107102</td>\n",
       "      <td>0.101698</td>\n",
       "      <td>0.892897</td>\n",
       "      <td>0.111122</td>\n",
       "    </tr>\n",
       "    <tr>\n",
       "      <th>8</th>\n",
       "      <td>0.016094</td>\n",
       "      <td>0.018498</td>\n",
       "      <td>0.983823</td>\n",
       "      <td>0.017970</td>\n",
       "      <td>0.087746</td>\n",
       "      <td>0.062555</td>\n",
       "      <td>0.912253</td>\n",
       "      <td>0.091117</td>\n",
       "    </tr>\n",
       "    <tr>\n",
       "      <th>9</th>\n",
       "      <td>0.000000</td>\n",
       "      <td>0.000000</td>\n",
       "      <td>1.000000</td>\n",
       "      <td>0.000000</td>\n",
       "      <td>0.000000</td>\n",
       "      <td>0.000000</td>\n",
       "      <td>1.000000</td>\n",
       "      <td>0.000000</td>\n",
       "    </tr>\n",
       "  </tbody>\n",
       "</table>\n",
       "</div>"
      ],
      "text/plain": [
       "       loss  mean_absolute_error  r2_score  root_mean_squared_error  val_loss  \\\n",
       "0  1.000000             1.000000  0.000000                 1.000000  1.000000   \n",
       "1  0.698136             0.801346  0.301919                 0.719595  0.651735   \n",
       "2  0.405251             0.477672  0.594684                 0.431337  0.374905   \n",
       "3  0.226261             0.268345  0.773751                 0.245987  0.372543   \n",
       "4  0.146200             0.173005  0.853753                 0.160532  0.138407   \n",
       "5  0.096265             0.113439  0.903745                 0.106375  0.116500   \n",
       "6  0.062191             0.073272  0.937831                 0.069025  0.050113   \n",
       "7  0.036854             0.042823  0.963102                 0.041039  0.107102   \n",
       "8  0.016094             0.018498  0.983823                 0.017970  0.087746   \n",
       "9  0.000000             0.000000  1.000000                 0.000000  0.000000   \n",
       "\n",
       "   val_mean_absolute_error  val_r2_score  val_root_mean_squared_error  \n",
       "0                 1.000000      0.000000                     1.000000  \n",
       "1                 0.680934      0.348266                     0.660856  \n",
       "2                 0.374865      0.625096                     0.384537  \n",
       "3                 0.342578      0.627459                     0.382153  \n",
       "4                 0.112509      0.861593                     0.143407  \n",
       "5                 0.084620      0.883499                     0.120825  \n",
       "6                 0.035528      0.949887                     0.052124  \n",
       "7                 0.101698      0.892897                     0.111122  \n",
       "8                 0.062555      0.912253                     0.091117  \n",
       "9                 0.000000      1.000000                     0.000000  "
      ]
     },
     "execution_count": 218,
     "metadata": {},
     "output_type": "execute_result"
    }
   ],
   "source": [
    "gru_history_df_scaled = pd.DataFrame(scaler.fit_transform(gru_history_df), columns=gru_history_df.columns)\n",
    "gru_history_df_scaled"
   ]
  },
  {
   "cell_type": "code",
   "execution_count": 139,
   "id": "88e9de6b-1fa5-4264-8bbf-49926541bb17",
   "metadata": {},
   "outputs": [
    {
     "name": "stdout",
     "output_type": "stream",
     "text": [
      "\u001b[1m21849/21849\u001b[0m \u001b[32m━━━━━━━━━━━━━━━━━━━━\u001b[0m\u001b[37m\u001b[0m \u001b[1m41s\u001b[0m 2ms/step - loss: 0.0048 - mean_absolute_error: 0.0531 - r2_score: 0.6449 - root_mean_squared_error: 0.0694\n"
     ]
    }
   ],
   "source": [
    "gru_metrics = train_model_gru.evaluate(X_test_seq, y_test_seq)"
   ]
  },
  {
   "cell_type": "code",
   "execution_count": 140,
   "id": "aeaef602-5b62-4668-9158-960631964e2a",
   "metadata": {},
   "outputs": [
    {
     "name": "stdout",
     "output_type": "stream",
     "text": [
      "\u001b[1m21849/21849\u001b[0m \u001b[32m━━━━━━━━━━━━━━━━━━━━\u001b[0m\u001b[37m\u001b[0m \u001b[1m18s\u001b[0m 801us/step\n"
     ]
    }
   ],
   "source": [
    "gru_y_pred_seq = train_model_gru.predict(X_test_seq)"
   ]
  },
  {
   "cell_type": "code",
   "execution_count": 238,
   "id": "315edad9-6a75-4372-8c35-5712ce3d1022",
   "metadata": {},
   "outputs": [
    {
     "data": {
      "text/html": [
       "<div>\n",
       "<style scoped>\n",
       "    .dataframe tbody tr th:only-of-type {\n",
       "        vertical-align: middle;\n",
       "    }\n",
       "\n",
       "    .dataframe tbody tr th {\n",
       "        vertical-align: top;\n",
       "    }\n",
       "\n",
       "    .dataframe thead th {\n",
       "        text-align: right;\n",
       "    }\n",
       "</style>\n",
       "<table border=\"1\" class=\"dataframe\">\n",
       "  <thead>\n",
       "    <tr style=\"text-align: right;\">\n",
       "      <th></th>\n",
       "      <th>Model</th>\n",
       "      <th>MSE</th>\n",
       "      <th>MAE</th>\n",
       "      <th>RMSE</th>\n",
       "      <th>R2</th>\n",
       "    </tr>\n",
       "  </thead>\n",
       "  <tbody>\n",
       "    <tr>\n",
       "      <th>0</th>\n",
       "      <td>GRU</td>\n",
       "      <td>0.004981</td>\n",
       "      <td>0.054277</td>\n",
       "      <td>0.070575</td>\n",
       "      <td>0.689429</td>\n",
       "    </tr>\n",
       "  </tbody>\n",
       "</table>\n",
       "</div>"
      ],
      "text/plain": [
       "  Model       MSE       MAE      RMSE        R2\n",
       "0   GRU  0.004981  0.054277  0.070575  0.689429"
      ]
     },
     "execution_count": 238,
     "metadata": {},
     "output_type": "execute_result"
    }
   ],
   "source": [
    "gru_metrics_df = helpers.metrics_df('GRU', gru_metrics)\n",
    "gru_metrics_df.to_csv('../../frontend/resources/models/metrics/gru.csv', index=False)\n",
    "gru_metrics_df"
   ]
  },
  {
   "cell_type": "code",
   "execution_count": 142,
   "id": "ad70dc27-8d9d-46b0-9a02-41aa102d53dd",
   "metadata": {},
   "outputs": [],
   "source": [
    "gru_y_pred, gru_y_test, gru_difference = helpers.inverse_predictions(gru_y_pred_seq, y_test_seq, scaler_y_train)"
   ]
  },
  {
   "cell_type": "code",
   "execution_count": 237,
   "id": "b18d80d9-bc38-4c0e-b481-8863d54e2c0f",
   "metadata": {},
   "outputs": [
    {
     "data": {
      "text/html": [
       "<div>\n",
       "<style scoped>\n",
       "    .dataframe tbody tr th:only-of-type {\n",
       "        vertical-align: middle;\n",
       "    }\n",
       "\n",
       "    .dataframe tbody tr th {\n",
       "        vertical-align: top;\n",
       "    }\n",
       "\n",
       "    .dataframe thead th {\n",
       "        text-align: right;\n",
       "    }\n",
       "</style>\n",
       "<table border=\"1\" class=\"dataframe\">\n",
       "  <thead>\n",
       "    <tr style=\"text-align: right;\">\n",
       "      <th></th>\n",
       "      <th>fecha</th>\n",
       "      <th>actual_mean</th>\n",
       "      <th>actual_min</th>\n",
       "      <th>actual_max</th>\n",
       "      <th>actual_std</th>\n",
       "      <th>predicted_mean</th>\n",
       "      <th>predicted_min</th>\n",
       "      <th>predicted_max</th>\n",
       "      <th>predicted_std</th>\n",
       "    </tr>\n",
       "  </thead>\n",
       "  <tbody>\n",
       "    <tr>\n",
       "      <th>0</th>\n",
       "      <td>2023-01-01</td>\n",
       "      <td>12.538392</td>\n",
       "      <td>1.70042</td>\n",
       "      <td>22.19802</td>\n",
       "      <td>3.418742</td>\n",
       "      <td>11.741107</td>\n",
       "      <td>6.294677</td>\n",
       "      <td>19.328323</td>\n",
       "      <td>1.734991</td>\n",
       "    </tr>\n",
       "    <tr>\n",
       "      <th>1</th>\n",
       "      <td>2023-01-02</td>\n",
       "      <td>10.296912</td>\n",
       "      <td>-0.80051</td>\n",
       "      <td>21.30125</td>\n",
       "      <td>4.043459</td>\n",
       "      <td>10.267680</td>\n",
       "      <td>3.226587</td>\n",
       "      <td>20.115284</td>\n",
       "      <td>1.807020</td>\n",
       "    </tr>\n",
       "    <tr>\n",
       "      <th>2</th>\n",
       "      <td>2023-01-03</td>\n",
       "      <td>9.300819</td>\n",
       "      <td>-2.19858</td>\n",
       "      <td>21.80255</td>\n",
       "      <td>4.564409</td>\n",
       "      <td>9.641691</td>\n",
       "      <td>2.649850</td>\n",
       "      <td>19.100275</td>\n",
       "      <td>2.221143</td>\n",
       "    </tr>\n",
       "    <tr>\n",
       "      <th>3</th>\n",
       "      <td>2023-01-04</td>\n",
       "      <td>9.353709</td>\n",
       "      <td>-0.49973</td>\n",
       "      <td>21.40151</td>\n",
       "      <td>4.595705</td>\n",
       "      <td>9.553359</td>\n",
       "      <td>3.820453</td>\n",
       "      <td>19.182291</td>\n",
       "      <td>2.047590</td>\n",
       "    </tr>\n",
       "    <tr>\n",
       "      <th>4</th>\n",
       "      <td>2023-01-05</td>\n",
       "      <td>8.972093</td>\n",
       "      <td>-0.80051</td>\n",
       "      <td>21.40151</td>\n",
       "      <td>4.497757</td>\n",
       "      <td>9.325142</td>\n",
       "      <td>2.494161</td>\n",
       "      <td>19.379030</td>\n",
       "      <td>2.110607</td>\n",
       "    </tr>\n",
       "  </tbody>\n",
       "</table>\n",
       "</div>"
      ],
      "text/plain": [
       "       fecha  actual_mean  actual_min  actual_max  actual_std  predicted_mean  \\\n",
       "0 2023-01-01    12.538392     1.70042    22.19802    3.418742       11.741107   \n",
       "1 2023-01-02    10.296912    -0.80051    21.30125    4.043459       10.267680   \n",
       "2 2023-01-03     9.300819    -2.19858    21.80255    4.564409        9.641691   \n",
       "3 2023-01-04     9.353709    -0.49973    21.40151    4.595705        9.553359   \n",
       "4 2023-01-05     8.972093    -0.80051    21.40151    4.497757        9.325142   \n",
       "\n",
       "   predicted_min  predicted_max  predicted_std  \n",
       "0       6.294677      19.328323       1.734991  \n",
       "1       3.226587      20.115284       1.807020  \n",
       "2       2.649850      19.100275       2.221143  \n",
       "3       3.820453      19.182291       2.047590  \n",
       "4       2.494161      19.379030       2.110607  "
      ]
     },
     "execution_count": 237,
     "metadata": {},
     "output_type": "execute_result"
    }
   ],
   "source": [
    "gru_daily_stats = helpers.daily_stats(gru_y_pred, gru_y_test, gru_difference, test_dates_seq)\n",
    "gru_daily_stats.to_csv('../../frontend/resources/models/daily_stats/csv/gru.csv', index=False)\n",
    "gru_daily_stats.head()"
   ]
  },
  {
   "cell_type": "code",
   "execution_count": null,
   "id": "0a78dc4a-9c79-4b5d-bdc2-4b4e026ac7db",
   "metadata": {
    "scrolled": true
   },
   "outputs": [],
   "source": [
    "gru_daily_stats_fig = helpers.daily_stats_comparison('GRU', gru_daily_stats)\n",
    "gru_daily_stats_fig.write_html('../../frontend/resources/models/daily_stats/figures/gru.html')\n",
    "gru_daily_stats_fig.show()"
   ]
  },
  {
   "cell_type": "code",
   "execution_count": null,
   "id": "52e49d35-063e-4500-9e2f-bbf6941760aa",
   "metadata": {},
   "outputs": [],
   "source": [
    "gru_difference_fig = helpers.difference_histogram('GRU', gru_difference)\n",
    "gru_difference_fig.write_html('../../frontend/resources/models/differences/gru.html')\n",
    "gru_difference_fig.show()"
   ]
  },
  {
   "cell_type": "code",
   "execution_count": null,
   "id": "6341a36b-4b9e-45e9-9eed-dbd8c8a9abd1",
   "metadata": {},
   "outputs": [],
   "source": [
    "gru_training_history_fig = helpers.training_history('GRU', gru_history.history)\n",
    "gru_training_history_fig.write_html('../../frontend/resources/models/history/figures/gru.html')\n",
    "gru_training_history_fig.show()"
   ]
  },
  {
   "cell_type": "code",
   "execution_count": null,
   "id": "d5612e3d-b13e-4f85-8793-d8454ae44fc2",
   "metadata": {},
   "outputs": [],
   "source": [
    "gru_training_history_scaled_fig = helpers.training_history_scaled('GRU', gru_history_df_scaled, gru_history_df)\n",
    "gru_training_history_scaled_fig.write_html('../../frontend/resources/models/history/figures/gru_scaled.html')\n",
    "gru_training_history_scaled_fig.show()"
   ]
  },
  {
   "cell_type": "code",
   "execution_count": 13,
   "id": "c76ce2d3-6004-42e5-a5a7-dc23bba1dcff",
   "metadata": {},
   "outputs": [
    {
     "name": "stderr",
     "output_type": "stream",
     "text": [
      "I0000 00:00:1741575519.084598   11544 gpu_device.cc:2022] Created device /job:localhost/replica:0/task:0/device:GPU:0 with 5983 MB memory:  -> device: 0, name: NVIDIA GeForce RTX 4060 Laptop GPU, pci bus id: 0000:01:00.0, compute capability: 8.9\n"
     ]
    }
   ],
   "source": [
    "final_model_gru = create_gru(shape)\n",
    "final_model_gru.compile(optimizer=Nadam(learning_rate=0.006), loss='mean_squared_error', metrics=metrics)"
   ]
  },
  {
   "cell_type": "code",
   "execution_count": 14,
   "id": "ee8b32ae-a1f7-4cb8-84ca-2bdd5673a2a4",
   "metadata": {},
   "outputs": [
    {
     "name": "stdout",
     "output_type": "stream",
     "text": [
      "Epoch 1/8\n"
     ]
    },
    {
     "name": "stderr",
     "output_type": "stream",
     "text": [
      "2025-03-10 03:58:42.011354: E tensorflow/core/util/util.cc:131] oneDNN supports DT_HALF only on platforms with AVX-512. Falling back to the default Eigen-based implementation if present.\n",
      "I0000 00:00:1741575522.102609   11908 cuda_dnn.cc:529] Loaded cuDNN version 90600\n"
     ]
    },
    {
     "name": "stdout",
     "output_type": "stream",
     "text": [
      "\u001b[1m4476/4476\u001b[0m \u001b[32m━━━━━━━━━━━━━━━━━━━━\u001b[0m\u001b[37m\u001b[0m \u001b[1m23s\u001b[0m 5ms/step - loss: 0.0064 - mean_absolute_error: 0.0585 - r2_score: 0.5836 - root_mean_squared_error: 0.0772 \n",
      "Epoch 2/8\n",
      "\u001b[1m4476/4476\u001b[0m \u001b[32m━━━━━━━━━━━━━━━━━━━━\u001b[0m\u001b[37m\u001b[0m \u001b[1m21s\u001b[0m 5ms/step - loss: 0.0046 - mean_absolute_error: 0.0539 - r2_score: 0.6957 - root_mean_squared_error: 0.0682\n",
      "Epoch 3/8\n",
      "\u001b[1m4476/4476\u001b[0m \u001b[32m━━━━━━━━━━━━━━━━━━━━\u001b[0m\u001b[37m\u001b[0m \u001b[1m21s\u001b[0m 5ms/step - loss: 0.0041 - mean_absolute_error: 0.0500 - r2_score: 0.7304 - root_mean_squared_error: 0.0641\n",
      "Epoch 4/8\n",
      "\u001b[1m4476/4476\u001b[0m \u001b[32m━━━━━━━━━━━━━━━━━━━━\u001b[0m\u001b[37m\u001b[0m \u001b[1m21s\u001b[0m 5ms/step - loss: 0.0038 - mean_absolute_error: 0.0477 - r2_score: 0.7500 - root_mean_squared_error: 0.0618\n",
      "Epoch 5/8\n",
      "\u001b[1m4476/4476\u001b[0m \u001b[32m━━━━━━━━━━━━━━━━━━━━\u001b[0m\u001b[37m\u001b[0m \u001b[1m21s\u001b[0m 5ms/step - loss: 0.0037 - mean_absolute_error: 0.0467 - r2_score: 0.7581 - root_mean_squared_error: 0.0608\n",
      "Epoch 6/8\n",
      "\u001b[1m4476/4476\u001b[0m \u001b[32m━━━━━━━━━━━━━━━━━━━━\u001b[0m\u001b[37m\u001b[0m \u001b[1m21s\u001b[0m 5ms/step - loss: 0.0036 - mean_absolute_error: 0.0461 - r2_score: 0.7627 - root_mean_squared_error: 0.0602\n",
      "Epoch 7/8\n",
      "\u001b[1m4476/4476\u001b[0m \u001b[32m━━━━━━━━━━━━━━━━━━━━\u001b[0m\u001b[37m\u001b[0m \u001b[1m21s\u001b[0m 5ms/step - loss: 0.0036 - mean_absolute_error: 0.0457 - r2_score: 0.7664 - root_mean_squared_error: 0.0597\n",
      "Epoch 8/8\n",
      "\u001b[1m4476/4476\u001b[0m \u001b[32m━━━━━━━━━━━━━━━━━━━━\u001b[0m\u001b[37m\u001b[0m \u001b[1m21s\u001b[0m 5ms/step - loss: 0.0035 - mean_absolute_error: 0.0454 - r2_score: 0.7685 - root_mean_squared_error: 0.0594\n"
     ]
    },
    {
     "data": {
      "text/plain": [
       "<keras.src.callbacks.history.History at 0x7f4e83a89b10>"
      ]
     },
     "execution_count": 14,
     "metadata": {},
     "output_type": "execute_result"
    }
   ],
   "source": [
    "K.clear_session()\n",
    "tf.compat.v1.reset_default_graph()\n",
    "final_model_gru.fit(X_full_seq, y_full_seq, epochs=8, batch_size=batch_size)"
   ]
  },
  {
   "cell_type": "code",
   "execution_count": 15,
   "id": "87b008c1-5bc8-4d7a-8000-93613bb67da1",
   "metadata": {},
   "outputs": [],
   "source": [
    "final_model_gru.save('../../backend/data/ml/models/gru.keras')"
   ]
  },
  {
   "cell_type": "markdown",
   "id": "f9a8bd64-4cbc-4b52-a0cc-85eb20265d1a",
   "metadata": {},
   "source": [
    "# SimpleRNN"
   ]
  },
  {
   "cell_type": "code",
   "execution_count": null,
   "id": "66f520a5-57ea-495e-8eb8-f1142d7a143e",
   "metadata": {},
   "outputs": [],
   "source": [
    "# Igual que con las GRU\n",
    "\n",
    "def create_simplernn(shape):\n",
    "    \n",
    "    model = Sequential()\n",
    "    \n",
    "    model.add(Input(shape=shape))\n",
    "\n",
    "    \n",
    "    model.add(SimpleRNN(units=50, return_sequences=True))\n",
    "    model.add(SimpleRNN(units=50))\n",
    "    \n",
    "    model.add(Dense(units=1))\n",
    "    \n",
    "    return model"
   ]
  },
  {
   "cell_type": "code",
   "execution_count": 85,
   "id": "10b0b172-425c-4952-a123-54c798c9e3d2",
   "metadata": {},
   "outputs": [],
   "source": [
    "train_model_simplernn = create_simplernn(shape)\n",
    "train_model_simplernn.compile(optimizer=Nadam(learning_rate=0.001), loss='mean_squared_error', metrics=metrics)"
   ]
  },
  {
   "cell_type": "code",
   "execution_count": 86,
   "id": "9d8d5b8b-6633-436b-afc8-75f4852f1db2",
   "metadata": {
    "collapsed": true,
    "jupyter": {
     "outputs_hidden": true
    }
   },
   "outputs": [
    {
     "name": "stdout",
     "output_type": "stream",
     "text": [
      "Epoch 1/5\n",
      "\u001b[1m3174/3174\u001b[0m \u001b[32m━━━━━━━━━━━━━━━━━━━━\u001b[0m\u001b[37m\u001b[0m \u001b[1m11s\u001b[0m 3ms/step - loss: 0.0080 - mean_absolute_error: 0.0637 - r2_score: 0.4891 - root_mean_squared_error: 0.0848 - val_loss: 0.0054 - val_mean_absolute_error: 0.0583 - val_r2_score: 0.6635 - val_root_mean_squared_error: 0.0733\n",
      "Epoch 2/5\n",
      "\u001b[1m3174/3174\u001b[0m \u001b[32m━━━━━━━━━━━━━━━━━━━━\u001b[0m\u001b[37m\u001b[0m \u001b[1m9s\u001b[0m 3ms/step - loss: 0.0049 - mean_absolute_error: 0.0557 - r2_score: 0.6858 - root_mean_squared_error: 0.0701 - val_loss: 0.0051 - val_mean_absolute_error: 0.0564 - val_r2_score: 0.6833 - val_root_mean_squared_error: 0.0711\n",
      "Epoch 3/5\n",
      "\u001b[1m3174/3174\u001b[0m \u001b[32m━━━━━━━━━━━━━━━━━━━━\u001b[0m\u001b[37m\u001b[0m \u001b[1m9s\u001b[0m 3ms/step - loss: 0.0048 - mean_absolute_error: 0.0550 - r2_score: 0.6942 - root_mean_squared_error: 0.0692 - val_loss: 0.0052 - val_mean_absolute_error: 0.0567 - val_r2_score: 0.6766 - val_root_mean_squared_error: 0.0718\n",
      "Epoch 4/5\n",
      "\u001b[1m3174/3174\u001b[0m \u001b[32m━━━━━━━━━━━━━━━━━━━━\u001b[0m\u001b[37m\u001b[0m \u001b[1m9s\u001b[0m 3ms/step - loss: 0.0047 - mean_absolute_error: 0.0544 - r2_score: 0.6993 - root_mean_squared_error: 0.0686 - val_loss: 0.0049 - val_mean_absolute_error: 0.0553 - val_r2_score: 0.6913 - val_root_mean_squared_error: 0.0702\n",
      "Epoch 5/5\n",
      "\u001b[1m3174/3174\u001b[0m \u001b[32m━━━━━━━━━━━━━━━━━━━━\u001b[0m\u001b[37m\u001b[0m \u001b[1m8s\u001b[0m 3ms/step - loss: 0.0046 - mean_absolute_error: 0.0539 - r2_score: 0.7039 - root_mean_squared_error: 0.0681 - val_loss: 0.0049 - val_mean_absolute_error: 0.0551 - val_r2_score: 0.6939 - val_root_mean_squared_error: 0.0699\n"
     ]
    }
   ],
   "source": [
    "K.clear_session()\n",
    "tf.compat.v1.reset_default_graph()\n",
    "simplernn_history = train_model_simplernn.fit(X_train_seq, y_train_seq, epochs=5, batch_size=batch_size, validation_data=val_data)"
   ]
  },
  {
   "cell_type": "code",
   "execution_count": 240,
   "id": "158b3f18-21d0-4f7a-8d4d-34d70e0ba036",
   "metadata": {},
   "outputs": [
    {
     "data": {
      "text/html": [
       "<div>\n",
       "<style scoped>\n",
       "    .dataframe tbody tr th:only-of-type {\n",
       "        vertical-align: middle;\n",
       "    }\n",
       "\n",
       "    .dataframe tbody tr th {\n",
       "        vertical-align: top;\n",
       "    }\n",
       "\n",
       "    .dataframe thead th {\n",
       "        text-align: right;\n",
       "    }\n",
       "</style>\n",
       "<table border=\"1\" class=\"dataframe\">\n",
       "  <thead>\n",
       "    <tr style=\"text-align: right;\">\n",
       "      <th></th>\n",
       "      <th>loss</th>\n",
       "      <th>mean_absolute_error</th>\n",
       "      <th>r2_score</th>\n",
       "      <th>root_mean_squared_error</th>\n",
       "      <th>val_loss</th>\n",
       "      <th>val_mean_absolute_error</th>\n",
       "      <th>val_r2_score</th>\n",
       "      <th>val_root_mean_squared_error</th>\n",
       "    </tr>\n",
       "  </thead>\n",
       "  <tbody>\n",
       "    <tr>\n",
       "      <th>0</th>\n",
       "      <td>0.005538</td>\n",
       "      <td>0.058092</td>\n",
       "      <td>0.646109</td>\n",
       "      <td>0.074415</td>\n",
       "      <td>0.005369</td>\n",
       "      <td>0.058289</td>\n",
       "      <td>0.663474</td>\n",
       "      <td>0.073276</td>\n",
       "    </tr>\n",
       "    <tr>\n",
       "      <th>1</th>\n",
       "      <td>0.004878</td>\n",
       "      <td>0.055524</td>\n",
       "      <td>0.688260</td>\n",
       "      <td>0.069843</td>\n",
       "      <td>0.005053</td>\n",
       "      <td>0.056448</td>\n",
       "      <td>0.683290</td>\n",
       "      <td>0.071085</td>\n",
       "    </tr>\n",
       "    <tr>\n",
       "      <th>2</th>\n",
       "      <td>0.004766</td>\n",
       "      <td>0.054841</td>\n",
       "      <td>0.695407</td>\n",
       "      <td>0.069039</td>\n",
       "      <td>0.005160</td>\n",
       "      <td>0.056659</td>\n",
       "      <td>0.676578</td>\n",
       "      <td>0.071835</td>\n",
       "    </tr>\n",
       "    <tr>\n",
       "      <th>3</th>\n",
       "      <td>0.004688</td>\n",
       "      <td>0.054322</td>\n",
       "      <td>0.700411</td>\n",
       "      <td>0.068470</td>\n",
       "      <td>0.004925</td>\n",
       "      <td>0.055273</td>\n",
       "      <td>0.691299</td>\n",
       "      <td>0.070181</td>\n",
       "    </tr>\n",
       "    <tr>\n",
       "      <th>4</th>\n",
       "      <td>0.004617</td>\n",
       "      <td>0.053826</td>\n",
       "      <td>0.704915</td>\n",
       "      <td>0.067952</td>\n",
       "      <td>0.004885</td>\n",
       "      <td>0.055118</td>\n",
       "      <td>0.693856</td>\n",
       "      <td>0.069890</td>\n",
       "    </tr>\n",
       "  </tbody>\n",
       "</table>\n",
       "</div>"
      ],
      "text/plain": [
       "       loss  mean_absolute_error  r2_score  root_mean_squared_error  val_loss  \\\n",
       "0  0.005538             0.058092  0.646109                 0.074415  0.005369   \n",
       "1  0.004878             0.055524  0.688260                 0.069843  0.005053   \n",
       "2  0.004766             0.054841  0.695407                 0.069039  0.005160   \n",
       "3  0.004688             0.054322  0.700411                 0.068470  0.004925   \n",
       "4  0.004617             0.053826  0.704915                 0.067952  0.004885   \n",
       "\n",
       "   val_mean_absolute_error  val_r2_score  val_root_mean_squared_error  \n",
       "0                 0.058289      0.663474                     0.073276  \n",
       "1                 0.056448      0.683290                     0.071085  \n",
       "2                 0.056659      0.676578                     0.071835  \n",
       "3                 0.055273      0.691299                     0.070181  \n",
       "4                 0.055118      0.693856                     0.069890  "
      ]
     },
     "execution_count": 240,
     "metadata": {},
     "output_type": "execute_result"
    }
   ],
   "source": [
    "simplernn_history_df = pd.DataFrame(simplernn_history.history)\n",
    "simplernn_history_df.to_csv('../../frontend/resources/models/history/csv/simplernn.csv', index=False)\n",
    "simplernn_history_df"
   ]
  },
  {
   "cell_type": "code",
   "execution_count": 219,
   "id": "ec383c29-ca85-4edd-a06a-a9ae72d7868e",
   "metadata": {},
   "outputs": [
    {
     "data": {
      "text/html": [
       "<div>\n",
       "<style scoped>\n",
       "    .dataframe tbody tr th:only-of-type {\n",
       "        vertical-align: middle;\n",
       "    }\n",
       "\n",
       "    .dataframe tbody tr th {\n",
       "        vertical-align: top;\n",
       "    }\n",
       "\n",
       "    .dataframe thead th {\n",
       "        text-align: right;\n",
       "    }\n",
       "</style>\n",
       "<table border=\"1\" class=\"dataframe\">\n",
       "  <thead>\n",
       "    <tr style=\"text-align: right;\">\n",
       "      <th></th>\n",
       "      <th>loss</th>\n",
       "      <th>mean_absolute_error</th>\n",
       "      <th>r2_score</th>\n",
       "      <th>root_mean_squared_error</th>\n",
       "      <th>val_loss</th>\n",
       "      <th>val_mean_absolute_error</th>\n",
       "      <th>val_r2_score</th>\n",
       "      <th>val_root_mean_squared_error</th>\n",
       "    </tr>\n",
       "  </thead>\n",
       "  <tbody>\n",
       "    <tr>\n",
       "      <th>0</th>\n",
       "      <td>1.000000</td>\n",
       "      <td>1.000000</td>\n",
       "      <td>0.000000</td>\n",
       "      <td>1.000000</td>\n",
       "      <td>1.000000</td>\n",
       "      <td>1.000000</td>\n",
       "      <td>0.000000</td>\n",
       "      <td>1.000000</td>\n",
       "    </tr>\n",
       "    <tr>\n",
       "      <th>1</th>\n",
       "      <td>0.283164</td>\n",
       "      <td>0.397983</td>\n",
       "      <td>0.716791</td>\n",
       "      <td>0.292561</td>\n",
       "      <td>0.347760</td>\n",
       "      <td>0.419497</td>\n",
       "      <td>0.652241</td>\n",
       "      <td>0.353163</td>\n",
       "    </tr>\n",
       "    <tr>\n",
       "      <th>2</th>\n",
       "      <td>0.161762</td>\n",
       "      <td>0.238015</td>\n",
       "      <td>0.838321</td>\n",
       "      <td>0.168111</td>\n",
       "      <td>0.568689</td>\n",
       "      <td>0.485887</td>\n",
       "      <td>0.431310</td>\n",
       "      <td>0.574471</td>\n",
       "    </tr>\n",
       "    <tr>\n",
       "      <th>3</th>\n",
       "      <td>0.076710</td>\n",
       "      <td>0.116355</td>\n",
       "      <td>0.923421</td>\n",
       "      <td>0.080053</td>\n",
       "      <td>0.084143</td>\n",
       "      <td>0.048806</td>\n",
       "      <td>0.915856</td>\n",
       "      <td>0.086003</td>\n",
       "    </tr>\n",
       "    <tr>\n",
       "      <th>4</th>\n",
       "      <td>0.000000</td>\n",
       "      <td>0.000000</td>\n",
       "      <td>1.000000</td>\n",
       "      <td>0.000000</td>\n",
       "      <td>0.000000</td>\n",
       "      <td>0.000000</td>\n",
       "      <td>1.000000</td>\n",
       "      <td>0.000000</td>\n",
       "    </tr>\n",
       "  </tbody>\n",
       "</table>\n",
       "</div>"
      ],
      "text/plain": [
       "       loss  mean_absolute_error  r2_score  root_mean_squared_error  val_loss  \\\n",
       "0  1.000000             1.000000  0.000000                 1.000000  1.000000   \n",
       "1  0.283164             0.397983  0.716791                 0.292561  0.347760   \n",
       "2  0.161762             0.238015  0.838321                 0.168111  0.568689   \n",
       "3  0.076710             0.116355  0.923421                 0.080053  0.084143   \n",
       "4  0.000000             0.000000  1.000000                 0.000000  0.000000   \n",
       "\n",
       "   val_mean_absolute_error  val_r2_score  val_root_mean_squared_error  \n",
       "0                 1.000000      0.000000                     1.000000  \n",
       "1                 0.419497      0.652241                     0.353163  \n",
       "2                 0.485887      0.431310                     0.574471  \n",
       "3                 0.048806      0.915856                     0.086003  \n",
       "4                 0.000000      1.000000                     0.000000  "
      ]
     },
     "execution_count": 219,
     "metadata": {},
     "output_type": "execute_result"
    }
   ],
   "source": [
    "simplernn_history_df_scaled = pd.DataFrame(scaler.fit_transform(simplernn_history_df), columns=simplernn_history_df.columns)\n",
    "simplernn_history_df_scaled"
   ]
  },
  {
   "cell_type": "code",
   "execution_count": 87,
   "id": "dd724297-3c50-4004-9568-222e41f96edd",
   "metadata": {},
   "outputs": [
    {
     "name": "stdout",
     "output_type": "stream",
     "text": [
      "\u001b[1m21849/21849\u001b[0m \u001b[32m━━━━━━━━━━━━━━━━━━━━\u001b[0m\u001b[37m\u001b[0m \u001b[1m32s\u001b[0m 1ms/step - loss: 0.0053 - mean_absolute_error: 0.0569 - r2_score: 0.6094 - root_mean_squared_error: 0.0727\n"
     ]
    }
   ],
   "source": [
    "simplernn_metrics = train_model_simplernn.evaluate(X_test_seq, y_test_seq)"
   ]
  },
  {
   "cell_type": "code",
   "execution_count": 88,
   "id": "99fd9fc1-5c9d-4894-ab0f-183da68ffde0",
   "metadata": {},
   "outputs": [
    {
     "name": "stdout",
     "output_type": "stream",
     "text": [
      "\u001b[1m21849/21849\u001b[0m \u001b[32m━━━━━━━━━━━━━━━━━━━━\u001b[0m\u001b[37m\u001b[0m \u001b[1m19s\u001b[0m 858us/step\n"
     ]
    }
   ],
   "source": [
    "simplernn_y_pred_seq = train_model_simplernn.predict(X_test_seq)"
   ]
  },
  {
   "cell_type": "code",
   "execution_count": 236,
   "id": "5976a7cc-8d55-4cea-be94-244411b99ad3",
   "metadata": {},
   "outputs": [
    {
     "data": {
      "text/html": [
       "<div>\n",
       "<style scoped>\n",
       "    .dataframe tbody tr th:only-of-type {\n",
       "        vertical-align: middle;\n",
       "    }\n",
       "\n",
       "    .dataframe tbody tr th {\n",
       "        vertical-align: top;\n",
       "    }\n",
       "\n",
       "    .dataframe thead th {\n",
       "        text-align: right;\n",
       "    }\n",
       "</style>\n",
       "<table border=\"1\" class=\"dataframe\">\n",
       "  <thead>\n",
       "    <tr style=\"text-align: right;\">\n",
       "      <th></th>\n",
       "      <th>Model</th>\n",
       "      <th>MSE</th>\n",
       "      <th>MAE</th>\n",
       "      <th>RMSE</th>\n",
       "      <th>R2</th>\n",
       "    </tr>\n",
       "  </thead>\n",
       "  <tbody>\n",
       "    <tr>\n",
       "      <th>0</th>\n",
       "      <td>SimpleRNN</td>\n",
       "      <td>0.005284</td>\n",
       "      <td>0.05695</td>\n",
       "      <td>0.072688</td>\n",
       "      <td>0.670547</td>\n",
       "    </tr>\n",
       "  </tbody>\n",
       "</table>\n",
       "</div>"
      ],
      "text/plain": [
       "       Model       MSE      MAE      RMSE        R2\n",
       "0  SimpleRNN  0.005284  0.05695  0.072688  0.670547"
      ]
     },
     "execution_count": 236,
     "metadata": {},
     "output_type": "execute_result"
    }
   ],
   "source": [
    "simplernn_metrics_df = helpers.metrics_df('SimpleRNN', simplernn_metrics)\n",
    "simplernn_metrics_df.to_csv('../../frontend/resources/models/metrics/simplernn.csv', index=False)\n",
    "simplernn_metrics_df"
   ]
  },
  {
   "cell_type": "code",
   "execution_count": 171,
   "id": "a7c5b545-ffd5-414c-a813-ac528631b5ca",
   "metadata": {},
   "outputs": [],
   "source": [
    "simplernn_y_pred, simplernn_y_test, simplernn_difference = helpers.inverse_predictions(simplernn_y_pred_seq, y_test_seq, scaler_y_train)"
   ]
  },
  {
   "cell_type": "code",
   "execution_count": 235,
   "id": "2aa4caae-6f28-499d-a419-e0c82744419a",
   "metadata": {},
   "outputs": [
    {
     "data": {
      "text/html": [
       "<div>\n",
       "<style scoped>\n",
       "    .dataframe tbody tr th:only-of-type {\n",
       "        vertical-align: middle;\n",
       "    }\n",
       "\n",
       "    .dataframe tbody tr th {\n",
       "        vertical-align: top;\n",
       "    }\n",
       "\n",
       "    .dataframe thead th {\n",
       "        text-align: right;\n",
       "    }\n",
       "</style>\n",
       "<table border=\"1\" class=\"dataframe\">\n",
       "  <thead>\n",
       "    <tr style=\"text-align: right;\">\n",
       "      <th></th>\n",
       "      <th>fecha</th>\n",
       "      <th>actual_mean</th>\n",
       "      <th>actual_min</th>\n",
       "      <th>actual_max</th>\n",
       "      <th>actual_std</th>\n",
       "      <th>predicted_mean</th>\n",
       "      <th>predicted_min</th>\n",
       "      <th>predicted_max</th>\n",
       "      <th>predicted_std</th>\n",
       "    </tr>\n",
       "  </thead>\n",
       "  <tbody>\n",
       "    <tr>\n",
       "      <th>0</th>\n",
       "      <td>2023-01-01</td>\n",
       "      <td>12.538392</td>\n",
       "      <td>1.70042</td>\n",
       "      <td>22.19802</td>\n",
       "      <td>3.418742</td>\n",
       "      <td>11.701744</td>\n",
       "      <td>7.919505</td>\n",
       "      <td>18.245699</td>\n",
       "      <td>1.075005</td>\n",
       "    </tr>\n",
       "    <tr>\n",
       "      <th>1</th>\n",
       "      <td>2023-01-02</td>\n",
       "      <td>10.296912</td>\n",
       "      <td>-0.80051</td>\n",
       "      <td>21.30125</td>\n",
       "      <td>4.043459</td>\n",
       "      <td>10.470489</td>\n",
       "      <td>7.451316</td>\n",
       "      <td>14.641874</td>\n",
       "      <td>0.966112</td>\n",
       "    </tr>\n",
       "    <tr>\n",
       "      <th>2</th>\n",
       "      <td>2023-01-03</td>\n",
       "      <td>9.300819</td>\n",
       "      <td>-2.19858</td>\n",
       "      <td>21.80255</td>\n",
       "      <td>4.564409</td>\n",
       "      <td>9.833611</td>\n",
       "      <td>6.246911</td>\n",
       "      <td>16.821663</td>\n",
       "      <td>1.089722</td>\n",
       "    </tr>\n",
       "    <tr>\n",
       "      <th>3</th>\n",
       "      <td>2023-01-04</td>\n",
       "      <td>9.353709</td>\n",
       "      <td>-0.49973</td>\n",
       "      <td>21.40151</td>\n",
       "      <td>4.595705</td>\n",
       "      <td>9.801921</td>\n",
       "      <td>4.791089</td>\n",
       "      <td>16.304659</td>\n",
       "      <td>1.131123</td>\n",
       "    </tr>\n",
       "    <tr>\n",
       "      <th>4</th>\n",
       "      <td>2023-01-05</td>\n",
       "      <td>8.972093</td>\n",
       "      <td>-0.80051</td>\n",
       "      <td>21.40151</td>\n",
       "      <td>4.497757</td>\n",
       "      <td>9.547573</td>\n",
       "      <td>6.088550</td>\n",
       "      <td>16.119761</td>\n",
       "      <td>1.122485</td>\n",
       "    </tr>\n",
       "  </tbody>\n",
       "</table>\n",
       "</div>"
      ],
      "text/plain": [
       "       fecha  actual_mean  actual_min  actual_max  actual_std  predicted_mean  \\\n",
       "0 2023-01-01    12.538392     1.70042    22.19802    3.418742       11.701744   \n",
       "1 2023-01-02    10.296912    -0.80051    21.30125    4.043459       10.470489   \n",
       "2 2023-01-03     9.300819    -2.19858    21.80255    4.564409        9.833611   \n",
       "3 2023-01-04     9.353709    -0.49973    21.40151    4.595705        9.801921   \n",
       "4 2023-01-05     8.972093    -0.80051    21.40151    4.497757        9.547573   \n",
       "\n",
       "   predicted_min  predicted_max  predicted_std  \n",
       "0       7.919505      18.245699       1.075005  \n",
       "1       7.451316      14.641874       0.966112  \n",
       "2       6.246911      16.821663       1.089722  \n",
       "3       4.791089      16.304659       1.131123  \n",
       "4       6.088550      16.119761       1.122485  "
      ]
     },
     "execution_count": 235,
     "metadata": {},
     "output_type": "execute_result"
    }
   ],
   "source": [
    "simplernn_daily_stats = helpers.daily_stats(simplernn_y_pred, simplernn_y_test, simplernn_difference, test_dates_seq)\n",
    "simplernn_daily_stats.to_csv('../../frontend/resources/models/daily_stats/csv/simplernn.csv', index=False)\n",
    "simplernn_daily_stats.head()"
   ]
  },
  {
   "cell_type": "code",
   "execution_count": null,
   "id": "4f2d82e4-ba0a-4c49-9b0d-88878f43d876",
   "metadata": {},
   "outputs": [],
   "source": [
    "simplernn_daily_stats_fig = helpers.daily_stats_comparison('SimpleRNN', simplernn_daily_stats)\n",
    "simplernn_daily_stats_fig.write_html('../../frontend/resources/models/daily_stats/figures/simplernn.html')\n",
    "simplernn_daily_stats_fig.show()"
   ]
  },
  {
   "cell_type": "code",
   "execution_count": null,
   "id": "396c774f-9761-4c4b-990e-6eafa7c53375",
   "metadata": {},
   "outputs": [],
   "source": [
    "simplernn_difference_fig = helpers.difference_histogram('SimpleRNN', simplernn_difference)\n",
    "simplernn_difference_fig.write_html('../../frontend/resources/models/differences/simplernn.html')\n",
    "simplernn_difference_fig.show()"
   ]
  },
  {
   "cell_type": "code",
   "execution_count": null,
   "id": "95c9d454-2227-4092-8585-2163cf045d80",
   "metadata": {},
   "outputs": [],
   "source": [
    "simplernn_training_history_fig = helpers.training_history('SimpleRNN', simplernn_history.history)\n",
    "simplernn_training_history_fig.write_html('../../frontend/resources/models/history/figures/simplernn.html')\n",
    "simplernn_training_history_fig.show()"
   ]
  },
  {
   "cell_type": "code",
   "execution_count": null,
   "id": "97bd1177-085d-473e-8a44-7a41580d4bcb",
   "metadata": {},
   "outputs": [],
   "source": [
    "simplernn_training_history_scaled_fig = helpers.training_history_scaled('SimpleRNN', simplernn_history_df_scaled, simplernn_history_df)\n",
    "simplernn_training_history_scaled_fig.write_html('../../frontend/resources/models/history/figures/simplernn_scaled.html')\n",
    "simplernn_training_history_scaled_fig.show()"
   ]
  },
  {
   "cell_type": "code",
   "execution_count": 95,
   "id": "df7254b0-e29a-47a0-a463-9dfcb9c63999",
   "metadata": {},
   "outputs": [],
   "source": [
    "final_model_simplernn = create_simplernn(shape)\n",
    "final_model_simplernn.compile(optimizer=Nadam(learning_rate=0.001), loss='mean_squared_error', metrics=metrics)"
   ]
  },
  {
   "cell_type": "code",
   "execution_count": 96,
   "id": "93ceb0e2-fee4-4f61-b9cd-1d7aec22104f",
   "metadata": {},
   "outputs": [
    {
     "name": "stdout",
     "output_type": "stream",
     "text": [
      "Epoch 1/5\n",
      "\u001b[1m4476/4476\u001b[0m \u001b[32m━━━━━━━━━━━━━━━━━━━━\u001b[0m\u001b[37m\u001b[0m \u001b[1m14s\u001b[0m 3ms/step - loss: 0.0160 - mean_absolute_error: 0.0703 - r2_score: -0.0514 - root_mean_squared_error: 0.1074\n",
      "Epoch 2/5\n",
      "\u001b[1m4476/4476\u001b[0m \u001b[32m━━━━━━━━━━━━━━━━━━━━\u001b[0m\u001b[37m\u001b[0m \u001b[1m11s\u001b[0m 2ms/step - loss: 0.0050 - mean_absolute_error: 0.0559 - r2_score: 0.6745 - root_mean_squared_error: 0.0705\n",
      "Epoch 3/5\n",
      "\u001b[1m4476/4476\u001b[0m \u001b[32m━━━━━━━━━━━━━━━━━━━━\u001b[0m\u001b[37m\u001b[0m \u001b[1m12s\u001b[0m 3ms/step - loss: 0.0048 - mean_absolute_error: 0.0549 - r2_score: 0.6853 - root_mean_squared_error: 0.0693\n",
      "Epoch 4/5\n",
      "\u001b[1m4476/4476\u001b[0m \u001b[32m━━━━━━━━━━━━━━━━━━━━\u001b[0m\u001b[37m\u001b[0m \u001b[1m11s\u001b[0m 2ms/step - loss: 0.0047 - mean_absolute_error: 0.0542 - r2_score: 0.6921 - root_mean_squared_error: 0.0685\n",
      "Epoch 5/5\n",
      "\u001b[1m4476/4476\u001b[0m \u001b[32m━━━━━━━━━━━━━━━━━━━━\u001b[0m\u001b[37m\u001b[0m \u001b[1m11s\u001b[0m 2ms/step - loss: 0.0046 - mean_absolute_error: 0.0537 - r2_score: 0.6977 - root_mean_squared_error: 0.0679\n"
     ]
    },
    {
     "data": {
      "text/plain": [
       "<keras.src.callbacks.history.History at 0x7f7d557104d0>"
      ]
     },
     "execution_count": 96,
     "metadata": {},
     "output_type": "execute_result"
    }
   ],
   "source": [
    "K.clear_session()\n",
    "tf.compat.v1.reset_default_graph()\n",
    "final_model_simplernn.fit(X_full_seq, y_full_seq, epochs=5, batch_size=batch_size)"
   ]
  },
  {
   "cell_type": "code",
   "execution_count": 97,
   "id": "84a7111c-d57a-44f1-a40b-bb43b76adaf9",
   "metadata": {},
   "outputs": [],
   "source": [
    "final_model_simplernn.save('../../backend/data/ml/models/simplernn.keras')"
   ]
  },
  {
   "cell_type": "markdown",
   "id": "9269c7f1-bc33-4dac-a28e-4481afaa8cdf",
   "metadata": {},
   "source": [
    "# LSTM"
   ]
  },
  {
   "cell_type": "code",
   "execution_count": null,
   "id": "2cc4942c-aed3-470c-9ae9-7c70d81bbde8",
   "metadata": {},
   "outputs": [],
   "source": [
    "# Igual que con las GRU\n",
    "\n",
    "def create_lstm(shape):\n",
    "    \n",
    "    model = Sequential()\n",
    "    \n",
    "    model.add(Input(shape=shape))\n",
    "    \n",
    "    model.add(LSTM(units=50, return_sequences=True))\n",
    "    model.add(LSTM(units=50))\n",
    "    \n",
    "    model.add(Dense(units=1))\n",
    "    \n",
    "    return model"
   ]
  },
  {
   "cell_type": "code",
   "execution_count": 112,
   "id": "89386b16-3dac-49ce-82cc-a15cdc0c1cc7",
   "metadata": {},
   "outputs": [],
   "source": [
    "train_model_lstm = create_lstm(shape)\n",
    "train_model_lstm.compile(optimizer=Nadam(learning_rate=0.01), loss='mean_squared_error', metrics=metrics)"
   ]
  },
  {
   "cell_type": "code",
   "execution_count": 113,
   "id": "44012b7c-23b6-49e6-860e-653d311d066f",
   "metadata": {
    "collapsed": true,
    "jupyter": {
     "outputs_hidden": true
    }
   },
   "outputs": [
    {
     "name": "stdout",
     "output_type": "stream",
     "text": [
      "Epoch 1/8\n",
      "\u001b[1m3174/3174\u001b[0m \u001b[32m━━━━━━━━━━━━━━━━━━━━\u001b[0m\u001b[37m\u001b[0m \u001b[1m18s\u001b[0m 5ms/step - loss: 0.0067 - mean_absolute_error: 0.0601 - r2_score: 0.5705 - root_mean_squared_error: 0.0789 - val_loss: 0.0052 - val_mean_absolute_error: 0.0571 - val_r2_score: 0.6754 - val_root_mean_squared_error: 0.0720\n",
      "Epoch 2/8\n",
      "\u001b[1m3174/3174\u001b[0m \u001b[32m━━━━━━━━━━━━━━━━━━━━\u001b[0m\u001b[37m\u001b[0m \u001b[1m17s\u001b[0m 5ms/step - loss: 0.0048 - mean_absolute_error: 0.0550 - r2_score: 0.6939 - root_mean_squared_error: 0.0692 - val_loss: 0.0049 - val_mean_absolute_error: 0.0554 - val_r2_score: 0.6924 - val_root_mean_squared_error: 0.0701\n",
      "Epoch 3/8\n",
      "\u001b[1m3174/3174\u001b[0m \u001b[32m━━━━━━━━━━━━━━━━━━━━\u001b[0m\u001b[37m\u001b[0m \u001b[1m18s\u001b[0m 6ms/step - loss: 0.0044 - mean_absolute_error: 0.0526 - r2_score: 0.7166 - root_mean_squared_error: 0.0666 - val_loss: 0.0045 - val_mean_absolute_error: 0.0524 - val_r2_score: 0.7165 - val_root_mean_squared_error: 0.0673\n",
      "Epoch 4/8\n",
      "\u001b[1m3174/3174\u001b[0m \u001b[32m━━━━━━━━━━━━━━━━━━━━\u001b[0m\u001b[37m\u001b[0m \u001b[1m20s\u001b[0m 6ms/step - loss: 0.0039 - mean_absolute_error: 0.0482 - r2_score: 0.7537 - root_mean_squared_error: 0.0621 - val_loss: 0.0043 - val_mean_absolute_error: 0.0507 - val_r2_score: 0.7285 - val_root_mean_squared_error: 0.0658\n",
      "Epoch 5/8\n",
      "\u001b[1m3174/3174\u001b[0m \u001b[32m━━━━━━━━━━━━━━━━━━━━\u001b[0m\u001b[37m\u001b[0m \u001b[1m19s\u001b[0m 6ms/step - loss: 0.0036 - mean_absolute_error: 0.0458 - r2_score: 0.7730 - root_mean_squared_error: 0.0596 - val_loss: 0.0044 - val_mean_absolute_error: 0.0507 - val_r2_score: 0.7272 - val_root_mean_squared_error: 0.0660\n",
      "Epoch 6/8\n",
      "\u001b[1m3174/3174\u001b[0m \u001b[32m━━━━━━━━━━━━━━━━━━━━\u001b[0m\u001b[37m\u001b[0m \u001b[1m19s\u001b[0m 6ms/step - loss: 0.0034 - mean_absolute_error: 0.0447 - r2_score: 0.7824 - root_mean_squared_error: 0.0584 - val_loss: 0.0043 - val_mean_absolute_error: 0.0503 - val_r2_score: 0.7312 - val_root_mean_squared_error: 0.0655\n",
      "Epoch 7/8\n",
      "\u001b[1m3174/3174\u001b[0m \u001b[32m━━━━━━━━━━━━━━━━━━━━\u001b[0m\u001b[37m\u001b[0m \u001b[1m18s\u001b[0m 6ms/step - loss: 0.0033 - mean_absolute_error: 0.0440 - r2_score: 0.7877 - root_mean_squared_error: 0.0577 - val_loss: 0.0043 - val_mean_absolute_error: 0.0504 - val_r2_score: 0.7281 - val_root_mean_squared_error: 0.0659\n",
      "Epoch 8/8\n",
      "\u001b[1m3174/3174\u001b[0m \u001b[32m━━━━━━━━━━━━━━━━━━━━\u001b[0m\u001b[37m\u001b[0m \u001b[1m17s\u001b[0m 5ms/step - loss: 0.0033 - mean_absolute_error: 0.0434 - r2_score: 0.7919 - root_mean_squared_error: 0.0571 - val_loss: 0.0042 - val_mean_absolute_error: 0.0493 - val_r2_score: 0.7384 - val_root_mean_squared_error: 0.0646\n"
     ]
    }
   ],
   "source": [
    "K.clear_session()\n",
    "tf.compat.v1.reset_default_graph()\n",
    "lstm_history = train_model_lstm.fit(X_train_seq, y_train_seq, epochs=8, batch_size=batch_size, validation_data=val_data)"
   ]
  },
  {
   "cell_type": "code",
   "execution_count": 233,
   "id": "ae5dedc9-78a0-4b1b-af4d-7b3f0329ff23",
   "metadata": {},
   "outputs": [
    {
     "data": {
      "text/html": [
       "<div>\n",
       "<style scoped>\n",
       "    .dataframe tbody tr th:only-of-type {\n",
       "        vertical-align: middle;\n",
       "    }\n",
       "\n",
       "    .dataframe tbody tr th {\n",
       "        vertical-align: top;\n",
       "    }\n",
       "\n",
       "    .dataframe thead th {\n",
       "        text-align: right;\n",
       "    }\n",
       "</style>\n",
       "<table border=\"1\" class=\"dataframe\">\n",
       "  <thead>\n",
       "    <tr style=\"text-align: right;\">\n",
       "      <th></th>\n",
       "      <th>loss</th>\n",
       "      <th>mean_absolute_error</th>\n",
       "      <th>r2_score</th>\n",
       "      <th>root_mean_squared_error</th>\n",
       "      <th>val_loss</th>\n",
       "      <th>val_mean_absolute_error</th>\n",
       "      <th>val_r2_score</th>\n",
       "      <th>val_root_mean_squared_error</th>\n",
       "    </tr>\n",
       "  </thead>\n",
       "  <tbody>\n",
       "    <tr>\n",
       "      <th>0</th>\n",
       "      <td>0.005166</td>\n",
       "      <td>0.056498</td>\n",
       "      <td>0.669853</td>\n",
       "      <td>0.071876</td>\n",
       "      <td>0.005180</td>\n",
       "      <td>0.057065</td>\n",
       "      <td>0.675356</td>\n",
       "      <td>0.071970</td>\n",
       "    </tr>\n",
       "    <tr>\n",
       "      <th>1</th>\n",
       "      <td>0.004723</td>\n",
       "      <td>0.054611</td>\n",
       "      <td>0.698159</td>\n",
       "      <td>0.068726</td>\n",
       "      <td>0.004908</td>\n",
       "      <td>0.055393</td>\n",
       "      <td>0.692411</td>\n",
       "      <td>0.070054</td>\n",
       "    </tr>\n",
       "    <tr>\n",
       "      <th>2</th>\n",
       "      <td>0.004283</td>\n",
       "      <td>0.051480</td>\n",
       "      <td>0.726317</td>\n",
       "      <td>0.065443</td>\n",
       "      <td>0.004524</td>\n",
       "      <td>0.052368</td>\n",
       "      <td>0.716482</td>\n",
       "      <td>0.067257</td>\n",
       "    </tr>\n",
       "    <tr>\n",
       "      <th>3</th>\n",
       "      <td>0.003769</td>\n",
       "      <td>0.047488</td>\n",
       "      <td>0.759128</td>\n",
       "      <td>0.061394</td>\n",
       "      <td>0.004332</td>\n",
       "      <td>0.050708</td>\n",
       "      <td>0.728484</td>\n",
       "      <td>0.065818</td>\n",
       "    </tr>\n",
       "    <tr>\n",
       "      <th>4</th>\n",
       "      <td>0.003524</td>\n",
       "      <td>0.045530</td>\n",
       "      <td>0.774832</td>\n",
       "      <td>0.059361</td>\n",
       "      <td>0.004353</td>\n",
       "      <td>0.050718</td>\n",
       "      <td>0.727181</td>\n",
       "      <td>0.065976</td>\n",
       "    </tr>\n",
       "    <tr>\n",
       "      <th>5</th>\n",
       "      <td>0.003394</td>\n",
       "      <td>0.044501</td>\n",
       "      <td>0.783133</td>\n",
       "      <td>0.058254</td>\n",
       "      <td>0.004288</td>\n",
       "      <td>0.050338</td>\n",
       "      <td>0.731223</td>\n",
       "      <td>0.065486</td>\n",
       "    </tr>\n",
       "    <tr>\n",
       "      <th>6</th>\n",
       "      <td>0.003310</td>\n",
       "      <td>0.043839</td>\n",
       "      <td>0.788486</td>\n",
       "      <td>0.057531</td>\n",
       "      <td>0.004337</td>\n",
       "      <td>0.050401</td>\n",
       "      <td>0.728147</td>\n",
       "      <td>0.065859</td>\n",
       "    </tr>\n",
       "    <tr>\n",
       "      <th>7</th>\n",
       "      <td>0.003249</td>\n",
       "      <td>0.043351</td>\n",
       "      <td>0.792357</td>\n",
       "      <td>0.057001</td>\n",
       "      <td>0.004174</td>\n",
       "      <td>0.049313</td>\n",
       "      <td>0.738377</td>\n",
       "      <td>0.064608</td>\n",
       "    </tr>\n",
       "  </tbody>\n",
       "</table>\n",
       "</div>"
      ],
      "text/plain": [
       "       loss  mean_absolute_error  r2_score  root_mean_squared_error  val_loss  \\\n",
       "0  0.005166             0.056498  0.669853                 0.071876  0.005180   \n",
       "1  0.004723             0.054611  0.698159                 0.068726  0.004908   \n",
       "2  0.004283             0.051480  0.726317                 0.065443  0.004524   \n",
       "3  0.003769             0.047488  0.759128                 0.061394  0.004332   \n",
       "4  0.003524             0.045530  0.774832                 0.059361  0.004353   \n",
       "5  0.003394             0.044501  0.783133                 0.058254  0.004288   \n",
       "6  0.003310             0.043839  0.788486                 0.057531  0.004337   \n",
       "7  0.003249             0.043351  0.792357                 0.057001  0.004174   \n",
       "\n",
       "   val_mean_absolute_error  val_r2_score  val_root_mean_squared_error  \n",
       "0                 0.057065      0.675356                     0.071970  \n",
       "1                 0.055393      0.692411                     0.070054  \n",
       "2                 0.052368      0.716482                     0.067257  \n",
       "3                 0.050708      0.728484                     0.065818  \n",
       "4                 0.050718      0.727181                     0.065976  \n",
       "5                 0.050338      0.731223                     0.065486  \n",
       "6                 0.050401      0.728147                     0.065859  \n",
       "7                 0.049313      0.738377                     0.064608  "
      ]
     },
     "execution_count": 233,
     "metadata": {},
     "output_type": "execute_result"
    }
   ],
   "source": [
    "lstm_history_df = pd.DataFrame(lstm_history.history)\n",
    "lstm_history_df.to_csv('../../frontend/resources/models/history/csv/lstm.csv', index=False)\n",
    "lstm_history_df"
   ]
  },
  {
   "cell_type": "code",
   "execution_count": 221,
   "id": "0aa808a2-12fd-4e7e-9f26-13e0a5aba94b",
   "metadata": {},
   "outputs": [
    {
     "data": {
      "text/html": [
       "<div>\n",
       "<style scoped>\n",
       "    .dataframe tbody tr th:only-of-type {\n",
       "        vertical-align: middle;\n",
       "    }\n",
       "\n",
       "    .dataframe tbody tr th {\n",
       "        vertical-align: top;\n",
       "    }\n",
       "\n",
       "    .dataframe thead th {\n",
       "        text-align: right;\n",
       "    }\n",
       "</style>\n",
       "<table border=\"1\" class=\"dataframe\">\n",
       "  <thead>\n",
       "    <tr style=\"text-align: right;\">\n",
       "      <th></th>\n",
       "      <th>loss</th>\n",
       "      <th>mean_absolute_error</th>\n",
       "      <th>r2_score</th>\n",
       "      <th>root_mean_squared_error</th>\n",
       "      <th>val_loss</th>\n",
       "      <th>val_mean_absolute_error</th>\n",
       "      <th>val_r2_score</th>\n",
       "      <th>val_root_mean_squared_error</th>\n",
       "    </tr>\n",
       "  </thead>\n",
       "  <tbody>\n",
       "    <tr>\n",
       "      <th>0</th>\n",
       "      <td>1.000000</td>\n",
       "      <td>1.000000</td>\n",
       "      <td>0.000000</td>\n",
       "      <td>1.000000</td>\n",
       "      <td>1.000000</td>\n",
       "      <td>1.000000</td>\n",
       "      <td>0.000000</td>\n",
       "      <td>1.000000</td>\n",
       "    </tr>\n",
       "    <tr>\n",
       "      <th>1</th>\n",
       "      <td>0.768967</td>\n",
       "      <td>0.856437</td>\n",
       "      <td>0.231058</td>\n",
       "      <td>0.788233</td>\n",
       "      <td>0.729378</td>\n",
       "      <td>0.784324</td>\n",
       "      <td>0.270622</td>\n",
       "      <td>0.739755</td>\n",
       "    </tr>\n",
       "    <tr>\n",
       "      <th>2</th>\n",
       "      <td>0.539211</td>\n",
       "      <td>0.618331</td>\n",
       "      <td>0.460912</td>\n",
       "      <td>0.567540</td>\n",
       "      <td>0.347429</td>\n",
       "      <td>0.394051</td>\n",
       "      <td>0.652570</td>\n",
       "      <td>0.359847</td>\n",
       "    </tr>\n",
       "    <tr>\n",
       "      <th>3</th>\n",
       "      <td>0.271271</td>\n",
       "      <td>0.314674</td>\n",
       "      <td>0.728746</td>\n",
       "      <td>0.295290</td>\n",
       "      <td>0.156982</td>\n",
       "      <td>0.179981</td>\n",
       "      <td>0.843018</td>\n",
       "      <td>0.164386</td>\n",
       "    </tr>\n",
       "    <tr>\n",
       "      <th>4</th>\n",
       "      <td>0.143213</td>\n",
       "      <td>0.165725</td>\n",
       "      <td>0.856939</td>\n",
       "      <td>0.158617</td>\n",
       "      <td>0.177662</td>\n",
       "      <td>0.181238</td>\n",
       "      <td>0.822338</td>\n",
       "      <td>0.185817</td>\n",
       "    </tr>\n",
       "    <tr>\n",
       "      <th>5</th>\n",
       "      <td>0.075321</td>\n",
       "      <td>0.087478</td>\n",
       "      <td>0.924703</td>\n",
       "      <td>0.084224</td>\n",
       "      <td>0.113512</td>\n",
       "      <td>0.132199</td>\n",
       "      <td>0.886488</td>\n",
       "      <td>0.119169</td>\n",
       "    </tr>\n",
       "    <tr>\n",
       "      <th>6</th>\n",
       "      <td>0.031645</td>\n",
       "      <td>0.037148</td>\n",
       "      <td>0.968395</td>\n",
       "      <td>0.035609</td>\n",
       "      <td>0.162333</td>\n",
       "      <td>0.140360</td>\n",
       "      <td>0.837666</td>\n",
       "      <td>0.169937</td>\n",
       "    </tr>\n",
       "    <tr>\n",
       "      <th>7</th>\n",
       "      <td>0.000000</td>\n",
       "      <td>0.000000</td>\n",
       "      <td>1.000000</td>\n",
       "      <td>0.000000</td>\n",
       "      <td>0.000000</td>\n",
       "      <td>0.000000</td>\n",
       "      <td>1.000000</td>\n",
       "      <td>0.000000</td>\n",
       "    </tr>\n",
       "  </tbody>\n",
       "</table>\n",
       "</div>"
      ],
      "text/plain": [
       "       loss  mean_absolute_error  r2_score  root_mean_squared_error  val_loss  \\\n",
       "0  1.000000             1.000000  0.000000                 1.000000  1.000000   \n",
       "1  0.768967             0.856437  0.231058                 0.788233  0.729378   \n",
       "2  0.539211             0.618331  0.460912                 0.567540  0.347429   \n",
       "3  0.271271             0.314674  0.728746                 0.295290  0.156982   \n",
       "4  0.143213             0.165725  0.856939                 0.158617  0.177662   \n",
       "5  0.075321             0.087478  0.924703                 0.084224  0.113512   \n",
       "6  0.031645             0.037148  0.968395                 0.035609  0.162333   \n",
       "7  0.000000             0.000000  1.000000                 0.000000  0.000000   \n",
       "\n",
       "   val_mean_absolute_error  val_r2_score  val_root_mean_squared_error  \n",
       "0                 1.000000      0.000000                     1.000000  \n",
       "1                 0.784324      0.270622                     0.739755  \n",
       "2                 0.394051      0.652570                     0.359847  \n",
       "3                 0.179981      0.843018                     0.164386  \n",
       "4                 0.181238      0.822338                     0.185817  \n",
       "5                 0.132199      0.886488                     0.119169  \n",
       "6                 0.140360      0.837666                     0.169937  \n",
       "7                 0.000000      1.000000                     0.000000  "
      ]
     },
     "execution_count": 221,
     "metadata": {},
     "output_type": "execute_result"
    }
   ],
   "source": [
    "lstm_history_df_scaled = pd.DataFrame(scaler.fit_transform(lstm_history_df), columns=lstm_history_df.columns)\n",
    "lstm_history_df_scaled"
   ]
  },
  {
   "cell_type": "code",
   "execution_count": 114,
   "id": "3c5630d1-2203-4582-86a3-a2b0a7ac4945",
   "metadata": {},
   "outputs": [
    {
     "name": "stdout",
     "output_type": "stream",
     "text": [
      "\u001b[1m21849/21849\u001b[0m \u001b[32m━━━━━━━━━━━━━━━━━━━━\u001b[0m\u001b[37m\u001b[0m \u001b[1m44s\u001b[0m 2ms/step - loss: 0.0047 - mean_absolute_error: 0.0525 - r2_score: 0.6518 - root_mean_squared_error: 0.0688\n"
     ]
    }
   ],
   "source": [
    "lstm_metrics = train_model_lstm.evaluate(X_test_seq, y_test_seq)"
   ]
  },
  {
   "cell_type": "code",
   "execution_count": 115,
   "id": "2f779493-8af0-499b-b061-d7e9435c7f29",
   "metadata": {},
   "outputs": [
    {
     "name": "stdout",
     "output_type": "stream",
     "text": [
      "\u001b[1m21849/21849\u001b[0m \u001b[32m━━━━━━━━━━━━━━━━━━━━\u001b[0m\u001b[37m\u001b[0m \u001b[1m20s\u001b[0m 923us/step\n"
     ]
    }
   ],
   "source": [
    "lstm_y_pred_seq = train_model_lstm.predict(X_test_seq)"
   ]
  },
  {
   "cell_type": "code",
   "execution_count": 241,
   "id": "ea6bfd4b-857a-44ad-997e-0fc7442cd234",
   "metadata": {},
   "outputs": [
    {
     "data": {
      "text/html": [
       "<div>\n",
       "<style scoped>\n",
       "    .dataframe tbody tr th:only-of-type {\n",
       "        vertical-align: middle;\n",
       "    }\n",
       "\n",
       "    .dataframe tbody tr th {\n",
       "        vertical-align: top;\n",
       "    }\n",
       "\n",
       "    .dataframe thead th {\n",
       "        text-align: right;\n",
       "    }\n",
       "</style>\n",
       "<table border=\"1\" class=\"dataframe\">\n",
       "  <thead>\n",
       "    <tr style=\"text-align: right;\">\n",
       "      <th></th>\n",
       "      <th>Model</th>\n",
       "      <th>MSE</th>\n",
       "      <th>MAE</th>\n",
       "      <th>RMSE</th>\n",
       "      <th>R2</th>\n",
       "    </tr>\n",
       "  </thead>\n",
       "  <tbody>\n",
       "    <tr>\n",
       "      <th>0</th>\n",
       "      <td>LSTM</td>\n",
       "      <td>0.004907</td>\n",
       "      <td>0.053742</td>\n",
       "      <td>0.070051</td>\n",
       "      <td>0.694023</td>\n",
       "    </tr>\n",
       "  </tbody>\n",
       "</table>\n",
       "</div>"
      ],
      "text/plain": [
       "  Model       MSE       MAE      RMSE        R2\n",
       "0  LSTM  0.004907  0.053742  0.070051  0.694023"
      ]
     },
     "execution_count": 241,
     "metadata": {},
     "output_type": "execute_result"
    }
   ],
   "source": [
    "lstm_metrics_df = helpers.metrics_df('LSTM', lstm_metrics)\n",
    "lstm_metrics_df.to_csv('../../frontend/resources/models/metrics/lstm.csv', index=False)\n",
    "lstm_metrics_df"
   ]
  },
  {
   "cell_type": "code",
   "execution_count": 180,
   "id": "88b0b510-1e4d-4f9f-a94c-5f96716337b4",
   "metadata": {},
   "outputs": [],
   "source": [
    "lstm_y_pred, lstm_y_test, lstm_difference = helpers.inverse_predictions(lstm_y_pred_seq, y_test_seq, scaler_y_train)"
   ]
  },
  {
   "cell_type": "code",
   "execution_count": 234,
   "id": "41a5aedb-46ce-4101-843e-22ea43ef0fba",
   "metadata": {},
   "outputs": [
    {
     "data": {
      "text/html": [
       "<div>\n",
       "<style scoped>\n",
       "    .dataframe tbody tr th:only-of-type {\n",
       "        vertical-align: middle;\n",
       "    }\n",
       "\n",
       "    .dataframe tbody tr th {\n",
       "        vertical-align: top;\n",
       "    }\n",
       "\n",
       "    .dataframe thead th {\n",
       "        text-align: right;\n",
       "    }\n",
       "</style>\n",
       "<table border=\"1\" class=\"dataframe\">\n",
       "  <thead>\n",
       "    <tr style=\"text-align: right;\">\n",
       "      <th></th>\n",
       "      <th>fecha</th>\n",
       "      <th>actual_mean</th>\n",
       "      <th>actual_min</th>\n",
       "      <th>actual_max</th>\n",
       "      <th>actual_std</th>\n",
       "      <th>predicted_mean</th>\n",
       "      <th>predicted_min</th>\n",
       "      <th>predicted_max</th>\n",
       "      <th>predicted_std</th>\n",
       "    </tr>\n",
       "  </thead>\n",
       "  <tbody>\n",
       "    <tr>\n",
       "      <th>0</th>\n",
       "      <td>2023-01-01</td>\n",
       "      <td>12.538392</td>\n",
       "      <td>1.70042</td>\n",
       "      <td>22.19802</td>\n",
       "      <td>3.418742</td>\n",
       "      <td>11.890576</td>\n",
       "      <td>5.618233</td>\n",
       "      <td>22.268463</td>\n",
       "      <td>1.867049</td>\n",
       "    </tr>\n",
       "    <tr>\n",
       "      <th>1</th>\n",
       "      <td>2023-01-02</td>\n",
       "      <td>10.296912</td>\n",
       "      <td>-0.80051</td>\n",
       "      <td>21.30125</td>\n",
       "      <td>4.043459</td>\n",
       "      <td>10.213053</td>\n",
       "      <td>2.745819</td>\n",
       "      <td>19.552053</td>\n",
       "      <td>1.793805</td>\n",
       "    </tr>\n",
       "    <tr>\n",
       "      <th>2</th>\n",
       "      <td>2023-01-03</td>\n",
       "      <td>9.300819</td>\n",
       "      <td>-2.19858</td>\n",
       "      <td>21.80255</td>\n",
       "      <td>4.564409</td>\n",
       "      <td>9.676287</td>\n",
       "      <td>2.534132</td>\n",
       "      <td>21.073025</td>\n",
       "      <td>2.325640</td>\n",
       "    </tr>\n",
       "    <tr>\n",
       "      <th>3</th>\n",
       "      <td>2023-01-04</td>\n",
       "      <td>9.353709</td>\n",
       "      <td>-0.49973</td>\n",
       "      <td>21.40151</td>\n",
       "      <td>4.595705</td>\n",
       "      <td>9.549453</td>\n",
       "      <td>4.184849</td>\n",
       "      <td>20.662832</td>\n",
       "      <td>2.050872</td>\n",
       "    </tr>\n",
       "    <tr>\n",
       "      <th>4</th>\n",
       "      <td>2023-01-05</td>\n",
       "      <td>8.972093</td>\n",
       "      <td>-0.80051</td>\n",
       "      <td>21.40151</td>\n",
       "      <td>4.497757</td>\n",
       "      <td>9.384128</td>\n",
       "      <td>2.595671</td>\n",
       "      <td>20.441244</td>\n",
       "      <td>2.238374</td>\n",
       "    </tr>\n",
       "  </tbody>\n",
       "</table>\n",
       "</div>"
      ],
      "text/plain": [
       "       fecha  actual_mean  actual_min  actual_max  actual_std  predicted_mean  \\\n",
       "0 2023-01-01    12.538392     1.70042    22.19802    3.418742       11.890576   \n",
       "1 2023-01-02    10.296912    -0.80051    21.30125    4.043459       10.213053   \n",
       "2 2023-01-03     9.300819    -2.19858    21.80255    4.564409        9.676287   \n",
       "3 2023-01-04     9.353709    -0.49973    21.40151    4.595705        9.549453   \n",
       "4 2023-01-05     8.972093    -0.80051    21.40151    4.497757        9.384128   \n",
       "\n",
       "   predicted_min  predicted_max  predicted_std  \n",
       "0       5.618233      22.268463       1.867049  \n",
       "1       2.745819      19.552053       1.793805  \n",
       "2       2.534132      21.073025       2.325640  \n",
       "3       4.184849      20.662832       2.050872  \n",
       "4       2.595671      20.441244       2.238374  "
      ]
     },
     "execution_count": 234,
     "metadata": {},
     "output_type": "execute_result"
    }
   ],
   "source": [
    "lstm_daily_stats = helpers.daily_stats(lstm_y_pred, lstm_y_test, lstm_difference, test_dates_seq)\n",
    "lstm_daily_stats.to_csv('../../frontend/resources/models/daily_stats/csv/lstm.csv', index=False)\n",
    "lstm_daily_stats.head()"
   ]
  },
  {
   "cell_type": "code",
   "execution_count": null,
   "id": "eaad0c44-9eed-4bb2-ad93-2fff34f3ffea",
   "metadata": {},
   "outputs": [],
   "source": [
    "lstm_daily_stats_fig = helpers.daily_stats_comparison('LSTM', lstm_daily_stats)\n",
    "lstm_daily_stats_fig.write_html('../../frontend/resources/models/daily_stats/figures/lstm.html')\n",
    "lstm_daily_stats_fig.show()"
   ]
  },
  {
   "cell_type": "code",
   "execution_count": null,
   "id": "6c808489-2227-4098-b173-a6d0a3dde96e",
   "metadata": {},
   "outputs": [],
   "source": [
    "lstm_difference_fig = helpers.difference_histogram('LSTM', lstm_difference)\n",
    "lstm_difference_fig.write_html('../../frontend/resources/models/differences/lstm.html')\n",
    "lstm_difference_fig.show()"
   ]
  },
  {
   "cell_type": "code",
   "execution_count": null,
   "id": "895d2c26-f053-4463-9a7e-725457c4307d",
   "metadata": {},
   "outputs": [],
   "source": [
    "lstm_training_history_fig = helpers.training_history('LSTM', lstm_history.history)\n",
    "lstm_training_history_fig.write_html('../../frontend/resources/models/history/figures/lstm.html')\n",
    "lstm_training_history_fig.show()"
   ]
  },
  {
   "cell_type": "code",
   "execution_count": null,
   "id": "9e428cfe-d0d9-4711-b63b-9c670d265f5c",
   "metadata": {},
   "outputs": [],
   "source": [
    "lstm_training_history_scaled_fig = helpers.training_history_scaled('LSTM', lstm_history_df_scaled, lstm_history_df)\n",
    "lstm_training_history_scaled_fig.write_html('../../frontend/resources/models/history/figures/lstm_scaled.html')\n",
    "lstm_training_history_scaled_fig.show()"
   ]
  },
  {
   "cell_type": "code",
   "execution_count": 18,
   "id": "5a8757cd-d9a3-4a51-a7f1-d92d99396438",
   "metadata": {},
   "outputs": [],
   "source": [
    "final_model_lstm = create_lstm(shape)\n",
    "final_model_lstm.compile(optimizer=Nadam(learning_rate=0.01), loss='mean_squared_error', metrics=metrics)"
   ]
  },
  {
   "cell_type": "code",
   "execution_count": 19,
   "id": "783a451d-bb9b-4062-adcd-0d7e6aae7373",
   "metadata": {},
   "outputs": [
    {
     "name": "stdout",
     "output_type": "stream",
     "text": [
      "Epoch 1/5\n",
      "\u001b[1m4476/4476\u001b[0m \u001b[32m━━━━━━━━━━━━━━━━━━━━\u001b[0m\u001b[37m\u001b[0m \u001b[1m21s\u001b[0m 4ms/step - loss: 0.0065 - mean_absolute_error: 0.0596 - r2_score: 0.5761 - root_mean_squared_error: 0.0780 \n",
      "Epoch 2/5\n",
      "\u001b[1m4476/4476\u001b[0m \u001b[32m━━━━━━━━━━━━━━━━━━━━\u001b[0m\u001b[37m\u001b[0m \u001b[1m20s\u001b[0m 4ms/step - loss: 0.0048 - mean_absolute_error: 0.0548 - r2_score: 0.6872 - root_mean_squared_error: 0.0691\n",
      "Epoch 3/5\n",
      "\u001b[1m4476/4476\u001b[0m \u001b[32m━━━━━━━━━━━━━━━━━━━━\u001b[0m\u001b[37m\u001b[0m \u001b[1m20s\u001b[0m 4ms/step - loss: 0.0044 - mean_absolute_error: 0.0520 - r2_score: 0.7130 - root_mean_squared_error: 0.0662\n",
      "Epoch 4/5\n",
      "\u001b[1m4476/4476\u001b[0m \u001b[32m━━━━━━━━━━━━━━━━━━━━\u001b[0m\u001b[37m\u001b[0m \u001b[1m20s\u001b[0m 4ms/step - loss: 0.0039 - mean_absolute_error: 0.0483 - r2_score: 0.7445 - root_mean_squared_error: 0.0624\n",
      "Epoch 5/5\n",
      "\u001b[1m4476/4476\u001b[0m \u001b[32m━━━━━━━━━━━━━━━━━━━━\u001b[0m\u001b[37m\u001b[0m \u001b[1m20s\u001b[0m 4ms/step - loss: 0.0037 - mean_absolute_error: 0.0465 - r2_score: 0.7591 - root_mean_squared_error: 0.0606\n"
     ]
    },
    {
     "data": {
      "text/plain": [
       "<keras.src.callbacks.history.History at 0x7f8417cdb690>"
      ]
     },
     "execution_count": 19,
     "metadata": {},
     "output_type": "execute_result"
    }
   ],
   "source": [
    "K.clear_session()\n",
    "tf.compat.v1.reset_default_graph()\n",
    "final_model_lstm.fit(X_full_seq, y_full_seq, epochs=5, batch_size=batch_size)"
   ]
  },
  {
   "cell_type": "code",
   "execution_count": 20,
   "id": "5af3b1ab-707a-4e76-b5d7-c2e9fb336e71",
   "metadata": {},
   "outputs": [],
   "source": [
    "final_model_lstm.save('../../backend/data/ml/models/lstm.keras')"
   ]
  }
 ],
 "metadata": {
  "kernelspec": {
   "display_name": "proyecto_meteorologico",
   "language": "python",
   "name": "proyecto_meteorologico"
  },
  "language_info": {
   "codemirror_mode": {
    "name": "ipython",
    "version": 3
   },
   "file_extension": ".py",
   "mimetype": "text/x-python",
   "name": "python",
   "nbconvert_exporter": "python",
   "pygments_lexer": "ipython3",
   "version": "3.11.11"
  }
 },
 "nbformat": 4,
 "nbformat_minor": 5
}

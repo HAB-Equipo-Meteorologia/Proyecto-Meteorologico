{
 "cells": [
  {
   "cell_type": "code",
   "execution_count": 151,
   "id": "e6641344-006c-4f63-8a9c-948b925d5757",
   "metadata": {},
   "outputs": [],
   "source": [
    "import ipynb_helpers as helpers\n",
    "import pandas as pd"
   ]
  },
  {
   "cell_type": "code",
   "execution_count": 2,
   "id": "59eb4074-58ad-4dbc-82bc-65984338586a",
   "metadata": {},
   "outputs": [
    {
     "data": {
      "text/plain": [
       "'eyJ'"
      ]
     },
     "execution_count": 2,
     "metadata": {},
     "output_type": "execute_result"
    }
   ],
   "source": [
    "api_key = helpers.get_env_var(\"AEMET_API_KEY\")\n",
    "api_key[:3]"
   ]
  },
  {
   "cell_type": "code",
   "execution_count": 3,
   "id": "459adfef-96b6-48e1-addc-997f9fc81c44",
   "metadata": {},
   "outputs": [],
   "source": [
    "url = 'https://opendata.aemet.es/AEMET_OpenData_specification.json'"
   ]
  },
  {
   "cell_type": "code",
   "execution_count": 4,
   "id": "9030d130-b574-4c63-a682-a5edcaee5d64",
   "metadata": {},
   "outputs": [],
   "source": [
    "response = helpers.make_request(url=url, method='get', response_format='json')"
   ]
  },
  {
   "cell_type": "code",
   "execution_count": 148,
   "id": "c1ea2aef-1649-4380-bf89-76da71b191b3",
   "metadata": {},
   "outputs": [],
   "source": [
    "path_data = response[0]['paths']"
   ]
  },
  {
   "cell_type": "code",
   "execution_count": 122,
   "id": "e4f402f8-9a67-4ee6-8ae3-05785a5f27f2",
   "metadata": {},
   "outputs": [],
   "source": [
    "param_data = {}\n",
    "for key, val in path_data.items():\n",
    "    if 'parameters' in path_data[key].get('get', {}):\n",
    "        params = [p for p in path_data[key]['get']['parameters']]\n",
    "        for param in params:\n",
    "            name = param['name']\n",
    "            if name not in param_data:\n",
    "                param_data[name] = [param['description']]"
   ]
  },
  {
   "cell_type": "code",
   "execution_count": 135,
   "id": "98c44499-bd4d-484c-b492-c997f41ecb69",
   "metadata": {},
   "outputs": [],
   "source": [
    "param_df = pd.DataFrame(param_data).T.reset_index()\n",
    "param_df.columns = ['name', 'description']\n",
    "param_df.to_csv('datasets/params_raw.txt', index=False)"
   ]
  },
  {
   "cell_type": "code",
   "execution_count": 149,
   "id": "dc9626df-110a-41e6-94ca-2eb98bef33f0",
   "metadata": {},
   "outputs": [],
   "source": [
    "response_data = path_data['/api/avisos_cap/ultimoelaborado/area/{area}']['get']['responses']\n",
    "response_codes = response_data.keys()\n",
    "response_descriptions = [response_data[code]['description'] for code in response_codes]\n",
    "response_df = pd.DataFrame({\n",
    "    'response_code': response_codes,\n",
    "    'description': response_descriptions,\n",
    "})\n",
    "response_df.to_csv('datasets/response_codes.csv', index=False)"
   ]
  },
  {
   "cell_type": "code",
   "execution_count": 150,
   "id": "bc7b04f0-8480-4e63-bcfb-82cbd53bbcfc",
   "metadata": {},
   "outputs": [
    {
     "data": {
      "text/html": [
       "<div>\n",
       "<style scoped>\n",
       "    .dataframe tbody tr th:only-of-type {\n",
       "        vertical-align: middle;\n",
       "    }\n",
       "\n",
       "    .dataframe tbody tr th {\n",
       "        vertical-align: top;\n",
       "    }\n",
       "\n",
       "    .dataframe thead th {\n",
       "        text-align: right;\n",
       "    }\n",
       "</style>\n",
       "<table border=\"1\" class=\"dataframe\">\n",
       "  <thead>\n",
       "    <tr style=\"text-align: right;\">\n",
       "      <th></th>\n",
       "      <th>endpoint</th>\n",
       "      <th>tag</th>\n",
       "      <th>summary</th>\n",
       "      <th>parameters</th>\n",
       "    </tr>\n",
       "  </thead>\n",
       "  <tbody>\n",
       "    <tr>\n",
       "      <th>0</th>\n",
       "      <td>/api/avisos_cap/ultimoelaborado/area/{area}</td>\n",
       "      <td>avisos_cap</td>\n",
       "      <td>Avisos de Fenómenos Meteorológicos Adversos. Ú...</td>\n",
       "      <td>[area]</td>\n",
       "    </tr>\n",
       "    <tr>\n",
       "      <th>1</th>\n",
       "      <td>/api/avisos_cap/archivo/fechaini/{fechaIniStr}...</td>\n",
       "      <td>avisos_cap</td>\n",
       "      <td>Avisos de Fenómenos Meteorológicos Adversos. A...</td>\n",
       "      <td>[fechaIniStr, fechaFinStr]</td>\n",
       "    </tr>\n",
       "    <tr>\n",
       "      <th>2</th>\n",
       "      <td>/api/incendios/mapasriesgo/estimado/area/{area}</td>\n",
       "      <td>indices-incendios</td>\n",
       "      <td>Mapa de niveles de riesgo estimado meteorológi...</td>\n",
       "      <td>[area]</td>\n",
       "    </tr>\n",
       "    <tr>\n",
       "      <th>3</th>\n",
       "      <td>/api/incendios/mapasriesgo/previsto/dia/{dia}/...</td>\n",
       "      <td>indices-incendios</td>\n",
       "      <td>Mapa de niveles de riesgo previsto meteorológi...</td>\n",
       "      <td>[dia, area]</td>\n",
       "    </tr>\n",
       "    <tr>\n",
       "      <th>4</th>\n",
       "      <td>/api/maestro/municipio/{municipio}</td>\n",
       "      <td>maestro</td>\n",
       "      <td>Información específica municipio.</td>\n",
       "      <td>[municipio]</td>\n",
       "    </tr>\n",
       "  </tbody>\n",
       "</table>\n",
       "</div>"
      ],
      "text/plain": [
       "                                            endpoint                tag  \\\n",
       "0        /api/avisos_cap/ultimoelaborado/area/{area}         avisos_cap   \n",
       "1  /api/avisos_cap/archivo/fechaini/{fechaIniStr}...         avisos_cap   \n",
       "2    /api/incendios/mapasriesgo/estimado/area/{area}  indices-incendios   \n",
       "3  /api/incendios/mapasriesgo/previsto/dia/{dia}/...  indices-incendios   \n",
       "4                 /api/maestro/municipio/{municipio}            maestro   \n",
       "\n",
       "                                             summary  \\\n",
       "0  Avisos de Fenómenos Meteorológicos Adversos. Ú...   \n",
       "1  Avisos de Fenómenos Meteorológicos Adversos. A...   \n",
       "2  Mapa de niveles de riesgo estimado meteorológi...   \n",
       "3  Mapa de niveles de riesgo previsto meteorológi...   \n",
       "4                  Información específica municipio.   \n",
       "\n",
       "                   parameters  \n",
       "0                      [area]  \n",
       "1  [fechaIniStr, fechaFinStr]  \n",
       "2                      [area]  \n",
       "3                 [dia, area]  \n",
       "4                 [municipio]  "
      ]
     },
     "execution_count": 150,
     "metadata": {},
     "output_type": "execute_result"
    }
   ],
   "source": [
    "endpoints = list(path_data.keys())\n",
    "endpoint_data = [path_data[endpoint]['get'] for endpoint in endpoints]\n",
    "endpoint_df = pd.DataFrame(endpoint_data, index=endpoints).reset_index()\n",
    "endpoint_df = endpoint_df.drop(columns=['responses', 'security', 'description', 'operationId'])\n",
    "endpoint_df['tags'] = endpoint_df['tags'].apply(lambda x: x[0])\n",
    "endpoint_df['parameters'] = endpoint_df['parameters'].apply(lambda x: [param['name'] for param in x] if isinstance(x, list) else [])\n",
    "endpoint_df.rename(columns={'index': 'endpoint', 'tags': 'tag'}, inplace=True)\n",
    "endpoint_df.head()"
   ]
  },
  {
   "cell_type": "code",
   "execution_count": 147,
   "id": "2d9c8d69-8860-4915-a4c2-e89eeef951c4",
   "metadata": {},
   "outputs": [],
   "source": [
    "endpoint_df.to_csv('datasets/endpoints.csv', index=False)"
   ]
  },
  {
   "cell_type": "code",
   "execution_count": 153,
   "id": "ec38b4cb-c25b-4608-9b56-0881484bb084",
   "metadata": {
    "scrolled": true
   },
   "outputs": [],
   "source": [
    "playas_url = 'https://www.aemet.es/documentos/es/eltiempo/prediccion/playas/Playas_codigos.csv'\n",
    "playas_data = helpers.make_request(url=playas_url, method='get', response_format='text')\n",
    "with open('datasets/playas_data.csv', 'w') as file:\n",
    "    file.write(playas_data[0])"
   ]
  },
  {
   "cell_type": "code",
   "execution_count": null,
   "id": "617534cb-d718-4eb3-98fd-1083e023db6f",
   "metadata": {},
   "outputs": [],
   "source": []
  }
 ],
 "metadata": {
  "kernelspec": {
   "display_name": "proyecto_meteorologico",
   "language": "python",
   "name": "proyecto_meteorologico"
  },
  "language_info": {
   "codemirror_mode": {
    "name": "ipython",
    "version": 3
   },
   "file_extension": ".py",
   "mimetype": "text/x-python",
   "name": "python",
   "nbconvert_exporter": "python",
   "pygments_lexer": "ipython3",
   "version": "3.11.11"
  }
 },
 "nbformat": 4,
 "nbformat_minor": 5
}

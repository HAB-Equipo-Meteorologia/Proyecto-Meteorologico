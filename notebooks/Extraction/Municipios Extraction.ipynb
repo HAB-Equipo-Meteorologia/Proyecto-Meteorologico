{
 "cells": [
  {
   "cell_type": "code",
   "execution_count": 1,
   "id": "14465234-212c-478a-888a-7f3df2e25652",
   "metadata": {},
   "outputs": [],
   "source": [
    "import requests\n",
    "import pandas as pd\n",
    "import ipynb_helpers as helpers"
   ]
  },
  {
   "cell_type": "code",
   "execution_count": 2,
   "id": "2b58b9ce-1c73-4ea9-8db5-272a079d6e51",
   "metadata": {},
   "outputs": [
    {
     "data": {
      "text/plain": [
       "'eyJ'"
      ]
     },
     "execution_count": 2,
     "metadata": {},
     "output_type": "execute_result"
    }
   ],
   "source": [
    "AEMET_API_KEY = helpers.get_env_var(\"AEMET_API_KEY\")\n",
    "AEMET_API_KEY[:3]"
   ]
  },
  {
   "cell_type": "code",
   "execution_count": 3,
   "id": "42d3a4ff-32b6-4ea0-a18d-6e6a0351dab7",
   "metadata": {},
   "outputs": [],
   "source": [
    "headers = {'api_key': AEMET_API_KEY}"
   ]
  },
  {
   "cell_type": "code",
   "execution_count": 4,
   "id": "76a80c52-3265-473c-bcb3-4cee2ee8c082",
   "metadata": {},
   "outputs": [],
   "source": [
    "base_url = 'https://opendata.aemet.es/opendata/api'"
   ]
  },
  {
   "cell_type": "code",
   "execution_count": 19,
   "id": "508999dd-4285-43fc-a884-cbaf15a0c6df",
   "metadata": {},
   "outputs": [],
   "source": [
    "municipios = helpers.make_request(url=f\"{base_url}/maestro/municipios\", method='get', response_format='json', headers=headers)"
   ]
  },
  {
   "cell_type": "code",
   "execution_count": 20,
   "id": "a8de8cfd-1e3b-4c68-af5d-c65b03688d38",
   "metadata": {},
   "outputs": [
    {
     "data": {
      "text/plain": [
       "({'descripcion': 'exito',\n",
       "  'estado': 200,\n",
       "  'datos': 'https://opendata.aemet.es/opendata/sh/7b26990d',\n",
       "  'metadatos': 'https://opendata.aemet.es/opendata/sh/4c38eb58'},\n",
       " 200)"
      ]
     },
     "execution_count": 20,
     "metadata": {},
     "output_type": "execute_result"
    }
   ],
   "source": [
    "municipios"
   ]
  },
  {
   "cell_type": "code",
   "execution_count": 24,
   "id": "f5895486-0dbb-4985-a7ea-b795c6c2ab59",
   "metadata": {},
   "outputs": [],
   "source": [
    "municipios_datos = helpers.make_request(url=municipios[0]['datos'], method='get', response_format='json', headers=headers)"
   ]
  },
  {
   "cell_type": "code",
   "execution_count": 25,
   "id": "2cead93d-8467-4488-aa88-2bea62e9c788",
   "metadata": {},
   "outputs": [
    {
     "data": {
      "text/plain": [
       "{'latitud': '40º32\\'54.450744\"',\n",
       " 'id_old': '44004',\n",
       " 'url': 'ababuj-id44001',\n",
       " 'latitud_dec': '40.54845854',\n",
       " 'altitud': '1372',\n",
       " 'capital': 'Ababuj',\n",
       " 'num_hab': '65',\n",
       " 'zona_comarcal': '624401',\n",
       " 'destacada': '0',\n",
       " 'nombre': 'Ababuj',\n",
       " 'longitud_dec': '-0.80780117',\n",
       " 'id': 'id44001',\n",
       " 'longitud': '-0º48\\'28.084212\"'}"
      ]
     },
     "execution_count": 25,
     "metadata": {},
     "output_type": "execute_result"
    }
   ],
   "source": [
    "municipios_datos[0][0]"
   ]
  },
  {
   "cell_type": "code",
   "execution_count": 29,
   "id": "b8767c9f-29ac-4780-bcff-cfbc12c91b00",
   "metadata": {},
   "outputs": [
    {
     "data": {
      "text/plain": [
       "['Ababuj', 'Abades', 'Abadiño', 'Abadía', 'Abadín']"
      ]
     },
     "execution_count": 29,
     "metadata": {},
     "output_type": "execute_result"
    }
   ],
   "source": [
    "[dato['nombre'] for dato in municipios_datos[0]][:5]"
   ]
  },
  {
   "cell_type": "code",
   "execution_count": 30,
   "id": "c44688a0-b1ca-4a49-a716-6e939b9dde05",
   "metadata": {},
   "outputs": [],
   "source": [
    "municipios_df = pd.DataFrame(municipios_datos[0])"
   ]
  },
  {
   "cell_type": "code",
   "execution_count": 31,
   "id": "b6c444b6-ba81-4300-862b-756b6e42bd49",
   "metadata": {},
   "outputs": [
    {
     "data": {
      "text/html": [
       "<div>\n",
       "<style scoped>\n",
       "    .dataframe tbody tr th:only-of-type {\n",
       "        vertical-align: middle;\n",
       "    }\n",
       "\n",
       "    .dataframe tbody tr th {\n",
       "        vertical-align: top;\n",
       "    }\n",
       "\n",
       "    .dataframe thead th {\n",
       "        text-align: right;\n",
       "    }\n",
       "</style>\n",
       "<table border=\"1\" class=\"dataframe\">\n",
       "  <thead>\n",
       "    <tr style=\"text-align: right;\">\n",
       "      <th></th>\n",
       "      <th>latitud</th>\n",
       "      <th>id_old</th>\n",
       "      <th>url</th>\n",
       "      <th>latitud_dec</th>\n",
       "      <th>altitud</th>\n",
       "      <th>capital</th>\n",
       "      <th>num_hab</th>\n",
       "      <th>zona_comarcal</th>\n",
       "      <th>destacada</th>\n",
       "      <th>nombre</th>\n",
       "      <th>longitud_dec</th>\n",
       "      <th>id</th>\n",
       "      <th>longitud</th>\n",
       "    </tr>\n",
       "  </thead>\n",
       "  <tbody>\n",
       "    <tr>\n",
       "      <th>0</th>\n",
       "      <td>40º32'54.450744\"</td>\n",
       "      <td>44004</td>\n",
       "      <td>ababuj-id44001</td>\n",
       "      <td>40.54845854</td>\n",
       "      <td>1372</td>\n",
       "      <td>Ababuj</td>\n",
       "      <td>65</td>\n",
       "      <td>624401</td>\n",
       "      <td>0</td>\n",
       "      <td>Ababuj</td>\n",
       "      <td>-0.80780117</td>\n",
       "      <td>id44001</td>\n",
       "      <td>-0º48'28.084212\"</td>\n",
       "    </tr>\n",
       "    <tr>\n",
       "      <th>1</th>\n",
       "      <td>40º54'58.824504\"</td>\n",
       "      <td>40004</td>\n",
       "      <td>abades-id40001</td>\n",
       "      <td>40.91634014</td>\n",
       "      <td>971</td>\n",
       "      <td>Abades</td>\n",
       "      <td>873</td>\n",
       "      <td>674001</td>\n",
       "      <td>0</td>\n",
       "      <td>Abades</td>\n",
       "      <td>-4.26787389</td>\n",
       "      <td>id40001</td>\n",
       "      <td>-4º16'4.346004\"</td>\n",
       "    </tr>\n",
       "    <tr>\n",
       "      <th>2</th>\n",
       "      <td>43º8'51.525564\"</td>\n",
       "      <td>48010</td>\n",
       "      <td>abadino-abadino-zelaieta-id48001</td>\n",
       "      <td>43.14764599</td>\n",
       "      <td>144</td>\n",
       "      <td>Abadiño-Zelaieta</td>\n",
       "      <td>7504</td>\n",
       "      <td>754802</td>\n",
       "      <td>0</td>\n",
       "      <td>Abadiño</td>\n",
       "      <td>-2.60687319</td>\n",
       "      <td>id48001</td>\n",
       "      <td>-2º36'24.743484\"</td>\n",
       "    </tr>\n",
       "    <tr>\n",
       "      <th>3</th>\n",
       "      <td>40º15'34.315272\"</td>\n",
       "      <td>10004</td>\n",
       "      <td>abadia-id10001</td>\n",
       "      <td>40.25953202</td>\n",
       "      <td>451</td>\n",
       "      <td>Abadía</td>\n",
       "      <td>324</td>\n",
       "      <td>701001</td>\n",
       "      <td>0</td>\n",
       "      <td>Abadía</td>\n",
       "      <td>-5.97785806</td>\n",
       "      <td>id10001</td>\n",
       "      <td>-5º58'40.289016\"</td>\n",
       "    </tr>\n",
       "    <tr>\n",
       "      <th>4</th>\n",
       "      <td>43º21'46.874736\"</td>\n",
       "      <td>27010</td>\n",
       "      <td>abadin-abadin-o-provecende-id27001</td>\n",
       "      <td>43.36302076</td>\n",
       "      <td>515</td>\n",
       "      <td>Abadín o Provecende</td>\n",
       "      <td>2646</td>\n",
       "      <td>712702</td>\n",
       "      <td>0</td>\n",
       "      <td>Abadín</td>\n",
       "      <td>-7.47214495</td>\n",
       "      <td>id27001</td>\n",
       "      <td>-7º28'19.72182\"</td>\n",
       "    </tr>\n",
       "  </tbody>\n",
       "</table>\n",
       "</div>"
      ],
      "text/plain": [
       "            latitud id_old                                 url  latitud_dec  \\\n",
       "0  40º32'54.450744\"  44004                      ababuj-id44001  40.54845854   \n",
       "1  40º54'58.824504\"  40004                      abades-id40001  40.91634014   \n",
       "2   43º8'51.525564\"  48010    abadino-abadino-zelaieta-id48001  43.14764599   \n",
       "3  40º15'34.315272\"  10004                      abadia-id10001  40.25953202   \n",
       "4  43º21'46.874736\"  27010  abadin-abadin-o-provecende-id27001  43.36302076   \n",
       "\n",
       "  altitud              capital num_hab zona_comarcal destacada   nombre  \\\n",
       "0    1372               Ababuj      65        624401         0   Ababuj   \n",
       "1     971               Abades     873        674001         0   Abades   \n",
       "2     144     Abadiño-Zelaieta    7504        754802         0  Abadiño   \n",
       "3     451               Abadía     324        701001         0   Abadía   \n",
       "4     515  Abadín o Provecende    2646        712702         0   Abadín   \n",
       "\n",
       "  longitud_dec       id          longitud  \n",
       "0  -0.80780117  id44001  -0º48'28.084212\"  \n",
       "1  -4.26787389  id40001   -4º16'4.346004\"  \n",
       "2  -2.60687319  id48001  -2º36'24.743484\"  \n",
       "3  -5.97785806  id10001  -5º58'40.289016\"  \n",
       "4  -7.47214495  id27001   -7º28'19.72182\"  "
      ]
     },
     "execution_count": 31,
     "metadata": {},
     "output_type": "execute_result"
    }
   ],
   "source": [
    "municipios_df.head()"
   ]
  },
  {
   "cell_type": "code",
   "execution_count": 19,
   "id": "d94aadc0-0831-459d-8bf2-e6394285f92f",
   "metadata": {},
   "outputs": [],
   "source": [
    "municipios_df.to_csv('datasets/municipios_raw.csv', index=False)"
   ]
  }
 ],
 "metadata": {
  "kernelspec": {
   "display_name": "proyecto_meteorologico",
   "language": "python",
   "name": "proyecto_meteorologico"
  },
  "language_info": {
   "codemirror_mode": {
    "name": "ipython",
    "version": 3
   },
   "file_extension": ".py",
   "mimetype": "text/x-python",
   "name": "python",
   "nbconvert_exporter": "python",
   "pygments_lexer": "ipython3",
   "version": "3.11.11"
  }
 },
 "nbformat": 4,
 "nbformat_minor": 5
}

{
 "cells": [
  {
   "cell_type": "code",
   "execution_count": 18,
   "id": "cd034c53-0521-45dd-98bb-790e15e0ec77",
   "metadata": {},
   "outputs": [],
   "source": [
    "import pandas as pd\n",
    "from datetime import datetime\n",
    "import uuid"
   ]
  },
  {
   "cell_type": "code",
   "execution_count": 8,
   "id": "3ecf6184-1105-43c5-bbf9-ee289a0dd03e",
   "metadata": {},
   "outputs": [],
   "source": [
    "df1 = pd.read_csv('viento.csv')\n",
    "df2 = pd.read_csv('lluvias.csv')\n",
    "df3 = pd.read_csv('humedad.csv')\n",
    "df4 = pd.read_csv('temperatura.csv')"
   ]
  },
  {
   "cell_type": "code",
   "execution_count": 16,
   "id": "5a82273d-1616-4840-a11b-7533f74aead7",
   "metadata": {},
   "outputs": [
    {
     "data": {
      "text/plain": [
       "(640503, 640503, 640503, 640503)"
      ]
     },
     "execution_count": 16,
     "metadata": {},
     "output_type": "execute_result"
    }
   ],
   "source": [
    "len(df1), len(df2), len(df3), len(df4)"
   ]
  },
  {
   "cell_type": "code",
   "execution_count": 22,
   "id": "0d0d619e-3ec6-4b51-a66b-57109d728931",
   "metadata": {},
   "outputs": [],
   "source": [
    "fecha_extraccion_datetime = datetime.fromisoformat('2025-02-13T03:30:00')"
   ]
  },
  {
   "cell_type": "code",
   "execution_count": 9,
   "id": "58935d6a-2317-4480-8618-d4c02148389f",
   "metadata": {},
   "outputs": [],
   "source": [
    "df1['extracted'] = fecha_extraccion_datetime\n",
    "df2['extracted'] = fecha_extraccion_datetime\n",
    "df3['extracted'] = fecha_extraccion_datetime\n",
    "df4['extracted'] = fecha_extraccion_datetime"
   ]
  },
  {
   "cell_type": "code",
   "execution_count": 11,
   "id": "c44af8d5-15c9-4abf-aed3-ef38837b39a1",
   "metadata": {},
   "outputs": [],
   "source": [
    "df1 = df1.rename(columns={'indicativo': 'idema'})\n",
    "df2 = df2.rename(columns={'indicativo': 'idema'})\n",
    "df3 = df3.rename(columns={'indicativo': 'idema'})\n",
    "df4 = df4.rename(columns={'indicativo': 'idema'})"
   ]
  },
  {
   "cell_type": "code",
   "execution_count": 19,
   "id": "5f774f3d-56a0-4fdc-85de-aab8e41a179b",
   "metadata": {},
   "outputs": [],
   "source": [
    "uuids = [uuid.uuid4() for _ in range(len(df1))]"
   ]
  },
  {
   "cell_type": "code",
   "execution_count": 20,
   "id": "77f13889-85bd-4aec-9ffa-b657eb2bf2ab",
   "metadata": {},
   "outputs": [],
   "source": [
    "df1['uuid'] = uuids\n",
    "df2['uuid'] = uuids\n",
    "df3['uuid'] = uuids\n",
    "df4['uuid'] = uuids"
   ]
  },
  {
   "cell_type": "code",
   "execution_count": 32,
   "id": "e2486979-a0cf-4fd4-afd2-d9ef4bb4f497",
   "metadata": {},
   "outputs": [],
   "source": [
    "df1.index = df1['uuid']\n",
    "df2.index = df2['uuid']\n",
    "df3.index = df3['uuid']\n",
    "df4.index = df4['uuid']"
   ]
  },
  {
   "cell_type": "code",
   "execution_count": 33,
   "id": "2f4b25ee-cd71-442b-8f8e-bacfc911043f",
   "metadata": {},
   "outputs": [],
   "source": [
    "df1.drop(columns=['uuid'], inplace=True)\n",
    "df2.drop(columns=['uuid'], inplace=True)\n",
    "df3.drop(columns=['uuid'], inplace=True)\n",
    "df4.drop(columns=['uuid'], inplace=True)"
   ]
  },
  {
   "cell_type": "code",
   "execution_count": 34,
   "id": "210b4f29-5e96-4fc8-a063-1fed118418ae",
   "metadata": {},
   "outputs": [
    {
     "data": {
      "text/html": [
       "<div>\n",
       "<style scoped>\n",
       "    .dataframe tbody tr th:only-of-type {\n",
       "        vertical-align: middle;\n",
       "    }\n",
       "\n",
       "    .dataframe tbody tr th {\n",
       "        vertical-align: top;\n",
       "    }\n",
       "\n",
       "    .dataframe thead th {\n",
       "        text-align: right;\n",
       "    }\n",
       "</style>\n",
       "<table border=\"1\" class=\"dataframe\">\n",
       "  <thead>\n",
       "    <tr style=\"text-align: right;\">\n",
       "      <th></th>\n",
       "      <th>fecha</th>\n",
       "      <th>idema</th>\n",
       "      <th>dir</th>\n",
       "      <th>velmedia</th>\n",
       "      <th>racha</th>\n",
       "      <th>horaracha</th>\n",
       "      <th>extracted</th>\n",
       "    </tr>\n",
       "    <tr>\n",
       "      <th>uuid</th>\n",
       "      <th></th>\n",
       "      <th></th>\n",
       "      <th></th>\n",
       "      <th></th>\n",
       "      <th></th>\n",
       "      <th></th>\n",
       "      <th></th>\n",
       "    </tr>\n",
       "  </thead>\n",
       "  <tbody>\n",
       "    <tr>\n",
       "      <th>6ed8e4bb-afcf-4144-8395-9801b9b40ce8</th>\n",
       "      <td>2023-02-14</td>\n",
       "      <td>C453I</td>\n",
       "      <td>0</td>\n",
       "      <td>NaN</td>\n",
       "      <td>NaN</td>\n",
       "      <td>NaN</td>\n",
       "      <td>2025-02-13 03:30:00</td>\n",
       "    </tr>\n",
       "    <tr>\n",
       "      <th>956ddbd0-38c9-4456-973c-19f10e1cb8ce</th>\n",
       "      <td>2023-02-14</td>\n",
       "      <td>7250C</td>\n",
       "      <td>0</td>\n",
       "      <td>NaN</td>\n",
       "      <td>NaN</td>\n",
       "      <td>NaN</td>\n",
       "      <td>2025-02-13 03:30:00</td>\n",
       "    </tr>\n",
       "    <tr>\n",
       "      <th>fda2c03d-8cdb-4a94-8c05-71c5c8b7b70f</th>\n",
       "      <td>2023-02-14</td>\n",
       "      <td>5612B</td>\n",
       "      <td>18</td>\n",
       "      <td>4.2</td>\n",
       "      <td>14.2</td>\n",
       "      <td>16:10:00</td>\n",
       "      <td>2025-02-13 03:30:00</td>\n",
       "    </tr>\n",
       "    <tr>\n",
       "      <th>50e5e961-dc0a-4288-9ccf-7ccb6b1a65bd</th>\n",
       "      <td>2023-02-14</td>\n",
       "      <td>2885K</td>\n",
       "      <td>5</td>\n",
       "      <td>2.5</td>\n",
       "      <td>6.4</td>\n",
       "      <td>14:20:00</td>\n",
       "      <td>2025-02-13 03:30:00</td>\n",
       "    </tr>\n",
       "    <tr>\n",
       "      <th>497f0f2a-5449-4907-84d6-44633f870e7f</th>\n",
       "      <td>2023-02-14</td>\n",
       "      <td>8492X</td>\n",
       "      <td>18</td>\n",
       "      <td>1.9</td>\n",
       "      <td>6.7</td>\n",
       "      <td>12:00:00</td>\n",
       "      <td>2025-02-13 03:30:00</td>\n",
       "    </tr>\n",
       "  </tbody>\n",
       "</table>\n",
       "</div>"
      ],
      "text/plain": [
       "                                           fecha  idema  dir  velmedia  racha  \\\n",
       "uuid                                                                            \n",
       "6ed8e4bb-afcf-4144-8395-9801b9b40ce8  2023-02-14  C453I    0       NaN    NaN   \n",
       "956ddbd0-38c9-4456-973c-19f10e1cb8ce  2023-02-14  7250C    0       NaN    NaN   \n",
       "fda2c03d-8cdb-4a94-8c05-71c5c8b7b70f  2023-02-14  5612B   18       4.2   14.2   \n",
       "50e5e961-dc0a-4288-9ccf-7ccb6b1a65bd  2023-02-14  2885K    5       2.5    6.4   \n",
       "497f0f2a-5449-4907-84d6-44633f870e7f  2023-02-14  8492X   18       1.9    6.7   \n",
       "\n",
       "                                     horaracha           extracted  \n",
       "uuid                                                                \n",
       "6ed8e4bb-afcf-4144-8395-9801b9b40ce8       NaN 2025-02-13 03:30:00  \n",
       "956ddbd0-38c9-4456-973c-19f10e1cb8ce       NaN 2025-02-13 03:30:00  \n",
       "fda2c03d-8cdb-4a94-8c05-71c5c8b7b70f  16:10:00 2025-02-13 03:30:00  \n",
       "50e5e961-dc0a-4288-9ccf-7ccb6b1a65bd  14:20:00 2025-02-13 03:30:00  \n",
       "497f0f2a-5449-4907-84d6-44633f870e7f  12:00:00 2025-02-13 03:30:00  "
      ]
     },
     "execution_count": 34,
     "metadata": {},
     "output_type": "execute_result"
    }
   ],
   "source": [
    "df1.head()"
   ]
  },
  {
   "cell_type": "code",
   "execution_count": 36,
   "id": "96e7c452-5685-4cee-b842-db011098feb2",
   "metadata": {},
   "outputs": [],
   "source": [
    "df1.to_csv('viento.csv', index=True)\n",
    "df2.to_csv('lluvias.csv', index=True)\n",
    "df3.to_csv('humedad.csv', index=True)\n",
    "df4.to_csv('temperatura.csv', index=True)"
   ]
  }
 ],
 "metadata": {
  "kernelspec": {
   "display_name": "Python 3 (ipykernel)",
   "language": "python",
   "name": "python3"
  },
  "language_info": {
   "codemirror_mode": {
    "name": "ipython",
    "version": 3
   },
   "file_extension": ".py",
   "mimetype": "text/x-python",
   "name": "python",
   "nbconvert_exporter": "python",
   "pygments_lexer": "ipython3",
   "version": "3.13.1"
  }
 },
 "nbformat": 4,
 "nbformat_minor": 5
}

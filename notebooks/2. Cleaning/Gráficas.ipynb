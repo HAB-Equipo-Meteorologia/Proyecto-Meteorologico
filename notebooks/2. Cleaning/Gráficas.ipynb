{
 "cells": [
  {
   "cell_type": "code",
   "execution_count": 3,
   "metadata": {},
   "outputs": [
    {
     "name": "stdout",
     "output_type": "stream",
     "text": [
      "Defaulting to user installation because normal site-packages is not writeable\n",
      "Collecting matplotlib\n",
      "  Downloading matplotlib-3.9.4-cp39-cp39-macosx_11_0_arm64.whl.metadata (11 kB)\n",
      "Collecting contourpy>=1.0.1 (from matplotlib)\n",
      "  Downloading contourpy-1.3.0-cp39-cp39-macosx_11_0_arm64.whl.metadata (5.4 kB)\n",
      "Collecting cycler>=0.10 (from matplotlib)\n",
      "  Using cached cycler-0.12.1-py3-none-any.whl.metadata (3.8 kB)\n",
      "Collecting fonttools>=4.22.0 (from matplotlib)\n",
      "  Downloading fonttools-4.56.0-cp39-cp39-macosx_10_9_universal2.whl.metadata (101 kB)\n",
      "Collecting kiwisolver>=1.3.1 (from matplotlib)\n",
      "  Downloading kiwisolver-1.4.7-cp39-cp39-macosx_11_0_arm64.whl.metadata (6.3 kB)\n",
      "Requirement already satisfied: numpy>=1.23 in /Users/paoguti/Library/Python/3.9/lib/python/site-packages (from matplotlib) (2.0.2)\n",
      "Requirement already satisfied: packaging>=20.0 in /Users/paoguti/Library/Python/3.9/lib/python/site-packages (from matplotlib) (24.2)\n",
      "Collecting pillow>=8 (from matplotlib)\n",
      "  Downloading pillow-11.1.0-cp39-cp39-macosx_11_0_arm64.whl.metadata (9.1 kB)\n",
      "Collecting pyparsing>=2.3.1 (from matplotlib)\n",
      "  Using cached pyparsing-3.2.1-py3-none-any.whl.metadata (5.0 kB)\n",
      "Requirement already satisfied: python-dateutil>=2.7 in /Users/paoguti/Library/Python/3.9/lib/python/site-packages (from matplotlib) (2.9.0.post0)\n",
      "Collecting importlib-resources>=3.2.0 (from matplotlib)\n",
      "  Downloading importlib_resources-6.5.2-py3-none-any.whl.metadata (3.9 kB)\n",
      "Requirement already satisfied: zipp>=3.1.0 in /Users/paoguti/Library/Python/3.9/lib/python/site-packages (from importlib-resources>=3.2.0->matplotlib) (3.21.0)\n",
      "Requirement already satisfied: six>=1.5 in /Library/Developer/CommandLineTools/Library/Frameworks/Python3.framework/Versions/3.9/lib/python3.9/site-packages (from python-dateutil>=2.7->matplotlib) (1.15.0)\n",
      "Downloading matplotlib-3.9.4-cp39-cp39-macosx_11_0_arm64.whl (7.8 MB)\n",
      "\u001b[2K   \u001b[90m━━━━━━━━━━━━━━━━━━━━━━━━━━━━━━━━━━━━━━━━\u001b[0m \u001b[32m7.8/7.8 MB\u001b[0m \u001b[31m64.3 MB/s\u001b[0m eta \u001b[36m0:00:00\u001b[0m\n",
      "\u001b[?25hDownloading contourpy-1.3.0-cp39-cp39-macosx_11_0_arm64.whl (249 kB)\n",
      "Using cached cycler-0.12.1-py3-none-any.whl (8.3 kB)\n",
      "Downloading fonttools-4.56.0-cp39-cp39-macosx_10_9_universal2.whl (2.8 MB)\n",
      "\u001b[2K   \u001b[90m━━━━━━━━━━━━━━━━━━━━━━━━━━━━━━━━━━━━━━━━\u001b[0m \u001b[32m2.8/2.8 MB\u001b[0m \u001b[31m51.7 MB/s\u001b[0m eta \u001b[36m0:00:00\u001b[0m\n",
      "\u001b[?25hDownloading importlib_resources-6.5.2-py3-none-any.whl (37 kB)\n",
      "Downloading kiwisolver-1.4.7-cp39-cp39-macosx_11_0_arm64.whl (64 kB)\n",
      "Downloading pillow-11.1.0-cp39-cp39-macosx_11_0_arm64.whl (3.1 MB)\n",
      "\u001b[2K   \u001b[90m━━━━━━━━━━━━━━━━━━━━━━━━━━━━━━━━━━━━━━━━\u001b[0m \u001b[32m3.1/3.1 MB\u001b[0m \u001b[31m63.6 MB/s\u001b[0m eta \u001b[36m0:00:00\u001b[0m\n",
      "\u001b[?25hUsing cached pyparsing-3.2.1-py3-none-any.whl (107 kB)\n",
      "Installing collected packages: pyparsing, pillow, kiwisolver, importlib-resources, fonttools, cycler, contourpy, matplotlib\n",
      "Successfully installed contourpy-1.3.0 cycler-0.12.1 fonttools-4.56.0 importlib-resources-6.5.2 kiwisolver-1.4.7 matplotlib-3.9.4 pillow-11.1.0 pyparsing-3.2.1\n",
      "\n",
      "\u001b[1m[\u001b[0m\u001b[34;49mnotice\u001b[0m\u001b[1;39;49m]\u001b[0m\u001b[39;49m A new release of pip is available: \u001b[0m\u001b[31;49m24.3.1\u001b[0m\u001b[39;49m -> \u001b[0m\u001b[32;49m25.0.1\u001b[0m\n",
      "\u001b[1m[\u001b[0m\u001b[34;49mnotice\u001b[0m\u001b[1;39;49m]\u001b[0m\u001b[39;49m To update, run: \u001b[0m\u001b[32;49m/Library/Developer/CommandLineTools/usr/bin/python3 -m pip install --upgrade pip\u001b[0m\n"
     ]
    }
   ],
   "source": [
    "!pip install matplotlib\n"
   ]
  },
  {
   "cell_type": "code",
   "execution_count": 69,
   "metadata": {},
   "outputs": [],
   "source": [
    "import pandas as pd\n",
    "import matplotlib.pyplot as plt"
   ]
  },
  {
   "cell_type": "code",
   "execution_count": 70,
   "metadata": {},
   "outputs": [],
   "source": [
    "df_temperatura = pd.read_csv('/Users/paoguti/Proyecto-Meteorologico/notebooks/datasets/temperatura.csv')\n",
    "df_humedad = pd.read_csv('/Users/paoguti/Proyecto-Meteorologico/notebooks/datasets/humedad.csv')\n",
    "df_lluvias = pd.read_csv('/Users/paoguti/Proyecto-Meteorologico/notebooks/datasets/lluvias.csv')\n",
    "df_viento = pd.read_csv('/Users/paoguti/Proyecto-Meteorologico/notebooks/datasets/viento.csv')"
   ]
  },
  {
   "cell_type": "code",
   "execution_count": 71,
   "metadata": {},
   "outputs": [
    {
     "data": {
      "text/html": [
       "<div>\n",
       "<style scoped>\n",
       "    .dataframe tbody tr th:only-of-type {\n",
       "        vertical-align: middle;\n",
       "    }\n",
       "\n",
       "    .dataframe tbody tr th {\n",
       "        vertical-align: top;\n",
       "    }\n",
       "\n",
       "    .dataframe thead th {\n",
       "        text-align: right;\n",
       "    }\n",
       "</style>\n",
       "<table border=\"1\" class=\"dataframe\">\n",
       "  <thead>\n",
       "    <tr style=\"text-align: right;\">\n",
       "      <th></th>\n",
       "      <th>fecha</th>\n",
       "      <th>provincia</th>\n",
       "      <th>indicativo</th>\n",
       "      <th>tmed</th>\n",
       "      <th>tmin</th>\n",
       "      <th>horatmin</th>\n",
       "      <th>tmax</th>\n",
       "      <th>horatmax</th>\n",
       "      <th>timestamp</th>\n",
       "    </tr>\n",
       "  </thead>\n",
       "  <tbody>\n",
       "    <tr>\n",
       "      <th>0</th>\n",
       "      <td>2023-02-14</td>\n",
       "      <td>STA. CRUZ DE TENERIFE</td>\n",
       "      <td>C453I</td>\n",
       "      <td>5.2</td>\n",
       "      <td>3.5</td>\n",
       "      <td>19:00:00</td>\n",
       "      <td>6.8</td>\n",
       "      <td>03:00:00</td>\n",
       "      <td>2025-02-13 03:30:00</td>\n",
       "    </tr>\n",
       "    <tr>\n",
       "      <th>1</th>\n",
       "      <td>2023-02-14</td>\n",
       "      <td>MURCIA</td>\n",
       "      <td>7250C</td>\n",
       "      <td>11.0</td>\n",
       "      <td>8.2</td>\n",
       "      <td>05:55:00</td>\n",
       "      <td>13.8</td>\n",
       "      <td>12:52:00</td>\n",
       "      <td>2025-02-13 03:30:00</td>\n",
       "    </tr>\n",
       "    <tr>\n",
       "      <th>2</th>\n",
       "      <td>2023-02-14</td>\n",
       "      <td>SEVILLA</td>\n",
       "      <td>5612B</td>\n",
       "      <td>11.8</td>\n",
       "      <td>7.0</td>\n",
       "      <td>04:40:00</td>\n",
       "      <td>16.7</td>\n",
       "      <td>14:00:00</td>\n",
       "      <td>2025-02-13 03:30:00</td>\n",
       "    </tr>\n",
       "    <tr>\n",
       "      <th>3</th>\n",
       "      <td>2023-02-14</td>\n",
       "      <td>ZAMORA</td>\n",
       "      <td>2885K</td>\n",
       "      <td>5.7</td>\n",
       "      <td>-1.8</td>\n",
       "      <td>06:35:00</td>\n",
       "      <td>13.2</td>\n",
       "      <td>14:53:00</td>\n",
       "      <td>2025-02-13 03:30:00</td>\n",
       "    </tr>\n",
       "    <tr>\n",
       "      <th>4</th>\n",
       "      <td>2023-02-14</td>\n",
       "      <td>CASTELLON</td>\n",
       "      <td>8492X</td>\n",
       "      <td>5.7</td>\n",
       "      <td>-0.9</td>\n",
       "      <td>02:16:00</td>\n",
       "      <td>12.3</td>\n",
       "      <td>12:31:00</td>\n",
       "      <td>2025-02-13 03:30:00</td>\n",
       "    </tr>\n",
       "  </tbody>\n",
       "</table>\n",
       "</div>"
      ],
      "text/plain": [
       "        fecha              provincia indicativo  tmed  tmin  horatmin  tmax  \\\n",
       "0  2023-02-14  STA. CRUZ DE TENERIFE      C453I   5.2   3.5  19:00:00   6.8   \n",
       "1  2023-02-14                 MURCIA      7250C  11.0   8.2  05:55:00  13.8   \n",
       "2  2023-02-14                SEVILLA      5612B  11.8   7.0  04:40:00  16.7   \n",
       "3  2023-02-14                 ZAMORA      2885K   5.7  -1.8  06:35:00  13.2   \n",
       "4  2023-02-14              CASTELLON      8492X   5.7  -0.9  02:16:00  12.3   \n",
       "\n",
       "   horatmax            timestamp  \n",
       "0  03:00:00  2025-02-13 03:30:00  \n",
       "1  12:52:00  2025-02-13 03:30:00  \n",
       "2  14:00:00  2025-02-13 03:30:00  \n",
       "3  14:53:00  2025-02-13 03:30:00  \n",
       "4  12:31:00  2025-02-13 03:30:00  "
      ]
     },
     "execution_count": 71,
     "metadata": {},
     "output_type": "execute_result"
    }
   ],
   "source": [
    "df_temperatura.head()"
   ]
  },
  {
   "cell_type": "code",
   "execution_count": 72,
   "metadata": {},
   "outputs": [],
   "source": [
    "# Filtrar los datos por año\n",
    "df_temperatura['fecha'] = pd.to_datetime(df_temperatura['fecha'])\n",
    "df_temperatura['año'] = df_temperatura['fecha'].dt.year"
   ]
  },
  {
   "cell_type": "code",
   "execution_count": 74,
   "metadata": {},
   "outputs": [],
   "source": [
    "# Agrupar por provincia y año\n",
    "df_temperatura_agrupada = df_temperatura.groupby(['provincia', 'año'])\n",
    "\n",
    "# Calcular estadísticas para tmed, tmin y tmax por provincia y año\n",
    "def calcular_estadisticas(grupo):\n",
    "    return {\n",
    "        'min_tmed': grupo['tmed'].min(),\n",
    "        'media_tmed': grupo['tmed'].mean(),\n",
    "        'mediana_tmed': grupo['tmed'].median(),\n",
    "        'max_tmed': grupo['tmed'].max(),\n",
    "        'min_tmin': grupo['tmin'].min(),\n",
    "        'media_tmin': grupo['tmin'].mean(),\n",
    "        'mediana_tmin': grupo['tmin'].median(),\n",
    "        'max_tmin': grupo['tmin'].max(),\n",
    "        'min_tmax': grupo['tmax'].min(),\n",
    "        'media_tmax': grupo['tmax'].mean(),\n",
    "        'mediana_tmax': grupo['tmax'].median(),\n",
    "        'max_tmax': grupo['tmax'].max()\n",
    "    }\n"
   ]
  },
  {
   "cell_type": "code",
   "execution_count": null,
   "metadata": {},
   "outputs": [
    {
     "name": "stdout",
     "output_type": "stream",
     "text": [
      "  provincia   año  min_tmed  media_tmed  mediana_tmed  max_tmed  min_tmin  \\\n",
      "0  A CORUÑA  2023       1.2   15.825559          16.2      30.0      -5.6   \n",
      "1  A CORUÑA  2024       1.2   14.691528          14.8      29.4      -3.4   \n",
      "2  A CORUÑA  2025       2.8   10.404155          10.4      16.7      -4.7   \n",
      "3  ALBACETE  2023      -2.5   17.192494          17.0      33.7     -10.4   \n",
      "4  ALBACETE  2024      -1.4   16.248377          15.7      34.8      -7.9   \n",
      "\n",
      "   media_tmin  mediana_tmin  max_tmin  min_tmax  media_tmax  mediana_tmax  \\\n",
      "0   11.637143          12.3      22.5       5.3   20.014366          20.1   \n",
      "1   10.754572          11.1      21.9       4.0   18.630629          18.4   \n",
      "2    6.966524           7.5      15.1       7.2   13.836103          13.9   \n",
      "3   10.005464          10.3      25.9       0.2   24.378808          24.1   \n",
      "4    9.670130           9.5      27.2       1.7   22.827505          22.1   \n",
      "\n",
      "   max_tmax  \n",
      "0      39.1  \n",
      "1      37.3  \n",
      "2      19.5  \n",
      "3      44.5  \n",
      "4      42.8  \n"
     ]
    },
    {
     "name": "stderr",
     "output_type": "stream",
     "text": [
      "/var/folders/6g/v9kkgspj6ts58fy6y_q2zd2h0000gn/T/ipykernel_76487/969594670.py:2: DeprecationWarning: DataFrameGroupBy.apply operated on the grouping columns. This behavior is deprecated, and in a future version of pandas the grouping columns will be excluded from the operation. Either pass `include_groups=False` to exclude the groupings or explicitly select the grouping columns after groupby to silence this warning.\n",
      "  estadisticas = df_temperatura_agrupada.apply(calcular_estadisticas)\n"
     ]
    }
   ],
   "source": [
    "# Aplicar la función a cada grupo (provincia, año)\n",
    "estadisticas = df_temperatura_agrupada.apply(calcular_estadisticas)\n",
    "\n",
    "# Convertir el resultado de la función (que es un diccionario) en columnas separadas\n",
    "estadisticas_reset = pd.DataFrame(estadisticas.tolist(), index=estadisticas.index)\n",
    "\n",
    "estadisticas_reset = estadisticas_reset.reset_index()\n",
    "\n",
    "print(estadisticas_reset.head())"
   ]
  },
  {
   "cell_type": "code",
   "execution_count": 80,
   "metadata": {},
   "outputs": [],
   "source": [
    "# Graficar las estadísticas para un ejemplo de provincia\n",
    "provincia_elegida = 'A CORUÑA'  # Cambia a la provincia que deseas\n",
    "\n",
    "# Filtrar las estadísticas para esa provincia\n",
    "estadisticas_provincia = estadisticas_reset[estadisticas_reset['provincia'] == provincia_elegida]"
   ]
  },
  {
   "cell_type": "code",
   "execution_count": 81,
   "metadata": {},
   "outputs": [
    {
     "name": "stdout",
     "output_type": "stream",
     "text": [
      "  provincia   año  min_tmed  media_tmed  mediana_tmed  max_tmed  min_tmin  \\\n",
      "0  A CORUÑA  2023       1.2   15.825559          16.2      30.0      -5.6   \n",
      "1  A CORUÑA  2024       1.2   14.691528          14.8      29.4      -3.4   \n",
      "2  A CORUÑA  2025       2.8   10.404155          10.4      16.7      -4.7   \n",
      "\n",
      "   media_tmin  mediana_tmin  max_tmin  min_tmax  media_tmax  mediana_tmax  \\\n",
      "0   11.637143          12.3      22.5       5.3   20.014366          20.1   \n",
      "1   10.754572          11.1      21.9       4.0   18.630629          18.4   \n",
      "2    6.966524           7.5      15.1       7.2   13.836103          13.9   \n",
      "\n",
      "   max_tmax  \n",
      "0      39.1  \n",
      "1      37.3  \n",
      "2      19.5  \n"
     ]
    }
   ],
   "source": [
    "print(estadisticas_provincia.head())"
   ]
  },
  {
   "cell_type": "code",
   "execution_count": 85,
   "metadata": {},
   "outputs": [
    {
     "data": {
      "image/png": "[encoded data removed]",
      "text/plain": [
       "<Figure size 1200x800 with 1 Axes>"
      ]
     },
     "metadata": {},
     "output_type": "display_data"
    }
   ],
   "source": [
    "# Graficar\n",
    "fig, ax = plt.subplots(figsize=(12, 8))\n",
    "\n",
    "# Graficar las estadísticas para cada tipo de temperatura (tmed, tmin, tmax)\n",
    "estadisticas_provincia[['media_tmed', 'media_tmin', 'media_tmax']].plot(kind='bar', ax=ax)\n",
    "\n",
    "ax.set_title(f'Estadísticas de Temperaturas para {provincia_elegida}', fontsize=14)\n",
    "ax.set_ylabel('Temperatura (°C)', fontsize=12)\n",
    "ax.set_xlabel('Año', fontsize=12)\n",
    "ax.grid(True)\n",
    "\n",
    "# Ajustar las etiquetas del eje X para mostrar los años\n",
    "ax.set_xticklabels([2023, 2024, 2025], rotation=0)∫\n",
    "\n",
    "# Mostrar el gráfico\n",
    "plt.tight_layout()\n",
    "plt.show()"
   ]
  }
 ],
 "metadata": {
  "kernelspec": {
   "display_name": "Python 3",
   "language": "python",
   "name": "python3"
  },
  "language_info": {
   "codemirror_mode": {
    "name": "ipython",
    "version": 3
   },
   "file_extension": ".py",
   "mimetype": "text/x-python",
   "name": "python",
   "nbconvert_exporter": "python",
   "pygments_lexer": "ipython3",
   "version": "3.9.6"
  }
 },
 "nbformat": 4,
 "nbformat_minor": 2
}

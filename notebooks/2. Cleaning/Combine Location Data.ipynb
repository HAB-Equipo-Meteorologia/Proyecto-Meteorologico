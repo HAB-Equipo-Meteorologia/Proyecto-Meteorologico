{
 "cells": [
  {
   "cell_type": "code",
   "execution_count": 1,
   "id": "67ee7d0e-e481-435a-bd38-c766808db5de",
   "metadata": {},
   "outputs": [],
   "source": [
    "import requests\n",
    "import json"
   ]
  },
  {
   "cell_type": "code",
   "execution_count": 2,
   "id": "ddf4ca78-f41b-4eff-bf02-93406af0d2b7",
   "metadata": {},
   "outputs": [],
   "source": [
    "url = 'https://proyecto-meteorologico-06622eb510cf.herokuapp.com/api/db/{table}'"
   ]
  },
  {
   "cell_type": "code",
   "execution_count": 3,
   "id": "024b360f-5566-48b8-afef-2e11c6444828",
   "metadata": {},
   "outputs": [],
   "source": [
    "municipios_data = requests.get(url.format(table=\"municipios\")).json()"
   ]
  },
  {
   "cell_type": "code",
   "execution_count": 4,
   "id": "61ddafa9-3a41-4229-b457-ae27f4975932",
   "metadata": {},
   "outputs": [],
   "source": [
    "provincias_data = requests.get(url.format(table=\"provincias\")).json()"
   ]
  },
  {
   "cell_type": "code",
   "execution_count": 5,
   "id": "455eb6b3-98d5-4572-a637-06120ca2fd88",
   "metadata": {},
   "outputs": [],
   "source": [
    "estaciones_data = requests.get(url.format(table=\"estaciones\")).json()"
   ]
  },
  {
   "cell_type": "code",
   "execution_count": 6,
   "id": "4701bf13-ca72-4970-b696-a2e1ea21b755",
   "metadata": {},
   "outputs": [],
   "source": [
    "comunidades_data = requests.get(url.format(table=\"comunidades_autonomas\")).json()"
   ]
  },
  {
   "cell_type": "code",
   "execution_count": 7,
   "id": "226afcf3-134a-4069-9890-43904dde378f",
   "metadata": {},
   "outputs": [],
   "source": [
    "comunidades = {com[\"id\"]: com[\"nombre\"] for com in comunidades_data}"
   ]
  },
  {
   "cell_type": "code",
   "execution_count": 13,
   "id": "72915177-f679-4a65-a3d3-d51fe447ecc1",
   "metadata": {},
   "outputs": [],
   "source": [
    "with open(\"../datasets/locations/comunidades.json\", \"w\", encoding=\"utf-8\") as f:\n",
    "    json.dump(comunidades, f, ensure_ascii=False, indent=4)"
   ]
  },
  {
   "cell_type": "code",
   "execution_count": 8,
   "id": "e0d36e7b-aea0-4822-b108-11a4821c54e6",
   "metadata": {},
   "outputs": [],
   "source": [
    "provincias = {prov[\"id\"]: {\"nombre\": prov[\"nombre\"], \"com_auto_id\": prov[\"com_auto_id\"]} for prov in provincias_data}"
   ]
  },
  {
   "cell_type": "code",
   "execution_count": 14,
   "id": "1baf4f67-9b42-46bb-b6fc-ed1868543ba4",
   "metadata": {},
   "outputs": [],
   "source": [
    "with open(\"../datasets/locations/provincias.json\", \"w\", encoding=\"utf-8\") as f:\n",
    "    json.dump(provincias, f, ensure_ascii=False, indent=4)"
   ]
  },
  {
   "cell_type": "code",
   "execution_count": 9,
   "id": "ec26fb18-5f25-4a14-8be7-2b497f2182b6",
   "metadata": {},
   "outputs": [],
   "source": [
    "estaciones = {est[\"idema\"]: {\"nombre\": est[\"nombre\"], \"provincia_id\": est[\"provincia_id\"]} for est in estaciones_data}"
   ]
  },
  {
   "cell_type": "code",
   "execution_count": 15,
   "id": "18201e24-9d95-48c3-b92e-387b3ca5d868",
   "metadata": {},
   "outputs": [],
   "source": [
    "with open(\"../datasets/locations/estaciones.json\", \"w\", encoding=\"utf-8\") as f:\n",
    "    json.dump(estaciones, f, ensure_ascii=False, indent=4)"
   ]
  },
  {
   "cell_type": "code",
   "execution_count": 10,
   "id": "afa2a839-060a-41c3-aa3c-266c4b6cb432",
   "metadata": {},
   "outputs": [],
   "source": [
    "municipios = {mun[\"id\"]: {\"nombre\": mun[\"nombre\"], \"provincia_id\": mun[\"provincia_id\"]} for mun in municipios_data}"
   ]
  },
  {
   "cell_type": "code",
   "execution_count": 16,
   "id": "b8e99cd0-21a9-4e59-8a2f-f79a0a472a50",
   "metadata": {},
   "outputs": [],
   "source": [
    "with open(\"../datasets/locations/municipios.json\", \"w\", encoding=\"utf-8\") as f:\n",
    "    json.dump(municipios, f, ensure_ascii=False, indent=4)"
   ]
  }
 ],
 "metadata": {
  "kernelspec": {
   "display_name": "Python 3 (ipykernel)",
   "language": "python",
   "name": "python3"
  },
  "language_info": {
   "codemirror_mode": {
    "name": "ipython",
    "version": 3
   },
   "file_extension": ".py",
   "mimetype": "text/x-python",
   "name": "python",
   "nbconvert_exporter": "python",
   "pygments_lexer": "ipython3",
   "version": "3.13.1"
  }
 },
 "nbformat": 4,
 "nbformat_minor": 5
}

{
 "cells": [
  {
   "cell_type": "code",
   "execution_count": 1,
   "id": "ee10a465-92da-4809-952a-5c68a228cd3d",
   "metadata": {},
   "outputs": [],
   "source": [
    "import ipynb_helpers as helpers\n",
    "import pandas as pd"
   ]
  },
  {
   "cell_type": "code",
   "execution_count": 2,
   "id": "ce416536-d491-4af6-9f64-aefdf767cbec",
   "metadata": {},
   "outputs": [],
   "source": [
    "api_key = helpers.get_env_var(\"AEMET_API_KEY\")"
   ]
  },
  {
   "cell_type": "code",
   "execution_count": 3,
   "id": "1cba800d-2aa1-49ed-8252-649d4b4c92dd",
   "metadata": {},
   "outputs": [],
   "source": [
    "url = 'https://opendata.aemet.es/opendata/api/valores/climatologicos/inventarioestaciones/todasestaciones'"
   ]
  },
  {
   "cell_type": "code",
   "execution_count": 4,
   "id": "ed4f22e9-e588-4281-8c92-a2e9d951ad4f",
   "metadata": {},
   "outputs": [],
   "source": [
    "datos_url = helpers.make_request('get', url=url, response_format='json', headers={'api_key': api_key})[0]['datos']"
   ]
  },
  {
   "cell_type": "code",
   "execution_count": 8,
   "id": "a5a29be7-3bb0-4c6d-b37b-a721ad87df07",
   "metadata": {},
   "outputs": [],
   "source": [
    "datos = helpers.make_request('get', url=datos_url, response_format='json', headers={'api_key': api_key})[0]"
   ]
  },
  {
   "cell_type": "code",
   "execution_count": 9,
   "id": "54df60dc-4495-4e13-b446-a7ebd50e51da",
   "metadata": {},
   "outputs": [],
   "source": [
    "df = pd.DataFrame(datos)"
   ]
  },
  {
   "cell_type": "code",
   "execution_count": 26,
   "id": "f2a67593-828e-460c-925a-c5e211572392",
   "metadata": {},
   "outputs": [
    {
     "data": {
      "text/html": [
       "<div>\n",
       "<style scoped>\n",
       "    .dataframe tbody tr th:only-of-type {\n",
       "        vertical-align: middle;\n",
       "    }\n",
       "\n",
       "    .dataframe tbody tr th {\n",
       "        vertical-align: top;\n",
       "    }\n",
       "\n",
       "    .dataframe thead th {\n",
       "        text-align: right;\n",
       "    }\n",
       "</style>\n",
       "<table border=\"1\" class=\"dataframe\">\n",
       "  <thead>\n",
       "    <tr style=\"text-align: right;\">\n",
       "      <th></th>\n",
       "      <th>latitud</th>\n",
       "      <th>provincia</th>\n",
       "      <th>altitud</th>\n",
       "      <th>indicativo</th>\n",
       "      <th>nombre</th>\n",
       "      <th>indsinop</th>\n",
       "      <th>longitud</th>\n",
       "    </tr>\n",
       "  </thead>\n",
       "  <tbody>\n",
       "    <tr>\n",
       "      <th>937</th>\n",
       "      <td>411038N</td>\n",
       "      <td>TARRAGONA</td>\n",
       "      <td>370</td>\n",
       "      <td>9947X</td>\n",
       "      <td>LA POBLA DE MASSALUCA</td>\n",
       "      <td></td>\n",
       "      <td>002112E</td>\n",
       "    </tr>\n",
       "    <tr>\n",
       "      <th>938</th>\n",
       "      <td>411458N</td>\n",
       "      <td>TARRAGONA</td>\n",
       "      <td>363</td>\n",
       "      <td>9961X</td>\n",
       "      <td>CABACÉS</td>\n",
       "      <td></td>\n",
       "      <td>004407E</td>\n",
       "    </tr>\n",
       "    <tr>\n",
       "      <th>939</th>\n",
       "      <td>410018N</td>\n",
       "      <td>TARRAGONA</td>\n",
       "      <td>112</td>\n",
       "      <td>9975X</td>\n",
       "      <td>RASQUERA</td>\n",
       "      <td></td>\n",
       "      <td>003649E</td>\n",
       "    </tr>\n",
       "    <tr>\n",
       "      <th>940</th>\n",
       "      <td>404913N</td>\n",
       "      <td>TARRAGONA</td>\n",
       "      <td>50</td>\n",
       "      <td>9981A</td>\n",
       "      <td>ESTACIÓN DE TORTOSA (ROQUETES)</td>\n",
       "      <td>08238</td>\n",
       "      <td>002936E</td>\n",
       "    </tr>\n",
       "    <tr>\n",
       "      <th>941</th>\n",
       "      <td>404157N</td>\n",
       "      <td>TARRAGONA</td>\n",
       "      <td>1</td>\n",
       "      <td>9987P</td>\n",
       "      <td>SANT JAUME D'ENVEJA</td>\n",
       "      <td>08240</td>\n",
       "      <td>004836E</td>\n",
       "    </tr>\n",
       "    <tr>\n",
       "      <th>942</th>\n",
       "      <td>424131N</td>\n",
       "      <td>LLEIDA</td>\n",
       "      <td>2467</td>\n",
       "      <td>9988B</td>\n",
       "      <td>CAP DE VAQUÈIRA</td>\n",
       "      <td>08936</td>\n",
       "      <td>005826E</td>\n",
       "    </tr>\n",
       "    <tr>\n",
       "      <th>943</th>\n",
       "      <td>424201N</td>\n",
       "      <td>LLEIDA</td>\n",
       "      <td>1161</td>\n",
       "      <td>9990X</td>\n",
       "      <td>NAUT ARAN, ARTIES</td>\n",
       "      <td>08107</td>\n",
       "      <td>005237E</td>\n",
       "    </tr>\n",
       "    <tr>\n",
       "      <th>944</th>\n",
       "      <td>424634N</td>\n",
       "      <td>LLEIDA</td>\n",
       "      <td>722</td>\n",
       "      <td>9994X</td>\n",
       "      <td>BOSSÒST</td>\n",
       "      <td></td>\n",
       "      <td>004123E</td>\n",
       "    </tr>\n",
       "    <tr>\n",
       "      <th>945</th>\n",
       "      <td>430528N</td>\n",
       "      <td>NAVARRA</td>\n",
       "      <td>334</td>\n",
       "      <td>9995Y</td>\n",
       "      <td>VALCARLOS/LUZAIDE</td>\n",
       "      <td></td>\n",
       "      <td>011803W</td>\n",
       "    </tr>\n",
       "    <tr>\n",
       "      <th>946</th>\n",
       "      <td>405517N</td>\n",
       "      <td>TERUEL</td>\n",
       "      <td>1006</td>\n",
       "      <td>9998X</td>\n",
       "      <td>BELLO</td>\n",
       "      <td></td>\n",
       "      <td>012940W</td>\n",
       "    </tr>\n",
       "  </tbody>\n",
       "</table>\n",
       "</div>"
      ],
      "text/plain": [
       "     latitud  provincia altitud indicativo                          nombre  \\\n",
       "937  411038N  TARRAGONA     370      9947X           LA POBLA DE MASSALUCA   \n",
       "938  411458N  TARRAGONA     363      9961X                         CABACÉS   \n",
       "939  410018N  TARRAGONA     112      9975X                        RASQUERA   \n",
       "940  404913N  TARRAGONA      50      9981A  ESTACIÓN DE TORTOSA (ROQUETES)   \n",
       "941  404157N  TARRAGONA       1      9987P             SANT JAUME D'ENVEJA   \n",
       "942  424131N     LLEIDA    2467      9988B                 CAP DE VAQUÈIRA   \n",
       "943  424201N     LLEIDA    1161      9990X              NAUT ARAN, ARTIES    \n",
       "944  424634N     LLEIDA     722      9994X                         BOSSÒST   \n",
       "945  430528N    NAVARRA     334      9995Y               VALCARLOS/LUZAIDE   \n",
       "946  405517N     TERUEL    1006      9998X                           BELLO   \n",
       "\n",
       "    indsinop longitud  \n",
       "937           002112E  \n",
       "938           004407E  \n",
       "939           003649E  \n",
       "940    08238  002936E  \n",
       "941    08240  004836E  \n",
       "942    08936  005826E  \n",
       "943    08107  005237E  \n",
       "944           004123E  \n",
       "945           011803W  \n",
       "946           012940W  "
      ]
     },
     "execution_count": 26,
     "metadata": {},
     "output_type": "execute_result"
    }
   ],
   "source": [
    "df.tail(10)"
   ]
  },
  {
   "cell_type": "code",
   "execution_count": 27,
   "id": "b170ef89-7297-4500-a474-a41b1cd2250c",
   "metadata": {},
   "outputs": [],
   "source": [
    "df.to_csv('datasets/estaciones_data.csv', index=False)"
   ]
  }
 ],
 "metadata": {
  "kernelspec": {
   "display_name": "proyecto_meteorologico",
   "language": "python",
   "name": "proyecto_meteorologico"
  },
  "language_info": {
   "codemirror_mode": {
    "name": "ipython",
    "version": 3
   },
   "file_extension": ".py",
   "mimetype": "text/x-python",
   "name": "python",
   "nbconvert_exporter": "python",
   "pygments_lexer": "ipython3",
   "version": "3.11.11"
  }
 },
 "nbformat": 4,
 "nbformat_minor": 5
}

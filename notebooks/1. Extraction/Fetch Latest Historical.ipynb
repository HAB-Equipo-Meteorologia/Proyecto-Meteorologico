{
 "cells": [
  {
   "cell_type": "code",
   "execution_count": 1,
   "id": "ed39bdbd-1b54-413a-90f4-c05ebaed74a5",
   "metadata": {},
   "outputs": [],
   "source": [
    "import sys\n",
    "sys.path.append('../..')\n",
    "from datetime import timedelta, datetime\n",
    "from src.db.db_handler import DBHandler\n",
    "from helpers.api.aemet_client import AEMETClient\n",
    "from helpers import config\n",
    "import pandas as pd\n",
    "import uuid\n",
    "import numpy as np"
   ]
  },
  {
   "cell_type": "code",
   "execution_count": 2,
   "id": "3e06e678-4217-40ad-a317-b8a2de85492e",
   "metadata": {},
   "outputs": [],
   "source": [
    "db = DBHandler()"
   ]
  },
  {
   "cell_type": "code",
   "execution_count": 3,
   "id": "429befc3-1bf2-414e-a6cd-f6d5c19594d4",
   "metadata": {},
   "outputs": [
    {
     "data": {
      "text/plain": [
       "datetime.date(2025, 2, 9)"
      ]
     },
     "execution_count": 3,
     "metadata": {},
     "output_type": "execute_result"
    }
   ],
   "source": [
    "latest = db.get_latest_historical_date('lluvia_historico')\n",
    "latest"
   ]
  },
  {
   "cell_type": "code",
   "execution_count": 4,
   "id": "230c0760-9fb7-48e6-876d-27cbda08758c",
   "metadata": {},
   "outputs": [
    {
     "data": {
      "text/plain": [
       "('2025-02-10', '2025-02-25')"
      ]
     },
     "execution_count": 4,
     "metadata": {},
     "output_type": "execute_result"
    }
   ],
   "source": [
    "fechaIni = (latest + timedelta(days=1)).strftime(format=\"%Y-%m-%d\")\n",
    "fechaFin = datetime.now().date().strftime(format=\"%Y-%m-%d\")\n",
    "fechaIni, fechaFin"
   ]
  },
  {
   "cell_type": "code",
   "execution_count": 5,
   "id": "6d0aab76-6f97-40a0-b85c-c10ed4e11e97",
   "metadata": {},
   "outputs": [
    {
     "data": {
      "text/plain": [
       "datetime.datetime(2025, 2, 25, 3, 17)"
      ]
     },
     "execution_count": 5,
     "metadata": {},
     "output_type": "execute_result"
    }
   ],
   "source": [
    "extracted = datetime.now().replace(second=0, microsecond=0)\n",
    "extracted"
   ]
  },
  {
   "cell_type": "code",
   "execution_count": 6,
   "id": "b7c88acf-38e4-4b43-ad4d-131b1ba2e9cd",
   "metadata": {},
   "outputs": [],
   "source": [
    "client = AEMETClient(config.get_env_var('AEMET_API_KEY'))"
   ]
  },
  {
   "cell_type": "code",
   "execution_count": 7,
   "id": "97a6245c-3344-4003-88f1-5e8bef062530",
   "metadata": {},
   "outputs": [],
   "source": [
    "response = await client.get_valores_climatologicos_diarios_todas_estaciones(fechaIni, fechaFin)"
   ]
  },
  {
   "cell_type": "code",
   "execution_count": 20,
   "id": "9e9fe1a7-6d6f-4dfd-b324-324af12c11cb",
   "metadata": {},
   "outputs": [],
   "source": [
    "df = pd.DataFrame(response)\n",
    "df['extracted'] = extracted\n",
    "df['uuid'] = [uuid.uuid4() for _ in range(len(df))]\n",
    "df[\"uuid\"] = df[\"uuid\"].astype(str)"
   ]
  },
  {
   "cell_type": "code",
   "execution_count": 21,
   "id": "5b1392cb-ba63-43ad-8b37-e64bccce790a",
   "metadata": {
    "scrolled": true
   },
   "outputs": [],
   "source": [
    "def clean_historical(df: pd.DataFrame):\n",
    "\n",
    "    df.drop(columns=['nombre', 'provincia', 'sol', 'altitud', 'presMax', 'horaPresMax', 'presMin', 'horaPresMin'], inplace=True)\n",
    "    df = df.rename(columns={'indicativo': 'idema',\n",
    "                            'hrMax': 'hr_max', 'hrMedia': 'hr_media', 'hrMin': 'hr_min',\n",
    "                            'horaHrMax': 'hora_hr_max', 'horaHrMin': 'hora_hr_min'})\n",
    "    \n",
    "    df = df.replace({'Varias': np.nan})\n",
    "    \n",
    "    float_cols = ['tmed', 'prec', 'tmin', 'tmax', 'velmedia', 'racha']\n",
    "    df[float_cols] = df[float_cols].apply(lambda x: x.str.replace(',', '.', regex=False))\n",
    "    df[float_cols] = df[float_cols].apply(pd.to_numeric, errors='coerce')\n",
    "    \n",
    "    time_cols = ['horatmin', 'horatmax', 'horaracha', 'hora_hr_max', 'hora_hr_min']\n",
    "    df[time_cols] = df[time_cols].apply(lambda col: pd.to_datetime(col, format='%H:%M', errors='coerce').dt.time)\n",
    "    \n",
    "    df = df.replace({pd.NaT: None})\n",
    "    \n",
    "    zero_cols = ['dir', 'hr_max', 'hr_min', 'hr_media']\n",
    "    df[zero_cols] = df[zero_cols].fillna(0)\n",
    "\n",
    "    return df"
   ]
  },
  {
   "cell_type": "code",
   "execution_count": 22,
   "id": "eccd96e8-75d4-4c5f-84f3-9b4648738b06",
   "metadata": {},
   "outputs": [],
   "source": [
    "df = clean_historical(df)"
   ]
  },
  {
   "cell_type": "code",
   "execution_count": 23,
   "id": "15134d60-5096-4e90-b31d-3b34ac380b7f",
   "metadata": {},
   "outputs": [
    {
     "data": {
      "text/html": [
       "<div>\n",
       "<style scoped>\n",
       "    .dataframe tbody tr th:only-of-type {\n",
       "        vertical-align: middle;\n",
       "    }\n",
       "\n",
       "    .dataframe tbody tr th {\n",
       "        vertical-align: top;\n",
       "    }\n",
       "\n",
       "    .dataframe thead th {\n",
       "        text-align: right;\n",
       "    }\n",
       "</style>\n",
       "<table border=\"1\" class=\"dataframe\">\n",
       "  <thead>\n",
       "    <tr style=\"text-align: right;\">\n",
       "      <th></th>\n",
       "      <th>fecha</th>\n",
       "      <th>idema</th>\n",
       "      <th>tmed</th>\n",
       "      <th>prec</th>\n",
       "      <th>tmin</th>\n",
       "      <th>horatmin</th>\n",
       "      <th>tmax</th>\n",
       "      <th>horatmax</th>\n",
       "      <th>dir</th>\n",
       "      <th>velmedia</th>\n",
       "      <th>racha</th>\n",
       "      <th>horaracha</th>\n",
       "      <th>hr_media</th>\n",
       "      <th>hr_max</th>\n",
       "      <th>hora_hr_max</th>\n",
       "      <th>hr_min</th>\n",
       "      <th>hora_hr_min</th>\n",
       "      <th>extracted</th>\n",
       "      <th>uuid</th>\n",
       "    </tr>\n",
       "  </thead>\n",
       "  <tbody>\n",
       "    <tr>\n",
       "      <th>0</th>\n",
       "      <td>2025-02-10</td>\n",
       "      <td>2885K</td>\n",
       "      <td>8.8</td>\n",
       "      <td>0.6</td>\n",
       "      <td>3.7</td>\n",
       "      <td>23:37:00</td>\n",
       "      <td>13.9</td>\n",
       "      <td>14:46:00</td>\n",
       "      <td>20</td>\n",
       "      <td>1.9</td>\n",
       "      <td>7.5</td>\n",
       "      <td>14:50:00</td>\n",
       "      <td>88</td>\n",
       "      <td>100</td>\n",
       "      <td>None</td>\n",
       "      <td>67</td>\n",
       "      <td>14:50:00</td>\n",
       "      <td>2025-02-25 03:17:00</td>\n",
       "      <td>1f2188e3-176d-44e8-ac23-3f2aab58595e</td>\n",
       "    </tr>\n",
       "    <tr>\n",
       "      <th>1</th>\n",
       "      <td>2025-02-10</td>\n",
       "      <td>8293X</td>\n",
       "      <td>12.8</td>\n",
       "      <td>0.0</td>\n",
       "      <td>8.1</td>\n",
       "      <td>06:20:00</td>\n",
       "      <td>17.4</td>\n",
       "      <td>13:10:00</td>\n",
       "      <td>22</td>\n",
       "      <td>1.9</td>\n",
       "      <td>5.3</td>\n",
       "      <td>01:50:00</td>\n",
       "      <td>73</td>\n",
       "      <td>94</td>\n",
       "      <td>23:59:00</td>\n",
       "      <td>56</td>\n",
       "      <td>13:10:00</td>\n",
       "      <td>2025-02-25 03:17:00</td>\n",
       "      <td>c5da22d5-01e5-49ad-8e32-270706dc6625</td>\n",
       "    </tr>\n",
       "    <tr>\n",
       "      <th>2</th>\n",
       "      <td>2025-02-10</td>\n",
       "      <td>2918Y</td>\n",
       "      <td>9.8</td>\n",
       "      <td>0.0</td>\n",
       "      <td>6.8</td>\n",
       "      <td>01:28:00</td>\n",
       "      <td>12.7</td>\n",
       "      <td>15:39:00</td>\n",
       "      <td>16</td>\n",
       "      <td>3.3</td>\n",
       "      <td>15.0</td>\n",
       "      <td>22:00:00</td>\n",
       "      <td>79</td>\n",
       "      <td>97</td>\n",
       "      <td>03:10:00</td>\n",
       "      <td>62</td>\n",
       "      <td>14:50:00</td>\n",
       "      <td>2025-02-25 03:17:00</td>\n",
       "      <td>7db78a5e-dbfb-455f-b6b6-428af6888ccd</td>\n",
       "    </tr>\n",
       "  </tbody>\n",
       "</table>\n",
       "</div>"
      ],
      "text/plain": [
       "        fecha  idema  tmed  prec  tmin  horatmin  tmax  horatmax dir  \\\n",
       "0  2025-02-10  2885K   8.8   0.6   3.7  23:37:00  13.9  14:46:00  20   \n",
       "1  2025-02-10  8293X  12.8   0.0   8.1  06:20:00  17.4  13:10:00  22   \n",
       "2  2025-02-10  2918Y   9.8   0.0   6.8  01:28:00  12.7  15:39:00  16   \n",
       "\n",
       "   velmedia  racha horaracha hr_media hr_max hora_hr_max hr_min hora_hr_min  \\\n",
       "0       1.9    7.5  14:50:00       88    100        None     67    14:50:00   \n",
       "1       1.9    5.3  01:50:00       73     94    23:59:00     56    13:10:00   \n",
       "2       3.3   15.0  22:00:00       79     97    03:10:00     62    14:50:00   \n",
       "\n",
       "            extracted                                  uuid  \n",
       "0 2025-02-25 03:17:00  1f2188e3-176d-44e8-ac23-3f2aab58595e  \n",
       "1 2025-02-25 03:17:00  c5da22d5-01e5-49ad-8e32-270706dc6625  \n",
       "2 2025-02-25 03:17:00  7db78a5e-dbfb-455f-b6b6-428af6888ccd  "
      ]
     },
     "execution_count": 23,
     "metadata": {},
     "output_type": "execute_result"
    }
   ],
   "source": [
    "df.head(3)"
   ]
  },
  {
   "cell_type": "code",
   "execution_count": 24,
   "id": "4d8a4789-639a-45a9-b710-e34a96013f25",
   "metadata": {},
   "outputs": [],
   "source": [
    "all_cols = ['uuid', 'idema', 'fecha', 'extracted']\n",
    "lluvia_cols = ['prec']\n",
    "humedad_cols = ['hr_media', 'hr_max', 'hora_hr_max', 'hr_min', 'hora_hr_min']\n",
    "temperatura_cols = ['tmed', 'tmin', 'horatmin', 'tmax', 'horatmax',]\n",
    "viento_cols = ['velmedia', 'racha', 'horaracha', 'dir']"
   ]
  },
  {
   "cell_type": "code",
   "execution_count": 25,
   "id": "c541af00-bdea-4d3b-aac5-a45f34ade4bd",
   "metadata": {},
   "outputs": [],
   "source": [
    "lluvia_df = df[all_cols + lluvia_cols]\n",
    "humedad_df = df[all_cols + humedad_cols]\n",
    "temperatura_df = df[all_cols + temperatura_cols]\n",
    "viento_df = df[all_cols + viento_cols]"
   ]
  },
  {
   "cell_type": "code",
   "execution_count": 26,
   "id": "d3d64e0a-3c51-4a05-9d26-3ee72a63e394",
   "metadata": {},
   "outputs": [
    {
     "data": {
      "text/plain": [
       "(datetime.datetime(2025, 2, 10, 0, 0), datetime.datetime(2025, 2, 21, 0, 0))"
      ]
     },
     "execution_count": 26,
     "metadata": {},
     "output_type": "execute_result"
    }
   ],
   "source": [
    "start_date = datetime.strptime(df['fecha'].min(), \"%Y-%m-%d\")\n",
    "end_date = datetime.strptime(df['fecha'].max(), \"%Y-%m-%d\")\n",
    "start_date, end_date"
   ]
  },
  {
   "cell_type": "code",
   "execution_count": 27,
   "id": "2722223a-7b0a-4d5e-8eb8-a468e3e053fd",
   "metadata": {},
   "outputs": [],
   "source": [
    "def insert_batches(table, df, start_date):\n",
    "    current_date = start_date\n",
    "    while current_date <= end_date:\n",
    "        date_str = current_date.strftime(\"%Y-%m-%d\")\n",
    "        current_date += timedelta(days=1)\n",
    "        batch = df[df[\"fecha\"] == date_str]\n",
    "        if len(batch) == 0:\n",
    "            print(f\"No records for date {date_str}\")\n",
    "            continue\n",
    "        print(f\"Inserting records from {date_str}...\")\n",
    "        db.bulk_insert_data(table, batch.to_dict(orient=\"list\"))\n",
    "        print(f\"Inserted records from {date_str}\")"
   ]
  },
  {
   "cell_type": "code",
   "execution_count": 30,
   "id": "739e349f-3b6d-41bd-a344-4b15af69d4a9",
   "metadata": {},
   "outputs": [
    {
     "name": "stdout",
     "output_type": "stream",
     "text": [
      "Inserting records from 2025-02-10...\n",
      "Inserted records from 2025-02-10\n",
      "Inserting records from 2025-02-11...\n",
      "Inserted records from 2025-02-11\n",
      "Inserting records from 2025-02-12...\n",
      "Inserted records from 2025-02-12\n",
      "Inserting records from 2025-02-13...\n",
      "Inserted records from 2025-02-13\n",
      "Inserting records from 2025-02-14...\n",
      "Inserted records from 2025-02-14\n",
      "Inserting records from 2025-02-15...\n",
      "Inserted records from 2025-02-15\n",
      "Inserting records from 2025-02-16...\n",
      "Inserted records from 2025-02-16\n",
      "Inserting records from 2025-02-17...\n",
      "Inserted records from 2025-02-17\n",
      "Inserting records from 2025-02-18...\n",
      "Inserted records from 2025-02-18\n",
      "Inserting records from 2025-02-19...\n",
      "Inserted records from 2025-02-19\n",
      "Inserting records from 2025-02-20...\n",
      "Inserted records from 2025-02-20\n",
      "Inserting records from 2025-02-21...\n",
      "Inserted records from 2025-02-21\n"
     ]
    }
   ],
   "source": [
    "insert_batches('temperatura_historico', temperatura_df, start_date)"
   ]
  },
  {
   "cell_type": "code",
   "execution_count": 31,
   "id": "8be779e9-6b65-4cec-986a-50183dc4a2c9",
   "metadata": {},
   "outputs": [
    {
     "name": "stdout",
     "output_type": "stream",
     "text": [
      "Inserting records from 2025-02-10...\n",
      "Inserted records from 2025-02-10\n",
      "Inserting records from 2025-02-11...\n",
      "Inserted records from 2025-02-11\n",
      "Inserting records from 2025-02-12...\n",
      "Inserted records from 2025-02-12\n",
      "Inserting records from 2025-02-13...\n",
      "Inserted records from 2025-02-13\n",
      "Inserting records from 2025-02-14...\n",
      "Inserted records from 2025-02-14\n",
      "Inserting records from 2025-02-15...\n",
      "Inserted records from 2025-02-15\n",
      "Inserting records from 2025-02-16...\n",
      "Inserted records from 2025-02-16\n",
      "Inserting records from 2025-02-17...\n",
      "Inserted records from 2025-02-17\n",
      "Inserting records from 2025-02-18...\n",
      "Inserted records from 2025-02-18\n",
      "Inserting records from 2025-02-19...\n",
      "Inserted records from 2025-02-19\n",
      "Inserting records from 2025-02-20...\n",
      "Inserted records from 2025-02-20\n",
      "Inserting records from 2025-02-21...\n",
      "Inserted records from 2025-02-21\n"
     ]
    }
   ],
   "source": [
    "insert_batches('viento_historico', viento_df, start_date)"
   ]
  },
  {
   "cell_type": "code",
   "execution_count": 32,
   "id": "fcfac26d-302b-4e37-b7f7-0aec37a1b3c4",
   "metadata": {},
   "outputs": [
    {
     "name": "stdout",
     "output_type": "stream",
     "text": [
      "Inserting records from 2025-02-10...\n",
      "Inserted records from 2025-02-10\n",
      "Inserting records from 2025-02-11...\n",
      "Inserted records from 2025-02-11\n",
      "Inserting records from 2025-02-12...\n",
      "Inserted records from 2025-02-12\n",
      "Inserting records from 2025-02-13...\n",
      "Inserted records from 2025-02-13\n",
      "Inserting records from 2025-02-14...\n",
      "Inserted records from 2025-02-14\n",
      "Inserting records from 2025-02-15...\n",
      "Inserted records from 2025-02-15\n",
      "Inserting records from 2025-02-16...\n",
      "Inserted records from 2025-02-16\n",
      "Inserting records from 2025-02-17...\n",
      "Inserted records from 2025-02-17\n",
      "Inserting records from 2025-02-18...\n",
      "Inserted records from 2025-02-18\n",
      "Inserting records from 2025-02-19...\n",
      "Inserted records from 2025-02-19\n",
      "Inserting records from 2025-02-20...\n",
      "Inserted records from 2025-02-20\n",
      "Inserting records from 2025-02-21...\n",
      "Inserted records from 2025-02-21\n"
     ]
    }
   ],
   "source": [
    "insert_batches('humedad_historico', humedad_df, start_date)"
   ]
  },
  {
   "cell_type": "code",
   "execution_count": 33,
   "id": "805cf72d-614d-46c8-afa3-f40ec8579f0b",
   "metadata": {},
   "outputs": [
    {
     "name": "stdout",
     "output_type": "stream",
     "text": [
      "Inserting records from 2025-02-10...\n",
      "Inserted records from 2025-02-10\n",
      "Inserting records from 2025-02-11...\n",
      "Inserted records from 2025-02-11\n",
      "Inserting records from 2025-02-12...\n",
      "Inserted records from 2025-02-12\n",
      "Inserting records from 2025-02-13...\n",
      "Inserted records from 2025-02-13\n",
      "Inserting records from 2025-02-14...\n",
      "Inserted records from 2025-02-14\n",
      "Inserting records from 2025-02-15...\n",
      "Inserted records from 2025-02-15\n",
      "Inserting records from 2025-02-16...\n",
      "Inserted records from 2025-02-16\n",
      "Inserting records from 2025-02-17...\n",
      "Inserted records from 2025-02-17\n",
      "Inserting records from 2025-02-18...\n",
      "Inserted records from 2025-02-18\n",
      "Inserting records from 2025-02-19...\n",
      "Inserted records from 2025-02-19\n",
      "Inserting records from 2025-02-20...\n",
      "Inserted records from 2025-02-20\n",
      "Inserting records from 2025-02-21...\n",
      "Inserted records from 2025-02-21\n"
     ]
    }
   ],
   "source": [
    "insert_batches('lluvia_historico', lluvia_df, start_date)"
   ]
  }
 ],
 "metadata": {
  "kernelspec": {
   "display_name": "proyecto_meteorologico",
   "language": "python",
   "name": "proyecto_meteorologico"
  },
  "language_info": {
   "codemirror_mode": {
    "name": "ipython",
    "version": 3
   },
   "file_extension": ".py",
   "mimetype": "text/x-python",
   "name": "python",
   "nbconvert_exporter": "python",
   "pygments_lexer": "ipython3",
   "version": "3.11.11"
  }
 },
 "nbformat": 4,
 "nbformat_minor": 5
}

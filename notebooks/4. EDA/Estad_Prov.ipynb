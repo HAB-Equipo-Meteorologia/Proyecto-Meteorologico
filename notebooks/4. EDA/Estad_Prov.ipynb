{
 "cells": [
  {
   "cell_type": "code",
   "execution_count": 26,
   "metadata": {},
   "outputs": [],
   "source": [
    "import pandas as pd\n",
    "import matplotlib.pyplot as plt\n",
    "from ipywidgets import interact, widgets"
   ]
  },
  {
   "cell_type": "code",
   "execution_count": 17,
   "metadata": {},
   "outputs": [],
   "source": [
    "df_temperatura = pd.read_csv('/Users/paoguti/Proyecto-Meteorologico/notebooks/datasets/temperatura.csv')"
   ]
  },
  {
   "cell_type": "code",
   "execution_count": 18,
   "metadata": {},
   "outputs": [
    {
     "data": {
      "text/html": [
       "<div>\n",
       "<style scoped>\n",
       "    .dataframe tbody tr th:only-of-type {\n",
       "        vertical-align: middle;\n",
       "    }\n",
       "\n",
       "    .dataframe tbody tr th {\n",
       "        vertical-align: top;\n",
       "    }\n",
       "\n",
       "    .dataframe thead th {\n",
       "        text-align: right;\n",
       "    }\n",
       "</style>\n",
       "<table border=\"1\" class=\"dataframe\">\n",
       "  <thead>\n",
       "    <tr style=\"text-align: right;\">\n",
       "      <th></th>\n",
       "      <th>fecha</th>\n",
       "      <th>provincia</th>\n",
       "      <th>indicativo</th>\n",
       "      <th>tmed</th>\n",
       "      <th>tmin</th>\n",
       "      <th>horatmin</th>\n",
       "      <th>tmax</th>\n",
       "      <th>horatmax</th>\n",
       "      <th>timestamp</th>\n",
       "    </tr>\n",
       "  </thead>\n",
       "  <tbody>\n",
       "    <tr>\n",
       "      <th>0</th>\n",
       "      <td>2023-02-14</td>\n",
       "      <td>STA. CRUZ DE TENERIFE</td>\n",
       "      <td>C453I</td>\n",
       "      <td>5.2</td>\n",
       "      <td>3.5</td>\n",
       "      <td>19:00:00</td>\n",
       "      <td>6.8</td>\n",
       "      <td>03:00:00</td>\n",
       "      <td>2025-02-13 03:30:00</td>\n",
       "    </tr>\n",
       "    <tr>\n",
       "      <th>1</th>\n",
       "      <td>2023-02-14</td>\n",
       "      <td>MURCIA</td>\n",
       "      <td>7250C</td>\n",
       "      <td>11.0</td>\n",
       "      <td>8.2</td>\n",
       "      <td>05:55:00</td>\n",
       "      <td>13.8</td>\n",
       "      <td>12:52:00</td>\n",
       "      <td>2025-02-13 03:30:00</td>\n",
       "    </tr>\n",
       "    <tr>\n",
       "      <th>2</th>\n",
       "      <td>2023-02-14</td>\n",
       "      <td>SEVILLA</td>\n",
       "      <td>5612B</td>\n",
       "      <td>11.8</td>\n",
       "      <td>7.0</td>\n",
       "      <td>04:40:00</td>\n",
       "      <td>16.7</td>\n",
       "      <td>14:00:00</td>\n",
       "      <td>2025-02-13 03:30:00</td>\n",
       "    </tr>\n",
       "    <tr>\n",
       "      <th>3</th>\n",
       "      <td>2023-02-14</td>\n",
       "      <td>ZAMORA</td>\n",
       "      <td>2885K</td>\n",
       "      <td>5.7</td>\n",
       "      <td>-1.8</td>\n",
       "      <td>06:35:00</td>\n",
       "      <td>13.2</td>\n",
       "      <td>14:53:00</td>\n",
       "      <td>2025-02-13 03:30:00</td>\n",
       "    </tr>\n",
       "    <tr>\n",
       "      <th>4</th>\n",
       "      <td>2023-02-14</td>\n",
       "      <td>CASTELLON</td>\n",
       "      <td>8492X</td>\n",
       "      <td>5.7</td>\n",
       "      <td>-0.9</td>\n",
       "      <td>02:16:00</td>\n",
       "      <td>12.3</td>\n",
       "      <td>12:31:00</td>\n",
       "      <td>2025-02-13 03:30:00</td>\n",
       "    </tr>\n",
       "  </tbody>\n",
       "</table>\n",
       "</div>"
      ],
      "text/plain": [
       "        fecha              provincia indicativo  tmed  tmin  horatmin  tmax  \\\n",
       "0  2023-02-14  STA. CRUZ DE TENERIFE      C453I   5.2   3.5  19:00:00   6.8   \n",
       "1  2023-02-14                 MURCIA      7250C  11.0   8.2  05:55:00  13.8   \n",
       "2  2023-02-14                SEVILLA      5612B  11.8   7.0  04:40:00  16.7   \n",
       "3  2023-02-14                 ZAMORA      2885K   5.7  -1.8  06:35:00  13.2   \n",
       "4  2023-02-14              CASTELLON      8492X   5.7  -0.9  02:16:00  12.3   \n",
       "\n",
       "   horatmax            timestamp  \n",
       "0  03:00:00  2025-02-13 03:30:00  \n",
       "1  12:52:00  2025-02-13 03:30:00  \n",
       "2  14:00:00  2025-02-13 03:30:00  \n",
       "3  14:53:00  2025-02-13 03:30:00  \n",
       "4  12:31:00  2025-02-13 03:30:00  "
      ]
     },
     "execution_count": 18,
     "metadata": {},
     "output_type": "execute_result"
    }
   ],
   "source": [
    "df_temperatura.head()"
   ]
  },
  {
   "cell_type": "code",
   "execution_count": 19,
   "metadata": {},
   "outputs": [],
   "source": [
    "# Filtrar los datos por año\n",
    "df_temperatura['fecha'] = pd.to_datetime(df_temperatura['fecha'])\n",
    "df_temperatura['año'] = df_temperatura['fecha'].dt.year"
   ]
  },
  {
   "cell_type": "code",
   "execution_count": 45,
   "metadata": {},
   "outputs": [
    {
     "data": {
      "application/vnd.jupyter.widget-view+json": {
       "model_id": "a6924fba5c1d4d69948743454c13ff62",
       "version_major": 2,
       "version_minor": 0
      },
      "text/plain": [
       "interactive(children=(Dropdown(description='Provincia:', options=('A CORUÑA', 'ALBACETE', 'ALICANTE', 'ALMERIA…"
      ]
     },
     "metadata": {},
     "output_type": "display_data"
    },
    {
     "data": {
      "text/plain": [
       "<function __main__.evolutivo(provincia)>"
      ]
     },
     "execution_count": 45,
     "metadata": {},
     "output_type": "execute_result"
    }
   ],
   "source": [
    "def evolutivo(provincia):\n",
    "    # Filtrar los datos y ordenar\n",
    "    df_provincia = df_temperatura[df_temperatura['provincia'] == provincia].copy()  \n",
    "    df_provincia['fecha'] = pd.to_datetime(df_provincia['fecha'], errors='coerce')  \n",
    "    df_provincia['mes'] = df_provincia['fecha'].dt.month \n",
    "    \n",
    "    # Agrupar por año y mes, y calcular media, mediana, min y max\n",
    "    stats_por_mes_2023 = df_provincia[df_provincia['año'] == 2023].groupby('mes')['tmed'].agg(['mean', 'median', 'min', 'max'])\n",
    "    stats_por_mes_2024 = df_provincia[df_provincia['año'] == 2024].groupby('mes')['tmed'].agg(['mean', 'median', 'min', 'max'])\n",
    "    \n",
    "    # Gráfico\n",
    "    plt.figure(figsize=(10, 8))\n",
    "\n",
    "    # Líneas para las estadísticas por mes\n",
    "    plt.plot(stats_por_mes_2023.index, stats_por_mes_2023['mean'], label='Media 2023', linestyle='--')\n",
    "    plt.plot(stats_por_mes_2024.index, stats_por_mes_2024['mean'], label='Media 2024', linestyle='solid', marker='x')\n",
    "    plt.plot(stats_por_mes_2023.index, stats_por_mes_2023['median'], label='Mediana 2023', linestyle='--', color='red')\n",
    "    plt.plot(stats_por_mes_2024.index, stats_por_mes_2024['median'], label='Mediana 2024', linestyle='solid', marker='x', color='green')\n",
    "    plt.plot(stats_por_mes_2023.index, stats_por_mes_2023['min'], label='Mínimo 2023', linestyle='--')\n",
    "    plt.plot(stats_por_mes_2024.index, stats_por_mes_2024['min'], label='Mínimo 2024', linestyle='solid', marker='x')\n",
    "    plt.plot(stats_por_mes_2023.index, stats_por_mes_2023['max'], label='Máximo 2023', linestyle='--')\n",
    "    plt.plot(stats_por_mes_2024.index, stats_por_mes_2024['max'], label='Máximo 2024', linestyle='solid', marker='x')\n",
    "    #supported values are '-', '--', '-.', ':', 'None', ' ', '', 'solid', 'dashed', 'dashdot', 'dotted'\n",
    "\n",
    "    # Personalizar el gráfico\n",
    "    plt.title(f'Comparación de Temperaturas en la provincia de {provincia} por Meses (2023 vs 2024)', fontsize=14)\n",
    "    plt.xlabel('Mes', fontsize=12)\n",
    "    plt.ylabel('Temperatura (°C)', fontsize=12)\n",
    "    plt.xticks(range(1, 13), ['Ene', 'Feb', 'Mar', 'Abr', 'May', 'Jun', 'Jul', 'Ago', 'Sep', 'Oct', 'Nov', 'Dic'])\n",
    "\n",
    "    # Mostrar leyenda\n",
    "    plt.legend(title='Estadísticas', fontsize=10, bbox_to_anchor=(1.05, 1), loc='upper left')\n",
    "    plt.tight_layout()\n",
    "\n",
    "    # Mostrar el gráfico\n",
    "    plt.grid(True)\n",
    "    plt.show()\n",
    "\n",
    "# Crear un menú desplegable de provincias únicas en el DataFrame\n",
    "provincias = sorted(df_temperatura['provincia'].unique())\n",
    "provincia_dropdown = widgets.Dropdown(\n",
    "    options=provincias,\n",
    "    value=provincias[0],  \n",
    "    description='Provincia:',\n",
    "    disabled=False\n",
    ")\n",
    "# Crear el interactivo\n",
    "interact(evolutivo, provincia=provincia_dropdown)\n",
    "\n"
   ]
  }
 ],
 "metadata": {
  "kernelspec": {
   "display_name": "myenv",
   "language": "python",
   "name": "python3"
  },
  "language_info": {
   "codemirror_mode": {
    "name": "ipython",
    "version": 3
   },
   "file_extension": ".py",
   "mimetype": "text/x-python",
   "name": "python",
   "nbconvert_exporter": "python",
   "pygments_lexer": "ipython3",
   "version": "3.13.1"
  }
 },
 "nbformat": 4,
 "nbformat_minor": 2
}
